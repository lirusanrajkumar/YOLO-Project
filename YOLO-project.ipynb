{
 "cells": [
  {
   "cell_type": "code",
   "execution_count": 1,
   "metadata": {},
   "outputs": [
    {
     "name": "stdout",
     "output_type": "stream",
     "text": [
      "Defaulting to user installation because normal site-packages is not writeable\n",
      "Requirement already satisfied: ultralytics in /Users/liru/Library/Python/3.9/lib/python/site-packages (8.1.43)\n",
      "Requirement already satisfied: matplotlib>=3.3.0 in /Users/liru/Library/Python/3.9/lib/python/site-packages (from ultralytics) (3.8.2)\n",
      "Requirement already satisfied: opencv-python>=4.6.0 in /Users/liru/Library/Python/3.9/lib/python/site-packages (from ultralytics) (4.9.0.80)\n",
      "Requirement already satisfied: pillow>=7.1.2 in /Users/liru/Library/Python/3.9/lib/python/site-packages (from ultralytics) (10.2.0)\n",
      "Requirement already satisfied: pyyaml>=5.3.1 in /Users/liru/Library/Python/3.9/lib/python/site-packages (from ultralytics) (6.0.1)\n",
      "Requirement already satisfied: requests>=2.23.0 in /Users/liru/Library/Python/3.9/lib/python/site-packages (from ultralytics) (2.31.0)\n",
      "Requirement already satisfied: scipy>=1.4.1 in /Users/liru/Library/Python/3.9/lib/python/site-packages (from ultralytics) (1.12.0)\n",
      "Requirement already satisfied: torch>=1.8.0 in /Users/liru/Library/Python/3.9/lib/python/site-packages (from ultralytics) (2.2.0)\n",
      "Requirement already satisfied: torchvision>=0.9.0 in /Users/liru/Library/Python/3.9/lib/python/site-packages (from ultralytics) (0.17.0)\n",
      "Requirement already satisfied: tqdm>=4.64.0 in /Users/liru/Library/Python/3.9/lib/python/site-packages (from ultralytics) (4.66.2)\n",
      "Requirement already satisfied: psutil in /Users/liru/Library/Python/3.9/lib/python/site-packages (from ultralytics) (5.9.8)\n",
      "Requirement already satisfied: py-cpuinfo in /Users/liru/Library/Python/3.9/lib/python/site-packages (from ultralytics) (9.0.0)\n",
      "Requirement already satisfied: thop>=0.1.1 in /Users/liru/Library/Python/3.9/lib/python/site-packages (from ultralytics) (0.1.1.post2209072238)\n",
      "Requirement already satisfied: pandas>=1.1.4 in /Users/liru/Library/Python/3.9/lib/python/site-packages (from ultralytics) (2.2.1)\n",
      "Requirement already satisfied: seaborn>=0.11.0 in /Users/liru/Library/Python/3.9/lib/python/site-packages (from ultralytics) (0.13.2)\n",
      "Requirement already satisfied: contourpy>=1.0.1 in /Users/liru/Library/Python/3.9/lib/python/site-packages (from matplotlib>=3.3.0->ultralytics) (1.2.0)\n",
      "Requirement already satisfied: cycler>=0.10 in /Users/liru/Library/Python/3.9/lib/python/site-packages (from matplotlib>=3.3.0->ultralytics) (0.12.1)\n",
      "Requirement already satisfied: fonttools>=4.22.0 in /Users/liru/Library/Python/3.9/lib/python/site-packages (from matplotlib>=3.3.0->ultralytics) (4.47.2)\n",
      "Requirement already satisfied: kiwisolver>=1.3.1 in /Users/liru/Library/Python/3.9/lib/python/site-packages (from matplotlib>=3.3.0->ultralytics) (1.4.5)\n",
      "Requirement already satisfied: numpy<2,>=1.21 in /Users/liru/Library/Python/3.9/lib/python/site-packages (from matplotlib>=3.3.0->ultralytics) (1.26.3)\n",
      "Requirement already satisfied: packaging>=20.0 in /Users/liru/Library/Python/3.9/lib/python/site-packages (from matplotlib>=3.3.0->ultralytics) (23.2)\n",
      "Requirement already satisfied: pyparsing>=2.3.1 in /Users/liru/Library/Python/3.9/lib/python/site-packages (from matplotlib>=3.3.0->ultralytics) (3.1.1)\n",
      "Requirement already satisfied: python-dateutil>=2.7 in /Users/liru/Library/Python/3.9/lib/python/site-packages (from matplotlib>=3.3.0->ultralytics) (2.8.2)\n",
      "Requirement already satisfied: importlib-resources>=3.2.0 in /Users/liru/Library/Python/3.9/lib/python/site-packages (from matplotlib>=3.3.0->ultralytics) (6.1.1)\n",
      "Requirement already satisfied: pytz>=2020.1 in /Users/liru/Library/Python/3.9/lib/python/site-packages (from pandas>=1.1.4->ultralytics) (2024.1)\n",
      "Requirement already satisfied: tzdata>=2022.7 in /Users/liru/Library/Python/3.9/lib/python/site-packages (from pandas>=1.1.4->ultralytics) (2024.1)\n",
      "Requirement already satisfied: charset-normalizer<4,>=2 in /Users/liru/Library/Python/3.9/lib/python/site-packages (from requests>=2.23.0->ultralytics) (3.3.2)\n",
      "Requirement already satisfied: idna<4,>=2.5 in /Users/liru/Library/Python/3.9/lib/python/site-packages (from requests>=2.23.0->ultralytics) (3.6)\n",
      "Requirement already satisfied: urllib3<3,>=1.21.1 in /Users/liru/Library/Python/3.9/lib/python/site-packages (from requests>=2.23.0->ultralytics) (2.1.0)\n",
      "Requirement already satisfied: certifi>=2017.4.17 in /Users/liru/Library/Python/3.9/lib/python/site-packages (from requests>=2.23.0->ultralytics) (2023.11.17)\n",
      "Requirement already satisfied: filelock in /Users/liru/Library/Python/3.9/lib/python/site-packages (from torch>=1.8.0->ultralytics) (3.13.1)\n",
      "Requirement already satisfied: typing-extensions>=4.8.0 in /Users/liru/Library/Python/3.9/lib/python/site-packages (from torch>=1.8.0->ultralytics) (4.9.0)\n",
      "Requirement already satisfied: sympy in /Users/liru/Library/Python/3.9/lib/python/site-packages (from torch>=1.8.0->ultralytics) (1.12)\n",
      "Requirement already satisfied: networkx in /Users/liru/Library/Python/3.9/lib/python/site-packages (from torch>=1.8.0->ultralytics) (3.2.1)\n",
      "Requirement already satisfied: jinja2 in /Users/liru/Library/Python/3.9/lib/python/site-packages (from torch>=1.8.0->ultralytics) (3.1.3)\n",
      "Requirement already satisfied: fsspec in /Users/liru/Library/Python/3.9/lib/python/site-packages (from torch>=1.8.0->ultralytics) (2024.2.0)\n",
      "Requirement already satisfied: zipp>=3.1.0 in /Users/liru/Library/Python/3.9/lib/python/site-packages (from importlib-resources>=3.2.0->matplotlib>=3.3.0->ultralytics) (3.17.0)\n",
      "Requirement already satisfied: six>=1.5 in /Library/Developer/CommandLineTools/Library/Frameworks/Python3.framework/Versions/3.9/lib/python3.9/site-packages (from python-dateutil>=2.7->matplotlib>=3.3.0->ultralytics) (1.15.0)\n",
      "Requirement already satisfied: MarkupSafe>=2.0 in /Users/liru/Library/Python/3.9/lib/python/site-packages (from jinja2->torch>=1.8.0->ultralytics) (2.1.4)\n",
      "Requirement already satisfied: mpmath>=0.19 in /Users/liru/Library/Python/3.9/lib/python/site-packages (from sympy->torch>=1.8.0->ultralytics) (1.3.0)\n",
      "\n",
      "\u001b[1m[\u001b[0m\u001b[34;49mnotice\u001b[0m\u001b[1;39;49m]\u001b[0m\u001b[39;49m A new release of pip is available: \u001b[0m\u001b[31;49m23.3.2\u001b[0m\u001b[39;49m -> \u001b[0m\u001b[32;49m24.0\u001b[0m\n",
      "\u001b[1m[\u001b[0m\u001b[34;49mnotice\u001b[0m\u001b[1;39;49m]\u001b[0m\u001b[39;49m To update, run: \u001b[0m\u001b[32;49m/Library/Developer/CommandLineTools/usr/bin/python3 -m pip install --upgrade pip\u001b[0m\n",
      "Note: you may need to restart the kernel to use updated packages.\n"
     ]
    }
   ],
   "source": [
    "%pip install ultralytics"
   ]
  },
  {
   "cell_type": "code",
   "execution_count": 2,
   "metadata": {},
   "outputs": [
    {
     "name": "stdout",
     "output_type": "stream",
     "text": [
      "/Users/liru/Library/Python/3.9/lib/python/site-packages/urllib3/__init__.py:34: NotOpenSSLWarning: urllib3 v2 only supports OpenSSL 1.1.1+, currently the 'ssl' module is compiled with 'LibreSSL 2.8.3'. See: https://github.com/urllib3/urllib3/issues/3020\n",
      "  warnings.warn(\n",
      "Ultralytics YOLOv8.1.43 🚀 Python-3.9.6 torch-2.2.0 CPU (Apple M3 Pro)\n",
      "Setup complete ✅ (12 CPUs, 18.0 GB RAM, 214.6/460.4 GB disk)\n",
      "\n",
      "OS                  macOS-14.3-arm64-arm-64bit\n",
      "Environment         Darwin\n",
      "Python              3.9.6\n",
      "Install             pip\n",
      "RAM                 18.00 GB\n",
      "CPU                 Apple M3 Pro\n",
      "CUDA                None\n",
      "\n",
      "matplotlib          ✅ 3.8.2>=3.3.0\n",
      "opencv-python       ✅ 4.9.0.80>=4.6.0\n",
      "pillow              ✅ 10.2.0>=7.1.2\n",
      "pyyaml              ✅ 6.0.1>=5.3.1\n",
      "requests            ✅ 2.31.0>=2.23.0\n",
      "scipy               ✅ 1.12.0>=1.4.1\n",
      "torch               ✅ 2.2.0>=1.8.0\n",
      "torchvision         ✅ 0.17.0>=0.9.0\n",
      "tqdm                ✅ 4.66.2>=4.64.0\n",
      "psutil              ✅ 5.9.8\n",
      "py-cpuinfo          ✅ 9.0.0\n",
      "thop                ✅ 0.1.1-2209072238>=0.1.1\n",
      "pandas              ✅ 2.2.1>=1.1.4\n",
      "seaborn             ✅ 0.13.2>=0.11.0\n"
     ]
    }
   ],
   "source": [
    "#YOLO Check\n",
    "from ultralytics import YOLO\n",
    "import os\n",
    "from IPython.display import display, Image\n",
    "from IPython import display\n",
    "display.clear_output()\n",
    "!yolo checks"
   ]
  },
  {
   "cell_type": "code",
   "execution_count": 1,
   "metadata": {},
   "outputs": [
    {
     "name": "stdout",
     "output_type": "stream",
     "text": [
      "New https://pypi.org/project/ultralytics/8.1.44 available 😃 Update with 'pip install -U ultralytics'\n"
     ]
    },
    {
     "name": "stderr",
     "output_type": "stream",
     "text": [
      "/Users/liru/Library/Python/3.9/lib/python/site-packages/urllib3/__init__.py:34: NotOpenSSLWarning: urllib3 v2 only supports OpenSSL 1.1.1+, currently the 'ssl' module is compiled with 'LibreSSL 2.8.3'. See: https://github.com/urllib3/urllib3/issues/3020\n",
      "  warnings.warn(\n"
     ]
    },
    {
     "name": "stdout",
     "output_type": "stream",
     "text": [
      "Ultralytics YOLOv8.1.43 🚀 Python-3.9.6 torch-2.2.0 MPS (Apple M3 Pro)\n",
      "\u001b[34m\u001b[1mengine/trainer: \u001b[0mtask=detect, mode=train, model=yolov8s.pt, data=coco128.yaml, epochs=25, time=None, patience=100, batch=16, imgsz=640, save=True, save_period=-1, cache=False, device=mps, workers=8, project=None, name=train14, exist_ok=False, pretrained=True, optimizer=auto, verbose=True, seed=0, deterministic=True, single_cls=False, rect=False, cos_lr=False, close_mosaic=10, resume=False, amp=True, fraction=1.0, profile=False, freeze=None, multi_scale=False, overlap_mask=True, mask_ratio=4, dropout=0.0, val=True, split=val, save_json=False, save_hybrid=False, conf=None, iou=0.7, max_det=300, half=False, dnn=False, plots=True, source=None, vid_stride=1, stream_buffer=False, visualize=False, augment=False, agnostic_nms=False, classes=None, retina_masks=False, embed=None, show=False, save_frames=False, save_txt=False, save_conf=False, save_crop=False, show_labels=True, show_conf=True, show_boxes=True, line_width=None, format=torchscript, keras=False, optimize=False, int8=False, dynamic=False, simplify=False, opset=None, workspace=4, nms=False, lr0=0.01, lrf=0.01, momentum=0.937, weight_decay=0.0005, warmup_epochs=3.0, warmup_momentum=0.8, warmup_bias_lr=0.1, box=7.5, cls=0.5, dfl=1.5, pose=12.0, kobj=1.0, label_smoothing=0.0, nbs=64, hsv_h=0.015, hsv_s=0.7, hsv_v=0.4, degrees=0.0, translate=0.1, scale=0.5, shear=0.0, perspective=0.0, flipud=0.0, fliplr=0.5, bgr=0.0, mosaic=1.0, mixup=0.0, copy_paste=0.0, auto_augment=randaugment, erasing=0.4, crop_fraction=1.0, cfg=None, tracker=botsort.yaml, save_dir=runs/detect/train14\n",
      "\n",
      "                   from  n    params  module                                       arguments                     \n",
      "  0                  -1  1       928  ultralytics.nn.modules.conv.Conv             [3, 32, 3, 2]                 \n",
      "  1                  -1  1     18560  ultralytics.nn.modules.conv.Conv             [32, 64, 3, 2]                \n",
      "  2                  -1  1     29056  ultralytics.nn.modules.block.C2f             [64, 64, 1, True]             \n",
      "  3                  -1  1     73984  ultralytics.nn.modules.conv.Conv             [64, 128, 3, 2]               \n",
      "  4                  -1  2    197632  ultralytics.nn.modules.block.C2f             [128, 128, 2, True]           \n",
      "  5                  -1  1    295424  ultralytics.nn.modules.conv.Conv             [128, 256, 3, 2]              \n",
      "  6                  -1  2    788480  ultralytics.nn.modules.block.C2f             [256, 256, 2, True]           \n",
      "  7                  -1  1   1180672  ultralytics.nn.modules.conv.Conv             [256, 512, 3, 2]              \n",
      "  8                  -1  1   1838080  ultralytics.nn.modules.block.C2f             [512, 512, 1, True]           \n",
      "  9                  -1  1    656896  ultralytics.nn.modules.block.SPPF            [512, 512, 5]                 \n",
      " 10                  -1  1         0  torch.nn.modules.upsampling.Upsample         [None, 2, 'nearest']          \n",
      " 11             [-1, 6]  1         0  ultralytics.nn.modules.conv.Concat           [1]                           \n",
      " 12                  -1  1    591360  ultralytics.nn.modules.block.C2f             [768, 256, 1]                 \n",
      " 13                  -1  1         0  torch.nn.modules.upsampling.Upsample         [None, 2, 'nearest']          \n",
      " 14             [-1, 4]  1         0  ultralytics.nn.modules.conv.Concat           [1]                           \n",
      " 15                  -1  1    148224  ultralytics.nn.modules.block.C2f             [384, 128, 1]                 \n",
      " 16                  -1  1    147712  ultralytics.nn.modules.conv.Conv             [128, 128, 3, 2]              \n",
      " 17            [-1, 12]  1         0  ultralytics.nn.modules.conv.Concat           [1]                           \n",
      " 18                  -1  1    493056  ultralytics.nn.modules.block.C2f             [384, 256, 1]                 \n",
      " 19                  -1  1    590336  ultralytics.nn.modules.conv.Conv             [256, 256, 3, 2]              \n",
      " 20             [-1, 9]  1         0  ultralytics.nn.modules.conv.Concat           [1]                           \n",
      " 21                  -1  1   1969152  ultralytics.nn.modules.block.C2f             [768, 512, 1]                 \n",
      " 22        [15, 18, 21]  1   2147008  ultralytics.nn.modules.head.Detect           [80, [128, 256, 512]]         \n",
      "Model summary: 225 layers, 11166560 parameters, 11166544 gradients, 28.8 GFLOPs\n",
      "\n",
      "Transferred 355/355 items from pretrained weights\n",
      "Freezing layer 'model.22.dfl.conv.weight'\n"
     ]
    },
    {
     "name": "stderr",
     "output_type": "stream",
     "text": [
      "\u001b[34m\u001b[1mtrain: \u001b[0mScanning /Users/liru/Documents/Computer Vision/YOLO Project/coco128/labels/train2017.cache... 126 images, 2 backgrounds, 0 corrupt: 100%|██████████| 128/128 [00:00<?, ?it/s]\n",
      "\u001b[34m\u001b[1mval: \u001b[0mScanning /Users/liru/Documents/Computer Vision/YOLO Project/coco128/labels/train2017.cache... 126 images, 2 backgrounds, 0 corrupt: 100%|██████████| 128/128 [00:00<?, ?it/s]\n"
     ]
    },
    {
     "name": "stdout",
     "output_type": "stream",
     "text": [
      "Plotting labels to runs/detect/train14/labels.jpg... \n",
      "\u001b[34m\u001b[1moptimizer:\u001b[0m 'optimizer=auto' found, ignoring 'lr0=0.01' and 'momentum=0.937' and determining best 'optimizer', 'lr0' and 'momentum' automatically... \n",
      "\u001b[34m\u001b[1moptimizer:\u001b[0m AdamW(lr=0.000119, momentum=0.9) with parameter groups 57 weight(decay=0.0), 64 weight(decay=0.0005), 63 bias(decay=0.0)\n",
      "Image sizes 640 train, 640 val\n",
      "Using 0 dataloader workers\n",
      "Logging results to \u001b[1mruns/detect/train14\u001b[0m\n",
      "Starting training for 25 epochs...\n",
      "\n",
      "      Epoch    GPU_mem   box_loss   cls_loss   dfl_loss  Instances       Size\n"
     ]
    },
    {
     "name": "stderr",
     "output_type": "stream",
     "text": [
      "       1/25         0G      1.038      1.039      1.188        278        640: 100%|██████████| 8/8 [00:16<00:00,  2.02s/it]\n",
      "                 Class     Images  Instances      Box(P          R      mAP50  mAP50-95):   0%|          | 0/4 [00:00<?, ?it/s]"
     ]
    },
    {
     "name": "stdout",
     "output_type": "stream",
     "text": [
      "WARNING ⚠️ NMS time limit 3.600s exceeded\n"
     ]
    },
    {
     "name": "stderr",
     "output_type": "stream",
     "text": [
      "                 Class     Images  Instances      Box(P          R      mAP50  mAP50-95):  25%|██▌       | 1/4 [00:12<00:36, 12.21s/it]"
     ]
    },
    {
     "name": "stdout",
     "output_type": "stream",
     "text": [
      "WARNING ⚠️ NMS time limit 3.600s exceeded\n"
     ]
    },
    {
     "name": "stderr",
     "output_type": "stream",
     "text": [
      "                 Class     Images  Instances      Box(P          R      mAP50  mAP50-95):  50%|█████     | 2/4 [00:23<00:23, 11.90s/it]"
     ]
    },
    {
     "name": "stdout",
     "output_type": "stream",
     "text": [
      "WARNING ⚠️ NMS time limit 3.600s exceeded\n"
     ]
    },
    {
     "name": "stderr",
     "output_type": "stream",
     "text": [
      "                 Class     Images  Instances      Box(P          R      mAP50  mAP50-95):  75%|███████▌  | 3/4 [00:40<00:13, 13.89s/it]"
     ]
    },
    {
     "name": "stdout",
     "output_type": "stream",
     "text": [
      "WARNING ⚠️ NMS time limit 3.600s exceeded\n"
     ]
    },
    {
     "name": "stderr",
     "output_type": "stream",
     "text": [
      "                 Class     Images  Instances      Box(P          R      mAP50  mAP50-95): 100%|██████████| 4/4 [00:57<00:00, 14.34s/it]"
     ]
    },
    {
     "name": "stdout",
     "output_type": "stream",
     "text": [
      "                   all        128        929      0.753      0.298      0.347      0.259\n"
     ]
    },
    {
     "name": "stderr",
     "output_type": "stream",
     "text": [
      "\n"
     ]
    },
    {
     "name": "stdout",
     "output_type": "stream",
     "text": [
      "\n",
      "      Epoch    GPU_mem   box_loss   cls_loss   dfl_loss  Instances       Size\n"
     ]
    },
    {
     "name": "stderr",
     "output_type": "stream",
     "text": [
      "       2/25         0G      1.009      1.019      1.184        167        640: 100%|██████████| 8/8 [00:32<00:00,  4.04s/it]\n",
      "                 Class     Images  Instances      Box(P          R      mAP50  mAP50-95):   0%|          | 0/4 [00:00<?, ?it/s]"
     ]
    },
    {
     "name": "stdout",
     "output_type": "stream",
     "text": [
      "WARNING ⚠️ NMS time limit 3.600s exceeded\n"
     ]
    },
    {
     "name": "stderr",
     "output_type": "stream",
     "text": [
      "                 Class     Images  Instances      Box(P          R      mAP50  mAP50-95):  25%|██▌       | 1/4 [00:08<00:26,  8.73s/it]"
     ]
    },
    {
     "name": "stdout",
     "output_type": "stream",
     "text": [
      "WARNING ⚠️ NMS time limit 3.600s exceeded\n"
     ]
    },
    {
     "name": "stderr",
     "output_type": "stream",
     "text": [
      "                 Class     Images  Instances      Box(P          R      mAP50  mAP50-95):  50%|█████     | 2/4 [00:16<00:16,  8.43s/it]"
     ]
    },
    {
     "name": "stdout",
     "output_type": "stream",
     "text": [
      "WARNING ⚠️ NMS time limit 3.600s exceeded\n"
     ]
    },
    {
     "name": "stderr",
     "output_type": "stream",
     "text": [
      "                 Class     Images  Instances      Box(P          R      mAP50  mAP50-95):  75%|███████▌  | 3/4 [00:25<00:08,  8.41s/it]"
     ]
    },
    {
     "name": "stdout",
     "output_type": "stream",
     "text": [
      "WARNING ⚠️ NMS time limit 3.600s exceeded\n"
     ]
    },
    {
     "name": "stderr",
     "output_type": "stream",
     "text": [
      "                 Class     Images  Instances      Box(P          R      mAP50  mAP50-95): 100%|██████████| 4/4 [00:35<00:00,  8.77s/it]"
     ]
    },
    {
     "name": "stdout",
     "output_type": "stream",
     "text": [
      "                   all        128        929      0.728      0.169       0.19       0.14\n"
     ]
    },
    {
     "name": "stderr",
     "output_type": "stream",
     "text": [
      "\n"
     ]
    },
    {
     "name": "stdout",
     "output_type": "stream",
     "text": [
      "\n",
      "      Epoch    GPU_mem   box_loss   cls_loss   dfl_loss  Instances       Size\n"
     ]
    },
    {
     "name": "stderr",
     "output_type": "stream",
     "text": [
      "       3/25         0G      1.053      1.001      1.157        239        640: 100%|██████████| 8/8 [00:33<00:00,  4.22s/it]\n",
      "                 Class     Images  Instances      Box(P          R      mAP50  mAP50-95):   0%|          | 0/4 [00:00<?, ?it/s]"
     ]
    },
    {
     "name": "stdout",
     "output_type": "stream",
     "text": [
      "WARNING ⚠️ NMS time limit 3.600s exceeded\n"
     ]
    },
    {
     "name": "stderr",
     "output_type": "stream",
     "text": [
      "                 Class     Images  Instances      Box(P          R      mAP50  mAP50-95):  25%|██▌       | 1/4 [00:08<00:25,  8.58s/it]"
     ]
    },
    {
     "name": "stdout",
     "output_type": "stream",
     "text": [
      "WARNING ⚠️ NMS time limit 3.600s exceeded\n"
     ]
    },
    {
     "name": "stderr",
     "output_type": "stream",
     "text": [
      "                 Class     Images  Instances      Box(P          R      mAP50  mAP50-95):  50%|█████     | 2/4 [00:17<00:17,  8.65s/it]"
     ]
    },
    {
     "name": "stdout",
     "output_type": "stream",
     "text": [
      "WARNING ⚠️ NMS time limit 3.600s exceeded\n"
     ]
    },
    {
     "name": "stderr",
     "output_type": "stream",
     "text": [
      "                 Class     Images  Instances      Box(P          R      mAP50  mAP50-95):  75%|███████▌  | 3/4 [00:26<00:09,  9.01s/it]"
     ]
    },
    {
     "name": "stdout",
     "output_type": "stream",
     "text": [
      "WARNING ⚠️ NMS time limit 3.600s exceeded\n"
     ]
    },
    {
     "name": "stderr",
     "output_type": "stream",
     "text": [
      "                 Class     Images  Instances      Box(P          R      mAP50  mAP50-95): 100%|██████████| 4/4 [00:37<00:00,  9.31s/it]\n"
     ]
    },
    {
     "name": "stdout",
     "output_type": "stream",
     "text": [
      "                   all        128        929      0.806      0.109      0.128     0.0926\n",
      "\n",
      "      Epoch    GPU_mem   box_loss   cls_loss   dfl_loss  Instances       Size\n"
     ]
    },
    {
     "name": "stderr",
     "output_type": "stream",
     "text": [
      "       4/25         0G      1.022     0.9306      1.146        236        640: 100%|██████████| 8/8 [00:43<00:00,  5.42s/it]\n",
      "                 Class     Images  Instances      Box(P          R      mAP50  mAP50-95):   0%|          | 0/4 [00:00<?, ?it/s]"
     ]
    },
    {
     "name": "stdout",
     "output_type": "stream",
     "text": [
      "WARNING ⚠️ NMS time limit 3.600s exceeded\n"
     ]
    },
    {
     "name": "stderr",
     "output_type": "stream",
     "text": [
      "                 Class     Images  Instances      Box(P          R      mAP50  mAP50-95):  25%|██▌       | 1/4 [00:09<00:29,  9.87s/it]"
     ]
    },
    {
     "name": "stdout",
     "output_type": "stream",
     "text": [
      "WARNING ⚠️ NMS time limit 3.600s exceeded\n"
     ]
    },
    {
     "name": "stderr",
     "output_type": "stream",
     "text": [
      "                 Class     Images  Instances      Box(P          R      mAP50  mAP50-95):  50%|█████     | 2/4 [00:17<00:16,  8.34s/it]"
     ]
    },
    {
     "name": "stdout",
     "output_type": "stream",
     "text": [
      "WARNING ⚠️ NMS time limit 3.600s exceeded\n"
     ]
    },
    {
     "name": "stderr",
     "output_type": "stream",
     "text": [
      "                 Class     Images  Instances      Box(P          R      mAP50  mAP50-95):  75%|███████▌  | 3/4 [00:29<00:10, 10.12s/it]"
     ]
    },
    {
     "name": "stdout",
     "output_type": "stream",
     "text": [
      "WARNING ⚠️ NMS time limit 3.600s exceeded\n"
     ]
    },
    {
     "name": "stderr",
     "output_type": "stream",
     "text": [
      "                 Class     Images  Instances      Box(P          R      mAP50  mAP50-95): 100%|██████████| 4/4 [00:41<00:00, 10.35s/it]\n"
     ]
    },
    {
     "name": "stdout",
     "output_type": "stream",
     "text": [
      "                   all        128        929      0.756     0.0997       0.12     0.0873\n",
      "\n",
      "      Epoch    GPU_mem   box_loss   cls_loss   dfl_loss  Instances       Size\n"
     ]
    },
    {
     "name": "stderr",
     "output_type": "stream",
     "text": [
      "       5/25         0G      1.006     0.9097       1.15        225        640: 100%|██████████| 8/8 [00:44<00:00,  5.61s/it]\n",
      "                 Class     Images  Instances      Box(P          R      mAP50  mAP50-95):   0%|          | 0/4 [00:00<?, ?it/s]"
     ]
    },
    {
     "name": "stdout",
     "output_type": "stream",
     "text": [
      "WARNING ⚠️ NMS time limit 3.600s exceeded\n"
     ]
    },
    {
     "name": "stderr",
     "output_type": "stream",
     "text": [
      "                 Class     Images  Instances      Box(P          R      mAP50  mAP50-95):  25%|██▌       | 1/4 [00:07<00:22,  7.64s/it]"
     ]
    },
    {
     "name": "stdout",
     "output_type": "stream",
     "text": [
      "WARNING ⚠️ NMS time limit 3.600s exceeded\n"
     ]
    },
    {
     "name": "stderr",
     "output_type": "stream",
     "text": [
      "                 Class     Images  Instances      Box(P          R      mAP50  mAP50-95):  50%|█████     | 2/4 [00:15<00:15,  7.94s/it]"
     ]
    },
    {
     "name": "stdout",
     "output_type": "stream",
     "text": [
      "WARNING ⚠️ NMS time limit 3.600s exceeded\n"
     ]
    },
    {
     "name": "stderr",
     "output_type": "stream",
     "text": [
      "                 Class     Images  Instances      Box(P          R      mAP50  mAP50-95):  75%|███████▌  | 3/4 [00:24<00:08,  8.29s/it]"
     ]
    },
    {
     "name": "stdout",
     "output_type": "stream",
     "text": [
      "WARNING ⚠️ NMS time limit 3.600s exceeded\n"
     ]
    },
    {
     "name": "stderr",
     "output_type": "stream",
     "text": [
      "                 Class     Images  Instances      Box(P          R      mAP50  mAP50-95): 100%|██████████| 4/4 [00:36<00:00,  9.03s/it]\n"
     ]
    },
    {
     "name": "stdout",
     "output_type": "stream",
     "text": [
      "                   all        128        929      0.677     0.0686     0.0852     0.0591\n",
      "\n",
      "      Epoch    GPU_mem   box_loss   cls_loss   dfl_loss  Instances       Size\n"
     ]
    },
    {
     "name": "stderr",
     "output_type": "stream",
     "text": [
      "       6/25         0G      1.005     0.8648      1.132        223        640: 100%|██████████| 8/8 [00:51<00:00,  6.50s/it]\n",
      "                 Class     Images  Instances      Box(P          R      mAP50  mAP50-95):   0%|          | 0/4 [00:00<?, ?it/s]"
     ]
    },
    {
     "name": "stdout",
     "output_type": "stream",
     "text": [
      "WARNING ⚠️ NMS time limit 3.600s exceeded\n"
     ]
    },
    {
     "name": "stderr",
     "output_type": "stream",
     "text": [
      "                 Class     Images  Instances      Box(P          R      mAP50  mAP50-95):  25%|██▌       | 1/4 [00:09<00:29,  9.79s/it]"
     ]
    },
    {
     "name": "stdout",
     "output_type": "stream",
     "text": [
      "WARNING ⚠️ NMS time limit 3.600s exceeded\n"
     ]
    },
    {
     "name": "stderr",
     "output_type": "stream",
     "text": [
      "                 Class     Images  Instances      Box(P          R      mAP50  mAP50-95):  50%|█████     | 2/4 [00:18<00:18,  9.14s/it]"
     ]
    },
    {
     "name": "stdout",
     "output_type": "stream",
     "text": [
      "WARNING ⚠️ NMS time limit 3.600s exceeded\n"
     ]
    },
    {
     "name": "stderr",
     "output_type": "stream",
     "text": [
      "                 Class     Images  Instances      Box(P          R      mAP50  mAP50-95):  75%|███████▌  | 3/4 [00:27<00:09,  9.21s/it]"
     ]
    },
    {
     "name": "stdout",
     "output_type": "stream",
     "text": [
      "WARNING ⚠️ NMS time limit 3.600s exceeded\n"
     ]
    },
    {
     "name": "stderr",
     "output_type": "stream",
     "text": [
      "                 Class     Images  Instances      Box(P          R      mAP50  mAP50-95): 100%|██████████| 4/4 [00:37<00:00,  9.44s/it]\n"
     ]
    },
    {
     "name": "stdout",
     "output_type": "stream",
     "text": [
      "                   all        128        929      0.732     0.0763     0.0924     0.0656\n",
      "\n",
      "      Epoch    GPU_mem   box_loss   cls_loss   dfl_loss  Instances       Size\n"
     ]
    },
    {
     "name": "stderr",
     "output_type": "stream",
     "text": [
      "       7/25         0G     0.9533      0.822      1.101        308        640: 100%|██████████| 8/8 [00:50<00:00,  6.36s/it]\n",
      "                 Class     Images  Instances      Box(P          R      mAP50  mAP50-95):   0%|          | 0/4 [00:00<?, ?it/s]"
     ]
    },
    {
     "name": "stdout",
     "output_type": "stream",
     "text": [
      "WARNING ⚠️ NMS time limit 3.600s exceeded\n"
     ]
    },
    {
     "name": "stderr",
     "output_type": "stream",
     "text": [
      "                 Class     Images  Instances      Box(P          R      mAP50  mAP50-95):  25%|██▌       | 1/4 [00:07<00:22,  7.56s/it]"
     ]
    },
    {
     "name": "stdout",
     "output_type": "stream",
     "text": [
      "WARNING ⚠️ NMS time limit 3.600s exceeded\n"
     ]
    },
    {
     "name": "stderr",
     "output_type": "stream",
     "text": [
      "                 Class     Images  Instances      Box(P          R      mAP50  mAP50-95):  50%|█████     | 2/4 [00:16<00:16,  8.50s/it]"
     ]
    },
    {
     "name": "stdout",
     "output_type": "stream",
     "text": [
      "WARNING ⚠️ NMS time limit 3.600s exceeded\n"
     ]
    },
    {
     "name": "stderr",
     "output_type": "stream",
     "text": [
      "                 Class     Images  Instances      Box(P          R      mAP50  mAP50-95):  75%|███████▌  | 3/4 [00:26<00:09,  9.04s/it]"
     ]
    },
    {
     "name": "stdout",
     "output_type": "stream",
     "text": [
      "WARNING ⚠️ NMS time limit 3.600s exceeded\n"
     ]
    },
    {
     "name": "stderr",
     "output_type": "stream",
     "text": [
      "                 Class     Images  Instances      Box(P          R      mAP50  mAP50-95): 100%|██████████| 4/4 [00:37<00:00,  9.49s/it]\n"
     ]
    },
    {
     "name": "stdout",
     "output_type": "stream",
     "text": [
      "                   all        128        929      0.688     0.0785     0.0994     0.0712\n",
      "\n",
      "      Epoch    GPU_mem   box_loss   cls_loss   dfl_loss  Instances       Size\n"
     ]
    },
    {
     "name": "stderr",
     "output_type": "stream",
     "text": [
      "       8/25         0G     0.9671     0.8322      1.109        201        640: 100%|██████████| 8/8 [00:50<00:00,  6.27s/it]\n",
      "                 Class     Images  Instances      Box(P          R      mAP50  mAP50-95):   0%|          | 0/4 [00:00<?, ?it/s]"
     ]
    },
    {
     "name": "stdout",
     "output_type": "stream",
     "text": [
      "WARNING ⚠️ NMS time limit 3.600s exceeded\n"
     ]
    },
    {
     "name": "stderr",
     "output_type": "stream",
     "text": [
      "                 Class     Images  Instances      Box(P          R      mAP50  mAP50-95):  25%|██▌       | 1/4 [00:10<00:31, 10.46s/it]"
     ]
    },
    {
     "name": "stdout",
     "output_type": "stream",
     "text": [
      "WARNING ⚠️ NMS time limit 3.600s exceeded\n"
     ]
    },
    {
     "name": "stderr",
     "output_type": "stream",
     "text": [
      "                 Class     Images  Instances      Box(P          R      mAP50  mAP50-95):  50%|█████     | 2/4 [00:18<00:17,  8.78s/it]"
     ]
    },
    {
     "name": "stdout",
     "output_type": "stream",
     "text": [
      "WARNING ⚠️ NMS time limit 3.600s exceeded\n"
     ]
    },
    {
     "name": "stderr",
     "output_type": "stream",
     "text": [
      "                 Class     Images  Instances      Box(P          R      mAP50  mAP50-95):  75%|███████▌  | 3/4 [00:32<00:11, 11.40s/it]"
     ]
    },
    {
     "name": "stdout",
     "output_type": "stream",
     "text": [
      "WARNING ⚠️ NMS time limit 3.600s exceeded\n"
     ]
    },
    {
     "name": "stderr",
     "output_type": "stream",
     "text": [
      "                 Class     Images  Instances      Box(P          R      mAP50  mAP50-95): 100%|██████████| 4/4 [00:41<00:00, 10.39s/it]\n"
     ]
    },
    {
     "name": "stdout",
     "output_type": "stream",
     "text": [
      "                   all        128        929      0.739     0.0779     0.0936     0.0676\n",
      "\n",
      "      Epoch    GPU_mem   box_loss   cls_loss   dfl_loss  Instances       Size\n"
     ]
    },
    {
     "name": "stderr",
     "output_type": "stream",
     "text": [
      "       9/25         0G     0.9639     0.8191      1.108        185        640: 100%|██████████| 8/8 [00:52<00:00,  6.62s/it]\n",
      "                 Class     Images  Instances      Box(P          R      mAP50  mAP50-95):   0%|          | 0/4 [00:00<?, ?it/s]"
     ]
    },
    {
     "name": "stdout",
     "output_type": "stream",
     "text": [
      "WARNING ⚠️ NMS time limit 3.600s exceeded\n"
     ]
    },
    {
     "name": "stderr",
     "output_type": "stream",
     "text": [
      "                 Class     Images  Instances      Box(P          R      mAP50  mAP50-95):  25%|██▌       | 1/4 [00:14<00:42, 14.00s/it]"
     ]
    },
    {
     "name": "stdout",
     "output_type": "stream",
     "text": [
      "WARNING ⚠️ NMS time limit 3.600s exceeded\n"
     ]
    },
    {
     "name": "stderr",
     "output_type": "stream",
     "text": [
      "                 Class     Images  Instances      Box(P          R      mAP50  mAP50-95):  50%|█████     | 2/4 [00:27<00:26, 13.42s/it]"
     ]
    },
    {
     "name": "stdout",
     "output_type": "stream",
     "text": [
      "WARNING ⚠️ NMS time limit 3.600s exceeded\n"
     ]
    },
    {
     "name": "stderr",
     "output_type": "stream",
     "text": [
      "                 Class     Images  Instances      Box(P          R      mAP50  mAP50-95):  75%|███████▌  | 3/4 [00:40<00:13, 13.57s/it]"
     ]
    },
    {
     "name": "stdout",
     "output_type": "stream",
     "text": [
      "WARNING ⚠️ NMS time limit 3.600s exceeded\n"
     ]
    },
    {
     "name": "stderr",
     "output_type": "stream",
     "text": [
      "                 Class     Images  Instances      Box(P          R      mAP50  mAP50-95): 100%|██████████| 4/4 [00:53<00:00, 13.39s/it]\n"
     ]
    },
    {
     "name": "stdout",
     "output_type": "stream",
     "text": [
      "                   all        128        929      0.683     0.0777     0.0929     0.0666\n",
      "\n",
      "      Epoch    GPU_mem   box_loss   cls_loss   dfl_loss  Instances       Size\n"
     ]
    },
    {
     "name": "stderr",
     "output_type": "stream",
     "text": [
      "      10/25         0G     0.9455     0.7839      1.095        194        640: 100%|██████████| 8/8 [00:51<00:00,  6.46s/it]\n",
      "                 Class     Images  Instances      Box(P          R      mAP50  mAP50-95):   0%|          | 0/4 [00:00<?, ?it/s]"
     ]
    },
    {
     "name": "stdout",
     "output_type": "stream",
     "text": [
      "WARNING ⚠️ NMS time limit 3.600s exceeded\n"
     ]
    },
    {
     "name": "stderr",
     "output_type": "stream",
     "text": [
      "                 Class     Images  Instances      Box(P          R      mAP50  mAP50-95):  25%|██▌       | 1/4 [00:11<00:34, 11.60s/it]"
     ]
    },
    {
     "name": "stdout",
     "output_type": "stream",
     "text": [
      "WARNING ⚠️ NMS time limit 3.600s exceeded\n"
     ]
    },
    {
     "name": "stderr",
     "output_type": "stream",
     "text": [
      "                 Class     Images  Instances      Box(P          R      mAP50  mAP50-95):  50%|█████     | 2/4 [00:21<00:21, 10.69s/it]"
     ]
    },
    {
     "name": "stdout",
     "output_type": "stream",
     "text": [
      "WARNING ⚠️ NMS time limit 3.600s exceeded\n"
     ]
    },
    {
     "name": "stderr",
     "output_type": "stream",
     "text": [
      "                 Class     Images  Instances      Box(P          R      mAP50  mAP50-95):  75%|███████▌  | 3/4 [00:34<00:11, 11.82s/it]"
     ]
    },
    {
     "name": "stdout",
     "output_type": "stream",
     "text": [
      "WARNING ⚠️ NMS time limit 3.600s exceeded\n"
     ]
    },
    {
     "name": "stderr",
     "output_type": "stream",
     "text": [
      "                 Class     Images  Instances      Box(P          R      mAP50  mAP50-95): 100%|██████████| 4/4 [00:50<00:00, 12.55s/it]\n"
     ]
    },
    {
     "name": "stdout",
     "output_type": "stream",
     "text": [
      "                   all        128        929       0.55     0.0613     0.0704     0.0471\n",
      "\n",
      "      Epoch    GPU_mem   box_loss   cls_loss   dfl_loss  Instances       Size\n"
     ]
    },
    {
     "name": "stderr",
     "output_type": "stream",
     "text": [
      "      11/25         0G     0.9431     0.7712      1.091        215        640: 100%|██████████| 8/8 [00:59<00:00,  7.47s/it]\n",
      "                 Class     Images  Instances      Box(P          R      mAP50  mAP50-95):   0%|          | 0/4 [00:00<?, ?it/s]"
     ]
    },
    {
     "name": "stdout",
     "output_type": "stream",
     "text": [
      "WARNING ⚠️ NMS time limit 3.600s exceeded\n"
     ]
    },
    {
     "name": "stderr",
     "output_type": "stream",
     "text": [
      "                 Class     Images  Instances      Box(P          R      mAP50  mAP50-95):  25%|██▌       | 1/4 [00:12<00:36, 12.05s/it]"
     ]
    },
    {
     "name": "stdout",
     "output_type": "stream",
     "text": [
      "WARNING ⚠️ NMS time limit 3.600s exceeded\n"
     ]
    },
    {
     "name": "stderr",
     "output_type": "stream",
     "text": [
      "                 Class     Images  Instances      Box(P          R      mAP50  mAP50-95):  50%|█████     | 2/4 [00:25<00:25, 12.76s/it]"
     ]
    },
    {
     "name": "stdout",
     "output_type": "stream",
     "text": [
      "WARNING ⚠️ NMS time limit 3.600s exceeded\n"
     ]
    },
    {
     "name": "stderr",
     "output_type": "stream",
     "text": [
      "                 Class     Images  Instances      Box(P          R      mAP50  mAP50-95):  75%|███████▌  | 3/4 [00:36<00:11, 11.84s/it]"
     ]
    },
    {
     "name": "stdout",
     "output_type": "stream",
     "text": [
      "WARNING ⚠️ NMS time limit 3.600s exceeded\n"
     ]
    },
    {
     "name": "stderr",
     "output_type": "stream",
     "text": [
      "                 Class     Images  Instances      Box(P          R      mAP50  mAP50-95): 100%|██████████| 4/4 [00:46<00:00, 11.72s/it]\n"
     ]
    },
    {
     "name": "stdout",
     "output_type": "stream",
     "text": [
      "                   all        128        929      0.552     0.0424     0.0506     0.0335\n",
      "\n",
      "      Epoch    GPU_mem   box_loss   cls_loss   dfl_loss  Instances       Size\n"
     ]
    },
    {
     "name": "stderr",
     "output_type": "stream",
     "text": [
      "      12/25         0G     0.8975     0.7255      1.067        143        640: 100%|██████████| 8/8 [01:16<00:00,  9.50s/it]\n",
      "                 Class     Images  Instances      Box(P          R      mAP50  mAP50-95):   0%|          | 0/4 [00:00<?, ?it/s]"
     ]
    },
    {
     "name": "stdout",
     "output_type": "stream",
     "text": [
      "WARNING ⚠️ NMS time limit 3.600s exceeded\n"
     ]
    },
    {
     "name": "stderr",
     "output_type": "stream",
     "text": [
      "                 Class     Images  Instances      Box(P          R      mAP50  mAP50-95):  25%|██▌       | 1/4 [00:16<00:48, 16.06s/it]"
     ]
    },
    {
     "name": "stdout",
     "output_type": "stream",
     "text": [
      "WARNING ⚠️ NMS time limit 3.600s exceeded\n"
     ]
    },
    {
     "name": "stderr",
     "output_type": "stream",
     "text": [
      "                 Class     Images  Instances      Box(P          R      mAP50  mAP50-95):  50%|█████     | 2/4 [00:29<00:28, 14.32s/it]"
     ]
    },
    {
     "name": "stdout",
     "output_type": "stream",
     "text": [
      "WARNING ⚠️ NMS time limit 3.600s exceeded\n"
     ]
    },
    {
     "name": "stderr",
     "output_type": "stream",
     "text": [
      "                 Class     Images  Instances      Box(P          R      mAP50  mAP50-95):  75%|███████▌  | 3/4 [00:49<00:16, 16.86s/it]"
     ]
    },
    {
     "name": "stdout",
     "output_type": "stream",
     "text": [
      "WARNING ⚠️ NMS time limit 3.600s exceeded\n"
     ]
    },
    {
     "name": "stderr",
     "output_type": "stream",
     "text": [
      "                 Class     Images  Instances      Box(P          R      mAP50  mAP50-95): 100%|██████████| 4/4 [01:01<00:00, 15.40s/it]\n"
     ]
    },
    {
     "name": "stdout",
     "output_type": "stream",
     "text": [
      "                   all        128        929      0.604     0.0611     0.0729     0.0532\n",
      "\n",
      "      Epoch    GPU_mem   box_loss   cls_loss   dfl_loss  Instances       Size\n"
     ]
    },
    {
     "name": "stderr",
     "output_type": "stream",
     "text": [
      "      13/25         0G     0.8988     0.7256      1.073        328        640: 100%|██████████| 8/8 [01:13<00:00,  9.20s/it]\n",
      "                 Class     Images  Instances      Box(P          R      mAP50  mAP50-95):   0%|          | 0/4 [00:00<?, ?it/s]"
     ]
    },
    {
     "name": "stdout",
     "output_type": "stream",
     "text": [
      "WARNING ⚠️ NMS time limit 3.600s exceeded\n"
     ]
    },
    {
     "name": "stderr",
     "output_type": "stream",
     "text": [
      "                 Class     Images  Instances      Box(P          R      mAP50  mAP50-95):  25%|██▌       | 1/4 [00:08<00:26,  8.69s/it]"
     ]
    },
    {
     "name": "stdout",
     "output_type": "stream",
     "text": [
      "WARNING ⚠️ NMS time limit 3.600s exceeded\n"
     ]
    },
    {
     "name": "stderr",
     "output_type": "stream",
     "text": [
      "                 Class     Images  Instances      Box(P          R      mAP50  mAP50-95):  50%|█████     | 2/4 [00:21<00:22, 11.39s/it]"
     ]
    },
    {
     "name": "stdout",
     "output_type": "stream",
     "text": [
      "WARNING ⚠️ NMS time limit 3.600s exceeded\n"
     ]
    },
    {
     "name": "stderr",
     "output_type": "stream",
     "text": [
      "                 Class     Images  Instances      Box(P          R      mAP50  mAP50-95):  75%|███████▌  | 3/4 [00:37<00:13, 13.41s/it]"
     ]
    },
    {
     "name": "stdout",
     "output_type": "stream",
     "text": [
      "WARNING ⚠️ NMS time limit 3.600s exceeded\n"
     ]
    },
    {
     "name": "stderr",
     "output_type": "stream",
     "text": [
      "                 Class     Images  Instances      Box(P          R      mAP50  mAP50-95): 100%|██████████| 4/4 [00:48<00:00, 12.17s/it]\n"
     ]
    },
    {
     "name": "stdout",
     "output_type": "stream",
     "text": [
      "                   all        128        929       0.56     0.0426     0.0558     0.0374\n",
      "\n",
      "      Epoch    GPU_mem   box_loss   cls_loss   dfl_loss  Instances       Size\n"
     ]
    },
    {
     "name": "stderr",
     "output_type": "stream",
     "text": [
      "      14/25         0G       0.87     0.7279      1.076        144        640: 100%|██████████| 8/8 [01:04<00:00,  8.05s/it]\n",
      "                 Class     Images  Instances      Box(P          R      mAP50  mAP50-95):   0%|          | 0/4 [00:00<?, ?it/s]"
     ]
    },
    {
     "name": "stdout",
     "output_type": "stream",
     "text": [
      "WARNING ⚠️ NMS time limit 3.600s exceeded\n"
     ]
    },
    {
     "name": "stderr",
     "output_type": "stream",
     "text": [
      "                 Class     Images  Instances      Box(P          R      mAP50  mAP50-95):  25%|██▌       | 1/4 [00:14<00:44, 14.70s/it]"
     ]
    },
    {
     "name": "stdout",
     "output_type": "stream",
     "text": [
      "WARNING ⚠️ NMS time limit 3.600s exceeded\n"
     ]
    },
    {
     "name": "stderr",
     "output_type": "stream",
     "text": [
      "                 Class     Images  Instances      Box(P          R      mAP50  mAP50-95):  50%|█████     | 2/4 [00:25<00:24, 12.45s/it]"
     ]
    },
    {
     "name": "stdout",
     "output_type": "stream",
     "text": [
      "WARNING ⚠️ NMS time limit 3.600s exceeded\n"
     ]
    },
    {
     "name": "stderr",
     "output_type": "stream",
     "text": [
      "                 Class     Images  Instances      Box(P          R      mAP50  mAP50-95):  75%|███████▌  | 3/4 [00:36<00:11, 11.65s/it]"
     ]
    },
    {
     "name": "stdout",
     "output_type": "stream",
     "text": [
      "WARNING ⚠️ NMS time limit 3.600s exceeded\n"
     ]
    },
    {
     "name": "stderr",
     "output_type": "stream",
     "text": [
      "                 Class     Images  Instances      Box(P          R      mAP50  mAP50-95): 100%|██████████| 4/4 [00:42<00:00, 10.54s/it]\n"
     ]
    },
    {
     "name": "stdout",
     "output_type": "stream",
     "text": [
      "                   all        128        929      0.496     0.0427     0.0508     0.0351\n",
      "\n",
      "      Epoch    GPU_mem   box_loss   cls_loss   dfl_loss  Instances       Size\n"
     ]
    },
    {
     "name": "stderr",
     "output_type": "stream",
     "text": [
      "      15/25         0G     0.8765     0.7431      1.062        293        640: 100%|██████████| 8/8 [01:09<00:00,  8.70s/it]\n",
      "                 Class     Images  Instances      Box(P          R      mAP50  mAP50-95):   0%|          | 0/4 [00:00<?, ?it/s]"
     ]
    },
    {
     "name": "stdout",
     "output_type": "stream",
     "text": [
      "WARNING ⚠️ NMS time limit 3.600s exceeded\n"
     ]
    },
    {
     "name": "stderr",
     "output_type": "stream",
     "text": [
      "                 Class     Images  Instances      Box(P          R      mAP50  mAP50-95):  25%|██▌       | 1/4 [00:18<00:54, 18.17s/it]"
     ]
    },
    {
     "name": "stdout",
     "output_type": "stream",
     "text": [
      "WARNING ⚠️ NMS time limit 3.600s exceeded\n"
     ]
    },
    {
     "name": "stderr",
     "output_type": "stream",
     "text": [
      "                 Class     Images  Instances      Box(P          R      mAP50  mAP50-95):  50%|█████     | 2/4 [00:32<00:31, 15.93s/it]"
     ]
    },
    {
     "name": "stdout",
     "output_type": "stream",
     "text": [
      "WARNING ⚠️ NMS time limit 3.600s exceeded\n"
     ]
    },
    {
     "name": "stderr",
     "output_type": "stream",
     "text": [
      "                 Class     Images  Instances      Box(P          R      mAP50  mAP50-95):  75%|███████▌  | 3/4 [00:39<00:11, 11.78s/it]"
     ]
    },
    {
     "name": "stdout",
     "output_type": "stream",
     "text": [
      "WARNING ⚠️ NMS time limit 3.600s exceeded\n"
     ]
    },
    {
     "name": "stderr",
     "output_type": "stream",
     "text": [
      "                 Class     Images  Instances      Box(P          R      mAP50  mAP50-95): 100%|██████████| 4/4 [00:50<00:00, 12.60s/it]\n"
     ]
    },
    {
     "name": "stdout",
     "output_type": "stream",
     "text": [
      "                   all        128        929       0.43     0.0437     0.0532     0.0364\n",
      "Closing dataloader mosaic\n",
      "\n",
      "      Epoch    GPU_mem   box_loss   cls_loss   dfl_loss  Instances       Size\n"
     ]
    },
    {
     "name": "stderr",
     "output_type": "stream",
     "text": [
      "      16/25         0G     0.9526     0.8827      1.068        126        640: 100%|██████████| 8/8 [01:34<00:00, 11.85s/it]\n",
      "                 Class     Images  Instances      Box(P          R      mAP50  mAP50-95):   0%|          | 0/4 [00:00<?, ?it/s]"
     ]
    },
    {
     "name": "stdout",
     "output_type": "stream",
     "text": [
      "WARNING ⚠️ NMS time limit 3.600s exceeded\n"
     ]
    },
    {
     "name": "stderr",
     "output_type": "stream",
     "text": [
      "                 Class     Images  Instances      Box(P          R      mAP50  mAP50-95):  25%|██▌       | 1/4 [00:12<00:38, 12.68s/it]"
     ]
    },
    {
     "name": "stdout",
     "output_type": "stream",
     "text": [
      "WARNING ⚠️ NMS time limit 3.600s exceeded\n"
     ]
    },
    {
     "name": "stderr",
     "output_type": "stream",
     "text": [
      "                 Class     Images  Instances      Box(P          R      mAP50  mAP50-95):  50%|█████     | 2/4 [00:24<00:24, 12.30s/it]"
     ]
    },
    {
     "name": "stdout",
     "output_type": "stream",
     "text": [
      "WARNING ⚠️ NMS time limit 3.600s exceeded\n"
     ]
    },
    {
     "name": "stderr",
     "output_type": "stream",
     "text": [
      "                 Class     Images  Instances      Box(P          R      mAP50  mAP50-95):  75%|███████▌  | 3/4 [00:31<00:09,  9.69s/it]"
     ]
    },
    {
     "name": "stdout",
     "output_type": "stream",
     "text": [
      "WARNING ⚠️ NMS time limit 3.600s exceeded\n"
     ]
    },
    {
     "name": "stderr",
     "output_type": "stream",
     "text": [
      "                 Class     Images  Instances      Box(P          R      mAP50  mAP50-95): 100%|██████████| 4/4 [00:39<00:00,  9.95s/it]\n"
     ]
    },
    {
     "name": "stdout",
     "output_type": "stream",
     "text": [
      "                   all        128        929      0.419     0.0373     0.0437     0.0285\n",
      "\n",
      "      Epoch    GPU_mem   box_loss   cls_loss   dfl_loss  Instances       Size\n"
     ]
    },
    {
     "name": "stderr",
     "output_type": "stream",
     "text": [
      "      17/25         0G     0.9115     0.8105      1.029        104        640: 100%|██████████| 8/8 [01:16<00:00,  9.59s/it]\n",
      "                 Class     Images  Instances      Box(P          R      mAP50  mAP50-95):   0%|          | 0/4 [00:00<?, ?it/s]"
     ]
    },
    {
     "name": "stdout",
     "output_type": "stream",
     "text": [
      "WARNING ⚠️ NMS time limit 3.600s exceeded\n"
     ]
    },
    {
     "name": "stderr",
     "output_type": "stream",
     "text": [
      "                 Class     Images  Instances      Box(P          R      mAP50  mAP50-95):  25%|██▌       | 1/4 [00:11<00:34, 11.64s/it]"
     ]
    },
    {
     "name": "stdout",
     "output_type": "stream",
     "text": [
      "WARNING ⚠️ NMS time limit 3.600s exceeded\n"
     ]
    },
    {
     "name": "stderr",
     "output_type": "stream",
     "text": [
      "                 Class     Images  Instances      Box(P          R      mAP50  mAP50-95):  50%|█████     | 2/4 [00:23<00:23, 11.91s/it]"
     ]
    },
    {
     "name": "stdout",
     "output_type": "stream",
     "text": [
      "WARNING ⚠️ NMS time limit 3.600s exceeded\n"
     ]
    },
    {
     "name": "stderr",
     "output_type": "stream",
     "text": [
      "                 Class     Images  Instances      Box(P          R      mAP50  mAP50-95):  75%|███████▌  | 3/4 [00:34<00:11, 11.29s/it]"
     ]
    },
    {
     "name": "stdout",
     "output_type": "stream",
     "text": [
      "WARNING ⚠️ NMS time limit 3.600s exceeded\n"
     ]
    },
    {
     "name": "stderr",
     "output_type": "stream",
     "text": [
      "                 Class     Images  Instances      Box(P          R      mAP50  mAP50-95): 100%|██████████| 4/4 [00:42<00:00, 10.60s/it]\n"
     ]
    },
    {
     "name": "stdout",
     "output_type": "stream",
     "text": [
      "                   all        128        929      0.502     0.0482     0.0549     0.0374\n",
      "\n",
      "      Epoch    GPU_mem   box_loss   cls_loss   dfl_loss  Instances       Size\n"
     ]
    },
    {
     "name": "stderr",
     "output_type": "stream",
     "text": [
      "      18/25         0G     0.9018     0.7335      1.053        100        640: 100%|██████████| 8/8 [01:16<00:00,  9.56s/it]\n",
      "                 Class     Images  Instances      Box(P          R      mAP50  mAP50-95):   0%|          | 0/4 [00:00<?, ?it/s]"
     ]
    },
    {
     "name": "stdout",
     "output_type": "stream",
     "text": [
      "WARNING ⚠️ NMS time limit 3.600s exceeded\n"
     ]
    },
    {
     "name": "stderr",
     "output_type": "stream",
     "text": [
      "                 Class     Images  Instances      Box(P          R      mAP50  mAP50-95):  25%|██▌       | 1/4 [00:08<00:25,  8.36s/it]"
     ]
    },
    {
     "name": "stdout",
     "output_type": "stream",
     "text": [
      "WARNING ⚠️ NMS time limit 3.600s exceeded\n"
     ]
    },
    {
     "name": "stderr",
     "output_type": "stream",
     "text": [
      "                 Class     Images  Instances      Box(P          R      mAP50  mAP50-95):  50%|█████     | 2/4 [00:20<00:21, 10.68s/it]"
     ]
    },
    {
     "name": "stdout",
     "output_type": "stream",
     "text": [
      "WARNING ⚠️ NMS time limit 3.600s exceeded\n"
     ]
    },
    {
     "name": "stderr",
     "output_type": "stream",
     "text": [
      "                 Class     Images  Instances      Box(P          R      mAP50  mAP50-95):  75%|███████▌  | 3/4 [00:26<00:08,  8.64s/it]"
     ]
    },
    {
     "name": "stdout",
     "output_type": "stream",
     "text": [
      "WARNING ⚠️ NMS time limit 3.600s exceeded\n"
     ]
    },
    {
     "name": "stderr",
     "output_type": "stream",
     "text": [
      "                 Class     Images  Instances      Box(P          R      mAP50  mAP50-95): 100%|██████████| 4/4 [00:37<00:00,  9.30s/it]\n"
     ]
    },
    {
     "name": "stdout",
     "output_type": "stream",
     "text": [
      "                   all        128        929      0.476      0.037     0.0433     0.0282\n",
      "\n",
      "      Epoch    GPU_mem   box_loss   cls_loss   dfl_loss  Instances       Size\n"
     ]
    },
    {
     "name": "stderr",
     "output_type": "stream",
     "text": [
      "      19/25         0G     0.8902     0.7322       1.05        107        640: 100%|██████████| 8/8 [01:23<00:00, 10.44s/it]\n",
      "                 Class     Images  Instances      Box(P          R      mAP50  mAP50-95):   0%|          | 0/4 [00:00<?, ?it/s]"
     ]
    },
    {
     "name": "stdout",
     "output_type": "stream",
     "text": [
      "WARNING ⚠️ NMS time limit 3.600s exceeded\n"
     ]
    },
    {
     "name": "stderr",
     "output_type": "stream",
     "text": [
      "                 Class     Images  Instances      Box(P          R      mAP50  mAP50-95):  25%|██▌       | 1/4 [00:08<00:24,  8.32s/it]"
     ]
    },
    {
     "name": "stdout",
     "output_type": "stream",
     "text": [
      "WARNING ⚠️ NMS time limit 3.600s exceeded\n"
     ]
    },
    {
     "name": "stderr",
     "output_type": "stream",
     "text": [
      "                 Class     Images  Instances      Box(P          R      mAP50  mAP50-95):  50%|█████     | 2/4 [00:20<00:21, 10.82s/it]"
     ]
    },
    {
     "name": "stdout",
     "output_type": "stream",
     "text": [
      "WARNING ⚠️ NMS time limit 3.600s exceeded\n"
     ]
    },
    {
     "name": "stderr",
     "output_type": "stream",
     "text": [
      "                 Class     Images  Instances      Box(P          R      mAP50  mAP50-95):  75%|███████▌  | 3/4 [00:27<00:08,  8.87s/it]"
     ]
    },
    {
     "name": "stdout",
     "output_type": "stream",
     "text": [
      "WARNING ⚠️ NMS time limit 3.600s exceeded\n"
     ]
    },
    {
     "name": "stderr",
     "output_type": "stream",
     "text": [
      "                 Class     Images  Instances      Box(P          R      mAP50  mAP50-95): 100%|██████████| 4/4 [00:35<00:00,  8.81s/it]\n"
     ]
    },
    {
     "name": "stdout",
     "output_type": "stream",
     "text": [
      "                   all        128        929      0.472     0.0361      0.043     0.0279\n",
      "\n",
      "      Epoch    GPU_mem   box_loss   cls_loss   dfl_loss  Instances       Size\n"
     ]
    },
    {
     "name": "stderr",
     "output_type": "stream",
     "text": [
      "      20/25         0G     0.8882      0.714      1.018        142        640: 100%|██████████| 8/8 [01:14<00:00,  9.35s/it]\n",
      "                 Class     Images  Instances      Box(P          R      mAP50  mAP50-95):   0%|          | 0/4 [00:00<?, ?it/s]"
     ]
    },
    {
     "name": "stdout",
     "output_type": "stream",
     "text": [
      "WARNING ⚠️ NMS time limit 3.600s exceeded\n"
     ]
    },
    {
     "name": "stderr",
     "output_type": "stream",
     "text": [
      "                 Class     Images  Instances      Box(P          R      mAP50  mAP50-95):  25%|██▌       | 1/4 [00:12<00:36, 12.09s/it]"
     ]
    },
    {
     "name": "stdout",
     "output_type": "stream",
     "text": [
      "WARNING ⚠️ NMS time limit 3.600s exceeded\n"
     ]
    },
    {
     "name": "stderr",
     "output_type": "stream",
     "text": [
      "                 Class     Images  Instances      Box(P          R      mAP50  mAP50-95):  50%|█████     | 2/4 [00:23<00:23, 11.98s/it]"
     ]
    },
    {
     "name": "stdout",
     "output_type": "stream",
     "text": [
      "WARNING ⚠️ NMS time limit 3.600s exceeded\n"
     ]
    },
    {
     "name": "stderr",
     "output_type": "stream",
     "text": [
      "                 Class     Images  Instances      Box(P          R      mAP50  mAP50-95):  75%|███████▌  | 3/4 [00:30<00:09,  9.57s/it]"
     ]
    },
    {
     "name": "stdout",
     "output_type": "stream",
     "text": [
      "WARNING ⚠️ NMS time limit 3.600s exceeded\n"
     ]
    },
    {
     "name": "stderr",
     "output_type": "stream",
     "text": [
      "                 Class     Images  Instances      Box(P          R      mAP50  mAP50-95): 100%|██████████| 4/4 [00:38<00:00,  9.51s/it]\n"
     ]
    },
    {
     "name": "stdout",
     "output_type": "stream",
     "text": [
      "                   all        128        929      0.459     0.0419     0.0489     0.0324\n",
      "\n",
      "      Epoch    GPU_mem   box_loss   cls_loss   dfl_loss  Instances       Size\n"
     ]
    },
    {
     "name": "stderr",
     "output_type": "stream",
     "text": [
      "      21/25         0G     0.8808     0.6858      1.029         91        640: 100%|██████████| 8/8 [01:05<00:00,  8.14s/it]\n",
      "                 Class     Images  Instances      Box(P          R      mAP50  mAP50-95):   0%|          | 0/4 [00:00<?, ?it/s]"
     ]
    },
    {
     "name": "stdout",
     "output_type": "stream",
     "text": [
      "WARNING ⚠️ NMS time limit 3.600s exceeded\n"
     ]
    },
    {
     "name": "stderr",
     "output_type": "stream",
     "text": [
      "                 Class     Images  Instances      Box(P          R      mAP50  mAP50-95):  25%|██▌       | 1/4 [00:10<00:31, 10.62s/it]"
     ]
    },
    {
     "name": "stdout",
     "output_type": "stream",
     "text": [
      "WARNING ⚠️ NMS time limit 3.600s exceeded\n"
     ]
    },
    {
     "name": "stderr",
     "output_type": "stream",
     "text": [
      "                 Class     Images  Instances      Box(P          R      mAP50  mAP50-95):  50%|█████     | 2/4 [00:20<00:20, 10.40s/it]"
     ]
    },
    {
     "name": "stdout",
     "output_type": "stream",
     "text": [
      "WARNING ⚠️ NMS time limit 3.600s exceeded\n"
     ]
    },
    {
     "name": "stderr",
     "output_type": "stream",
     "text": [
      "                 Class     Images  Instances      Box(P          R      mAP50  mAP50-95):  75%|███████▌  | 3/4 [00:27<00:08,  8.55s/it]"
     ]
    },
    {
     "name": "stdout",
     "output_type": "stream",
     "text": [
      "WARNING ⚠️ NMS time limit 3.600s exceeded\n"
     ]
    },
    {
     "name": "stderr",
     "output_type": "stream",
     "text": [
      "                 Class     Images  Instances      Box(P          R      mAP50  mAP50-95): 100%|██████████| 4/4 [00:37<00:00,  9.30s/it]\n"
     ]
    },
    {
     "name": "stdout",
     "output_type": "stream",
     "text": [
      "                   all        128        929      0.452     0.0429     0.0479     0.0319\n",
      "\n",
      "      Epoch    GPU_mem   box_loss   cls_loss   dfl_loss  Instances       Size\n"
     ]
    },
    {
     "name": "stderr",
     "output_type": "stream",
     "text": [
      "      22/25         0G     0.8339     0.6393      1.029        136        640: 100%|██████████| 8/8 [01:17<00:00,  9.72s/it]\n",
      "                 Class     Images  Instances      Box(P          R      mAP50  mAP50-95):   0%|          | 0/4 [00:00<?, ?it/s]"
     ]
    },
    {
     "name": "stdout",
     "output_type": "stream",
     "text": [
      "WARNING ⚠️ NMS time limit 3.600s exceeded\n"
     ]
    },
    {
     "name": "stderr",
     "output_type": "stream",
     "text": [
      "                 Class     Images  Instances      Box(P          R      mAP50  mAP50-95):  25%|██▌       | 1/4 [00:08<00:25,  8.63s/it]"
     ]
    },
    {
     "name": "stdout",
     "output_type": "stream",
     "text": [
      "WARNING ⚠️ NMS time limit 3.600s exceeded\n"
     ]
    },
    {
     "name": "stderr",
     "output_type": "stream",
     "text": [
      "                 Class     Images  Instances      Box(P          R      mAP50  mAP50-95):  50%|█████     | 2/4 [00:22<00:23, 11.73s/it]"
     ]
    },
    {
     "name": "stdout",
     "output_type": "stream",
     "text": [
      "WARNING ⚠️ NMS time limit 3.600s exceeded\n"
     ]
    },
    {
     "name": "stderr",
     "output_type": "stream",
     "text": [
      "                 Class     Images  Instances      Box(P          R      mAP50  mAP50-95):  75%|███████▌  | 3/4 [00:29<00:09,  9.51s/it]"
     ]
    },
    {
     "name": "stdout",
     "output_type": "stream",
     "text": [
      "WARNING ⚠️ NMS time limit 3.600s exceeded\n"
     ]
    },
    {
     "name": "stderr",
     "output_type": "stream",
     "text": [
      "                 Class     Images  Instances      Box(P          R      mAP50  mAP50-95): 100%|██████████| 4/4 [00:40<00:00, 10.08s/it]\n"
     ]
    },
    {
     "name": "stdout",
     "output_type": "stream",
     "text": [
      "                   all        128        929      0.499     0.0357     0.0425     0.0284\n",
      "\n",
      "      Epoch    GPU_mem   box_loss   cls_loss   dfl_loss  Instances       Size\n"
     ]
    },
    {
     "name": "stderr",
     "output_type": "stream",
     "text": [
      "      23/25         0G     0.8156     0.6257     0.9917         82        640: 100%|██████████| 8/8 [01:16<00:00,  9.62s/it]\n",
      "                 Class     Images  Instances      Box(P          R      mAP50  mAP50-95):   0%|          | 0/4 [00:00<?, ?it/s]"
     ]
    },
    {
     "name": "stdout",
     "output_type": "stream",
     "text": [
      "WARNING ⚠️ NMS time limit 3.600s exceeded\n"
     ]
    },
    {
     "name": "stderr",
     "output_type": "stream",
     "text": [
      "                 Class     Images  Instances      Box(P          R      mAP50  mAP50-95):  25%|██▌       | 1/4 [00:07<00:22,  7.49s/it]"
     ]
    },
    {
     "name": "stdout",
     "output_type": "stream",
     "text": [
      "WARNING ⚠️ NMS time limit 3.600s exceeded\n"
     ]
    },
    {
     "name": "stderr",
     "output_type": "stream",
     "text": [
      "                 Class     Images  Instances      Box(P          R      mAP50  mAP50-95):  50%|█████     | 2/4 [00:20<00:21, 10.77s/it]"
     ]
    },
    {
     "name": "stdout",
     "output_type": "stream",
     "text": [
      "WARNING ⚠️ NMS time limit 3.600s exceeded\n"
     ]
    },
    {
     "name": "stderr",
     "output_type": "stream",
     "text": [
      "                 Class     Images  Instances      Box(P          R      mAP50  mAP50-95):  75%|███████▌  | 3/4 [00:27<00:08,  8.84s/it]"
     ]
    },
    {
     "name": "stdout",
     "output_type": "stream",
     "text": [
      "WARNING ⚠️ NMS time limit 3.600s exceeded\n"
     ]
    },
    {
     "name": "stderr",
     "output_type": "stream",
     "text": [
      "                 Class     Images  Instances      Box(P          R      mAP50  mAP50-95): 100%|██████████| 4/4 [00:39<00:00,  9.82s/it]\n"
     ]
    },
    {
     "name": "stdout",
     "output_type": "stream",
     "text": [
      "                   all        128        929      0.518     0.0404     0.0488     0.0318\n",
      "\n",
      "      Epoch    GPU_mem   box_loss   cls_loss   dfl_loss  Instances       Size\n"
     ]
    },
    {
     "name": "stderr",
     "output_type": "stream",
     "text": [
      "      24/25         0G      0.864     0.6663      1.032         99        640: 100%|██████████| 8/8 [01:20<00:00, 10.12s/it]\n",
      "                 Class     Images  Instances      Box(P          R      mAP50  mAP50-95):   0%|          | 0/4 [00:00<?, ?it/s]"
     ]
    },
    {
     "name": "stdout",
     "output_type": "stream",
     "text": [
      "WARNING ⚠️ NMS time limit 3.600s exceeded\n"
     ]
    },
    {
     "name": "stderr",
     "output_type": "stream",
     "text": [
      "                 Class     Images  Instances      Box(P          R      mAP50  mAP50-95):  25%|██▌       | 1/4 [00:10<00:30, 10.23s/it]"
     ]
    },
    {
     "name": "stdout",
     "output_type": "stream",
     "text": [
      "WARNING ⚠️ NMS time limit 3.600s exceeded\n"
     ]
    },
    {
     "name": "stderr",
     "output_type": "stream",
     "text": [
      "                 Class     Images  Instances      Box(P          R      mAP50  mAP50-95):  50%|█████     | 2/4 [00:19<00:19,  9.95s/it]"
     ]
    },
    {
     "name": "stdout",
     "output_type": "stream",
     "text": [
      "WARNING ⚠️ NMS time limit 3.600s exceeded\n"
     ]
    },
    {
     "name": "stderr",
     "output_type": "stream",
     "text": [
      "                 Class     Images  Instances      Box(P          R      mAP50  mAP50-95):  75%|███████▌  | 3/4 [00:30<00:10, 10.31s/it]"
     ]
    },
    {
     "name": "stdout",
     "output_type": "stream",
     "text": [
      "WARNING ⚠️ NMS time limit 3.600s exceeded\n"
     ]
    },
    {
     "name": "stderr",
     "output_type": "stream",
     "text": [
      "                 Class     Images  Instances      Box(P          R      mAP50  mAP50-95): 100%|██████████| 4/4 [00:44<00:00, 11.02s/it]\n"
     ]
    },
    {
     "name": "stdout",
     "output_type": "stream",
     "text": [
      "                   all        128        929      0.648     0.0548     0.0644     0.0449\n",
      "\n",
      "      Epoch    GPU_mem   box_loss   cls_loss   dfl_loss  Instances       Size\n"
     ]
    },
    {
     "name": "stderr",
     "output_type": "stream",
     "text": [
      "      25/25         0G     0.8555     0.6325     0.9991        110        640: 100%|██████████| 8/8 [01:19<00:00,  9.90s/it]\n",
      "                 Class     Images  Instances      Box(P          R      mAP50  mAP50-95):   0%|          | 0/4 [00:00<?, ?it/s]"
     ]
    },
    {
     "name": "stdout",
     "output_type": "stream",
     "text": [
      "WARNING ⚠️ NMS time limit 3.600s exceeded\n"
     ]
    },
    {
     "name": "stderr",
     "output_type": "stream",
     "text": [
      "                 Class     Images  Instances      Box(P          R      mAP50  mAP50-95):  25%|██▌       | 1/4 [00:09<00:28,  9.49s/it]"
     ]
    },
    {
     "name": "stdout",
     "output_type": "stream",
     "text": [
      "WARNING ⚠️ NMS time limit 3.600s exceeded\n"
     ]
    },
    {
     "name": "stderr",
     "output_type": "stream",
     "text": [
      "                 Class     Images  Instances      Box(P          R      mAP50  mAP50-95):  50%|█████     | 2/4 [00:21<00:22, 11.03s/it]"
     ]
    },
    {
     "name": "stdout",
     "output_type": "stream",
     "text": [
      "WARNING ⚠️ NMS time limit 3.600s exceeded\n"
     ]
    },
    {
     "name": "stderr",
     "output_type": "stream",
     "text": [
      "                 Class     Images  Instances      Box(P          R      mAP50  mAP50-95):  75%|███████▌  | 3/4 [00:31<00:10, 10.36s/it]"
     ]
    },
    {
     "name": "stdout",
     "output_type": "stream",
     "text": [
      "WARNING ⚠️ NMS time limit 3.600s exceeded\n"
     ]
    },
    {
     "name": "stderr",
     "output_type": "stream",
     "text": [
      "                 Class     Images  Instances      Box(P          R      mAP50  mAP50-95): 100%|██████████| 4/4 [00:39<00:00,  9.78s/it]\n"
     ]
    },
    {
     "name": "stdout",
     "output_type": "stream",
     "text": [
      "                   all        128        929      0.536     0.0413     0.0481     0.0328\n",
      "\n",
      "25 epochs completed in 0.742 hours.\n",
      "Optimizer stripped from runs/detect/train14/weights/last.pt, 22.6MB\n",
      "Optimizer stripped from runs/detect/train14/weights/best.pt, 22.6MB\n",
      "\n",
      "Validating runs/detect/train14/weights/best.pt...\n",
      "Ultralytics YOLOv8.1.43 🚀 Python-3.9.6 torch-2.2.0 MPS (Apple M3 Pro)\n",
      "Model summary (fused): 168 layers, 11156544 parameters, 0 gradients, 28.6 GFLOPs\n"
     ]
    },
    {
     "name": "stderr",
     "output_type": "stream",
     "text": [
      "                 Class     Images  Instances      Box(P          R      mAP50  mAP50-95):   0%|          | 0/4 [00:00<?, ?it/s]"
     ]
    },
    {
     "name": "stdout",
     "output_type": "stream",
     "text": [
      "WARNING ⚠️ NMS time limit 3.600s exceeded\n"
     ]
    },
    {
     "name": "stderr",
     "output_type": "stream",
     "text": [
      "                 Class     Images  Instances      Box(P          R      mAP50  mAP50-95):  25%|██▌       | 1/4 [00:25<01:16, 25.65s/it]"
     ]
    },
    {
     "name": "stdout",
     "output_type": "stream",
     "text": [
      "WARNING ⚠️ NMS time limit 3.600s exceeded\n"
     ]
    },
    {
     "name": "stderr",
     "output_type": "stream",
     "text": [
      "                 Class     Images  Instances      Box(P          R      mAP50  mAP50-95):  50%|█████     | 2/4 [00:44<00:43, 21.73s/it]"
     ]
    },
    {
     "name": "stdout",
     "output_type": "stream",
     "text": [
      "WARNING ⚠️ NMS time limit 3.600s exceeded\n"
     ]
    },
    {
     "name": "stderr",
     "output_type": "stream",
     "text": [
      "                 Class     Images  Instances      Box(P          R      mAP50  mAP50-95):  75%|███████▌  | 3/4 [01:00<00:18, 18.82s/it]"
     ]
    },
    {
     "name": "stdout",
     "output_type": "stream",
     "text": [
      "WARNING ⚠️ NMS time limit 3.600s exceeded\n"
     ]
    },
    {
     "name": "stderr",
     "output_type": "stream",
     "text": [
      "                 Class     Images  Instances      Box(P          R      mAP50  mAP50-95): 100%|██████████| 4/4 [01:23<00:00, 20.84s/it]\n"
     ]
    },
    {
     "name": "stdout",
     "output_type": "stream",
     "text": [
      "                   all        128        929      0.629     0.0509     0.0591     0.0361\n",
      "                person        128        254      0.833      0.146      0.186      0.131\n",
      "               bicycle        128          6          0          0          0          0\n",
      "                   car        128         46          1          0     0.0101    0.00101\n",
      "            motorcycle        128          5      0.859        0.6      0.606      0.445\n",
      "              airplane        128          6          0          0          0          0\n",
      "                   bus        128          7          0          0          0          0\n",
      "                 train        128          3          0          0          0          0\n",
      "                 truck        128         12          1          0          0          0\n",
      "                  boat        128          6          1          0          0          0\n",
      "         traffic light        128         14          1          0          0          0\n",
      "             stop sign        128          2          0          0          0          0\n",
      "                 bench        128          9          1          0          0          0\n",
      "                  bird        128         16          1          0          0          0\n",
      "                   cat        128          4          0          0          0          0\n",
      "                   dog        128          9          1          0          0          0\n",
      "                 horse        128          2          1          0          0          0\n",
      "              elephant        128         17      0.881      0.529      0.545      0.472\n",
      "                  bear        128          1          1          0          0          0\n",
      "                 zebra        128          4          1          0          0          0\n",
      "               giraffe        128          9          1          0          0          0\n",
      "              backpack        128          6          1          0          0          0\n",
      "              umbrella        128         18          1          0          0          0\n",
      "               handbag        128         19      0.668     0.0526     0.0774     0.0774\n",
      "                   tie        128          7      0.607      0.143      0.252      0.176\n",
      "              suitcase        128          4          1          0          0          0\n",
      "               frisbee        128          5          0          0          0          0\n",
      "                  skis        128          1          0          0          0          0\n",
      "             snowboard        128          7          1          0          0          0\n",
      "           sports ball        128          6      0.646      0.167      0.197     0.0986\n",
      "                  kite        128         10      0.577        0.3      0.433      0.194\n",
      "          baseball bat        128          4      0.996        0.5      0.518     0.0989\n",
      "        baseball glove        128          7      0.643      0.143      0.178     0.0711\n",
      "            skateboard        128          5          1          0          0          0\n",
      "         tennis racket        128          7      0.338      0.143      0.151     0.0756\n",
      "                bottle        128         18          1          0          0          0\n",
      "            wine glass        128         16          1          0          0          0\n",
      "                   cup        128         36          1     0.0946      0.164      0.135\n",
      "                  fork        128          6          1          0     0.0539     0.0304\n",
      "                 knife        128         16      0.344     0.0625     0.0547     0.0219\n",
      "                 spoon        128         22          1          0          0          0\n",
      "                  bowl        128         28      0.828     0.0357     0.0634     0.0507\n",
      "                banana        128          1          0          0          0          0\n",
      "              sandwich        128          2          1          0          0          0\n",
      "                orange        128          4          0          0          0          0\n",
      "              broccoli        128         11          0          0          0          0\n",
      "                carrot        128         24          0          0          0          0\n",
      "               hot dog        128          2          0          0          0          0\n",
      "                 pizza        128          5      0.361        0.2      0.226      0.181\n",
      "                 donut        128         14          1          0          0          0\n",
      "                  cake        128          4          1          0          0          0\n",
      "                 chair        128         35      0.392      0.343      0.235      0.132\n",
      "                 couch        128          6          0          0          0          0\n",
      "          potted plant        128         14          1          0          0          0\n",
      "                   bed        128          3          0          0          0          0\n",
      "          dining table        128         13      0.657      0.154      0.183      0.128\n",
      "                toilet        128          2          1          0          0          0\n",
      "                    tv        128          2          0          0          0          0\n",
      "                laptop        128          3          1          0          0          0\n",
      "                 mouse        128          2          0          0          0          0\n",
      "                remote        128          8          1          0          0          0\n",
      "            cell phone        128          8          1          0          0          0\n",
      "             microwave        128          3          0          0          0          0\n",
      "                  oven        128          5          0          0          0          0\n",
      "                  sink        128          6          0          0     0.0655     0.0459\n",
      "          refrigerator        128          5          1          0          0          0\n",
      "                  book        128         29          1          0          0          0\n",
      "                 clock        128          9          1          0          0          0\n",
      "                  vase        128          2          1          0          0          0\n",
      "              scissors        128          1          0          0          0          0\n",
      "            teddy bear        128         21          1          0          0          0\n",
      "            toothbrush        128          5          1          0          0          0\n",
      "Speed: 14.9ms preprocess, 218.0ms inference, 0.0ms loss, 128.9ms postprocess per image\n",
      "Results saved to \u001b[1mruns/detect/train14\u001b[0m\n"
     ]
    }
   ],
   "source": [
    "from ultralytics import YOLO\n",
    "\n",
    "# Loading a pretrained model (recommended for training)\n",
    "model = YOLO('yolov8s.pt') \n",
    "\n",
    "# Training the model on coco128 dataset\n",
    "# mps device for Apple silicon\n",
    "# !!! My path is different in the 'coco128.yaml' file !!! \n",
    "# coco128 dataset is in the 'coco128.zip' file\n",
    "results = model.train(data='coco128.yaml', epochs=25, device='mps', imgsz=640)"
   ]
  },
  {
   "cell_type": "code",
   "execution_count": 2,
   "metadata": {},
   "outputs": [
    {
     "name": "stdout",
     "output_type": "stream",
     "text": [
      "Ultralytics YOLOv8.1.43 🚀 Python-3.9.6 torch-2.2.0 MPS (Apple M3 Pro)\n",
      "Model summary (fused): 168 layers, 11156544 parameters, 0 gradients, 28.6 GFLOPs\n"
     ]
    },
    {
     "name": "stderr",
     "output_type": "stream",
     "text": [
      "\u001b[34m\u001b[1mval: \u001b[0mScanning /Users/liru/Documents/Computer Vision/YOLO Project/coco128/labels/train2017.cache... 126 images, 2 backgrounds, 0 corrupt: 100%|██████████| 128/128 [00:00<?, ?it/s]\n",
      "                 Class     Images  Instances      Box(P          R      mAP50  mAP50-95):   0%|          | 0/8 [00:00<?, ?it/s]"
     ]
    },
    {
     "name": "stdout",
     "output_type": "stream",
     "text": [
      "WARNING ⚠️ NMS time limit 2.800s exceeded\n"
     ]
    },
    {
     "name": "stderr",
     "output_type": "stream",
     "text": [
      "                 Class     Images  Instances      Box(P          R      mAP50  mAP50-95):  12%|█▎        | 1/8 [00:38<04:27, 38.16s/it]"
     ]
    },
    {
     "name": "stdout",
     "output_type": "stream",
     "text": [
      "WARNING ⚠️ NMS time limit 2.800s exceeded\n"
     ]
    },
    {
     "name": "stderr",
     "output_type": "stream",
     "text": [
      "                 Class     Images  Instances      Box(P          R      mAP50  mAP50-95):  25%|██▌       | 2/8 [00:46<02:03, 20.63s/it]"
     ]
    },
    {
     "name": "stdout",
     "output_type": "stream",
     "text": [
      "WARNING ⚠️ NMS time limit 2.800s exceeded\n"
     ]
    },
    {
     "name": "stderr",
     "output_type": "stream",
     "text": [
      "                 Class     Images  Instances      Box(P          R      mAP50  mAP50-95):  38%|███▊      | 3/8 [01:15<02:03, 24.64s/it]"
     ]
    },
    {
     "name": "stdout",
     "output_type": "stream",
     "text": [
      "WARNING ⚠️ NMS time limit 2.800s exceeded\n"
     ]
    },
    {
     "name": "stderr",
     "output_type": "stream",
     "text": [
      "                 Class     Images  Instances      Box(P          R      mAP50  mAP50-95):  50%|█████     | 4/8 [01:24<01:13, 18.47s/it]"
     ]
    },
    {
     "name": "stdout",
     "output_type": "stream",
     "text": [
      "WARNING ⚠️ NMS time limit 2.800s exceeded\n"
     ]
    },
    {
     "name": "stderr",
     "output_type": "stream",
     "text": [
      "                 Class     Images  Instances      Box(P          R      mAP50  mAP50-95):  62%|██████▎   | 5/8 [01:34<00:45, 15.28s/it]"
     ]
    },
    {
     "name": "stdout",
     "output_type": "stream",
     "text": [
      "WARNING ⚠️ NMS time limit 2.800s exceeded\n"
     ]
    },
    {
     "name": "stderr",
     "output_type": "stream",
     "text": [
      "                 Class     Images  Instances      Box(P          R      mAP50  mAP50-95):  75%|███████▌  | 6/8 [02:06<00:41, 20.99s/it]"
     ]
    },
    {
     "name": "stdout",
     "output_type": "stream",
     "text": [
      "WARNING ⚠️ NMS time limit 2.800s exceeded\n"
     ]
    },
    {
     "name": "stderr",
     "output_type": "stream",
     "text": [
      "                 Class     Images  Instances      Box(P          R      mAP50  mAP50-95):  88%|████████▊ | 7/8 [02:33<00:22, 22.81s/it]"
     ]
    },
    {
     "name": "stdout",
     "output_type": "stream",
     "text": [
      "WARNING ⚠️ NMS time limit 2.800s exceeded\n"
     ]
    },
    {
     "name": "stderr",
     "output_type": "stream",
     "text": [
      "                 Class     Images  Instances      Box(P          R      mAP50  mAP50-95): 100%|██████████| 8/8 [02:59<00:00, 22.46s/it]\n"
     ]
    },
    {
     "name": "stdout",
     "output_type": "stream",
     "text": [
      "                   all        128        929      0.706     0.0579     0.0684     0.0473\n",
      "                person        128        254      0.928      0.154        0.2      0.156\n",
      "               bicycle        128          6          1          0          0          0\n",
      "                   car        128         46          1          0          0          0\n",
      "            motorcycle        128          5      0.803        0.4      0.414      0.331\n",
      "              airplane        128          6          0          0          0          0\n",
      "                   bus        128          7          0          0          0          0\n",
      "                 train        128          3          0          0          0          0\n",
      "                 truck        128         12          1          0          0          0\n",
      "                  boat        128          6          0          0          0          0\n",
      "         traffic light        128         14          0          0          0          0\n",
      "             stop sign        128          2          0          0          0          0\n",
      "                 bench        128          9          1      0.217      0.319      0.181\n",
      "                  bird        128         16          1          0          0          0\n",
      "                   cat        128          4          0          0          0          0\n",
      "                   dog        128          9          1          0          0          0\n",
      "                 horse        128          2          1          0          0          0\n",
      "              elephant        128         17      0.884      0.529      0.545      0.469\n",
      "                  bear        128          1          1          0          0          0\n",
      "                 zebra        128          4          1          0          0          0\n",
      "               giraffe        128          9          1          0          0          0\n",
      "              backpack        128          6          1          0          0          0\n",
      "              umbrella        128         18      0.418     0.0556      0.124      0.113\n",
      "               handbag        128         19      0.422     0.0526     0.0926     0.0563\n",
      "                   tie        128          7          1          0          0          0\n",
      "              suitcase        128          4          1          0          0          0\n",
      "               frisbee        128          5          1          0          0          0\n",
      "                  skis        128          1          0          0          0          0\n",
      "             snowboard        128          7          0          0          0          0\n",
      "           sports ball        128          6      0.457      0.333      0.367      0.257\n",
      "                  kite        128         10          1          0          0          0\n",
      "          baseball bat        128          4          1      0.487      0.523     0.0944\n",
      "        baseball glove        128          7      0.612      0.143      0.165     0.0661\n",
      "            skateboard        128          5          1          0          0          0\n",
      "         tennis racket        128          7          1          0          0          0\n",
      "                bottle        128         18          1          0          0          0\n",
      "            wine glass        128         16          1          0          0          0\n",
      "                   cup        128         36          1      0.106      0.168       0.14\n",
      "                  fork        128          6          1          0      0.043     0.0156\n",
      "                 knife        128         16      0.513      0.125      0.127     0.0945\n",
      "                 spoon        128         22      0.551     0.0455     0.0621     0.0559\n",
      "                  bowl        128         28      0.803     0.0357     0.0424     0.0339\n",
      "                banana        128          1          1          0          0          0\n",
      "              sandwich        128          2          1          0          0          0\n",
      "                orange        128          4          1          0          0          0\n",
      "              broccoli        128         11          0          0          0          0\n",
      "                carrot        128         24          0          0          0          0\n",
      "               hot dog        128          2          1          0          0          0\n",
      "                 pizza        128          5      0.406        0.2       0.22      0.176\n",
      "                 donut        128         14          1          0          0          0\n",
      "                  cake        128          4      0.606       0.25      0.321      0.289\n",
      "                 chair        128         35      0.461     0.0505     0.0662     0.0305\n",
      "                 couch        128          6          0          0          0          0\n",
      "          potted plant        128         14      0.369     0.0714     0.0824     0.0495\n",
      "                   bed        128          3          1          0          0          0\n",
      "          dining table        128         13      0.793      0.308      0.324      0.251\n",
      "                toilet        128          2          1          0          0          0\n",
      "                    tv        128          2          1          0          0          0\n",
      "                laptop        128          3          1          0          0          0\n",
      "                 mouse        128          2          1          0          0          0\n",
      "                remote        128          8          1          0          0          0\n",
      "            cell phone        128          8          1          0          0          0\n",
      "             microwave        128          3          1          0          0          0\n",
      "                  oven        128          5      0.612        0.2      0.208      0.125\n",
      "                  sink        128          6          0          0     0.0233     0.0163\n",
      "          refrigerator        128          5      0.299        0.2      0.211      0.211\n",
      "                  book        128         29      0.593     0.0345     0.0465     0.0279\n",
      "                 clock        128          9      0.613      0.111      0.164      0.115\n",
      "                  vase        128          2          1          0          0          0\n",
      "              scissors        128          1          1          0          0          0\n",
      "            teddy bear        128         21          1          0          0          0\n",
      "            toothbrush        128          5          1          0          0          0\n",
      "Speed: 29.2ms preprocess, 879.7ms inference, 0.0ms loss, 243.4ms postprocess per image\n",
      "Results saved to \u001b[1mruns/detect/val2\u001b[0m\n"
     ]
    }
   ],
   "source": [
    "from ultralytics import YOLO\n",
    "\n",
    "# Loading the trained model (best weight)\n",
    "model = YOLO(\"runs/detect/train14/weights/best.pt\")\n",
    "\n",
    "# Validate the model\n",
    "results = model.val(data='coco128.yaml', device='mps')"
   ]
  },
  {
   "cell_type": "code",
   "execution_count": 3,
   "metadata": {},
   "outputs": [
    {
     "data": {
      "image/png": "[encoded data removed]",
      "text/plain": [
       "<IPython.core.display.Image object>"
      ]
     },
     "execution_count": 3,
     "metadata": {
      "image/png": {
       "width": 600
      }
     },
     "output_type": "execute_result"
    }
   ],
   "source": [
    "from IPython.display import display, Image\n",
    "from IPython import display\n",
    "Image(filename=f'runs/detect/train14/results.png', width=600)"
   ]
  },
  {
   "cell_type": "code",
   "execution_count": 1,
   "metadata": {},
   "outputs": [
    {
     "name": "stderr",
     "output_type": "stream",
     "text": [
      "/Users/liru/Library/Python/3.9/lib/python/site-packages/urllib3/__init__.py:34: NotOpenSSLWarning: urllib3 v2 only supports OpenSSL 1.1.1+, currently the 'ssl' module is compiled with 'LibreSSL 2.8.3'. See: https://github.com/urllib3/urllib3/issues/3020\n",
      "  warnings.warn(\n",
      "2024-04-06 20:56:45.251 Python[36107:2405551] WARNING: Secure coding is automatically enabled for restorable state! However, not on all supported macOS versions of this application. Opt-in to secure coding explicitly by implementing NSApplicationDelegate.applicationSupportsSecureRestorableState:.\n"
     ]
    },
    {
     "name": "stdout",
     "output_type": "stream",
     "text": [
      "\n",
      "\n",
      "WARNING ⚠️ inference results will accumulate in RAM unless `stream=True` is passed, causing potential out-of-memory\n",
      "errors for large sources or long-running streams and videos. See https://docs.ultralytics.com/modes/predict/ for help.\n",
      "\n",
      "Example:\n",
      "    results = model(source=..., stream=True)  # generator of Results objects\n",
      "    for r in results:\n",
      "        boxes = r.boxes  # Boxes object for bbox outputs\n",
      "        masks = r.masks  # Masks object for segment masks outputs\n",
      "        probs = r.probs  # Class probabilities for classification outputs\n",
      "\n",
      "video 1/1 (frame 1/6950) /Users/liru/Documents/Computer Vision/YOLO Project/house-tour.mp4: 384x640 1 potted plant, 190.4ms\n",
      "video 1/1 (frame 2/6950) /Users/liru/Documents/Computer Vision/YOLO Project/house-tour.mp4: 384x640 1 potted plant, 18.2ms\n",
      "video 1/1 (frame 3/6950) /Users/liru/Documents/Computer Vision/YOLO Project/house-tour.mp4: 384x640 1 potted plant, 14.1ms\n",
      "video 1/1 (frame 4/6950) /Users/liru/Documents/Computer Vision/YOLO Project/house-tour.mp4: 384x640 1 potted plant, 12.3ms\n",
      "video 1/1 (frame 5/6950) /Users/liru/Documents/Computer Vision/YOLO Project/house-tour.mp4: 384x640 1 potted plant, 10.7ms\n",
      "video 1/1 (frame 6/6950) /Users/liru/Documents/Computer Vision/YOLO Project/house-tour.mp4: 384x640 1 potted plant, 11.6ms\n",
      "video 1/1 (frame 7/6950) /Users/liru/Documents/Computer Vision/YOLO Project/house-tour.mp4: 384x640 1 potted plant, 11.9ms\n",
      "video 1/1 (frame 8/6950) /Users/liru/Documents/Computer Vision/YOLO Project/house-tour.mp4: 384x640 1 potted plant, 14.2ms\n",
      "video 1/1 (frame 9/6950) /Users/liru/Documents/Computer Vision/YOLO Project/house-tour.mp4: 384x640 1 potted plant, 15.2ms\n",
      "video 1/1 (frame 10/6950) /Users/liru/Documents/Computer Vision/YOLO Project/house-tour.mp4: 384x640 1 bench, 1 potted plant, 17.2ms\n",
      "video 1/1 (frame 11/6950) /Users/liru/Documents/Computer Vision/YOLO Project/house-tour.mp4: 384x640 1 potted plant, 19.0ms\n",
      "video 1/1 (frame 12/6950) /Users/liru/Documents/Computer Vision/YOLO Project/house-tour.mp4: 384x640 1 potted plant, 12.2ms\n",
      "video 1/1 (frame 13/6950) /Users/liru/Documents/Computer Vision/YOLO Project/house-tour.mp4: 384x640 1 potted plant, 16.7ms\n",
      "video 1/1 (frame 14/6950) /Users/liru/Documents/Computer Vision/YOLO Project/house-tour.mp4: 384x640 1 bench, 1 potted plant, 12.0ms\n",
      "video 1/1 (frame 15/6950) /Users/liru/Documents/Computer Vision/YOLO Project/house-tour.mp4: 384x640 1 bench, 11.1ms\n",
      "video 1/1 (frame 16/6950) /Users/liru/Documents/Computer Vision/YOLO Project/house-tour.mp4: 384x640 (no detections), 10.6ms\n",
      "video 1/1 (frame 17/6950) /Users/liru/Documents/Computer Vision/YOLO Project/house-tour.mp4: 384x640 (no detections), 10.8ms\n",
      "video 1/1 (frame 18/6950) /Users/liru/Documents/Computer Vision/YOLO Project/house-tour.mp4: 384x640 (no detections), 10.7ms\n",
      "video 1/1 (frame 19/6950) /Users/liru/Documents/Computer Vision/YOLO Project/house-tour.mp4: 384x640 (no detections), 12.3ms\n",
      "video 1/1 (frame 20/6950) /Users/liru/Documents/Computer Vision/YOLO Project/house-tour.mp4: 384x640 (no detections), 14.1ms\n",
      "video 1/1 (frame 21/6950) /Users/liru/Documents/Computer Vision/YOLO Project/house-tour.mp4: 384x640 (no detections), 12.9ms\n",
      "video 1/1 (frame 22/6950) /Users/liru/Documents/Computer Vision/YOLO Project/house-tour.mp4: 384x640 (no detections), 13.1ms\n",
      "video 1/1 (frame 23/6950) /Users/liru/Documents/Computer Vision/YOLO Project/house-tour.mp4: 384x640 1 chair, 11.9ms\n",
      "video 1/1 (frame 24/6950) /Users/liru/Documents/Computer Vision/YOLO Project/house-tour.mp4: 384x640 (no detections), 10.8ms\n",
      "video 1/1 (frame 25/6950) /Users/liru/Documents/Computer Vision/YOLO Project/house-tour.mp4: 384x640 (no detections), 10.1ms\n",
      "video 1/1 (frame 26/6950) /Users/liru/Documents/Computer Vision/YOLO Project/house-tour.mp4: 384x640 (no detections), 10.4ms\n",
      "video 1/1 (frame 27/6950) /Users/liru/Documents/Computer Vision/YOLO Project/house-tour.mp4: 384x640 (no detections), 11.0ms\n",
      "video 1/1 (frame 28/6950) /Users/liru/Documents/Computer Vision/YOLO Project/house-tour.mp4: 384x640 (no detections), 11.5ms\n",
      "video 1/1 (frame 29/6950) /Users/liru/Documents/Computer Vision/YOLO Project/house-tour.mp4: 384x640 (no detections), 10.8ms\n",
      "video 1/1 (frame 30/6950) /Users/liru/Documents/Computer Vision/YOLO Project/house-tour.mp4: 384x640 (no detections), 11.7ms\n",
      "video 1/1 (frame 31/6950) /Users/liru/Documents/Computer Vision/YOLO Project/house-tour.mp4: 384x640 1 chair, 10.7ms\n",
      "video 1/1 (frame 32/6950) /Users/liru/Documents/Computer Vision/YOLO Project/house-tour.mp4: 384x640 (no detections), 11.6ms\n",
      "video 1/1 (frame 33/6950) /Users/liru/Documents/Computer Vision/YOLO Project/house-tour.mp4: 384x640 (no detections), 12.8ms\n",
      "video 1/1 (frame 34/6950) /Users/liru/Documents/Computer Vision/YOLO Project/house-tour.mp4: 384x640 1 chair, 14.0ms\n",
      "video 1/1 (frame 35/6950) /Users/liru/Documents/Computer Vision/YOLO Project/house-tour.mp4: 384x640 (no detections), 12.7ms\n",
      "video 1/1 (frame 36/6950) /Users/liru/Documents/Computer Vision/YOLO Project/house-tour.mp4: 384x640 (no detections), 11.6ms\n",
      "video 1/1 (frame 37/6950) /Users/liru/Documents/Computer Vision/YOLO Project/house-tour.mp4: 384x640 (no detections), 12.6ms\n",
      "video 1/1 (frame 38/6950) /Users/liru/Documents/Computer Vision/YOLO Project/house-tour.mp4: 384x640 (no detections), 12.9ms\n",
      "video 1/1 (frame 39/6950) /Users/liru/Documents/Computer Vision/YOLO Project/house-tour.mp4: 384x640 (no detections), 11.4ms\n",
      "video 1/1 (frame 40/6950) /Users/liru/Documents/Computer Vision/YOLO Project/house-tour.mp4: 384x640 (no detections), 10.6ms\n",
      "video 1/1 (frame 41/6950) /Users/liru/Documents/Computer Vision/YOLO Project/house-tour.mp4: 384x640 (no detections), 10.7ms\n",
      "video 1/1 (frame 42/6950) /Users/liru/Documents/Computer Vision/YOLO Project/house-tour.mp4: 384x640 (no detections), 10.5ms\n",
      "video 1/1 (frame 43/6950) /Users/liru/Documents/Computer Vision/YOLO Project/house-tour.mp4: 384x640 (no detections), 10.2ms\n",
      "video 1/1 (frame 44/6950) /Users/liru/Documents/Computer Vision/YOLO Project/house-tour.mp4: 384x640 (no detections), 10.1ms\n",
      "video 1/1 (frame 45/6950) /Users/liru/Documents/Computer Vision/YOLO Project/house-tour.mp4: 384x640 (no detections), 10.7ms\n",
      "video 1/1 (frame 46/6950) /Users/liru/Documents/Computer Vision/YOLO Project/house-tour.mp4: 384x640 (no detections), 10.5ms\n",
      "video 1/1 (frame 47/6950) /Users/liru/Documents/Computer Vision/YOLO Project/house-tour.mp4: 384x640 (no detections), 10.7ms\n",
      "video 1/1 (frame 48/6950) /Users/liru/Documents/Computer Vision/YOLO Project/house-tour.mp4: 384x640 (no detections), 10.3ms\n",
      "video 1/1 (frame 49/6950) /Users/liru/Documents/Computer Vision/YOLO Project/house-tour.mp4: 384x640 (no detections), 10.7ms\n",
      "video 1/1 (frame 50/6950) /Users/liru/Documents/Computer Vision/YOLO Project/house-tour.mp4: 384x640 (no detections), 11.1ms\n",
      "video 1/1 (frame 51/6950) /Users/liru/Documents/Computer Vision/YOLO Project/house-tour.mp4: 384x640 (no detections), 11.7ms\n",
      "video 1/1 (frame 52/6950) /Users/liru/Documents/Computer Vision/YOLO Project/house-tour.mp4: 384x640 (no detections), 11.2ms\n",
      "video 1/1 (frame 53/6950) /Users/liru/Documents/Computer Vision/YOLO Project/house-tour.mp4: 384x640 (no detections), 12.3ms\n",
      "video 1/1 (frame 54/6950) /Users/liru/Documents/Computer Vision/YOLO Project/house-tour.mp4: 384x640 (no detections), 11.5ms\n",
      "video 1/1 (frame 55/6950) /Users/liru/Documents/Computer Vision/YOLO Project/house-tour.mp4: 384x640 (no detections), 12.5ms\n",
      "video 1/1 (frame 56/6950) /Users/liru/Documents/Computer Vision/YOLO Project/house-tour.mp4: 384x640 (no detections), 12.7ms\n",
      "video 1/1 (frame 57/6950) /Users/liru/Documents/Computer Vision/YOLO Project/house-tour.mp4: 384x640 (no detections), 11.7ms\n",
      "video 1/1 (frame 58/6950) /Users/liru/Documents/Computer Vision/YOLO Project/house-tour.mp4: 384x640 (no detections), 10.6ms\n",
      "video 1/1 (frame 59/6950) /Users/liru/Documents/Computer Vision/YOLO Project/house-tour.mp4: 384x640 (no detections), 10.4ms\n",
      "video 1/1 (frame 60/6950) /Users/liru/Documents/Computer Vision/YOLO Project/house-tour.mp4: 384x640 (no detections), 11.0ms\n",
      "video 1/1 (frame 61/6950) /Users/liru/Documents/Computer Vision/YOLO Project/house-tour.mp4: 384x640 1 potted plant, 10.2ms\n",
      "video 1/1 (frame 62/6950) /Users/liru/Documents/Computer Vision/YOLO Project/house-tour.mp4: 384x640 1 potted plant, 10.8ms\n",
      "video 1/1 (frame 63/6950) /Users/liru/Documents/Computer Vision/YOLO Project/house-tour.mp4: 384x640 1 potted plant, 11.6ms\n",
      "video 1/1 (frame 64/6950) /Users/liru/Documents/Computer Vision/YOLO Project/house-tour.mp4: 384x640 (no detections), 14.4ms\n",
      "video 1/1 (frame 65/6950) /Users/liru/Documents/Computer Vision/YOLO Project/house-tour.mp4: 384x640 (no detections), 13.5ms\n",
      "video 1/1 (frame 66/6950) /Users/liru/Documents/Computer Vision/YOLO Project/house-tour.mp4: 384x640 (no detections), 12.4ms\n",
      "video 1/1 (frame 67/6950) /Users/liru/Documents/Computer Vision/YOLO Project/house-tour.mp4: 384x640 1 potted plant, 13.1ms\n",
      "video 1/1 (frame 68/6950) /Users/liru/Documents/Computer Vision/YOLO Project/house-tour.mp4: 384x640 1 potted plant, 11.7ms\n",
      "video 1/1 (frame 69/6950) /Users/liru/Documents/Computer Vision/YOLO Project/house-tour.mp4: 384x640 1 potted plant, 11.9ms\n",
      "video 1/1 (frame 70/6950) /Users/liru/Documents/Computer Vision/YOLO Project/house-tour.mp4: 384x640 1 potted plant, 11.3ms\n",
      "video 1/1 (frame 71/6950) /Users/liru/Documents/Computer Vision/YOLO Project/house-tour.mp4: 384x640 (no detections), 10.8ms\n",
      "video 1/1 (frame 72/6950) /Users/liru/Documents/Computer Vision/YOLO Project/house-tour.mp4: 384x640 1 potted plant, 1 vase, 10.8ms\n",
      "video 1/1 (frame 73/6950) /Users/liru/Documents/Computer Vision/YOLO Project/house-tour.mp4: 384x640 1 potted plant, 10.6ms\n",
      "video 1/1 (frame 74/6950) /Users/liru/Documents/Computer Vision/YOLO Project/house-tour.mp4: 384x640 2 potted plants, 10.9ms\n",
      "video 1/1 (frame 75/6950) /Users/liru/Documents/Computer Vision/YOLO Project/house-tour.mp4: 384x640 2 potted plants, 11.7ms\n",
      "video 1/1 (frame 76/6950) /Users/liru/Documents/Computer Vision/YOLO Project/house-tour.mp4: 384x640 1 potted plant, 14.6ms\n",
      "video 1/1 (frame 77/6950) /Users/liru/Documents/Computer Vision/YOLO Project/house-tour.mp4: 384x640 1 potted plant, 14.2ms\n",
      "video 1/1 (frame 78/6950) /Users/liru/Documents/Computer Vision/YOLO Project/house-tour.mp4: 384x640 1 potted plant, 12.4ms\n",
      "video 1/1 (frame 79/6950) /Users/liru/Documents/Computer Vision/YOLO Project/house-tour.mp4: 384x640 1 potted plant, 11.2ms\n",
      "video 1/1 (frame 80/6950) /Users/liru/Documents/Computer Vision/YOLO Project/house-tour.mp4: 384x640 1 person, 1 potted plant, 10.9ms\n",
      "video 1/1 (frame 81/6950) /Users/liru/Documents/Computer Vision/YOLO Project/house-tour.mp4: 384x640 2 persons, 2 potted plants, 10.4ms\n",
      "video 1/1 (frame 82/6950) /Users/liru/Documents/Computer Vision/YOLO Project/house-tour.mp4: 384x640 2 persons, 3 potted plants, 11.1ms\n",
      "video 1/1 (frame 83/6950) /Users/liru/Documents/Computer Vision/YOLO Project/house-tour.mp4: 384x640 1 person, 3 potted plants, 18.5ms\n",
      "video 1/1 (frame 84/6950) /Users/liru/Documents/Computer Vision/YOLO Project/house-tour.mp4: 384x640 1 person, 4 potted plants, 11.8ms\n",
      "video 1/1 (frame 85/6950) /Users/liru/Documents/Computer Vision/YOLO Project/house-tour.mp4: 384x640 1 person, 3 potted plants, 13.5ms\n",
      "video 1/1 (frame 86/6950) /Users/liru/Documents/Computer Vision/YOLO Project/house-tour.mp4: 384x640 1 person, 3 potted plants, 14.0ms\n",
      "video 1/1 (frame 87/6950) /Users/liru/Documents/Computer Vision/YOLO Project/house-tour.mp4: 384x640 1 person, 3 potted plants, 13.2ms\n",
      "video 1/1 (frame 88/6950) /Users/liru/Documents/Computer Vision/YOLO Project/house-tour.mp4: 384x640 1 person, 3 potted plants, 11.7ms\n",
      "video 1/1 (frame 89/6950) /Users/liru/Documents/Computer Vision/YOLO Project/house-tour.mp4: 384x640 1 person, 3 potted plants, 12.6ms\n",
      "video 1/1 (frame 90/6950) /Users/liru/Documents/Computer Vision/YOLO Project/house-tour.mp4: 384x640 1 person, 2 potted plants, 11.6ms\n",
      "video 1/1 (frame 91/6950) /Users/liru/Documents/Computer Vision/YOLO Project/house-tour.mp4: 384x640 1 person, 3 potted plants, 12.1ms\n",
      "video 1/1 (frame 92/6950) /Users/liru/Documents/Computer Vision/YOLO Project/house-tour.mp4: 384x640 1 person, 3 potted plants, 12.1ms\n",
      "video 1/1 (frame 93/6950) /Users/liru/Documents/Computer Vision/YOLO Project/house-tour.mp4: 384x640 1 person, 4 potted plants, 12.9ms\n",
      "video 1/1 (frame 94/6950) /Users/liru/Documents/Computer Vision/YOLO Project/house-tour.mp4: 384x640 1 person, 4 potted plants, 14.8ms\n",
      "video 1/1 (frame 95/6950) /Users/liru/Documents/Computer Vision/YOLO Project/house-tour.mp4: 384x640 1 person, 4 potted plants, 16.5ms\n",
      "video 1/1 (frame 96/6950) /Users/liru/Documents/Computer Vision/YOLO Project/house-tour.mp4: 384x640 1 person, 4 potted plants, 16.6ms\n",
      "video 1/1 (frame 97/6950) /Users/liru/Documents/Computer Vision/YOLO Project/house-tour.mp4: 384x640 1 person, 4 potted plants, 11.2ms\n",
      "video 1/1 (frame 98/6950) /Users/liru/Documents/Computer Vision/YOLO Project/house-tour.mp4: 384x640 1 person, 4 potted plants, 10.7ms\n",
      "video 1/1 (frame 99/6950) /Users/liru/Documents/Computer Vision/YOLO Project/house-tour.mp4: 384x640 1 person, 4 potted plants, 11.7ms\n",
      "video 1/1 (frame 100/6950) /Users/liru/Documents/Computer Vision/YOLO Project/house-tour.mp4: 384x640 1 person, 4 potted plants, 56.5ms\n",
      "video 1/1 (frame 101/6950) /Users/liru/Documents/Computer Vision/YOLO Project/house-tour.mp4: 384x640 1 person, 4 potted plants, 17.0ms\n",
      "video 1/1 (frame 102/6950) /Users/liru/Documents/Computer Vision/YOLO Project/house-tour.mp4: 384x640 1 person, 4 potted plants, 11.2ms\n",
      "video 1/1 (frame 103/6950) /Users/liru/Documents/Computer Vision/YOLO Project/house-tour.mp4: 384x640 1 person, 4 potted plants, 12.8ms\n",
      "video 1/1 (frame 104/6950) /Users/liru/Documents/Computer Vision/YOLO Project/house-tour.mp4: 384x640 1 person, 3 potted plants, 15.2ms\n",
      "video 1/1 (frame 105/6950) /Users/liru/Documents/Computer Vision/YOLO Project/house-tour.mp4: 384x640 1 person, 3 potted plants, 15.3ms\n",
      "video 1/1 (frame 106/6950) /Users/liru/Documents/Computer Vision/YOLO Project/house-tour.mp4: 384x640 1 person, 3 potted plants, 17.2ms\n",
      "video 1/1 (frame 107/6950) /Users/liru/Documents/Computer Vision/YOLO Project/house-tour.mp4: 384x640 1 person, 3 potted plants, 12.3ms\n",
      "video 1/1 (frame 108/6950) /Users/liru/Documents/Computer Vision/YOLO Project/house-tour.mp4: 384x640 1 person, 3 potted plants, 11.3ms\n",
      "video 1/1 (frame 109/6950) /Users/liru/Documents/Computer Vision/YOLO Project/house-tour.mp4: 384x640 1 person, 3 potted plants, 10.6ms\n",
      "video 1/1 (frame 110/6950) /Users/liru/Documents/Computer Vision/YOLO Project/house-tour.mp4: 384x640 1 person, 3 potted plants, 10.7ms\n",
      "video 1/1 (frame 111/6950) /Users/liru/Documents/Computer Vision/YOLO Project/house-tour.mp4: 384x640 1 person, 3 potted plants, 10.8ms\n",
      "video 1/1 (frame 112/6950) /Users/liru/Documents/Computer Vision/YOLO Project/house-tour.mp4: 384x640 1 person, 5 potted plants, 11.1ms\n",
      "video 1/1 (frame 113/6950) /Users/liru/Documents/Computer Vision/YOLO Project/house-tour.mp4: 384x640 1 person, 5 potted plants, 13.7ms\n",
      "video 1/1 (frame 114/6950) /Users/liru/Documents/Computer Vision/YOLO Project/house-tour.mp4: 384x640 1 person, 5 potted plants, 13.8ms\n",
      "video 1/1 (frame 115/6950) /Users/liru/Documents/Computer Vision/YOLO Project/house-tour.mp4: 384x640 1 person, 4 potted plants, 12.6ms\n",
      "video 1/1 (frame 116/6950) /Users/liru/Documents/Computer Vision/YOLO Project/house-tour.mp4: 384x640 1 person, 4 potted plants, 11.6ms\n",
      "video 1/1 (frame 117/6950) /Users/liru/Documents/Computer Vision/YOLO Project/house-tour.mp4: 384x640 1 person, 4 potted plants, 12.8ms\n",
      "video 1/1 (frame 118/6950) /Users/liru/Documents/Computer Vision/YOLO Project/house-tour.mp4: 384x640 1 person, 4 potted plants, 11.9ms\n",
      "video 1/1 (frame 119/6950) /Users/liru/Documents/Computer Vision/YOLO Project/house-tour.mp4: 384x640 1 person, 4 potted plants, 11.6ms\n",
      "video 1/1 (frame 120/6950) /Users/liru/Documents/Computer Vision/YOLO Project/house-tour.mp4: 384x640 1 person, 4 potted plants, 11.1ms\n",
      "video 1/1 (frame 121/6950) /Users/liru/Documents/Computer Vision/YOLO Project/house-tour.mp4: 384x640 1 person, 4 potted plants, 11.3ms\n",
      "video 1/1 (frame 122/6950) /Users/liru/Documents/Computer Vision/YOLO Project/house-tour.mp4: 384x640 1 person, 4 potted plants, 12.8ms\n",
      "video 1/1 (frame 123/6950) /Users/liru/Documents/Computer Vision/YOLO Project/house-tour.mp4: 384x640 1 person, 4 potted plants, 11.7ms\n",
      "video 1/1 (frame 124/6950) /Users/liru/Documents/Computer Vision/YOLO Project/house-tour.mp4: 384x640 1 person, 4 potted plants, 1 book, 11.4ms\n",
      "video 1/1 (frame 125/6950) /Users/liru/Documents/Computer Vision/YOLO Project/house-tour.mp4: 384x640 1 person, 4 potted plants, 1 book, 11.7ms\n",
      "video 1/1 (frame 126/6950) /Users/liru/Documents/Computer Vision/YOLO Project/house-tour.mp4: 384x640 1 person, 3 potted plants, 1 book, 11.1ms\n",
      "video 1/1 (frame 127/6950) /Users/liru/Documents/Computer Vision/YOLO Project/house-tour.mp4: 384x640 1 person, 3 potted plants, 11.5ms\n",
      "video 1/1 (frame 128/6950) /Users/liru/Documents/Computer Vision/YOLO Project/house-tour.mp4: 384x640 1 person, 3 potted plants, 11.3ms\n",
      "video 1/1 (frame 129/6950) /Users/liru/Documents/Computer Vision/YOLO Project/house-tour.mp4: 384x640 1 person, 3 potted plants, 11.4ms\n",
      "video 1/1 (frame 130/6950) /Users/liru/Documents/Computer Vision/YOLO Project/house-tour.mp4: 384x640 1 person, 1 chair, 3 potted plants, 1 book, 13.3ms\n",
      "video 1/1 (frame 131/6950) /Users/liru/Documents/Computer Vision/YOLO Project/house-tour.mp4: 384x640 1 person, 1 chair, 3 potted plants, 1 book, 12.7ms\n",
      "video 1/1 (frame 132/6950) /Users/liru/Documents/Computer Vision/YOLO Project/house-tour.mp4: 384x640 1 person, 1 chair, 2 potted plants, 11.5ms\n",
      "video 1/1 (frame 133/6950) /Users/liru/Documents/Computer Vision/YOLO Project/house-tour.mp4: 384x640 1 person, 1 chair, 2 potted plants, 10.9ms\n",
      "video 1/1 (frame 134/6950) /Users/liru/Documents/Computer Vision/YOLO Project/house-tour.mp4: 384x640 1 person, 1 chair, 2 potted plants, 11.7ms\n",
      "video 1/1 (frame 135/6950) /Users/liru/Documents/Computer Vision/YOLO Project/house-tour.mp4: 384x640 1 person, 1 chair, 2 potted plants, 1 vase, 10.5ms\n",
      "video 1/1 (frame 136/6950) /Users/liru/Documents/Computer Vision/YOLO Project/house-tour.mp4: 384x640 1 person, 1 chair, 2 potted plants, 1 vase, 11.3ms\n",
      "video 1/1 (frame 137/6950) /Users/liru/Documents/Computer Vision/YOLO Project/house-tour.mp4: 384x640 1 person, 1 chair, 3 potted plants, 1 vase, 10.9ms\n",
      "video 1/1 (frame 138/6950) /Users/liru/Documents/Computer Vision/YOLO Project/house-tour.mp4: 384x640 1 person, 1 chair, 2 potted plants, 10.9ms\n",
      "video 1/1 (frame 139/6950) /Users/liru/Documents/Computer Vision/YOLO Project/house-tour.mp4: 384x640 1 person, 1 chair, 2 potted plants, 1 vase, 10.4ms\n",
      "video 1/1 (frame 140/6950) /Users/liru/Documents/Computer Vision/YOLO Project/house-tour.mp4: 384x640 1 person, 1 chair, 2 potted plants, 1 vase, 12.1ms\n",
      "video 1/1 (frame 141/6950) /Users/liru/Documents/Computer Vision/YOLO Project/house-tour.mp4: 384x640 1 person, 1 chair, 2 potted plants, 1 vase, 15.4ms\n",
      "video 1/1 (frame 142/6950) /Users/liru/Documents/Computer Vision/YOLO Project/house-tour.mp4: 384x640 1 person, 1 chair, 2 potted plants, 1 vase, 12.2ms\n",
      "video 1/1 (frame 143/6950) /Users/liru/Documents/Computer Vision/YOLO Project/house-tour.mp4: 384x640 1 person, 1 chair, 2 potted plants, 1 vase, 12.6ms\n",
      "video 1/1 (frame 144/6950) /Users/liru/Documents/Computer Vision/YOLO Project/house-tour.mp4: 384x640 1 person, 1 chair, 2 potted plants, 1 vase, 12.2ms\n",
      "video 1/1 (frame 145/6950) /Users/liru/Documents/Computer Vision/YOLO Project/house-tour.mp4: 384x640 1 person, 1 chair, 2 potted plants, 1 vase, 11.2ms\n",
      "video 1/1 (frame 146/6950) /Users/liru/Documents/Computer Vision/YOLO Project/house-tour.mp4: 384x640 1 person, 1 chair, 2 potted plants, 1 vase, 10.7ms\n",
      "video 1/1 (frame 147/6950) /Users/liru/Documents/Computer Vision/YOLO Project/house-tour.mp4: 384x640 1 person, 1 chair, 2 potted plants, 1 vase, 10.6ms\n",
      "video 1/1 (frame 148/6950) /Users/liru/Documents/Computer Vision/YOLO Project/house-tour.mp4: 384x640 1 person, 1 chair, 2 potted plants, 1 vase, 10.6ms\n",
      "video 1/1 (frame 149/6950) /Users/liru/Documents/Computer Vision/YOLO Project/house-tour.mp4: 384x640 1 person, 1 chair, 2 potted plants, 1 vase, 10.7ms\n",
      "video 1/1 (frame 150/6950) /Users/liru/Documents/Computer Vision/YOLO Project/house-tour.mp4: 384x640 1 person, 1 chair, 2 potted plants, 1 vase, 10.5ms\n",
      "video 1/1 (frame 151/6950) /Users/liru/Documents/Computer Vision/YOLO Project/house-tour.mp4: 384x640 1 person, 1 chair, 2 potted plants, 1 vase, 10.8ms\n",
      "video 1/1 (frame 152/6950) /Users/liru/Documents/Computer Vision/YOLO Project/house-tour.mp4: 384x640 1 person, 1 chair, 2 potted plants, 1 vase, 10.9ms\n",
      "video 1/1 (frame 153/6950) /Users/liru/Documents/Computer Vision/YOLO Project/house-tour.mp4: 384x640 1 person, 1 chair, 2 potted plants, 11.9ms\n",
      "video 1/1 (frame 154/6950) /Users/liru/Documents/Computer Vision/YOLO Project/house-tour.mp4: 384x640 1 person, 1 chair, 2 potted plants, 14.7ms\n",
      "video 1/1 (frame 155/6950) /Users/liru/Documents/Computer Vision/YOLO Project/house-tour.mp4: 384x640 1 person, 1 chair, 2 potted plants, 11.7ms\n",
      "video 1/1 (frame 156/6950) /Users/liru/Documents/Computer Vision/YOLO Project/house-tour.mp4: 384x640 1 person, 1 chair, 2 potted plants, 11.6ms\n",
      "video 1/1 (frame 157/6950) /Users/liru/Documents/Computer Vision/YOLO Project/house-tour.mp4: 384x640 1 person, 2 potted plants, 12.1ms\n",
      "video 1/1 (frame 158/6950) /Users/liru/Documents/Computer Vision/YOLO Project/house-tour.mp4: 384x640 1 person, 2 potted plants, 12.6ms\n",
      "video 1/1 (frame 159/6950) /Users/liru/Documents/Computer Vision/YOLO Project/house-tour.mp4: 384x640 1 person, 2 potted plants, 11.6ms\n",
      "video 1/1 (frame 160/6950) /Users/liru/Documents/Computer Vision/YOLO Project/house-tour.mp4: 384x640 1 person, 3 potted plants, 1 vase, 12.0ms\n",
      "video 1/1 (frame 161/6950) /Users/liru/Documents/Computer Vision/YOLO Project/house-tour.mp4: 384x640 1 person, 3 potted plants, 1 vase, 11.6ms\n",
      "video 1/1 (frame 162/6950) /Users/liru/Documents/Computer Vision/YOLO Project/house-tour.mp4: 384x640 1 person, 1 couch, 2 potted plants, 12.8ms\n",
      "video 1/1 (frame 163/6950) /Users/liru/Documents/Computer Vision/YOLO Project/house-tour.mp4: 384x640 1 person, 1 couch, 2 potted plants, 1 vase, 11.4ms\n",
      "video 1/1 (frame 164/6950) /Users/liru/Documents/Computer Vision/YOLO Project/house-tour.mp4: 384x640 1 person, 1 couch, 2 potted plants, 1 vase, 10.7ms\n",
      "video 1/1 (frame 165/6950) /Users/liru/Documents/Computer Vision/YOLO Project/house-tour.mp4: 384x640 1 person, 1 couch, 2 potted plants, 1 vase, 10.6ms\n",
      "video 1/1 (frame 166/6950) /Users/liru/Documents/Computer Vision/YOLO Project/house-tour.mp4: 384x640 1 person, 1 couch, 3 potted plants, 1 vase, 11.0ms\n",
      "video 1/1 (frame 167/6950) /Users/liru/Documents/Computer Vision/YOLO Project/house-tour.mp4: 384x640 1 person, 1 couch, 3 potted plants, 1 vase, 12.3ms\n",
      "video 1/1 (frame 168/6950) /Users/liru/Documents/Computer Vision/YOLO Project/house-tour.mp4: 384x640 1 person, 1 couch, 2 potted plants, 1 vase, 12.2ms\n",
      "video 1/1 (frame 169/6950) /Users/liru/Documents/Computer Vision/YOLO Project/house-tour.mp4: 384x640 1 person, 1 couch, 2 potted plants, 1 vase, 11.3ms\n",
      "video 1/1 (frame 170/6950) /Users/liru/Documents/Computer Vision/YOLO Project/house-tour.mp4: 384x640 1 person, 1 couch, 3 potted plants, 1 vase, 12.5ms\n",
      "video 1/1 (frame 171/6950) /Users/liru/Documents/Computer Vision/YOLO Project/house-tour.mp4: 384x640 1 person, 1 couch, 3 potted plants, 1 vase, 11.2ms\n",
      "video 1/1 (frame 172/6950) /Users/liru/Documents/Computer Vision/YOLO Project/house-tour.mp4: 384x640 1 person, 1 couch, 3 potted plants, 1 vase, 11.2ms\n",
      "video 1/1 (frame 173/6950) /Users/liru/Documents/Computer Vision/YOLO Project/house-tour.mp4: 384x640 1 person, 1 couch, 3 potted plants, 1 vase, 10.8ms\n",
      "video 1/1 (frame 174/6950) /Users/liru/Documents/Computer Vision/YOLO Project/house-tour.mp4: 384x640 1 person, 1 couch, 2 potted plants, 1 vase, 11.4ms\n",
      "video 1/1 (frame 175/6950) /Users/liru/Documents/Computer Vision/YOLO Project/house-tour.mp4: 384x640 1 person, 1 couch, 2 potted plants, 1 vase, 10.4ms\n",
      "video 1/1 (frame 176/6950) /Users/liru/Documents/Computer Vision/YOLO Project/house-tour.mp4: 384x640 1 person, 1 couch, 2 potted plants, 1 vase, 10.8ms\n",
      "video 1/1 (frame 177/6950) /Users/liru/Documents/Computer Vision/YOLO Project/house-tour.mp4: 384x640 1 person, 1 couch, 2 potted plants, 1 vase, 12.8ms\n",
      "video 1/1 (frame 178/6950) /Users/liru/Documents/Computer Vision/YOLO Project/house-tour.mp4: 384x640 1 person, 1 couch, 2 potted plants, 1 vase, 14.1ms\n",
      "video 1/1 (frame 179/6950) /Users/liru/Documents/Computer Vision/YOLO Project/house-tour.mp4: 384x640 1 person, 1 couch, 2 potted plants, 1 vase, 11.8ms\n",
      "video 1/1 (frame 180/6950) /Users/liru/Documents/Computer Vision/YOLO Project/house-tour.mp4: 384x640 1 person, 1 couch, 2 potted plants, 1 vase, 10.6ms\n",
      "video 1/1 (frame 181/6950) /Users/liru/Documents/Computer Vision/YOLO Project/house-tour.mp4: 384x640 1 person, 1 couch, 2 potted plants, 11.0ms\n",
      "video 1/1 (frame 182/6950) /Users/liru/Documents/Computer Vision/YOLO Project/house-tour.mp4: 384x640 1 person, 1 couch, 2 potted plants, 10.3ms\n",
      "video 1/1 (frame 183/6950) /Users/liru/Documents/Computer Vision/YOLO Project/house-tour.mp4: 384x640 1 person, 1 couch, 3 potted plants, 10.7ms\n",
      "video 1/1 (frame 184/6950) /Users/liru/Documents/Computer Vision/YOLO Project/house-tour.mp4: 384x640 1 person, 1 couch, 3 potted plants, 11.7ms\n",
      "video 1/1 (frame 185/6950) /Users/liru/Documents/Computer Vision/YOLO Project/house-tour.mp4: 384x640 1 person, 1 couch, 3 potted plants, 11.6ms\n",
      "video 1/1 (frame 186/6950) /Users/liru/Documents/Computer Vision/YOLO Project/house-tour.mp4: 384x640 1 person, 2 potted plants, 11.5ms\n",
      "video 1/1 (frame 187/6950) /Users/liru/Documents/Computer Vision/YOLO Project/house-tour.mp4: 384x640 1 person, 1 chair, 2 potted plants, 13.7ms\n",
      "video 1/1 (frame 188/6950) /Users/liru/Documents/Computer Vision/YOLO Project/house-tour.mp4: 384x640 1 person, 1 chair, 3 potted plants, 12.1ms\n",
      "video 1/1 (frame 189/6950) /Users/liru/Documents/Computer Vision/YOLO Project/house-tour.mp4: 384x640 1 person, 3 potted plants, 11.6ms\n",
      "video 1/1 (frame 190/6950) /Users/liru/Documents/Computer Vision/YOLO Project/house-tour.mp4: 384x640 1 person, 3 potted plants, 1 vase, 11.3ms\n",
      "video 1/1 (frame 191/6950) /Users/liru/Documents/Computer Vision/YOLO Project/house-tour.mp4: 384x640 1 person, 3 potted plants, 1 vase, 10.8ms\n",
      "video 1/1 (frame 192/6950) /Users/liru/Documents/Computer Vision/YOLO Project/house-tour.mp4: 384x640 1 person, 3 potted plants, 1 vase, 11.9ms\n",
      "video 1/1 (frame 193/6950) /Users/liru/Documents/Computer Vision/YOLO Project/house-tour.mp4: 384x640 1 person, 1 chair, 3 potted plants, 1 vase, 13.9ms\n",
      "video 1/1 (frame 194/6950) /Users/liru/Documents/Computer Vision/YOLO Project/house-tour.mp4: 384x640 1 person, 1 chair, 3 potted plants, 1 vase, 16.2ms\n",
      "video 1/1 (frame 195/6950) /Users/liru/Documents/Computer Vision/YOLO Project/house-tour.mp4: 384x640 1 person, 3 potted plants, 1 vase, 16.4ms\n",
      "video 1/1 (frame 196/6950) /Users/liru/Documents/Computer Vision/YOLO Project/house-tour.mp4: 384x640 1 person, 3 potted plants, 1 vase, 11.4ms\n",
      "video 1/1 (frame 197/6950) /Users/liru/Documents/Computer Vision/YOLO Project/house-tour.mp4: 384x640 1 person, 3 potted plants, 1 vase, 11.0ms\n",
      "video 1/1 (frame 198/6950) /Users/liru/Documents/Computer Vision/YOLO Project/house-tour.mp4: 384x640 1 person, 3 potted plants, 11.6ms\n",
      "video 1/1 (frame 199/6950) /Users/liru/Documents/Computer Vision/YOLO Project/house-tour.mp4: 384x640 1 person, 3 potted plants, 11.2ms\n",
      "video 1/1 (frame 200/6950) /Users/liru/Documents/Computer Vision/YOLO Project/house-tour.mp4: 384x640 1 person, 3 potted plants, 12.6ms\n",
      "video 1/1 (frame 201/6950) /Users/liru/Documents/Computer Vision/YOLO Project/house-tour.mp4: 384x640 1 person, 4 potted plants, 14.4ms\n",
      "video 1/1 (frame 202/6950) /Users/liru/Documents/Computer Vision/YOLO Project/house-tour.mp4: 384x640 1 person, 4 potted plants, 14.7ms\n",
      "video 1/1 (frame 203/6950) /Users/liru/Documents/Computer Vision/YOLO Project/house-tour.mp4: 384x640 1 person, 4 potted plants, 14.1ms\n",
      "video 1/1 (frame 204/6950) /Users/liru/Documents/Computer Vision/YOLO Project/house-tour.mp4: 384x640 1 person, 4 potted plants, 1 vase, 11.3ms\n",
      "video 1/1 (frame 205/6950) /Users/liru/Documents/Computer Vision/YOLO Project/house-tour.mp4: 384x640 1 person, 4 potted plants, 1 vase, 10.7ms\n",
      "video 1/1 (frame 206/6950) /Users/liru/Documents/Computer Vision/YOLO Project/house-tour.mp4: 384x640 1 person, 4 potted plants, 1 vase, 10.8ms\n",
      "video 1/1 (frame 207/6950) /Users/liru/Documents/Computer Vision/YOLO Project/house-tour.mp4: 384x640 1 person, 5 potted plants, 1 vase, 15.4ms\n",
      "video 1/1 (frame 208/6950) /Users/liru/Documents/Computer Vision/YOLO Project/house-tour.mp4: 384x640 1 person, 1 chair, 5 potted plants, 1 vase, 17.2ms\n",
      "video 1/1 (frame 209/6950) /Users/liru/Documents/Computer Vision/YOLO Project/house-tour.mp4: 384x640 1 person, 1 chair, 5 potted plants, 1 vase, 15.4ms\n",
      "video 1/1 (frame 210/6950) /Users/liru/Documents/Computer Vision/YOLO Project/house-tour.mp4: 384x640 1 person, 2 chairs, 5 potted plants, 12.2ms\n",
      "video 1/1 (frame 211/6950) /Users/liru/Documents/Computer Vision/YOLO Project/house-tour.mp4: 384x640 1 person, 1 chair, 5 potted plants, 1 vase, 12.7ms\n",
      "video 1/1 (frame 212/6950) /Users/liru/Documents/Computer Vision/YOLO Project/house-tour.mp4: 384x640 1 person, 1 chair, 3 potted plants, 1 vase, 15.0ms\n",
      "video 1/1 (frame 213/6950) /Users/liru/Documents/Computer Vision/YOLO Project/house-tour.mp4: 384x640 1 person, 3 potted plants, 1 vase, 12.0ms\n",
      "video 1/1 (frame 214/6950) /Users/liru/Documents/Computer Vision/YOLO Project/house-tour.mp4: 384x640 1 person, 1 chair, 2 potted plants, 1 vase, 13.3ms\n",
      "video 1/1 (frame 215/6950) /Users/liru/Documents/Computer Vision/YOLO Project/house-tour.mp4: 384x640 1 person, 1 chair, 2 potted plants, 1 vase, 12.4ms\n",
      "video 1/1 (frame 216/6950) /Users/liru/Documents/Computer Vision/YOLO Project/house-tour.mp4: 384x640 1 person, 1 chair, 2 potted plants, 1 vase, 11.6ms\n",
      "video 1/1 (frame 217/6950) /Users/liru/Documents/Computer Vision/YOLO Project/house-tour.mp4: 384x640 1 person, 3 potted plants, 1 vase, 12.9ms\n",
      "video 1/1 (frame 218/6950) /Users/liru/Documents/Computer Vision/YOLO Project/house-tour.mp4: 384x640 1 person, 4 potted plants, 1 vase, 12.8ms\n",
      "video 1/1 (frame 219/6950) /Users/liru/Documents/Computer Vision/YOLO Project/house-tour.mp4: 384x640 1 person, 3 potted plants, 1 vase, 12.0ms\n",
      "video 1/1 (frame 220/6950) /Users/liru/Documents/Computer Vision/YOLO Project/house-tour.mp4: 384x640 1 person, 3 potted plants, 1 vase, 13.3ms\n",
      "video 1/1 (frame 221/6950) /Users/liru/Documents/Computer Vision/YOLO Project/house-tour.mp4: 384x640 1 person, 3 potted plants, 1 vase, 13.5ms\n",
      "video 1/1 (frame 222/6950) /Users/liru/Documents/Computer Vision/YOLO Project/house-tour.mp4: 384x640 1 person, 2 potted plants, 1 vase, 12.4ms\n",
      "video 1/1 (frame 223/6950) /Users/liru/Documents/Computer Vision/YOLO Project/house-tour.mp4: 384x640 1 person, 2 potted plants, 1 vase, 12.7ms\n",
      "video 1/1 (frame 224/6950) /Users/liru/Documents/Computer Vision/YOLO Project/house-tour.mp4: 384x640 1 person, 2 potted plants, 1 vase, 13.5ms\n",
      "video 1/1 (frame 225/6950) /Users/liru/Documents/Computer Vision/YOLO Project/house-tour.mp4: 384x640 1 person, 1 bottle, 3 potted plants, 2 vases, 12.0ms\n",
      "video 1/1 (frame 226/6950) /Users/liru/Documents/Computer Vision/YOLO Project/house-tour.mp4: 384x640 1 person, 2 potted plants, 1 vase, 11.7ms\n",
      "video 1/1 (frame 227/6950) /Users/liru/Documents/Computer Vision/YOLO Project/house-tour.mp4: 384x640 1 person, 2 potted plants, 1 vase, 12.5ms\n",
      "video 1/1 (frame 228/6950) /Users/liru/Documents/Computer Vision/YOLO Project/house-tour.mp4: 384x640 1 person, 2 potted plants, 2 vases, 11.9ms\n",
      "video 1/1 (frame 229/6950) /Users/liru/Documents/Computer Vision/YOLO Project/house-tour.mp4: 384x640 1 person, 2 potted plants, 2 vases, 12.0ms\n",
      "video 1/1 (frame 230/6950) /Users/liru/Documents/Computer Vision/YOLO Project/house-tour.mp4: 384x640 1 person, 2 potted plants, 1 vase, 11.5ms\n",
      "video 1/1 (frame 231/6950) /Users/liru/Documents/Computer Vision/YOLO Project/house-tour.mp4: 384x640 1 person, 2 potted plants, 1 vase, 11.9ms\n",
      "video 1/1 (frame 232/6950) /Users/liru/Documents/Computer Vision/YOLO Project/house-tour.mp4: 384x640 1 person, 2 potted plants, 2 vases, 11.1ms\n",
      "video 1/1 (frame 233/6950) /Users/liru/Documents/Computer Vision/YOLO Project/house-tour.mp4: 384x640 1 person, 2 potted plants, 2 vases, 12.4ms\n",
      "video 1/1 (frame 234/6950) /Users/liru/Documents/Computer Vision/YOLO Project/house-tour.mp4: 384x640 1 person, 1 couch, 2 potted plants, 2 vases, 11.5ms\n",
      "video 1/1 (frame 235/6950) /Users/liru/Documents/Computer Vision/YOLO Project/house-tour.mp4: 384x640 1 person, 1 couch, 2 potted plants, 1 vase, 13.1ms\n",
      "video 1/1 (frame 236/6950) /Users/liru/Documents/Computer Vision/YOLO Project/house-tour.mp4: 384x640 1 person, 1 chair, 2 potted plants, 1 vase, 14.4ms\n",
      "video 1/1 (frame 237/6950) /Users/liru/Documents/Computer Vision/YOLO Project/house-tour.mp4: 384x640 1 person, 1 chair, 2 potted plants, 1 vase, 12.3ms\n",
      "video 1/1 (frame 238/6950) /Users/liru/Documents/Computer Vision/YOLO Project/house-tour.mp4: 384x640 1 person, 1 chair, 3 potted plants, 1 vase, 10.9ms\n",
      "video 1/1 (frame 239/6950) /Users/liru/Documents/Computer Vision/YOLO Project/house-tour.mp4: 384x640 1 person, 1 chair, 3 potted plants, 1 vase, 11.2ms\n",
      "video 1/1 (frame 240/6950) /Users/liru/Documents/Computer Vision/YOLO Project/house-tour.mp4: 384x640 1 person, 1 chair, 3 potted plants, 11.9ms\n",
      "video 1/1 (frame 241/6950) /Users/liru/Documents/Computer Vision/YOLO Project/house-tour.mp4: 384x640 1 person, 1 chair, 4 potted plants, 15.5ms\n",
      "video 1/1 (frame 242/6950) /Users/liru/Documents/Computer Vision/YOLO Project/house-tour.mp4: 384x640 1 person, 1 bottle, 1 chair, 3 potted plants, 12.3ms\n",
      "video 1/1 (frame 243/6950) /Users/liru/Documents/Computer Vision/YOLO Project/house-tour.mp4: 384x640 1 person, 1 chair, 5 potted plants, 2 vases, 11.4ms\n",
      "video 1/1 (frame 244/6950) /Users/liru/Documents/Computer Vision/YOLO Project/house-tour.mp4: 384x640 1 person, 1 chair, 3 potted plants, 1 vase, 17.6ms\n",
      "video 1/1 (frame 245/6950) /Users/liru/Documents/Computer Vision/YOLO Project/house-tour.mp4: 384x640 1 person, 1 chair, 3 potted plants, 1 vase, 11.3ms\n",
      "video 1/1 (frame 246/6950) /Users/liru/Documents/Computer Vision/YOLO Project/house-tour.mp4: 384x640 1 person, 1 chair, 4 potted plants, 1 vase, 13.9ms\n",
      "video 1/1 (frame 247/6950) /Users/liru/Documents/Computer Vision/YOLO Project/house-tour.mp4: 384x640 1 person, 1 chair, 5 potted plants, 1 vase, 12.1ms\n",
      "video 1/1 (frame 248/6950) /Users/liru/Documents/Computer Vision/YOLO Project/house-tour.mp4: 384x640 1 person, 3 potted plants, 1 vase, 13.8ms\n",
      "video 1/1 (frame 249/6950) /Users/liru/Documents/Computer Vision/YOLO Project/house-tour.mp4: 384x640 1 person, 5 potted plants, 1 vase, 12.6ms\n",
      "video 1/1 (frame 250/6950) /Users/liru/Documents/Computer Vision/YOLO Project/house-tour.mp4: 384x640 1 person, 5 potted plants, 1 vase, 11.8ms\n",
      "video 1/1 (frame 251/6950) /Users/liru/Documents/Computer Vision/YOLO Project/house-tour.mp4: 384x640 1 person, 5 potted plants, 1 vase, 10.9ms\n",
      "video 1/1 (frame 252/6950) /Users/liru/Documents/Computer Vision/YOLO Project/house-tour.mp4: 384x640 1 person, 1 couch, 3 potted plants, 1 vase, 11.5ms\n",
      "video 1/1 (frame 253/6950) /Users/liru/Documents/Computer Vision/YOLO Project/house-tour.mp4: 384x640 1 person, 1 couch, 5 potted plants, 1 vase, 11.8ms\n",
      "video 1/1 (frame 254/6950) /Users/liru/Documents/Computer Vision/YOLO Project/house-tour.mp4: 384x640 1 person, 1 couch, 6 potted plants, 1 vase, 15.9ms\n",
      "video 1/1 (frame 255/6950) /Users/liru/Documents/Computer Vision/YOLO Project/house-tour.mp4: 384x640 1 person, 5 potted plants, 1 vase, 17.3ms\n",
      "video 1/1 (frame 256/6950) /Users/liru/Documents/Computer Vision/YOLO Project/house-tour.mp4: 384x640 1 person, 1 couch, 4 potted plants, 1 vase, 11.4ms\n",
      "video 1/1 (frame 257/6950) /Users/liru/Documents/Computer Vision/YOLO Project/house-tour.mp4: 384x640 1 person, 1 couch, 4 potted plants, 1 vase, 14.0ms\n",
      "video 1/1 (frame 258/6950) /Users/liru/Documents/Computer Vision/YOLO Project/house-tour.mp4: 384x640 1 person, 2 couchs, 4 potted plants, 1 vase, 14.3ms\n",
      "video 1/1 (frame 259/6950) /Users/liru/Documents/Computer Vision/YOLO Project/house-tour.mp4: 384x640 1 person, 2 couchs, 3 potted plants, 1 vase, 16.1ms\n",
      "video 1/1 (frame 260/6950) /Users/liru/Documents/Computer Vision/YOLO Project/house-tour.mp4: 384x640 1 person, 2 couchs, 6 potted plants, 15.4ms\n",
      "video 1/1 (frame 261/6950) /Users/liru/Documents/Computer Vision/YOLO Project/house-tour.mp4: 384x640 1 person, 2 couchs, 6 potted plants, 12.6ms\n",
      "video 1/1 (frame 262/6950) /Users/liru/Documents/Computer Vision/YOLO Project/house-tour.mp4: 384x640 1 person, 2 couchs, 3 potted plants, 14.5ms\n",
      "video 1/1 (frame 263/6950) /Users/liru/Documents/Computer Vision/YOLO Project/house-tour.mp4: 384x640 1 person, 2 couchs, 5 potted plants, 12.4ms\n",
      "video 1/1 (frame 264/6950) /Users/liru/Documents/Computer Vision/YOLO Project/house-tour.mp4: 384x640 1 person, 2 couchs, 5 potted plants, 11.4ms\n",
      "video 1/1 (frame 265/6950) /Users/liru/Documents/Computer Vision/YOLO Project/house-tour.mp4: 384x640 1 person, 2 couchs, 3 potted plants, 12.8ms\n",
      "video 1/1 (frame 266/6950) /Users/liru/Documents/Computer Vision/YOLO Project/house-tour.mp4: 384x640 1 person, 2 couchs, 3 potted plants, 11.8ms\n",
      "video 1/1 (frame 267/6950) /Users/liru/Documents/Computer Vision/YOLO Project/house-tour.mp4: 384x640 1 person, 1 couch, 12.3ms\n",
      "video 1/1 (frame 268/6950) /Users/liru/Documents/Computer Vision/YOLO Project/house-tour.mp4: 384x640 1 person, 14.9ms\n",
      "video 1/1 (frame 269/6950) /Users/liru/Documents/Computer Vision/YOLO Project/house-tour.mp4: 384x640 1 person, 11.8ms\n",
      "video 1/1 (frame 270/6950) /Users/liru/Documents/Computer Vision/YOLO Project/house-tour.mp4: 384x640 1 person, 1 couch, 12.1ms\n",
      "video 1/1 (frame 271/6950) /Users/liru/Documents/Computer Vision/YOLO Project/house-tour.mp4: 384x640 1 person, 1 potted plant, 18.3ms\n",
      "video 1/1 (frame 272/6950) /Users/liru/Documents/Computer Vision/YOLO Project/house-tour.mp4: 384x640 1 person, 1 potted plant, 1 vase, 11.3ms\n",
      "video 1/1 (frame 273/6950) /Users/liru/Documents/Computer Vision/YOLO Project/house-tour.mp4: 384x640 1 person, 11.9ms\n",
      "video 1/1 (frame 274/6950) /Users/liru/Documents/Computer Vision/YOLO Project/house-tour.mp4: 384x640 1 person, 12.6ms\n",
      "video 1/1 (frame 275/6950) /Users/liru/Documents/Computer Vision/YOLO Project/house-tour.mp4: 384x640 1 person, 16.7ms\n",
      "video 1/1 (frame 276/6950) /Users/liru/Documents/Computer Vision/YOLO Project/house-tour.mp4: 384x640 1 person, 13.3ms\n",
      "video 1/1 (frame 277/6950) /Users/liru/Documents/Computer Vision/YOLO Project/house-tour.mp4: 384x640 1 person, 11.9ms\n",
      "video 1/1 (frame 278/6950) /Users/liru/Documents/Computer Vision/YOLO Project/house-tour.mp4: 384x640 1 person, 12.0ms\n",
      "video 1/1 (frame 279/6950) /Users/liru/Documents/Computer Vision/YOLO Project/house-tour.mp4: 384x640 1 person, 1 potted plant, 11.9ms\n",
      "video 1/1 (frame 280/6950) /Users/liru/Documents/Computer Vision/YOLO Project/house-tour.mp4: 384x640 1 person, 1 potted plant, 12.7ms\n",
      "video 1/1 (frame 281/6950) /Users/liru/Documents/Computer Vision/YOLO Project/house-tour.mp4: 384x640 1 person, 1 potted plant, 12.0ms\n",
      "video 1/1 (frame 282/6950) /Users/liru/Documents/Computer Vision/YOLO Project/house-tour.mp4: 384x640 1 person, 1 potted plant, 12.4ms\n",
      "video 1/1 (frame 283/6950) /Users/liru/Documents/Computer Vision/YOLO Project/house-tour.mp4: 384x640 1 person, 11.5ms\n",
      "video 1/1 (frame 284/6950) /Users/liru/Documents/Computer Vision/YOLO Project/house-tour.mp4: 384x640 1 person, 12.9ms\n",
      "video 1/1 (frame 285/6950) /Users/liru/Documents/Computer Vision/YOLO Project/house-tour.mp4: 384x640 1 person, 13.6ms\n",
      "video 1/1 (frame 286/6950) /Users/liru/Documents/Computer Vision/YOLO Project/house-tour.mp4: 384x640 1 person, 1 potted plant, 12.6ms\n",
      "video 1/1 (frame 287/6950) /Users/liru/Documents/Computer Vision/YOLO Project/house-tour.mp4: 384x640 1 person, 1 couch, 1 clock, 13.4ms\n",
      "video 1/1 (frame 288/6950) /Users/liru/Documents/Computer Vision/YOLO Project/house-tour.mp4: 384x640 1 person, 1 couch, 1 potted plant, 1 book, 1 clock, 13.8ms\n",
      "video 1/1 (frame 289/6950) /Users/liru/Documents/Computer Vision/YOLO Project/house-tour.mp4: 384x640 1 person, 1 couch, 1 clock, 11.9ms\n",
      "video 1/1 (frame 290/6950) /Users/liru/Documents/Computer Vision/YOLO Project/house-tour.mp4: 384x640 1 person, 1 couch, 1 clock, 11.6ms\n",
      "video 1/1 (frame 291/6950) /Users/liru/Documents/Computer Vision/YOLO Project/house-tour.mp4: 384x640 1 person, 1 couch, 1 clock, 11.3ms\n",
      "video 1/1 (frame 292/6950) /Users/liru/Documents/Computer Vision/YOLO Project/house-tour.mp4: 384x640 1 person, 1 couch, 13.0ms\n",
      "video 1/1 (frame 293/6950) /Users/liru/Documents/Computer Vision/YOLO Project/house-tour.mp4: 384x640 1 person, 1 couch, 12.5ms\n",
      "video 1/1 (frame 294/6950) /Users/liru/Documents/Computer Vision/YOLO Project/house-tour.mp4: 384x640 1 person, 1 couch, 11.9ms\n",
      "video 1/1 (frame 295/6950) /Users/liru/Documents/Computer Vision/YOLO Project/house-tour.mp4: 384x640 1 person, 1 couch, 1 clock, 15.0ms\n",
      "video 1/1 (frame 296/6950) /Users/liru/Documents/Computer Vision/YOLO Project/house-tour.mp4: 384x640 1 person, 1 couch, 1 clock, 14.4ms\n",
      "video 1/1 (frame 297/6950) /Users/liru/Documents/Computer Vision/YOLO Project/house-tour.mp4: 384x640 1 person, 1 couch, 1 book, 1 clock, 14.2ms\n",
      "video 1/1 (frame 298/6950) /Users/liru/Documents/Computer Vision/YOLO Project/house-tour.mp4: 384x640 1 person, 1 couch, 1 book, 1 clock, 13.2ms\n",
      "video 1/1 (frame 299/6950) /Users/liru/Documents/Computer Vision/YOLO Project/house-tour.mp4: 384x640 1 person, 1 couch, 1 clock, 11.3ms\n",
      "video 1/1 (frame 300/6950) /Users/liru/Documents/Computer Vision/YOLO Project/house-tour.mp4: 384x640 1 person, 1 couch, 1 book, 1 clock, 12.0ms\n",
      "video 1/1 (frame 301/6950) /Users/liru/Documents/Computer Vision/YOLO Project/house-tour.mp4: 384x640 1 person, 1 couch, 1 book, 11.4ms\n",
      "video 1/1 (frame 302/6950) /Users/liru/Documents/Computer Vision/YOLO Project/house-tour.mp4: 384x640 1 person, 1 couch, 1 book, 15.0ms\n",
      "video 1/1 (frame 303/6950) /Users/liru/Documents/Computer Vision/YOLO Project/house-tour.mp4: 384x640 1 person, 1 couch, 1 clock, 15.3ms\n",
      "video 1/1 (frame 304/6950) /Users/liru/Documents/Computer Vision/YOLO Project/house-tour.mp4: 384x640 1 person, 1 couch, 1 clock, 15.2ms\n",
      "video 1/1 (frame 305/6950) /Users/liru/Documents/Computer Vision/YOLO Project/house-tour.mp4: 384x640 1 person, 2 couchs, 1 book, 1 clock, 11.5ms\n",
      "video 1/1 (frame 306/6950) /Users/liru/Documents/Computer Vision/YOLO Project/house-tour.mp4: 384x640 1 person, 2 couchs, 10.9ms\n",
      "video 1/1 (frame 307/6950) /Users/liru/Documents/Computer Vision/YOLO Project/house-tour.mp4: 384x640 1 person, 1 couch, 11.2ms\n",
      "video 1/1 (frame 308/6950) /Users/liru/Documents/Computer Vision/YOLO Project/house-tour.mp4: 384x640 1 person, 1 couch, 10.8ms\n",
      "video 1/1 (frame 309/6950) /Users/liru/Documents/Computer Vision/YOLO Project/house-tour.mp4: 384x640 1 person, 1 couch, 10.3ms\n",
      "video 1/1 (frame 310/6950) /Users/liru/Documents/Computer Vision/YOLO Project/house-tour.mp4: 384x640 1 person, 1 couch, 11.1ms\n",
      "video 1/1 (frame 311/6950) /Users/liru/Documents/Computer Vision/YOLO Project/house-tour.mp4: 384x640 1 person, 1 couch, 11.1ms\n",
      "video 1/1 (frame 312/6950) /Users/liru/Documents/Computer Vision/YOLO Project/house-tour.mp4: 384x640 1 person, 2 couchs, 10.9ms\n",
      "video 1/1 (frame 313/6950) /Users/liru/Documents/Computer Vision/YOLO Project/house-tour.mp4: 384x640 1 person, 2 couchs, 11.2ms\n",
      "video 1/1 (frame 314/6950) /Users/liru/Documents/Computer Vision/YOLO Project/house-tour.mp4: 384x640 1 person, 1 couch, 10.8ms\n",
      "video 1/1 (frame 315/6950) /Users/liru/Documents/Computer Vision/YOLO Project/house-tour.mp4: 384x640 1 person, 1 couch, 12.1ms\n",
      "video 1/1 (frame 316/6950) /Users/liru/Documents/Computer Vision/YOLO Project/house-tour.mp4: 384x640 1 person, 1 couch, 13.0ms\n",
      "video 1/1 (frame 317/6950) /Users/liru/Documents/Computer Vision/YOLO Project/house-tour.mp4: 384x640 1 person, 1 couch, 12.1ms\n",
      "video 1/1 (frame 318/6950) /Users/liru/Documents/Computer Vision/YOLO Project/house-tour.mp4: 384x640 1 person, 1 couch, 11.7ms\n",
      "video 1/1 (frame 319/6950) /Users/liru/Documents/Computer Vision/YOLO Project/house-tour.mp4: 384x640 1 person, 1 couch, 11.6ms\n",
      "video 1/1 (frame 320/6950) /Users/liru/Documents/Computer Vision/YOLO Project/house-tour.mp4: 384x640 1 person, 1 couch, 11.2ms\n",
      "video 1/1 (frame 321/6950) /Users/liru/Documents/Computer Vision/YOLO Project/house-tour.mp4: 384x640 1 person, 1 couch, 10.8ms\n",
      "video 1/1 (frame 322/6950) /Users/liru/Documents/Computer Vision/YOLO Project/house-tour.mp4: 384x640 1 person, 1 couch, 10.5ms\n",
      "video 1/1 (frame 323/6950) /Users/liru/Documents/Computer Vision/YOLO Project/house-tour.mp4: 384x640 1 person, 1 couch, 10.6ms\n",
      "video 1/1 (frame 324/6950) /Users/liru/Documents/Computer Vision/YOLO Project/house-tour.mp4: 384x640 1 person, 1 couch, 10.8ms\n",
      "video 1/1 (frame 325/6950) /Users/liru/Documents/Computer Vision/YOLO Project/house-tour.mp4: 384x640 1 person, 1 couch, 11.9ms\n",
      "video 1/1 (frame 326/6950) /Users/liru/Documents/Computer Vision/YOLO Project/house-tour.mp4: 384x640 1 person, 1 couch, 11.0ms\n",
      "video 1/1 (frame 327/6950) /Users/liru/Documents/Computer Vision/YOLO Project/house-tour.mp4: 384x640 1 person, 1 couch, 10.8ms\n",
      "video 1/1 (frame 328/6950) /Users/liru/Documents/Computer Vision/YOLO Project/house-tour.mp4: 384x640 1 person, 1 couch, 11.9ms\n",
      "video 1/1 (frame 329/6950) /Users/liru/Documents/Computer Vision/YOLO Project/house-tour.mp4: 384x640 1 person, 1 couch, 12.3ms\n",
      "video 1/1 (frame 330/6950) /Users/liru/Documents/Computer Vision/YOLO Project/house-tour.mp4: 384x640 1 person, 1 couch, 12.3ms\n",
      "video 1/1 (frame 331/6950) /Users/liru/Documents/Computer Vision/YOLO Project/house-tour.mp4: 384x640 1 person, 1 couch, 11.9ms\n",
      "video 1/1 (frame 332/6950) /Users/liru/Documents/Computer Vision/YOLO Project/house-tour.mp4: 384x640 1 person, 3 dogs, 1 cup, 3 couchs, 2 potted plants, 1 dining table, 1 book, 10.4ms\n",
      "video 1/1 (frame 333/6950) /Users/liru/Documents/Computer Vision/YOLO Project/house-tour.mp4: 384x640 1 person, 3 dogs, 1 cup, 2 couchs, 2 potted plants, 1 dining table, 1 book, 15.3ms\n",
      "video 1/1 (frame 334/6950) /Users/liru/Documents/Computer Vision/YOLO Project/house-tour.mp4: 384x640 1 person, 3 dogs, 1 cup, 3 couchs, 2 potted plants, 1 dining table, 1 book, 17.2ms\n",
      "video 1/1 (frame 335/6950) /Users/liru/Documents/Computer Vision/YOLO Project/house-tour.mp4: 384x640 1 person, 3 dogs, 1 cup, 1 chair, 3 couchs, 2 potted plants, 1 dining table, 1 book, 15.2ms\n",
      "video 1/1 (frame 336/6950) /Users/liru/Documents/Computer Vision/YOLO Project/house-tour.mp4: 384x640 1 person, 2 dogs, 1 cup, 2 couchs, 2 potted plants, 1 dining table, 1 book, 16.9ms\n",
      "video 1/1 (frame 337/6950) /Users/liru/Documents/Computer Vision/YOLO Project/house-tour.mp4: 384x640 1 person, 2 dogs, 1 cup, 2 couchs, 2 potted plants, 1 dining table, 1 book, 15.9ms\n",
      "video 1/1 (frame 338/6950) /Users/liru/Documents/Computer Vision/YOLO Project/house-tour.mp4: 384x640 1 person, 2 dogs, 1 cup, 1 chair, 1 couch, 2 potted plants, 1 dining table, 1 book, 16.4ms\n",
      "video 1/1 (frame 339/6950) /Users/liru/Documents/Computer Vision/YOLO Project/house-tour.mp4: 384x640 1 person, 1 dog, 1 cup, 1 chair, 2 couchs, 2 potted plants, 1 dining table, 1 book, 18.0ms\n",
      "video 1/1 (frame 340/6950) /Users/liru/Documents/Computer Vision/YOLO Project/house-tour.mp4: 384x640 1 person, 1 dog, 1 cup, 1 chair, 1 couch, 2 potted plants, 1 dining table, 1 book, 14.9ms\n",
      "video 1/1 (frame 341/6950) /Users/liru/Documents/Computer Vision/YOLO Project/house-tour.mp4: 384x640 1 person, 1 dog, 1 cup, 1 chair, 2 couchs, 2 potted plants, 1 dining table, 1 book, 11.8ms\n",
      "video 1/1 (frame 342/6950) /Users/liru/Documents/Computer Vision/YOLO Project/house-tour.mp4: 384x640 1 person, 1 dog, 1 cup, 1 chair, 2 couchs, 2 potted plants, 1 dining table, 1 book, 14.0ms\n",
      "video 1/1 (frame 343/6950) /Users/liru/Documents/Computer Vision/YOLO Project/house-tour.mp4: 384x640 1 person, 1 dog, 1 cup, 1 chair, 2 couchs, 2 potted plants, 1 dining table, 1 book, 17.4ms\n",
      "video 1/1 (frame 344/6950) /Users/liru/Documents/Computer Vision/YOLO Project/house-tour.mp4: 384x640 1 person, 1 dog, 1 cup, 1 chair, 1 couch, 2 potted plants, 1 dining table, 1 book, 11.8ms\n",
      "video 1/1 (frame 345/6950) /Users/liru/Documents/Computer Vision/YOLO Project/house-tour.mp4: 384x640 1 person, 1 dog, 1 cup, 1 chair, 1 couch, 2 potted plants, 1 dining table, 1 book, 11.0ms\n",
      "video 1/1 (frame 346/6950) /Users/liru/Documents/Computer Vision/YOLO Project/house-tour.mp4: 384x640 1 person, 1 dog, 1 cup, 1 chair, 2 couchs, 2 potted plants, 1 dining table, 1 book, 10.3ms\n",
      "video 1/1 (frame 347/6950) /Users/liru/Documents/Computer Vision/YOLO Project/house-tour.mp4: 384x640 1 person, 2 dogs, 1 cup, 1 chair, 2 couchs, 2 potted plants, 1 dining table, 1 book, 10.3ms\n",
      "video 1/1 (frame 348/6950) /Users/liru/Documents/Computer Vision/YOLO Project/house-tour.mp4: 384x640 1 person, 2 dogs, 1 cup, 1 chair, 2 couchs, 2 potted plants, 1 dining table, 1 book, 10.4ms\n",
      "video 1/1 (frame 349/6950) /Users/liru/Documents/Computer Vision/YOLO Project/house-tour.mp4: 384x640 1 person, 2 dogs, 1 cup, 1 chair, 2 couchs, 2 potted plants, 1 dining table, 1 book, 13.6ms\n",
      "video 1/1 (frame 350/6950) /Users/liru/Documents/Computer Vision/YOLO Project/house-tour.mp4: 384x640 1 person, 2 dogs, 1 cup, 1 chair, 2 couchs, 2 potted plants, 1 dining table, 1 book, 14.3ms\n",
      "video 1/1 (frame 351/6950) /Users/liru/Documents/Computer Vision/YOLO Project/house-tour.mp4: 384x640 1 person, 3 dogs, 1 cup, 1 chair, 3 couchs, 2 potted plants, 1 dining table, 1 book, 15.8ms\n",
      "video 1/1 (frame 352/6950) /Users/liru/Documents/Computer Vision/YOLO Project/house-tour.mp4: 384x640 1 person, 3 dogs, 1 cup, 1 chair, 3 couchs, 2 potted plants, 1 dining table, 1 book, 14.1ms\n",
      "video 1/1 (frame 353/6950) /Users/liru/Documents/Computer Vision/YOLO Project/house-tour.mp4: 384x640 1 person, 3 dogs, 1 cup, 1 chair, 3 couchs, 1 potted plant, 1 dining table, 1 book, 17.4ms\n",
      "video 1/1 (frame 354/6950) /Users/liru/Documents/Computer Vision/YOLO Project/house-tour.mp4: 384x640 1 person, 1 dog, 1 cup, 1 chair, 3 couchs, 1 potted plant, 1 dining table, 1 book, 12.7ms\n",
      "video 1/1 (frame 355/6950) /Users/liru/Documents/Computer Vision/YOLO Project/house-tour.mp4: 384x640 1 person, 1 dog, 1 cup, 1 broccoli, 1 chair, 3 couchs, 2 potted plants, 1 dining table, 1 book, 11.9ms\n",
      "video 1/1 (frame 356/6950) /Users/liru/Documents/Computer Vision/YOLO Project/house-tour.mp4: 384x640 1 person, 1 cat, 1 dog, 1 cup, 1 chair, 3 couchs, 2 potted plants, 1 dining table, 1 book, 11.3ms\n",
      "video 1/1 (frame 357/6950) /Users/liru/Documents/Computer Vision/YOLO Project/house-tour.mp4: 384x640 1 person, 1 cat, 1 dog, 1 cup, 1 chair, 3 couchs, 2 potted plants, 1 dining table, 1 book, 10.6ms\n",
      "video 1/1 (frame 358/6950) /Users/liru/Documents/Computer Vision/YOLO Project/house-tour.mp4: 384x640 1 person, 1 cat, 1 dog, 1 cup, 1 chair, 3 couchs, 2 potted plants, 1 dining table, 1 book, 11.0ms\n",
      "video 1/1 (frame 359/6950) /Users/liru/Documents/Computer Vision/YOLO Project/house-tour.mp4: 384x640 1 person, 1 dog, 1 cup, 1 chair, 3 couchs, 2 potted plants, 1 dining table, 1 book, 10.8ms\n",
      "video 1/1 (frame 360/6950) /Users/liru/Documents/Computer Vision/YOLO Project/house-tour.mp4: 384x640 1 person, 1 dog, 1 cup, 3 couchs, 2 potted plants, 1 dining table, 1 book, 10.9ms\n",
      "video 1/1 (frame 361/6950) /Users/liru/Documents/Computer Vision/YOLO Project/house-tour.mp4: 384x640 1 person, 1 dog, 1 cup, 1 chair, 2 couchs, 2 potted plants, 1 dining table, 1 book, 12.9ms\n",
      "video 1/1 (frame 362/6950) /Users/liru/Documents/Computer Vision/YOLO Project/house-tour.mp4: 384x640 1 person, 1 dog, 1 cup, 1 broccoli, 3 couchs, 2 potted plants, 1 dining table, 1 book, 13.2ms\n",
      "video 1/1 (frame 363/6950) /Users/liru/Documents/Computer Vision/YOLO Project/house-tour.mp4: 384x640 1 person, 1 dog, 1 cup, 1 broccoli, 3 couchs, 2 potted plants, 1 dining table, 1 book, 12.0ms\n",
      "video 1/1 (frame 364/6950) /Users/liru/Documents/Computer Vision/YOLO Project/house-tour.mp4: 384x640 1 person, 2 dogs, 1 cup, 1 broccoli, 3 couchs, 2 potted plants, 1 dining table, 1 book, 11.5ms\n",
      "video 1/1 (frame 365/6950) /Users/liru/Documents/Computer Vision/YOLO Project/house-tour.mp4: 384x640 1 person, 2 dogs, 1 cup, 3 couchs, 2 potted plants, 1 dining table, 1 book, 10.6ms\n",
      "video 1/1 (frame 366/6950) /Users/liru/Documents/Computer Vision/YOLO Project/house-tour.mp4: 384x640 1 person, 2 dogs, 1 cup, 3 couchs, 2 potted plants, 1 dining table, 1 book, 10.6ms\n",
      "video 1/1 (frame 367/6950) /Users/liru/Documents/Computer Vision/YOLO Project/house-tour.mp4: 384x640 1 person, 1 dog, 1 cup, 3 couchs, 2 potted plants, 1 dining table, 1 book, 10.8ms\n",
      "video 1/1 (frame 368/6950) /Users/liru/Documents/Computer Vision/YOLO Project/house-tour.mp4: 384x640 1 person, 2 dogs, 1 cup, 3 couchs, 1 potted plant, 1 dining table, 1 book, 11.1ms\n",
      "video 1/1 (frame 369/6950) /Users/liru/Documents/Computer Vision/YOLO Project/house-tour.mp4: 384x640 1 person, 2 dogs, 1 cup, 2 couchs, 1 potted plant, 1 dining table, 1 book, 10.5ms\n",
      "video 1/1 (frame 370/6950) /Users/liru/Documents/Computer Vision/YOLO Project/house-tour.mp4: 384x640 1 person, 1 dog, 1 cup, 2 couchs, 1 potted plant, 1 dining table, 1 book, 10.5ms\n",
      "video 1/1 (frame 371/6950) /Users/liru/Documents/Computer Vision/YOLO Project/house-tour.mp4: 384x640 1 person, 1 cat, 1 dog, 1 cup, 2 couchs, 1 potted plant, 1 dining table, 1 book, 10.6ms\n",
      "video 1/1 (frame 372/6950) /Users/liru/Documents/Computer Vision/YOLO Project/house-tour.mp4: 384x640 1 person, 2 dogs, 1 cup, 1 chair, 2 couchs, 2 potted plants, 1 dining table, 1 book, 10.9ms\n",
      "video 1/1 (frame 373/6950) /Users/liru/Documents/Computer Vision/YOLO Project/house-tour.mp4: 384x640 1 person, 1 dog, 1 cup, 1 chair, 2 couchs, 2 potted plants, 1 dining table, 1 book, 12.3ms\n",
      "video 1/1 (frame 374/6950) /Users/liru/Documents/Computer Vision/YOLO Project/house-tour.mp4: 384x640 1 person, 1 dog, 1 cup, 1 chair, 2 couchs, 2 potted plants, 1 dining table, 1 book, 11.8ms\n",
      "video 1/1 (frame 375/6950) /Users/liru/Documents/Computer Vision/YOLO Project/house-tour.mp4: 384x640 1 person, 2 dogs, 1 cup, 1 chair, 1 couch, 2 potted plants, 1 dining table, 1 book, 14.9ms\n",
      "video 1/1 (frame 376/6950) /Users/liru/Documents/Computer Vision/YOLO Project/house-tour.mp4: 384x640 6 potted plants, 1 book, 1 vase, 14.8ms\n",
      "video 1/1 (frame 377/6950) /Users/liru/Documents/Computer Vision/YOLO Project/house-tour.mp4: 384x640 1 chair, 6 potted plants, 1 book, 1 vase, 12.5ms\n",
      "video 1/1 (frame 378/6950) /Users/liru/Documents/Computer Vision/YOLO Project/house-tour.mp4: 384x640 1 chair, 4 potted plants, 1 book, 1 vase, 11.1ms\n",
      "video 1/1 (frame 379/6950) /Users/liru/Documents/Computer Vision/YOLO Project/house-tour.mp4: 384x640 1 couch, 6 potted plants, 1 book, 1 vase, 11.4ms\n",
      "video 1/1 (frame 380/6950) /Users/liru/Documents/Computer Vision/YOLO Project/house-tour.mp4: 384x640 1 couch, 7 potted plants, 1 book, 1 vase, 14.0ms\n",
      "video 1/1 (frame 381/6950) /Users/liru/Documents/Computer Vision/YOLO Project/house-tour.mp4: 384x640 1 couch, 7 potted plants, 1 book, 1 vase, 13.5ms\n",
      "video 1/1 (frame 382/6950) /Users/liru/Documents/Computer Vision/YOLO Project/house-tour.mp4: 384x640 1 couch, 6 potted plants, 1 book, 1 vase, 12.1ms\n",
      "video 1/1 (frame 383/6950) /Users/liru/Documents/Computer Vision/YOLO Project/house-tour.mp4: 384x640 1 chair, 1 couch, 6 potted plants, 1 book, 1 vase, 11.6ms\n",
      "video 1/1 (frame 384/6950) /Users/liru/Documents/Computer Vision/YOLO Project/house-tour.mp4: 384x640 1 chair, 1 couch, 6 potted plants, 1 book, 1 vase, 11.1ms\n",
      "video 1/1 (frame 385/6950) /Users/liru/Documents/Computer Vision/YOLO Project/house-tour.mp4: 384x640 1 chair, 2 couchs, 6 potted plants, 1 book, 1 vase, 11.2ms\n",
      "video 1/1 (frame 386/6950) /Users/liru/Documents/Computer Vision/YOLO Project/house-tour.mp4: 384x640 1 chair, 1 couch, 6 potted plants, 1 book, 1 vase, 12.2ms\n",
      "video 1/1 (frame 387/6950) /Users/liru/Documents/Computer Vision/YOLO Project/house-tour.mp4: 384x640 1 chair, 1 couch, 6 potted plants, 1 vase, 13.1ms\n",
      "video 1/1 (frame 388/6950) /Users/liru/Documents/Computer Vision/YOLO Project/house-tour.mp4: 384x640 1 chair, 2 couchs, 6 potted plants, 1 vase, 12.2ms\n",
      "video 1/1 (frame 389/6950) /Users/liru/Documents/Computer Vision/YOLO Project/house-tour.mp4: 384x640 1 chair, 2 couchs, 5 potted plants, 1 vase, 11.2ms\n",
      "video 1/1 (frame 390/6950) /Users/liru/Documents/Computer Vision/YOLO Project/house-tour.mp4: 384x640 1 chair, 1 couch, 6 potted plants, 1 vase, 11.7ms\n",
      "video 1/1 (frame 391/6950) /Users/liru/Documents/Computer Vision/YOLO Project/house-tour.mp4: 384x640 1 chair, 2 couchs, 5 potted plants, 1 book, 1 vase, 13.3ms\n",
      "video 1/1 (frame 392/6950) /Users/liru/Documents/Computer Vision/YOLO Project/house-tour.mp4: 384x640 2 couchs, 4 potted plants, 1 book, 1 vase, 13.3ms\n",
      "video 1/1 (frame 393/6950) /Users/liru/Documents/Computer Vision/YOLO Project/house-tour.mp4: 384x640 1 chair, 1 couch, 5 potted plants, 1 vase, 13.1ms\n",
      "video 1/1 (frame 394/6950) /Users/liru/Documents/Computer Vision/YOLO Project/house-tour.mp4: 384x640 2 chairs, 1 couch, 4 potted plants, 1 vase, 12.3ms\n",
      "video 1/1 (frame 395/6950) /Users/liru/Documents/Computer Vision/YOLO Project/house-tour.mp4: 384x640 2 chairs, 1 couch, 5 potted plants, 1 vase, 11.9ms\n",
      "video 1/1 (frame 396/6950) /Users/liru/Documents/Computer Vision/YOLO Project/house-tour.mp4: 384x640 2 chairs, 1 couch, 5 potted plants, 1 vase, 11.2ms\n",
      "video 1/1 (frame 397/6950) /Users/liru/Documents/Computer Vision/YOLO Project/house-tour.mp4: 384x640 2 chairs, 1 couch, 5 potted plants, 1 vase, 10.2ms\n",
      "video 1/1 (frame 398/6950) /Users/liru/Documents/Computer Vision/YOLO Project/house-tour.mp4: 384x640 2 chairs, 2 couchs, 6 potted plants, 1 vase, 10.4ms\n",
      "video 1/1 (frame 399/6950) /Users/liru/Documents/Computer Vision/YOLO Project/house-tour.mp4: 384x640 2 chairs, 2 couchs, 5 potted plants, 1 vase, 11.5ms\n",
      "video 1/1 (frame 400/6950) /Users/liru/Documents/Computer Vision/YOLO Project/house-tour.mp4: 384x640 3 couchs, 6 potted plants, 2 vases, 15.4ms\n",
      "video 1/1 (frame 401/6950) /Users/liru/Documents/Computer Vision/YOLO Project/house-tour.mp4: 384x640 1 chair, 3 couchs, 5 potted plants, 16.6ms\n",
      "video 1/1 (frame 402/6950) /Users/liru/Documents/Computer Vision/YOLO Project/house-tour.mp4: 384x640 1 chair, 3 couchs, 5 potted plants, 13.3ms\n",
      "video 1/1 (frame 403/6950) /Users/liru/Documents/Computer Vision/YOLO Project/house-tour.mp4: 384x640 1 chair, 3 couchs, 6 potted plants, 12.1ms\n",
      "video 1/1 (frame 404/6950) /Users/liru/Documents/Computer Vision/YOLO Project/house-tour.mp4: 384x640 2 chairs, 4 couchs, 6 potted plants, 11.4ms\n",
      "video 1/1 (frame 405/6950) /Users/liru/Documents/Computer Vision/YOLO Project/house-tour.mp4: 384x640 2 chairs, 3 couchs, 6 potted plants, 1 vase, 12.7ms\n",
      "video 1/1 (frame 406/6950) /Users/liru/Documents/Computer Vision/YOLO Project/house-tour.mp4: 384x640 2 chairs, 2 couchs, 6 potted plants, 11.8ms\n",
      "video 1/1 (frame 407/6950) /Users/liru/Documents/Computer Vision/YOLO Project/house-tour.mp4: 384x640 2 chairs, 3 couchs, 6 potted plants, 1 vase, 10.9ms\n",
      "video 1/1 (frame 408/6950) /Users/liru/Documents/Computer Vision/YOLO Project/house-tour.mp4: 384x640 2 chairs, 2 couchs, 7 potted plants, 1 vase, 11.3ms\n",
      "video 1/1 (frame 409/6950) /Users/liru/Documents/Computer Vision/YOLO Project/house-tour.mp4: 384x640 1 chair, 3 couchs, 6 potted plants, 1 vase, 11.9ms\n",
      "video 1/1 (frame 410/6950) /Users/liru/Documents/Computer Vision/YOLO Project/house-tour.mp4: 384x640 2 chairs, 3 couchs, 7 potted plants, 1 vase, 12.5ms\n",
      "video 1/1 (frame 411/6950) /Users/liru/Documents/Computer Vision/YOLO Project/house-tour.mp4: 384x640 2 chairs, 3 couchs, 7 potted plants, 11.5ms\n",
      "video 1/1 (frame 412/6950) /Users/liru/Documents/Computer Vision/YOLO Project/house-tour.mp4: 384x640 2 chairs, 2 couchs, 5 potted plants, 14.7ms\n",
      "video 1/1 (frame 413/6950) /Users/liru/Documents/Computer Vision/YOLO Project/house-tour.mp4: 384x640 2 chairs, 2 couchs, 6 potted plants, 14.7ms\n",
      "video 1/1 (frame 414/6950) /Users/liru/Documents/Computer Vision/YOLO Project/house-tour.mp4: 384x640 2 chairs, 2 couchs, 5 potted plants, 13.5ms\n",
      "video 1/1 (frame 415/6950) /Users/liru/Documents/Computer Vision/YOLO Project/house-tour.mp4: 384x640 2 chairs, 2 couchs, 6 potted plants, 11.4ms\n",
      "video 1/1 (frame 416/6950) /Users/liru/Documents/Computer Vision/YOLO Project/house-tour.mp4: 384x640 2 chairs, 2 couchs, 5 potted plants, 10.7ms\n",
      "video 1/1 (frame 417/6950) /Users/liru/Documents/Computer Vision/YOLO Project/house-tour.mp4: 384x640 2 potted plants, 1 dining table, 10.4ms\n",
      "video 1/1 (frame 418/6950) /Users/liru/Documents/Computer Vision/YOLO Project/house-tour.mp4: 384x640 2 potted plants, 1 dining table, 11.4ms\n",
      "video 1/1 (frame 419/6950) /Users/liru/Documents/Computer Vision/YOLO Project/house-tour.mp4: 384x640 2 potted plants, 1 dining table, 17.1ms\n",
      "video 1/1 (frame 420/6950) /Users/liru/Documents/Computer Vision/YOLO Project/house-tour.mp4: 384x640 2 potted plants, 1 dining table, 10.9ms\n",
      "video 1/1 (frame 421/6950) /Users/liru/Documents/Computer Vision/YOLO Project/house-tour.mp4: 384x640 2 potted plants, 1 dining table, 10.7ms\n",
      "video 1/1 (frame 422/6950) /Users/liru/Documents/Computer Vision/YOLO Project/house-tour.mp4: 384x640 2 potted plants, 1 dining table, 10.5ms\n",
      "video 1/1 (frame 423/6950) /Users/liru/Documents/Computer Vision/YOLO Project/house-tour.mp4: 384x640 2 potted plants, 1 dining table, 10.9ms\n",
      "video 1/1 (frame 424/6950) /Users/liru/Documents/Computer Vision/YOLO Project/house-tour.mp4: 384x640 2 potted plants, 1 dining table, 12.8ms\n",
      "video 1/1 (frame 425/6950) /Users/liru/Documents/Computer Vision/YOLO Project/house-tour.mp4: 384x640 2 potted plants, 1 dining table, 12.3ms\n",
      "video 1/1 (frame 426/6950) /Users/liru/Documents/Computer Vision/YOLO Project/house-tour.mp4: 384x640 2 potted plants, 1 dining table, 12.8ms\n",
      "video 1/1 (frame 427/6950) /Users/liru/Documents/Computer Vision/YOLO Project/house-tour.mp4: 384x640 2 potted plants, 1 dining table, 1 vase, 11.3ms\n",
      "video 1/1 (frame 428/6950) /Users/liru/Documents/Computer Vision/YOLO Project/house-tour.mp4: 384x640 2 potted plants, 1 dining table, 12.0ms\n",
      "video 1/1 (frame 429/6950) /Users/liru/Documents/Computer Vision/YOLO Project/house-tour.mp4: 384x640 2 potted plants, 1 dining table, 13.2ms\n",
      "video 1/1 (frame 430/6950) /Users/liru/Documents/Computer Vision/YOLO Project/house-tour.mp4: 384x640 2 potted plants, 1 dining table, 12.3ms\n",
      "video 1/1 (frame 431/6950) /Users/liru/Documents/Computer Vision/YOLO Project/house-tour.mp4: 384x640 2 potted plants, 1 dining table, 1 vase, 11.4ms\n",
      "video 1/1 (frame 432/6950) /Users/liru/Documents/Computer Vision/YOLO Project/house-tour.mp4: 384x640 2 potted plants, 1 dining table, 11.2ms\n",
      "video 1/1 (frame 433/6950) /Users/liru/Documents/Computer Vision/YOLO Project/house-tour.mp4: 384x640 2 potted plants, 1 dining table, 10.7ms\n",
      "video 1/1 (frame 434/6950) /Users/liru/Documents/Computer Vision/YOLO Project/house-tour.mp4: 384x640 2 potted plants, 1 dining table, 1 vase, 11.9ms\n",
      "video 1/1 (frame 435/6950) /Users/liru/Documents/Computer Vision/YOLO Project/house-tour.mp4: 384x640 2 potted plants, 1 dining table, 1 vase, 11.0ms\n",
      "video 1/1 (frame 436/6950) /Users/liru/Documents/Computer Vision/YOLO Project/house-tour.mp4: 384x640 2 potted plants, 1 dining table, 1 vase, 13.0ms\n",
      "video 1/1 (frame 437/6950) /Users/liru/Documents/Computer Vision/YOLO Project/house-tour.mp4: 384x640 2 potted plants, 13.9ms\n",
      "video 1/1 (frame 438/6950) /Users/liru/Documents/Computer Vision/YOLO Project/house-tour.mp4: 384x640 2 potted plants, 12.3ms\n",
      "video 1/1 (frame 439/6950) /Users/liru/Documents/Computer Vision/YOLO Project/house-tour.mp4: 384x640 2 potted plants, 11.2ms\n",
      "video 1/1 (frame 440/6950) /Users/liru/Documents/Computer Vision/YOLO Project/house-tour.mp4: 384x640 2 potted plants, 11.3ms\n",
      "video 1/1 (frame 441/6950) /Users/liru/Documents/Computer Vision/YOLO Project/house-tour.mp4: 384x640 2 potted plants, 1 vase, 12.9ms\n",
      "video 1/1 (frame 442/6950) /Users/liru/Documents/Computer Vision/YOLO Project/house-tour.mp4: 384x640 2 potted plants, 1 vase, 13.5ms\n",
      "video 1/1 (frame 443/6950) /Users/liru/Documents/Computer Vision/YOLO Project/house-tour.mp4: 384x640 2 potted plants, 12.4ms\n",
      "video 1/1 (frame 444/6950) /Users/liru/Documents/Computer Vision/YOLO Project/house-tour.mp4: 384x640 2 potted plants, 1 vase, 11.3ms\n",
      "video 1/1 (frame 445/6950) /Users/liru/Documents/Computer Vision/YOLO Project/house-tour.mp4: 384x640 2 potted plants, 1 vase, 11.1ms\n",
      "video 1/1 (frame 446/6950) /Users/liru/Documents/Computer Vision/YOLO Project/house-tour.mp4: 384x640 2 potted plants, 1 vase, 11.5ms\n",
      "video 1/1 (frame 447/6950) /Users/liru/Documents/Computer Vision/YOLO Project/house-tour.mp4: 384x640 2 potted plants, 1 vase, 14.3ms\n",
      "video 1/1 (frame 448/6950) /Users/liru/Documents/Computer Vision/YOLO Project/house-tour.mp4: 384x640 2 potted plants, 1 vase, 13.9ms\n",
      "video 1/1 (frame 449/6950) /Users/liru/Documents/Computer Vision/YOLO Project/house-tour.mp4: 384x640 2 potted plants, 1 dining table, 1 vase, 12.7ms\n",
      "video 1/1 (frame 450/6950) /Users/liru/Documents/Computer Vision/YOLO Project/house-tour.mp4: 384x640 2 potted plants, 1 dining table, 2 vases, 14.3ms\n",
      "video 1/1 (frame 451/6950) /Users/liru/Documents/Computer Vision/YOLO Project/house-tour.mp4: 384x640 2 potted plants, 1 vase, 13.8ms\n",
      "video 1/1 (frame 452/6950) /Users/liru/Documents/Computer Vision/YOLO Project/house-tour.mp4: 384x640 2 potted plants, 1 vase, 12.6ms\n",
      "video 1/1 (frame 453/6950) /Users/liru/Documents/Computer Vision/YOLO Project/house-tour.mp4: 384x640 2 potted plants, 1 vase, 13.8ms\n",
      "video 1/1 (frame 454/6950) /Users/liru/Documents/Computer Vision/YOLO Project/house-tour.mp4: 384x640 2 potted plants, 1 dining table, 1 vase, 13.0ms\n",
      "video 1/1 (frame 455/6950) /Users/liru/Documents/Computer Vision/YOLO Project/house-tour.mp4: 384x640 2 potted plants, 1 dining table, 1 vase, 12.2ms\n",
      "video 1/1 (frame 456/6950) /Users/liru/Documents/Computer Vision/YOLO Project/house-tour.mp4: 384x640 2 potted plants, 1 vase, 11.1ms\n",
      "video 1/1 (frame 457/6950) /Users/liru/Documents/Computer Vision/YOLO Project/house-tour.mp4: 384x640 2 potted plants, 1 dining table, 2 vases, 11.2ms\n",
      "video 1/1 (frame 458/6950) /Users/liru/Documents/Computer Vision/YOLO Project/house-tour.mp4: 384x640 2 potted plants, 1 dining table, 2 vases, 12.7ms\n",
      "video 1/1 (frame 459/6950) /Users/liru/Documents/Computer Vision/YOLO Project/house-tour.mp4: 384x640 2 potted plants, 2 vases, 11.6ms\n",
      "video 1/1 (frame 460/6950) /Users/liru/Documents/Computer Vision/YOLO Project/house-tour.mp4: 384x640 1 person, 11.2ms\n",
      "video 1/1 (frame 461/6950) /Users/liru/Documents/Computer Vision/YOLO Project/house-tour.mp4: 384x640 1 person, 12.1ms\n",
      "video 1/1 (frame 462/6950) /Users/liru/Documents/Computer Vision/YOLO Project/house-tour.mp4: 384x640 1 person, 14.1ms\n",
      "video 1/1 (frame 463/6950) /Users/liru/Documents/Computer Vision/YOLO Project/house-tour.mp4: 384x640 1 person, 14.8ms\n",
      "video 1/1 (frame 464/6950) /Users/liru/Documents/Computer Vision/YOLO Project/house-tour.mp4: 384x640 1 person, 11.5ms\n",
      "video 1/1 (frame 465/6950) /Users/liru/Documents/Computer Vision/YOLO Project/house-tour.mp4: 384x640 1 person, 11.6ms\n",
      "video 1/1 (frame 466/6950) /Users/liru/Documents/Computer Vision/YOLO Project/house-tour.mp4: 384x640 1 person, 12.0ms\n",
      "video 1/1 (frame 467/6950) /Users/liru/Documents/Computer Vision/YOLO Project/house-tour.mp4: 384x640 1 person, 11.0ms\n",
      "video 1/1 (frame 468/6950) /Users/liru/Documents/Computer Vision/YOLO Project/house-tour.mp4: 384x640 1 person, 10.6ms\n",
      "video 1/1 (frame 469/6950) /Users/liru/Documents/Computer Vision/YOLO Project/house-tour.mp4: 384x640 1 person, 10.3ms\n",
      "video 1/1 (frame 470/6950) /Users/liru/Documents/Computer Vision/YOLO Project/house-tour.mp4: 384x640 1 person, 10.2ms\n",
      "video 1/1 (frame 471/6950) /Users/liru/Documents/Computer Vision/YOLO Project/house-tour.mp4: 384x640 1 person, 11.2ms\n",
      "video 1/1 (frame 472/6950) /Users/liru/Documents/Computer Vision/YOLO Project/house-tour.mp4: 384x640 1 person, 14.4ms\n",
      "video 1/1 (frame 473/6950) /Users/liru/Documents/Computer Vision/YOLO Project/house-tour.mp4: 384x640 1 person, 15.1ms\n",
      "video 1/1 (frame 474/6950) /Users/liru/Documents/Computer Vision/YOLO Project/house-tour.mp4: 384x640 1 person, 12.4ms\n",
      "video 1/1 (frame 475/6950) /Users/liru/Documents/Computer Vision/YOLO Project/house-tour.mp4: 384x640 1 person, 11.4ms\n",
      "video 1/1 (frame 476/6950) /Users/liru/Documents/Computer Vision/YOLO Project/house-tour.mp4: 384x640 1 person, 10.4ms\n",
      "video 1/1 (frame 477/6950) /Users/liru/Documents/Computer Vision/YOLO Project/house-tour.mp4: 384x640 1 person, 10.9ms\n",
      "video 1/1 (frame 478/6950) /Users/liru/Documents/Computer Vision/YOLO Project/house-tour.mp4: 384x640 1 person, 10.6ms\n",
      "video 1/1 (frame 479/6950) /Users/liru/Documents/Computer Vision/YOLO Project/house-tour.mp4: 384x640 1 person, 11.1ms\n",
      "video 1/1 (frame 480/6950) /Users/liru/Documents/Computer Vision/YOLO Project/house-tour.mp4: 384x640 1 person, 13.8ms\n",
      "video 1/1 (frame 481/6950) /Users/liru/Documents/Computer Vision/YOLO Project/house-tour.mp4: 384x640 1 person, 13.1ms\n",
      "video 1/1 (frame 482/6950) /Users/liru/Documents/Computer Vision/YOLO Project/house-tour.mp4: 384x640 1 person, 11.7ms\n",
      "video 1/1 (frame 483/6950) /Users/liru/Documents/Computer Vision/YOLO Project/house-tour.mp4: 384x640 1 person, 12.5ms\n",
      "video 1/1 (frame 484/6950) /Users/liru/Documents/Computer Vision/YOLO Project/house-tour.mp4: 384x640 1 person, 11.9ms\n",
      "video 1/1 (frame 485/6950) /Users/liru/Documents/Computer Vision/YOLO Project/house-tour.mp4: 384x640 1 person, 11.0ms\n",
      "video 1/1 (frame 486/6950) /Users/liru/Documents/Computer Vision/YOLO Project/house-tour.mp4: 384x640 1 person, 10.4ms\n",
      "video 1/1 (frame 487/6950) /Users/liru/Documents/Computer Vision/YOLO Project/house-tour.mp4: 384x640 1 person, 10.3ms\n",
      "video 1/1 (frame 488/6950) /Users/liru/Documents/Computer Vision/YOLO Project/house-tour.mp4: 384x640 1 person, 9.9ms\n",
      "video 1/1 (frame 489/6950) /Users/liru/Documents/Computer Vision/YOLO Project/house-tour.mp4: 384x640 1 person, 10.6ms\n",
      "video 1/1 (frame 490/6950) /Users/liru/Documents/Computer Vision/YOLO Project/house-tour.mp4: 384x640 1 person, 11.5ms\n",
      "video 1/1 (frame 491/6950) /Users/liru/Documents/Computer Vision/YOLO Project/house-tour.mp4: 384x640 1 person, 15.0ms\n",
      "video 1/1 (frame 492/6950) /Users/liru/Documents/Computer Vision/YOLO Project/house-tour.mp4: 384x640 1 person, 15.5ms\n",
      "video 1/1 (frame 493/6950) /Users/liru/Documents/Computer Vision/YOLO Project/house-tour.mp4: 384x640 1 person, 14.2ms\n",
      "video 1/1 (frame 494/6950) /Users/liru/Documents/Computer Vision/YOLO Project/house-tour.mp4: 384x640 1 person, 11.8ms\n",
      "video 1/1 (frame 495/6950) /Users/liru/Documents/Computer Vision/YOLO Project/house-tour.mp4: 384x640 1 person, 10.7ms\n",
      "video 1/1 (frame 496/6950) /Users/liru/Documents/Computer Vision/YOLO Project/house-tour.mp4: 384x640 1 person, 10.8ms\n",
      "video 1/1 (frame 497/6950) /Users/liru/Documents/Computer Vision/YOLO Project/house-tour.mp4: 384x640 1 person, 10.2ms\n",
      "video 1/1 (frame 498/6950) /Users/liru/Documents/Computer Vision/YOLO Project/house-tour.mp4: 384x640 1 person, 10.0ms\n",
      "video 1/1 (frame 499/6950) /Users/liru/Documents/Computer Vision/YOLO Project/house-tour.mp4: 384x640 1 person, 10.3ms\n",
      "video 1/1 (frame 500/6950) /Users/liru/Documents/Computer Vision/YOLO Project/house-tour.mp4: 384x640 1 book, 10.7ms\n",
      "video 1/1 (frame 501/6950) /Users/liru/Documents/Computer Vision/YOLO Project/house-tour.mp4: 384x640 1 book, 14.7ms\n",
      "video 1/1 (frame 502/6950) /Users/liru/Documents/Computer Vision/YOLO Project/house-tour.mp4: 384x640 1 book, 12.2ms\n",
      "video 1/1 (frame 503/6950) /Users/liru/Documents/Computer Vision/YOLO Project/house-tour.mp4: 384x640 1 book, 11.2ms\n",
      "video 1/1 (frame 504/6950) /Users/liru/Documents/Computer Vision/YOLO Project/house-tour.mp4: 384x640 1 book, 12.0ms\n",
      "video 1/1 (frame 505/6950) /Users/liru/Documents/Computer Vision/YOLO Project/house-tour.mp4: 384x640 1 book, 13.3ms\n",
      "video 1/1 (frame 506/6950) /Users/liru/Documents/Computer Vision/YOLO Project/house-tour.mp4: 384x640 1 cup, 1 book, 12.7ms\n",
      "video 1/1 (frame 507/6950) /Users/liru/Documents/Computer Vision/YOLO Project/house-tour.mp4: 384x640 1 cup, 1 book, 13.1ms\n",
      "video 1/1 (frame 508/6950) /Users/liru/Documents/Computer Vision/YOLO Project/house-tour.mp4: 384x640 1 cup, 1 book, 12.4ms\n",
      "video 1/1 (frame 509/6950) /Users/liru/Documents/Computer Vision/YOLO Project/house-tour.mp4: 384x640 1 cup, 1 book, 14.6ms\n",
      "video 1/1 (frame 510/6950) /Users/liru/Documents/Computer Vision/YOLO Project/house-tour.mp4: 384x640 1 cup, 2 books, 13.3ms\n",
      "video 1/1 (frame 511/6950) /Users/liru/Documents/Computer Vision/YOLO Project/house-tour.mp4: 384x640 1 cup, 2 books, 12.1ms\n",
      "video 1/1 (frame 512/6950) /Users/liru/Documents/Computer Vision/YOLO Project/house-tour.mp4: 384x640 2 books, 11.8ms\n",
      "video 1/1 (frame 513/6950) /Users/liru/Documents/Computer Vision/YOLO Project/house-tour.mp4: 384x640 2 books, 10.7ms\n",
      "video 1/1 (frame 514/6950) /Users/liru/Documents/Computer Vision/YOLO Project/house-tour.mp4: 384x640 1 cup, 1 book, 10.5ms\n",
      "video 1/1 (frame 515/6950) /Users/liru/Documents/Computer Vision/YOLO Project/house-tour.mp4: 384x640 1 cup, 2 books, 11.4ms\n",
      "video 1/1 (frame 516/6950) /Users/liru/Documents/Computer Vision/YOLO Project/house-tour.mp4: 384x640 1 book, 10.9ms\n",
      "video 1/1 (frame 517/6950) /Users/liru/Documents/Computer Vision/YOLO Project/house-tour.mp4: 384x640 2 books, 11.4ms\n",
      "video 1/1 (frame 518/6950) /Users/liru/Documents/Computer Vision/YOLO Project/house-tour.mp4: 384x640 2 books, 11.0ms\n",
      "video 1/1 (frame 519/6950) /Users/liru/Documents/Computer Vision/YOLO Project/house-tour.mp4: 384x640 1 cup, 2 books, 11.2ms\n",
      "video 1/1 (frame 520/6950) /Users/liru/Documents/Computer Vision/YOLO Project/house-tour.mp4: 384x640 1 book, 10.7ms\n",
      "video 1/1 (frame 521/6950) /Users/liru/Documents/Computer Vision/YOLO Project/house-tour.mp4: 384x640 1 cup, 1 book, 11.3ms\n",
      "video 1/1 (frame 522/6950) /Users/liru/Documents/Computer Vision/YOLO Project/house-tour.mp4: 384x640 1 cup, 1 book, 12.5ms\n",
      "video 1/1 (frame 523/6950) /Users/liru/Documents/Computer Vision/YOLO Project/house-tour.mp4: 384x640 1 book, 12.9ms\n",
      "video 1/1 (frame 524/6950) /Users/liru/Documents/Computer Vision/YOLO Project/house-tour.mp4: 384x640 1 book, 11.7ms\n",
      "video 1/1 (frame 525/6950) /Users/liru/Documents/Computer Vision/YOLO Project/house-tour.mp4: 384x640 1 book, 1 clock, 12.5ms\n",
      "video 1/1 (frame 526/6950) /Users/liru/Documents/Computer Vision/YOLO Project/house-tour.mp4: 384x640 1 cup, 2 books, 11.3ms\n",
      "video 1/1 (frame 527/6950) /Users/liru/Documents/Computer Vision/YOLO Project/house-tour.mp4: 384x640 1 chair, 1 bed, 1 book, 10.9ms\n",
      "video 1/1 (frame 528/6950) /Users/liru/Documents/Computer Vision/YOLO Project/house-tour.mp4: 384x640 1 chair, 1 bed, 1 book, 11.7ms\n",
      "video 1/1 (frame 529/6950) /Users/liru/Documents/Computer Vision/YOLO Project/house-tour.mp4: 384x640 1 chair, 1 bed, 1 book, 11.0ms\n",
      "video 1/1 (frame 530/6950) /Users/liru/Documents/Computer Vision/YOLO Project/house-tour.mp4: 384x640 1 chair, 1 bed, 1 book, 11.4ms\n",
      "video 1/1 (frame 531/6950) /Users/liru/Documents/Computer Vision/YOLO Project/house-tour.mp4: 384x640 2 chairs, 1 bed, 1 book, 13.6ms\n",
      "video 1/1 (frame 532/6950) /Users/liru/Documents/Computer Vision/YOLO Project/house-tour.mp4: 384x640 2 chairs, 1 bed, 1 book, 14.1ms\n",
      "video 1/1 (frame 533/6950) /Users/liru/Documents/Computer Vision/YOLO Project/house-tour.mp4: 384x640 2 chairs, 1 bed, 1 book, 12.7ms\n",
      "video 1/1 (frame 534/6950) /Users/liru/Documents/Computer Vision/YOLO Project/house-tour.mp4: 384x640 2 chairs, 1 bed, 1 book, 15.1ms\n",
      "video 1/1 (frame 535/6950) /Users/liru/Documents/Computer Vision/YOLO Project/house-tour.mp4: 384x640 2 chairs, 1 bed, 1 book, 11.8ms\n",
      "video 1/1 (frame 536/6950) /Users/liru/Documents/Computer Vision/YOLO Project/house-tour.mp4: 384x640 1 chair, 1 bed, 1 book, 10.6ms\n",
      "video 1/1 (frame 537/6950) /Users/liru/Documents/Computer Vision/YOLO Project/house-tour.mp4: 384x640 2 chairs, 1 bed, 1 book, 10.8ms\n",
      "video 1/1 (frame 538/6950) /Users/liru/Documents/Computer Vision/YOLO Project/house-tour.mp4: 384x640 1 chair, 1 bed, 1 book, 11.1ms\n",
      "video 1/1 (frame 539/6950) /Users/liru/Documents/Computer Vision/YOLO Project/house-tour.mp4: 384x640 1 chair, 1 bed, 1 book, 10.6ms\n",
      "video 1/1 (frame 540/6950) /Users/liru/Documents/Computer Vision/YOLO Project/house-tour.mp4: 384x640 1 chair, 1 bed, 1 book, 11.5ms\n",
      "video 1/1 (frame 541/6950) /Users/liru/Documents/Computer Vision/YOLO Project/house-tour.mp4: 384x640 1 chair, 1 bed, 1 book, 13.7ms\n",
      "video 1/1 (frame 542/6950) /Users/liru/Documents/Computer Vision/YOLO Project/house-tour.mp4: 384x640 1 chair, 1 bed, 1 book, 13.6ms\n",
      "video 1/1 (frame 543/6950) /Users/liru/Documents/Computer Vision/YOLO Project/house-tour.mp4: 384x640 1 chair, 1 bed, 1 book, 12.5ms\n",
      "video 1/1 (frame 544/6950) /Users/liru/Documents/Computer Vision/YOLO Project/house-tour.mp4: 384x640 1 chair, 1 bed, 1 book, 13.0ms\n",
      "video 1/1 (frame 545/6950) /Users/liru/Documents/Computer Vision/YOLO Project/house-tour.mp4: 384x640 1 chair, 1 bed, 1 book, 12.1ms\n",
      "video 1/1 (frame 546/6950) /Users/liru/Documents/Computer Vision/YOLO Project/house-tour.mp4: 384x640 1 chair, 1 bed, 1 book, 11.3ms\n",
      "video 1/1 (frame 547/6950) /Users/liru/Documents/Computer Vision/YOLO Project/house-tour.mp4: 384x640 1 chair, 1 bed, 1 book, 11.3ms\n",
      "video 1/1 (frame 548/6950) /Users/liru/Documents/Computer Vision/YOLO Project/house-tour.mp4: 384x640 1 chair, 1 bed, 11.6ms\n",
      "video 1/1 (frame 549/6950) /Users/liru/Documents/Computer Vision/YOLO Project/house-tour.mp4: 384x640 2 chairs, 1 bed, 1 book, 12.3ms\n",
      "video 1/1 (frame 550/6950) /Users/liru/Documents/Computer Vision/YOLO Project/house-tour.mp4: 384x640 1 chair, 1 bed, 1 book, 11.1ms\n",
      "video 1/1 (frame 551/6950) /Users/liru/Documents/Computer Vision/YOLO Project/house-tour.mp4: 384x640 1 chair, 1 bed, 1 book, 11.7ms\n",
      "video 1/1 (frame 552/6950) /Users/liru/Documents/Computer Vision/YOLO Project/house-tour.mp4: 384x640 1 chair, 1 bed, 1 book, 12.8ms\n",
      "video 1/1 (frame 553/6950) /Users/liru/Documents/Computer Vision/YOLO Project/house-tour.mp4: 384x640 1 chair, 1 bed, 1 book, 12.2ms\n",
      "video 1/1 (frame 554/6950) /Users/liru/Documents/Computer Vision/YOLO Project/house-tour.mp4: 384x640 1 chair, 1 bed, 1 book, 12.0ms\n",
      "video 1/1 (frame 555/6950) /Users/liru/Documents/Computer Vision/YOLO Project/house-tour.mp4: 384x640 1 chair, 1 bed, 1 book, 11.2ms\n",
      "video 1/1 (frame 556/6950) /Users/liru/Documents/Computer Vision/YOLO Project/house-tour.mp4: 384x640 1 chair, 1 bed, 1 book, 12.5ms\n",
      "video 1/1 (frame 557/6950) /Users/liru/Documents/Computer Vision/YOLO Project/house-tour.mp4: 384x640 2 chairs, 1 bed, 1 book, 13.4ms\n",
      "video 1/1 (frame 558/6950) /Users/liru/Documents/Computer Vision/YOLO Project/house-tour.mp4: 384x640 3 chairs, 1 bed, 1 book, 12.2ms\n",
      "video 1/1 (frame 559/6950) /Users/liru/Documents/Computer Vision/YOLO Project/house-tour.mp4: 384x640 1 chair, 1 bed, 1 book, 11.3ms\n",
      "video 1/1 (frame 560/6950) /Users/liru/Documents/Computer Vision/YOLO Project/house-tour.mp4: 384x640 1 chair, 1 bed, 10.9ms\n",
      "video 1/1 (frame 561/6950) /Users/liru/Documents/Computer Vision/YOLO Project/house-tour.mp4: 384x640 1 chair, 1 bed, 12.1ms\n",
      "video 1/1 (frame 562/6950) /Users/liru/Documents/Computer Vision/YOLO Project/house-tour.mp4: 384x640 1 chair, 1 bed, 11.1ms\n",
      "video 1/1 (frame 563/6950) /Users/liru/Documents/Computer Vision/YOLO Project/house-tour.mp4: 384x640 2 chairs, 1 bed, 11.8ms\n",
      "video 1/1 (frame 564/6950) /Users/liru/Documents/Computer Vision/YOLO Project/house-tour.mp4: 384x640 2 chairs, 1 bed, 1 book, 10.5ms\n",
      "video 1/1 (frame 565/6950) /Users/liru/Documents/Computer Vision/YOLO Project/house-tour.mp4: 384x640 1 chair, 1 bed, 1 book, 10.9ms\n",
      "video 1/1 (frame 566/6950) /Users/liru/Documents/Computer Vision/YOLO Project/house-tour.mp4: 384x640 1 chair, 1 bed, 1 book, 10.5ms\n",
      "video 1/1 (frame 567/6950) /Users/liru/Documents/Computer Vision/YOLO Project/house-tour.mp4: 384x640 2 chairs, 3 potted plants, 10.7ms\n",
      "video 1/1 (frame 568/6950) /Users/liru/Documents/Computer Vision/YOLO Project/house-tour.mp4: 384x640 2 chairs, 3 potted plants, 10.3ms\n",
      "video 1/1 (frame 569/6950) /Users/liru/Documents/Computer Vision/YOLO Project/house-tour.mp4: 384x640 2 chairs, 4 potted plants, 10.6ms\n",
      "video 1/1 (frame 570/6950) /Users/liru/Documents/Computer Vision/YOLO Project/house-tour.mp4: 384x640 3 chairs, 4 potted plants, 11.2ms\n",
      "video 1/1 (frame 571/6950) /Users/liru/Documents/Computer Vision/YOLO Project/house-tour.mp4: 384x640 2 chairs, 3 potted plants, 13.3ms\n",
      "video 1/1 (frame 572/6950) /Users/liru/Documents/Computer Vision/YOLO Project/house-tour.mp4: 384x640 3 chairs, 4 potted plants, 13.8ms\n",
      "video 1/1 (frame 573/6950) /Users/liru/Documents/Computer Vision/YOLO Project/house-tour.mp4: 384x640 3 chairs, 5 potted plants, 12.7ms\n",
      "video 1/1 (frame 574/6950) /Users/liru/Documents/Computer Vision/YOLO Project/house-tour.mp4: 384x640 3 chairs, 5 potted plants, 12.3ms\n",
      "video 1/1 (frame 575/6950) /Users/liru/Documents/Computer Vision/YOLO Project/house-tour.mp4: 384x640 3 chairs, 5 potted plants, 12.3ms\n",
      "video 1/1 (frame 576/6950) /Users/liru/Documents/Computer Vision/YOLO Project/house-tour.mp4: 384x640 3 chairs, 5 potted plants, 12.4ms\n",
      "video 1/1 (frame 577/6950) /Users/liru/Documents/Computer Vision/YOLO Project/house-tour.mp4: 384x640 2 chairs, 3 potted plants, 11.0ms\n",
      "video 1/1 (frame 578/6950) /Users/liru/Documents/Computer Vision/YOLO Project/house-tour.mp4: 384x640 2 chairs, 2 potted plants, 11.8ms\n",
      "video 1/1 (frame 579/6950) /Users/liru/Documents/Computer Vision/YOLO Project/house-tour.mp4: 384x640 2 chairs, 1 potted plant, 11.1ms\n",
      "video 1/1 (frame 580/6950) /Users/liru/Documents/Computer Vision/YOLO Project/house-tour.mp4: 384x640 2 chairs, 2 potted plants, 11.8ms\n",
      "video 1/1 (frame 581/6950) /Users/liru/Documents/Computer Vision/YOLO Project/house-tour.mp4: 384x640 2 chairs, 1 potted plant, 10.9ms\n",
      "video 1/1 (frame 582/6950) /Users/liru/Documents/Computer Vision/YOLO Project/house-tour.mp4: 384x640 2 chairs, 1 potted plant, 11.4ms\n",
      "video 1/1 (frame 583/6950) /Users/liru/Documents/Computer Vision/YOLO Project/house-tour.mp4: 384x640 2 chairs, 1 potted plant, 14.0ms\n",
      "video 1/1 (frame 584/6950) /Users/liru/Documents/Computer Vision/YOLO Project/house-tour.mp4: 384x640 2 chairs, 2 potted plants, 11.4ms\n",
      "video 1/1 (frame 585/6950) /Users/liru/Documents/Computer Vision/YOLO Project/house-tour.mp4: 384x640 2 chairs, 2 potted plants, 13.3ms\n",
      "video 1/1 (frame 586/6950) /Users/liru/Documents/Computer Vision/YOLO Project/house-tour.mp4: 384x640 2 chairs, 1 potted plant, 12.0ms\n",
      "video 1/1 (frame 587/6950) /Users/liru/Documents/Computer Vision/YOLO Project/house-tour.mp4: 384x640 3 chairs, 1 potted plant, 11.1ms\n",
      "video 1/1 (frame 588/6950) /Users/liru/Documents/Computer Vision/YOLO Project/house-tour.mp4: 384x640 3 chairs, 1 potted plant, 10.6ms\n",
      "video 1/1 (frame 589/6950) /Users/liru/Documents/Computer Vision/YOLO Project/house-tour.mp4: 384x640 3 chairs, 2 potted plants, 11.4ms\n",
      "video 1/1 (frame 590/6950) /Users/liru/Documents/Computer Vision/YOLO Project/house-tour.mp4: 384x640 2 chairs, 2 potted plants, 10.7ms\n",
      "video 1/1 (frame 591/6950) /Users/liru/Documents/Computer Vision/YOLO Project/house-tour.mp4: 384x640 2 chairs, 2 potted plants, 11.2ms\n",
      "video 1/1 (frame 592/6950) /Users/liru/Documents/Computer Vision/YOLO Project/house-tour.mp4: 384x640 2 chairs, 2 potted plants, 12.4ms\n",
      "video 1/1 (frame 593/6950) /Users/liru/Documents/Computer Vision/YOLO Project/house-tour.mp4: 384x640 1 chair, 3 potted plants, 12.1ms\n",
      "video 1/1 (frame 594/6950) /Users/liru/Documents/Computer Vision/YOLO Project/house-tour.mp4: 384x640 1 chair, 3 potted plants, 12.4ms\n",
      "video 1/1 (frame 595/6950) /Users/liru/Documents/Computer Vision/YOLO Project/house-tour.mp4: 384x640 1 chair, 2 potted plants, 11.2ms\n",
      "video 1/1 (frame 596/6950) /Users/liru/Documents/Computer Vision/YOLO Project/house-tour.mp4: 384x640 2 chairs, 3 potted plants, 11.3ms\n",
      "video 1/1 (frame 597/6950) /Users/liru/Documents/Computer Vision/YOLO Project/house-tour.mp4: 384x640 2 chairs, 3 potted plants, 13.8ms\n",
      "video 1/1 (frame 598/6950) /Users/liru/Documents/Computer Vision/YOLO Project/house-tour.mp4: 384x640 2 chairs, 3 potted plants, 13.6ms\n",
      "video 1/1 (frame 599/6950) /Users/liru/Documents/Computer Vision/YOLO Project/house-tour.mp4: 384x640 1 chair, 3 potted plants, 12.8ms\n",
      "video 1/1 (frame 600/6950) /Users/liru/Documents/Computer Vision/YOLO Project/house-tour.mp4: 384x640 1 chair, 3 potted plants, 12.0ms\n",
      "video 1/1 (frame 601/6950) /Users/liru/Documents/Computer Vision/YOLO Project/house-tour.mp4: 384x640 1 chair, 3 potted plants, 11.7ms\n",
      "video 1/1 (frame 602/6950) /Users/liru/Documents/Computer Vision/YOLO Project/house-tour.mp4: 384x640 1 chair, 3 potted plants, 10.8ms\n",
      "video 1/1 (frame 603/6950) /Users/liru/Documents/Computer Vision/YOLO Project/house-tour.mp4: 384x640 1 chair, 2 potted plants, 11.0ms\n",
      "video 1/1 (frame 604/6950) /Users/liru/Documents/Computer Vision/YOLO Project/house-tour.mp4: 384x640 1 chair, 2 potted plants, 11.5ms\n",
      "video 1/1 (frame 605/6950) /Users/liru/Documents/Computer Vision/YOLO Project/house-tour.mp4: 384x640 1 chair, 2 potted plants, 11.5ms\n",
      "video 1/1 (frame 606/6950) /Users/liru/Documents/Computer Vision/YOLO Project/house-tour.mp4: 384x640 2 potted plants, 14.9ms\n",
      "video 1/1 (frame 607/6950) /Users/liru/Documents/Computer Vision/YOLO Project/house-tour.mp4: 384x640 1 chair, 2 potted plants, 14.6ms\n",
      "video 1/1 (frame 608/6950) /Users/liru/Documents/Computer Vision/YOLO Project/house-tour.mp4: 384x640 1 chair, 2 potted plants, 11.9ms\n",
      "video 1/1 (frame 609/6950) /Users/liru/Documents/Computer Vision/YOLO Project/house-tour.mp4: 384x640 2 chairs, 2 potted plants, 10.9ms\n",
      "video 1/1 (frame 610/6950) /Users/liru/Documents/Computer Vision/YOLO Project/house-tour.mp4: 384x640 2 chairs, 2 potted plants, 11.3ms\n",
      "video 1/1 (frame 611/6950) /Users/liru/Documents/Computer Vision/YOLO Project/house-tour.mp4: 384x640 2 chairs, 3 potted plants, 10.2ms\n",
      "video 1/1 (frame 612/6950) /Users/liru/Documents/Computer Vision/YOLO Project/house-tour.mp4: 384x640 2 chairs, 2 potted plants, 11.0ms\n",
      "video 1/1 (frame 613/6950) /Users/liru/Documents/Computer Vision/YOLO Project/house-tour.mp4: 384x640 2 chairs, 2 potted plants, 12.4ms\n",
      "video 1/1 (frame 614/6950) /Users/liru/Documents/Computer Vision/YOLO Project/house-tour.mp4: 384x640 3 chairs, 3 potted plants, 11.6ms\n",
      "video 1/1 (frame 615/6950) /Users/liru/Documents/Computer Vision/YOLO Project/house-tour.mp4: 384x640 3 chairs, 2 potted plants, 12.5ms\n",
      "video 1/1 (frame 616/6950) /Users/liru/Documents/Computer Vision/YOLO Project/house-tour.mp4: 384x640 3 chairs, 2 potted plants, 12.0ms\n",
      "video 1/1 (frame 617/6950) /Users/liru/Documents/Computer Vision/YOLO Project/house-tour.mp4: 384x640 3 chairs, 2 potted plants, 11.1ms\n",
      "video 1/1 (frame 618/6950) /Users/liru/Documents/Computer Vision/YOLO Project/house-tour.mp4: 384x640 3 chairs, 2 potted plants, 12.5ms\n",
      "video 1/1 (frame 619/6950) /Users/liru/Documents/Computer Vision/YOLO Project/house-tour.mp4: 384x640 3 chairs, 2 potted plants, 11.8ms\n",
      "video 1/1 (frame 620/6950) /Users/liru/Documents/Computer Vision/YOLO Project/house-tour.mp4: 384x640 2 chairs, 3 potted plants, 12.8ms\n",
      "video 1/1 (frame 621/6950) /Users/liru/Documents/Computer Vision/YOLO Project/house-tour.mp4: 384x640 3 chairs, 2 potted plants, 11.6ms\n",
      "video 1/1 (frame 622/6950) /Users/liru/Documents/Computer Vision/YOLO Project/house-tour.mp4: 384x640 3 chairs, 1 potted plant, 13.1ms\n",
      "video 1/1 (frame 623/6950) /Users/liru/Documents/Computer Vision/YOLO Project/house-tour.mp4: 384x640 3 chairs, 2 potted plants, 12.7ms\n",
      "video 1/1 (frame 624/6950) /Users/liru/Documents/Computer Vision/YOLO Project/house-tour.mp4: 384x640 3 chairs, 2 potted plants, 12.5ms\n",
      "video 1/1 (frame 625/6950) /Users/liru/Documents/Computer Vision/YOLO Project/house-tour.mp4: 384x640 3 chairs, 2 potted plants, 11.0ms\n",
      "video 1/1 (frame 626/6950) /Users/liru/Documents/Computer Vision/YOLO Project/house-tour.mp4: 384x640 3 chairs, 3 potted plants, 11.6ms\n",
      "video 1/1 (frame 627/6950) /Users/liru/Documents/Computer Vision/YOLO Project/house-tour.mp4: 384x640 1 person, 3 cups, 3 bowls, 1 banana, 1 orange, 2 chairs, 3 potted plants, 3 vases, 13.9ms\n",
      "video 1/1 (frame 628/6950) /Users/liru/Documents/Computer Vision/YOLO Project/house-tour.mp4: 384x640 1 person, 2 cups, 3 bowls, 1 banana, 1 orange, 2 chairs, 3 potted plants, 1 dining table, 3 vases, 16.6ms\n",
      "video 1/1 (frame 629/6950) /Users/liru/Documents/Computer Vision/YOLO Project/house-tour.mp4: 384x640 1 person, 2 cups, 3 bowls, 1 banana, 1 orange, 2 chairs, 3 potted plants, 1 dining table, 3 vases, 15.6ms\n",
      "video 1/1 (frame 630/6950) /Users/liru/Documents/Computer Vision/YOLO Project/house-tour.mp4: 384x640 1 person, 2 cups, 4 bowls, 1 orange, 2 chairs, 3 potted plants, 1 dining table, 2 vases, 11.1ms\n",
      "video 1/1 (frame 631/6950) /Users/liru/Documents/Computer Vision/YOLO Project/house-tour.mp4: 384x640 1 person, 3 cups, 3 bowls, 1 orange, 2 chairs, 3 potted plants, 1 dining table, 2 vases, 11.9ms\n",
      "video 1/1 (frame 632/6950) /Users/liru/Documents/Computer Vision/YOLO Project/house-tour.mp4: 384x640 1 person, 2 cups, 3 bowls, 1 orange, 2 chairs, 3 potted plants, 1 dining table, 2 vases, 16.2ms\n",
      "video 1/1 (frame 633/6950) /Users/liru/Documents/Computer Vision/YOLO Project/house-tour.mp4: 384x640 1 person, 2 cups, 3 bowls, 1 orange, 2 chairs, 3 potted plants, 1 dining table, 2 vases, 15.8ms\n",
      "video 1/1 (frame 634/6950) /Users/liru/Documents/Computer Vision/YOLO Project/house-tour.mp4: 384x640 1 person, 3 cups, 3 bowls, 1 orange, 2 chairs, 3 potted plants, 1 dining table, 2 vases, 12.0ms\n",
      "video 1/1 (frame 635/6950) /Users/liru/Documents/Computer Vision/YOLO Project/house-tour.mp4: 384x640 1 person, 2 cups, 3 bowls, 2 chairs, 3 potted plants, 1 dining table, 2 vases, 11.5ms\n",
      "video 1/1 (frame 636/6950) /Users/liru/Documents/Computer Vision/YOLO Project/house-tour.mp4: 384x640 1 person, 3 cups, 3 bowls, 2 chairs, 3 potted plants, 1 dining table, 2 vases, 16.5ms\n",
      "video 1/1 (frame 637/6950) /Users/liru/Documents/Computer Vision/YOLO Project/house-tour.mp4: 384x640 1 person, 3 cups, 3 bowls, 2 chairs, 3 potted plants, 1 dining table, 2 vases, 13.8ms\n",
      "video 1/1 (frame 638/6950) /Users/liru/Documents/Computer Vision/YOLO Project/house-tour.mp4: 384x640 1 person, 2 cups, 4 bowls, 2 chairs, 2 potted plants, 1 dining table, 1 vase, 13.6ms\n",
      "video 1/1 (frame 639/6950) /Users/liru/Documents/Computer Vision/YOLO Project/house-tour.mp4: 384x640 1 person, 3 cups, 4 bowls, 2 chairs, 2 potted plants, 1 dining table, 1 vase, 14.3ms\n",
      "video 1/1 (frame 640/6950) /Users/liru/Documents/Computer Vision/YOLO Project/house-tour.mp4: 384x640 1 person, 1 bottle, 3 cups, 4 bowls, 2 chairs, 3 potted plants, 1 vase, 13.6ms\n",
      "video 1/1 (frame 641/6950) /Users/liru/Documents/Computer Vision/YOLO Project/house-tour.mp4: 384x640 1 person, 3 cups, 4 bowls, 2 chairs, 3 potted plants, 1 vase, 13.2ms\n",
      "video 1/1 (frame 642/6950) /Users/liru/Documents/Computer Vision/YOLO Project/house-tour.mp4: 384x640 1 person, 1 bottle, 3 cups, 4 bowls, 2 chairs, 3 potted plants, 1 vase, 11.5ms\n",
      "video 1/1 (frame 643/6950) /Users/liru/Documents/Computer Vision/YOLO Project/house-tour.mp4: 384x640 1 person, 1 bottle, 3 cups, 3 bowls, 2 chairs, 3 potted plants, 3 vases, 12.6ms\n",
      "video 1/1 (frame 644/6950) /Users/liru/Documents/Computer Vision/YOLO Project/house-tour.mp4: 384x640 1 person, 3 cups, 3 bowls, 2 chairs, 3 potted plants, 3 vases, 12.2ms\n",
      "video 1/1 (frame 645/6950) /Users/liru/Documents/Computer Vision/YOLO Project/house-tour.mp4: 384x640 1 person, 3 cups, 3 bowls, 2 chairs, 3 potted plants, 1 dining table, 3 vases, 15.2ms\n",
      "video 1/1 (frame 646/6950) /Users/liru/Documents/Computer Vision/YOLO Project/house-tour.mp4: 384x640 1 person, 3 cups, 3 bowls, 2 chairs, 3 potted plants, 3 vases, 11.0ms\n",
      "video 1/1 (frame 647/6950) /Users/liru/Documents/Computer Vision/YOLO Project/house-tour.mp4: 384x640 1 person, 1 bottle, 2 cups, 4 bowls, 2 chairs, 3 potted plants, 2 vases, 11.3ms\n",
      "video 1/1 (frame 648/6950) /Users/liru/Documents/Computer Vision/YOLO Project/house-tour.mp4: 384x640 1 person, 1 bottle, 2 cups, 6 bowls, 2 chairs, 3 potted plants, 2 dining tables, 2 vases, 15.9ms\n",
      "video 1/1 (frame 649/6950) /Users/liru/Documents/Computer Vision/YOLO Project/house-tour.mp4: 384x640 1 person, 1 bottle, 1 cup, 4 bowls, 2 chairs, 3 potted plants, 3 vases, 17.3ms\n",
      "video 1/1 (frame 650/6950) /Users/liru/Documents/Computer Vision/YOLO Project/house-tour.mp4: 384x640 1 person, 1 bottle, 1 cup, 3 bowls, 2 chairs, 3 potted plants, 1 dining table, 2 vases, 12.5ms\n",
      "video 1/1 (frame 651/6950) /Users/liru/Documents/Computer Vision/YOLO Project/house-tour.mp4: 384x640 1 person, 1 bottle, 1 cup, 3 bowls, 2 chairs, 3 potted plants, 2 vases, 11.3ms\n",
      "video 1/1 (frame 652/6950) /Users/liru/Documents/Computer Vision/YOLO Project/house-tour.mp4: 384x640 1 person, 1 bottle, 1 cup, 3 bowls, 2 chairs, 3 potted plants, 2 vases, 11.5ms\n",
      "video 1/1 (frame 653/6950) /Users/liru/Documents/Computer Vision/YOLO Project/house-tour.mp4: 384x640 1 person, 1 bottle, 3 cups, 5 bowls, 2 chairs, 3 potted plants, 1 vase, 10.5ms\n",
      "video 1/1 (frame 654/6950) /Users/liru/Documents/Computer Vision/YOLO Project/house-tour.mp4: 384x640 1 person, 1 bottle, 3 cups, 4 bowls, 2 chairs, 3 potted plants, 1 dining table, 1 vase, 10.4ms\n",
      "video 1/1 (frame 655/6950) /Users/liru/Documents/Computer Vision/YOLO Project/house-tour.mp4: 384x640 1 person, 1 bottle, 4 cups, 4 bowls, 2 chairs, 3 potted plants, 1 vase, 11.4ms\n",
      "video 1/1 (frame 656/6950) /Users/liru/Documents/Computer Vision/YOLO Project/house-tour.mp4: 384x640 1 person, 1 bottle, 3 cups, 4 bowls, 2 chairs, 3 potted plants, 2 dining tables, 1 vase, 12.2ms\n",
      "video 1/1 (frame 657/6950) /Users/liru/Documents/Computer Vision/YOLO Project/house-tour.mp4: 384x640 1 person, 1 bench, 1 bottle, 3 cups, 5 bowls, 2 chairs, 3 potted plants, 2 dining tables, 1 vase, 14.8ms\n",
      "video 1/1 (frame 658/6950) /Users/liru/Documents/Computer Vision/YOLO Project/house-tour.mp4: 384x640 1 person, 1 bench, 1 bottle, 2 cups, 6 bowls, 2 chairs, 3 potted plants, 2 dining tables, 1 vase, 15.2ms\n",
      "video 1/1 (frame 659/6950) /Users/liru/Documents/Computer Vision/YOLO Project/house-tour.mp4: 384x640 1 person, 1 bench, 1 bottle, 1 cup, 6 bowls, 2 chairs, 3 potted plants, 2 dining tables, 1 vase, 13.3ms\n",
      "video 1/1 (frame 660/6950) /Users/liru/Documents/Computer Vision/YOLO Project/house-tour.mp4: 384x640 1 person, 1 bench, 1 bottle, 1 cup, 6 bowls, 3 chairs, 3 potted plants, 2 dining tables, 1 vase, 16.0ms\n",
      "video 1/1 (frame 661/6950) /Users/liru/Documents/Computer Vision/YOLO Project/house-tour.mp4: 384x640 1 person, 1 bench, 1 bottle, 2 cups, 5 bowls, 3 chairs, 3 potted plants, 1 dining table, 1 vase, 14.9ms\n",
      "video 1/1 (frame 662/6950) /Users/liru/Documents/Computer Vision/YOLO Project/house-tour.mp4: 384x640 2 persons, 1 bench, 1 bottle, 1 cup, 4 bowls, 2 chairs, 3 potted plants, 1 dining table, 1 vase, 16.7ms\n",
      "video 1/1 (frame 663/6950) /Users/liru/Documents/Computer Vision/YOLO Project/house-tour.mp4: 384x640 2 persons, 1 bench, 3 cups, 3 bowls, 2 chairs, 3 potted plants, 1 dining table, 1 vase, 14.1ms\n",
      "video 1/1 (frame 664/6950) /Users/liru/Documents/Computer Vision/YOLO Project/house-tour.mp4: 384x640 2 persons, 1 bench, 3 cups, 3 bowls, 2 chairs, 3 potted plants, 1 dining table, 1 vase, 10.5ms\n",
      "video 1/1 (frame 665/6950) /Users/liru/Documents/Computer Vision/YOLO Project/house-tour.mp4: 384x640 2 persons, 1 bench, 3 cups, 4 bowls, 2 chairs, 3 potted plants, 1 dining table, 2 vases, 13.6ms\n",
      "video 1/1 (frame 666/6950) /Users/liru/Documents/Computer Vision/YOLO Project/house-tour.mp4: 384x640 2 persons, 1 bench, 3 cups, 3 bowls, 2 chairs, 3 potted plants, 1 dining table, 2 vases, 14.5ms\n",
      "video 1/1 (frame 667/6950) /Users/liru/Documents/Computer Vision/YOLO Project/house-tour.mp4: 384x640 2 persons, 1 bench, 3 cups, 3 bowls, 2 chairs, 3 potted plants, 1 dining table, 2 vases, 16.6ms\n",
      "video 1/1 (frame 668/6950) /Users/liru/Documents/Computer Vision/YOLO Project/house-tour.mp4: 384x640 1 person, 1 bench, 3 cups, 4 bowls, 2 chairs, 3 potted plants, 1 dining table, 3 vases, 12.4ms\n",
      "video 1/1 (frame 669/6950) /Users/liru/Documents/Computer Vision/YOLO Project/house-tour.mp4: 384x640 1 person, 1 bench, 2 cups, 4 bowls, 2 chairs, 3 potted plants, 2 vases, 11.4ms\n",
      "video 1/1 (frame 670/6950) /Users/liru/Documents/Computer Vision/YOLO Project/house-tour.mp4: 384x640 (no detections), 13.2ms\n",
      "video 1/1 (frame 671/6950) /Users/liru/Documents/Computer Vision/YOLO Project/house-tour.mp4: 384x640 (no detections), 12.2ms\n",
      "video 1/1 (frame 672/6950) /Users/liru/Documents/Computer Vision/YOLO Project/house-tour.mp4: 384x640 (no detections), 13.9ms\n",
      "video 1/1 (frame 673/6950) /Users/liru/Documents/Computer Vision/YOLO Project/house-tour.mp4: 384x640 (no detections), 12.2ms\n",
      "video 1/1 (frame 674/6950) /Users/liru/Documents/Computer Vision/YOLO Project/house-tour.mp4: 384x640 (no detections), 14.4ms\n",
      "video 1/1 (frame 675/6950) /Users/liru/Documents/Computer Vision/YOLO Project/house-tour.mp4: 384x640 (no detections), 13.5ms\n",
      "video 1/1 (frame 676/6950) /Users/liru/Documents/Computer Vision/YOLO Project/house-tour.mp4: 384x640 (no detections), 11.2ms\n",
      "video 1/1 (frame 677/6950) /Users/liru/Documents/Computer Vision/YOLO Project/house-tour.mp4: 384x640 (no detections), 11.6ms\n",
      "video 1/1 (frame 678/6950) /Users/liru/Documents/Computer Vision/YOLO Project/house-tour.mp4: 384x640 (no detections), 12.2ms\n",
      "video 1/1 (frame 679/6950) /Users/liru/Documents/Computer Vision/YOLO Project/house-tour.mp4: 384x640 (no detections), 10.4ms\n",
      "video 1/1 (frame 680/6950) /Users/liru/Documents/Computer Vision/YOLO Project/house-tour.mp4: 384x640 (no detections), 11.5ms\n",
      "video 1/1 (frame 681/6950) /Users/liru/Documents/Computer Vision/YOLO Project/house-tour.mp4: 384x640 (no detections), 10.8ms\n",
      "video 1/1 (frame 682/6950) /Users/liru/Documents/Computer Vision/YOLO Project/house-tour.mp4: 384x640 (no detections), 11.7ms\n",
      "video 1/1 (frame 683/6950) /Users/liru/Documents/Computer Vision/YOLO Project/house-tour.mp4: 384x640 (no detections), 12.1ms\n",
      "video 1/1 (frame 684/6950) /Users/liru/Documents/Computer Vision/YOLO Project/house-tour.mp4: 384x640 (no detections), 11.2ms\n",
      "video 1/1 (frame 685/6950) /Users/liru/Documents/Computer Vision/YOLO Project/house-tour.mp4: 384x640 (no detections), 12.9ms\n",
      "video 1/1 (frame 686/6950) /Users/liru/Documents/Computer Vision/YOLO Project/house-tour.mp4: 384x640 (no detections), 11.9ms\n",
      "video 1/1 (frame 687/6950) /Users/liru/Documents/Computer Vision/YOLO Project/house-tour.mp4: 384x640 (no detections), 11.0ms\n",
      "video 1/1 (frame 688/6950) /Users/liru/Documents/Computer Vision/YOLO Project/house-tour.mp4: 384x640 (no detections), 11.1ms\n",
      "video 1/1 (frame 689/6950) /Users/liru/Documents/Computer Vision/YOLO Project/house-tour.mp4: 384x640 (no detections), 10.6ms\n",
      "video 1/1 (frame 690/6950) /Users/liru/Documents/Computer Vision/YOLO Project/house-tour.mp4: 384x640 (no detections), 10.8ms\n",
      "video 1/1 (frame 691/6950) /Users/liru/Documents/Computer Vision/YOLO Project/house-tour.mp4: 384x640 (no detections), 10.1ms\n",
      "video 1/1 (frame 692/6950) /Users/liru/Documents/Computer Vision/YOLO Project/house-tour.mp4: 384x640 (no detections), 10.8ms\n",
      "video 1/1 (frame 693/6950) /Users/liru/Documents/Computer Vision/YOLO Project/house-tour.mp4: 384x640 (no detections), 10.2ms\n",
      "video 1/1 (frame 694/6950) /Users/liru/Documents/Computer Vision/YOLO Project/house-tour.mp4: 384x640 (no detections), 10.7ms\n",
      "video 1/1 (frame 695/6950) /Users/liru/Documents/Computer Vision/YOLO Project/house-tour.mp4: 384x640 (no detections), 10.9ms\n",
      "video 1/1 (frame 696/6950) /Users/liru/Documents/Computer Vision/YOLO Project/house-tour.mp4: 384x640 (no detections), 11.6ms\n",
      "video 1/1 (frame 697/6950) /Users/liru/Documents/Computer Vision/YOLO Project/house-tour.mp4: 384x640 (no detections), 11.5ms\n",
      "video 1/1 (frame 698/6950) /Users/liru/Documents/Computer Vision/YOLO Project/house-tour.mp4: 384x640 (no detections), 12.1ms\n",
      "video 1/1 (frame 699/6950) /Users/liru/Documents/Computer Vision/YOLO Project/house-tour.mp4: 384x640 (no detections), 11.5ms\n",
      "video 1/1 (frame 700/6950) /Users/liru/Documents/Computer Vision/YOLO Project/house-tour.mp4: 384x640 (no detections), 12.6ms\n",
      "video 1/1 (frame 701/6950) /Users/liru/Documents/Computer Vision/YOLO Project/house-tour.mp4: 384x640 (no detections), 11.2ms\n",
      "video 1/1 (frame 702/6950) /Users/liru/Documents/Computer Vision/YOLO Project/house-tour.mp4: 384x640 (no detections), 10.7ms\n",
      "video 1/1 (frame 703/6950) /Users/liru/Documents/Computer Vision/YOLO Project/house-tour.mp4: 384x640 (no detections), 10.0ms\n",
      "video 1/1 (frame 704/6950) /Users/liru/Documents/Computer Vision/YOLO Project/house-tour.mp4: 384x640 (no detections), 10.2ms\n",
      "video 1/1 (frame 705/6950) /Users/liru/Documents/Computer Vision/YOLO Project/house-tour.mp4: 384x640 (no detections), 10.4ms\n",
      "video 1/1 (frame 706/6950) /Users/liru/Documents/Computer Vision/YOLO Project/house-tour.mp4: 384x640 (no detections), 10.5ms\n",
      "video 1/1 (frame 707/6950) /Users/liru/Documents/Computer Vision/YOLO Project/house-tour.mp4: 384x640 (no detections), 11.1ms\n",
      "video 1/1 (frame 708/6950) /Users/liru/Documents/Computer Vision/YOLO Project/house-tour.mp4: 384x640 (no detections), 10.4ms\n",
      "video 1/1 (frame 709/6950) /Users/liru/Documents/Computer Vision/YOLO Project/house-tour.mp4: 384x640 (no detections), 11.2ms\n",
      "video 1/1 (frame 710/6950) /Users/liru/Documents/Computer Vision/YOLO Project/house-tour.mp4: 384x640 (no detections), 11.6ms\n",
      "video 1/1 (frame 711/6950) /Users/liru/Documents/Computer Vision/YOLO Project/house-tour.mp4: 384x640 (no detections), 12.6ms\n",
      "video 1/1 (frame 712/6950) /Users/liru/Documents/Computer Vision/YOLO Project/house-tour.mp4: 384x640 (no detections), 11.8ms\n",
      "video 1/1 (frame 713/6950) /Users/liru/Documents/Computer Vision/YOLO Project/house-tour.mp4: 384x640 (no detections), 10.8ms\n",
      "video 1/1 (frame 714/6950) /Users/liru/Documents/Computer Vision/YOLO Project/house-tour.mp4: 384x640 (no detections), 11.6ms\n",
      "video 1/1 (frame 715/6950) /Users/liru/Documents/Computer Vision/YOLO Project/house-tour.mp4: 384x640 (no detections), 10.3ms\n",
      "video 1/1 (frame 716/6950) /Users/liru/Documents/Computer Vision/YOLO Project/house-tour.mp4: 384x640 (no detections), 11.0ms\n",
      "video 1/1 (frame 717/6950) /Users/liru/Documents/Computer Vision/YOLO Project/house-tour.mp4: 384x640 (no detections), 10.2ms\n",
      "video 1/1 (frame 718/6950) /Users/liru/Documents/Computer Vision/YOLO Project/house-tour.mp4: 384x640 (no detections), 10.8ms\n",
      "video 1/1 (frame 719/6950) /Users/liru/Documents/Computer Vision/YOLO Project/house-tour.mp4: 384x640 (no detections), 10.4ms\n",
      "video 1/1 (frame 720/6950) /Users/liru/Documents/Computer Vision/YOLO Project/house-tour.mp4: 384x640 1 person, 2 chairs, 2 couchs, 3 potted plants, 2 dining tables, 1 remote, 2 books, 1 vase, 10.5ms\n",
      "video 1/1 (frame 721/6950) /Users/liru/Documents/Computer Vision/YOLO Project/house-tour.mp4: 384x640 1 person, 2 chairs, 3 couchs, 3 potted plants, 2 dining tables, 1 remote, 2 books, 2 vases, 10.9ms\n",
      "video 1/1 (frame 722/6950) /Users/liru/Documents/Computer Vision/YOLO Project/house-tour.mp4: 384x640 1 person, 2 chairs, 2 couchs, 3 potted plants, 1 dining table, 2 books, 1 vase, 17.8ms\n",
      "video 1/1 (frame 723/6950) /Users/liru/Documents/Computer Vision/YOLO Project/house-tour.mp4: 384x640 1 person, 2 chairs, 2 couchs, 3 potted plants, 1 dining table, 2 books, 1 vase, 11.8ms\n",
      "video 1/1 (frame 724/6950) /Users/liru/Documents/Computer Vision/YOLO Project/house-tour.mp4: 384x640 1 person, 3 chairs, 1 couch, 3 potted plants, 1 dining table, 2 books, 1 vase, 10.9ms\n",
      "video 1/1 (frame 725/6950) /Users/liru/Documents/Computer Vision/YOLO Project/house-tour.mp4: 384x640 1 person, 2 chairs, 3 potted plants, 2 dining tables, 2 books, 2 vases, 11.4ms\n",
      "video 1/1 (frame 726/6950) /Users/liru/Documents/Computer Vision/YOLO Project/house-tour.mp4: 384x640 1 person, 2 chairs, 3 potted plants, 1 dining table, 2 vases, 17.1ms\n",
      "video 1/1 (frame 727/6950) /Users/liru/Documents/Computer Vision/YOLO Project/house-tour.mp4: 384x640 1 person, 2 chairs, 1 couch, 3 potted plants, 1 dining table, 1 book, 2 vases, 15.0ms\n",
      "video 1/1 (frame 728/6950) /Users/liru/Documents/Computer Vision/YOLO Project/house-tour.mp4: 384x640 1 person, 3 chairs, 3 potted plants, 1 dining table, 1 book, 2 vases, 12.6ms\n",
      "video 1/1 (frame 729/6950) /Users/liru/Documents/Computer Vision/YOLO Project/house-tour.mp4: 384x640 1 person, 3 chairs, 3 potted plants, 1 dining table, 1 book, 2 vases, 16.5ms\n",
      "video 1/1 (frame 730/6950) /Users/liru/Documents/Computer Vision/YOLO Project/house-tour.mp4: 384x640 1 person, 2 chairs, 1 couch, 3 potted plants, 1 dining table, 1 vase, 11.6ms\n",
      "video 1/1 (frame 731/6950) /Users/liru/Documents/Computer Vision/YOLO Project/house-tour.mp4: 384x640 1 person, 2 chairs, 1 couch, 3 potted plants, 2 dining tables, 2 vases, 13.3ms\n",
      "video 1/1 (frame 732/6950) /Users/liru/Documents/Computer Vision/YOLO Project/house-tour.mp4: 384x640 1 person, 1 bowl, 2 chairs, 1 couch, 3 potted plants, 2 dining tables, 1 vase, 18.4ms\n",
      "video 1/1 (frame 733/6950) /Users/liru/Documents/Computer Vision/YOLO Project/house-tour.mp4: 384x640 1 person, 1 bowl, 2 chairs, 1 couch, 3 potted plants, 2 dining tables, 1 vase, 11.3ms\n",
      "video 1/1 (frame 734/6950) /Users/liru/Documents/Computer Vision/YOLO Project/house-tour.mp4: 384x640 1 person, 1 bowl, 2 chairs, 1 couch, 3 potted plants, 2 dining tables, 2 vases, 10.8ms\n",
      "video 1/1 (frame 735/6950) /Users/liru/Documents/Computer Vision/YOLO Project/house-tour.mp4: 384x640 1 person, 1 bowl, 2 chairs, 1 couch, 3 potted plants, 2 dining tables, 2 vases, 10.5ms\n",
      "video 1/1 (frame 736/6950) /Users/liru/Documents/Computer Vision/YOLO Project/house-tour.mp4: 384x640 1 person, 2 chairs, 1 couch, 3 potted plants, 2 dining tables, 1 vase, 10.5ms\n",
      "video 1/1 (frame 737/6950) /Users/liru/Documents/Computer Vision/YOLO Project/house-tour.mp4: 384x640 1 person, 2 chairs, 1 couch, 3 potted plants, 3 dining tables, 2 vases, 12.0ms\n",
      "video 1/1 (frame 738/6950) /Users/liru/Documents/Computer Vision/YOLO Project/house-tour.mp4: 384x640 1 person, 1 bowl, 2 chairs, 1 couch, 3 potted plants, 3 dining tables, 2 vases, 11.6ms\n",
      "video 1/1 (frame 739/6950) /Users/liru/Documents/Computer Vision/YOLO Project/house-tour.mp4: 384x640 1 person, 1 cup, 1 bowl, 2 chairs, 1 couch, 3 potted plants, 2 dining tables, 1 vase, 18.3ms\n",
      "video 1/1 (frame 740/6950) /Users/liru/Documents/Computer Vision/YOLO Project/house-tour.mp4: 384x640 1 person, 1 cup, 1 bowl, 3 chairs, 1 couch, 2 potted plants, 3 dining tables, 1 vase, 11.7ms\n",
      "video 1/1 (frame 741/6950) /Users/liru/Documents/Computer Vision/YOLO Project/house-tour.mp4: 384x640 1 person, 1 cup, 1 bowl, 3 chairs, 1 couch, 2 potted plants, 3 dining tables, 1 vase, 11.0ms\n",
      "video 1/1 (frame 742/6950) /Users/liru/Documents/Computer Vision/YOLO Project/house-tour.mp4: 384x640 1 person, 1 bowl, 2 chairs, 1 couch, 2 potted plants, 2 dining tables, 2 vases, 10.9ms\n",
      "video 1/1 (frame 743/6950) /Users/liru/Documents/Computer Vision/YOLO Project/house-tour.mp4: 384x640 1 person, 1 bowl, 3 chairs, 1 couch, 4 potted plants, 2 dining tables, 2 vases, 17.6ms\n",
      "video 1/1 (frame 744/6950) /Users/liru/Documents/Computer Vision/YOLO Project/house-tour.mp4: 384x640 1 person, 1 bowl, 3 chairs, 1 couch, 3 potted plants, 3 dining tables, 2 vases, 15.9ms\n",
      "video 1/1 (frame 745/6950) /Users/liru/Documents/Computer Vision/YOLO Project/house-tour.mp4: 384x640 1 person, 1 bowl, 2 chairs, 1 couch, 2 potted plants, 2 dining tables, 1 vase, 10.7ms\n",
      "video 1/1 (frame 746/6950) /Users/liru/Documents/Computer Vision/YOLO Project/house-tour.mp4: 384x640 1 person, 1 bowl, 2 chairs, 1 couch, 3 potted plants, 2 dining tables, 1 vase, 10.5ms\n",
      "video 1/1 (frame 747/6950) /Users/liru/Documents/Computer Vision/YOLO Project/house-tour.mp4: 384x640 1 person, 1 bowl, 2 chairs, 1 couch, 3 potted plants, 2 dining tables, 1 vase, 10.7ms\n",
      "video 1/1 (frame 748/6950) /Users/liru/Documents/Computer Vision/YOLO Project/house-tour.mp4: 384x640 1 person, 2 chairs, 1 couch, 3 potted plants, 2 dining tables, 2 vases, 16.3ms\n",
      "video 1/1 (frame 749/6950) /Users/liru/Documents/Computer Vision/YOLO Project/house-tour.mp4: 384x640 1 person, 2 chairs, 1 couch, 2 potted plants, 2 dining tables, 1 vase, 11.1ms\n",
      "video 1/1 (frame 750/6950) /Users/liru/Documents/Computer Vision/YOLO Project/house-tour.mp4: 384x640 1 person, 2 chairs, 1 couch, 2 potted plants, 2 dining tables, 1 vase, 11.2ms\n",
      "video 1/1 (frame 751/6950) /Users/liru/Documents/Computer Vision/YOLO Project/house-tour.mp4: 384x640 1 person, 2 chairs, 1 couch, 3 potted plants, 1 dining table, 1 vase, 11.1ms\n",
      "video 1/1 (frame 752/6950) /Users/liru/Documents/Computer Vision/YOLO Project/house-tour.mp4: 384x640 1 person, 1 couch, 2 potted plants, 1 dining table, 11.5ms\n",
      "video 1/1 (frame 753/6950) /Users/liru/Documents/Computer Vision/YOLO Project/house-tour.mp4: 384x640 1 person, 1 couch, 3 potted plants, 1 dining table, 11.0ms\n",
      "video 1/1 (frame 754/6950) /Users/liru/Documents/Computer Vision/YOLO Project/house-tour.mp4: 384x640 1 person, 1 couch, 3 potted plants, 1 dining table, 1 vase, 11.1ms\n",
      "video 1/1 (frame 755/6950) /Users/liru/Documents/Computer Vision/YOLO Project/house-tour.mp4: 384x640 1 person, 1 couch, 3 potted plants, 1 dining table, 11.5ms\n",
      "video 1/1 (frame 756/6950) /Users/liru/Documents/Computer Vision/YOLO Project/house-tour.mp4: 384x640 1 person, 2 couchs, 2 potted plants, 1 dining table, 13.9ms\n",
      "video 1/1 (frame 757/6950) /Users/liru/Documents/Computer Vision/YOLO Project/house-tour.mp4: 384x640 1 person, 1 chair, 1 couch, 4 potted plants, 1 dining table, 1 vase, 15.1ms\n",
      "video 1/1 (frame 758/6950) /Users/liru/Documents/Computer Vision/YOLO Project/house-tour.mp4: 384x640 1 person, 1 chair, 1 couch, 4 potted plants, 1 dining table, 16.3ms\n",
      "video 1/1 (frame 759/6950) /Users/liru/Documents/Computer Vision/YOLO Project/house-tour.mp4: 384x640 1 person, 1 chair, 1 couch, 4 potted plants, 1 dining table, 12.4ms\n",
      "video 1/1 (frame 760/6950) /Users/liru/Documents/Computer Vision/YOLO Project/house-tour.mp4: 384x640 1 person, 1 chair, 1 couch, 4 potted plants, 1 dining table, 11.9ms\n",
      "video 1/1 (frame 761/6950) /Users/liru/Documents/Computer Vision/YOLO Project/house-tour.mp4: 384x640 1 person, 2 chairs, 1 couch, 3 potted plants, 1 dining table, 1 vase, 11.8ms\n",
      "video 1/1 (frame 762/6950) /Users/liru/Documents/Computer Vision/YOLO Project/house-tour.mp4: 384x640 1 person, 1 chair, 2 couchs, 3 potted plants, 1 dining table, 1 vase, 12.1ms\n",
      "video 1/1 (frame 763/6950) /Users/liru/Documents/Computer Vision/YOLO Project/house-tour.mp4: 384x640 1 person, 1 chair, 1 couch, 3 potted plants, 1 dining table, 13.2ms\n",
      "video 1/1 (frame 764/6950) /Users/liru/Documents/Computer Vision/YOLO Project/house-tour.mp4: 384x640 1 person, 1 chair, 2 couchs, 3 potted plants, 1 dining table, 17.6ms\n",
      "video 1/1 (frame 765/6950) /Users/liru/Documents/Computer Vision/YOLO Project/house-tour.mp4: 384x640 1 person, 1 chair, 2 couchs, 3 potted plants, 1 dining table, 11.9ms\n",
      "video 1/1 (frame 766/6950) /Users/liru/Documents/Computer Vision/YOLO Project/house-tour.mp4: 384x640 1 person, 1 chair, 2 couchs, 4 potted plants, 1 dining table, 12.9ms\n",
      "video 1/1 (frame 767/6950) /Users/liru/Documents/Computer Vision/YOLO Project/house-tour.mp4: 384x640 1 person, 1 couch, 4 potted plants, 1 dining table, 16.2ms\n",
      "video 1/1 (frame 768/6950) /Users/liru/Documents/Computer Vision/YOLO Project/house-tour.mp4: 384x640 1 person, 1 couch, 2 potted plants, 1 dining table, 17.5ms\n",
      "video 1/1 (frame 769/6950) /Users/liru/Documents/Computer Vision/YOLO Project/house-tour.mp4: 384x640 1 person, 1 couch, 1 potted plant, 1 dining table, 11.5ms\n",
      "video 1/1 (frame 770/6950) /Users/liru/Documents/Computer Vision/YOLO Project/house-tour.mp4: 384x640 1 person, 1 couch, 2 potted plants, 1 dining table, 12.1ms\n",
      "video 1/1 (frame 771/6950) /Users/liru/Documents/Computer Vision/YOLO Project/house-tour.mp4: 384x640 1 person, 1 couch, 2 potted plants, 1 dining table, 11.1ms\n",
      "video 1/1 (frame 772/6950) /Users/liru/Documents/Computer Vision/YOLO Project/house-tour.mp4: 384x640 1 person, 1 chair, 1 couch, 2 potted plants, 1 dining table, 12.0ms\n",
      "video 1/1 (frame 773/6950) /Users/liru/Documents/Computer Vision/YOLO Project/house-tour.mp4: 384x640 1 person, 1 chair, 1 couch, 2 potted plants, 14.4ms\n",
      "video 1/1 (frame 774/6950) /Users/liru/Documents/Computer Vision/YOLO Project/house-tour.mp4: 384x640 1 person, 1 couch, 2 potted plants, 13.9ms\n",
      "video 1/1 (frame 775/6950) /Users/liru/Documents/Computer Vision/YOLO Project/house-tour.mp4: 384x640 1 person, 1 tie, 1 couch, 2 potted plants, 12.6ms\n",
      "video 1/1 (frame 776/6950) /Users/liru/Documents/Computer Vision/YOLO Project/house-tour.mp4: 384x640 1 person, 1 tie, 1 chair, 1 couch, 2 potted plants, 11.1ms\n",
      "video 1/1 (frame 777/6950) /Users/liru/Documents/Computer Vision/YOLO Project/house-tour.mp4: 384x640 1 person, 1 tie, 1 couch, 2 potted plants, 11.6ms\n",
      "video 1/1 (frame 778/6950) /Users/liru/Documents/Computer Vision/YOLO Project/house-tour.mp4: 384x640 1 person, 1 tie, 1 chair, 1 couch, 2 potted plants, 1 dining table, 11.1ms\n",
      "video 1/1 (frame 779/6950) /Users/liru/Documents/Computer Vision/YOLO Project/house-tour.mp4: 384x640 1 person, 1 chair, 1 couch, 2 potted plants, 1 dining table, 11.4ms\n",
      "video 1/1 (frame 780/6950) /Users/liru/Documents/Computer Vision/YOLO Project/house-tour.mp4: 384x640 1 person, 1 chair, 1 couch, 2 potted plants, 1 dining table, 14.1ms\n",
      "video 1/1 (frame 781/6950) /Users/liru/Documents/Computer Vision/YOLO Project/house-tour.mp4: 384x640 1 person, 1 chair, 1 couch, 2 potted plants, 11.9ms\n",
      "video 1/1 (frame 782/6950) /Users/liru/Documents/Computer Vision/YOLO Project/house-tour.mp4: 384x640 1 person, 1 chair, 1 couch, 2 potted plants, 13.6ms\n",
      "video 1/1 (frame 783/6950) /Users/liru/Documents/Computer Vision/YOLO Project/house-tour.mp4: 384x640 1 person, 1 chair, 1 couch, 2 potted plants, 12.6ms\n",
      "video 1/1 (frame 784/6950) /Users/liru/Documents/Computer Vision/YOLO Project/house-tour.mp4: 384x640 1 person, 1 chair, 1 couch, 2 potted plants, 13.8ms\n",
      "video 1/1 (frame 785/6950) /Users/liru/Documents/Computer Vision/YOLO Project/house-tour.mp4: 384x640 1 person, 1 couch, 2 potted plants, 12.5ms\n",
      "video 1/1 (frame 786/6950) /Users/liru/Documents/Computer Vision/YOLO Project/house-tour.mp4: 384x640 1 person, 1 couch, 2 potted plants, 11.9ms\n",
      "video 1/1 (frame 787/6950) /Users/liru/Documents/Computer Vision/YOLO Project/house-tour.mp4: 384x640 1 person, 1 couch, 3 potted plants, 11.9ms\n",
      "video 1/1 (frame 788/6950) /Users/liru/Documents/Computer Vision/YOLO Project/house-tour.mp4: 384x640 1 person, 1 couch, 3 potted plants, 12.0ms\n",
      "video 1/1 (frame 789/6950) /Users/liru/Documents/Computer Vision/YOLO Project/house-tour.mp4: 384x640 1 person, 1 couch, 3 potted plants, 11.7ms\n",
      "video 1/1 (frame 790/6950) /Users/liru/Documents/Computer Vision/YOLO Project/house-tour.mp4: 384x640 1 person, 1 couch, 1 potted plant, 13.1ms\n",
      "video 1/1 (frame 791/6950) /Users/liru/Documents/Computer Vision/YOLO Project/house-tour.mp4: 384x640 1 person, 1 couch, 2 potted plants, 12.9ms\n",
      "video 1/1 (frame 792/6950) /Users/liru/Documents/Computer Vision/YOLO Project/house-tour.mp4: 384x640 1 person, 1 couch, 2 potted plants, 15.3ms\n",
      "video 1/1 (frame 793/6950) /Users/liru/Documents/Computer Vision/YOLO Project/house-tour.mp4: 384x640 1 person, 1 couch, 1 potted plant, 15.4ms\n",
      "video 1/1 (frame 794/6950) /Users/liru/Documents/Computer Vision/YOLO Project/house-tour.mp4: 384x640 1 person, 1 couch, 1 potted plant, 14.6ms\n",
      "video 1/1 (frame 795/6950) /Users/liru/Documents/Computer Vision/YOLO Project/house-tour.mp4: 384x640 1 person, 1 couch, 1 potted plant, 1 dining table, 12.0ms\n",
      "video 1/1 (frame 796/6950) /Users/liru/Documents/Computer Vision/YOLO Project/house-tour.mp4: 384x640 1 person, 1 couch, 1 potted plant, 11.1ms\n",
      "video 1/1 (frame 797/6950) /Users/liru/Documents/Computer Vision/YOLO Project/house-tour.mp4: 384x640 1 person, 1 couch, 1 potted plant, 10.5ms\n",
      "video 1/1 (frame 798/6950) /Users/liru/Documents/Computer Vision/YOLO Project/house-tour.mp4: 384x640 1 person, 1 couch, 2 potted plants, 11.2ms\n",
      "video 1/1 (frame 799/6950) /Users/liru/Documents/Computer Vision/YOLO Project/house-tour.mp4: 384x640 1 person, 1 couch, 3 potted plants, 10.7ms\n",
      "video 1/1 (frame 800/6950) /Users/liru/Documents/Computer Vision/YOLO Project/house-tour.mp4: 384x640 1 person, 1 couch, 3 potted plants, 10.8ms\n",
      "video 1/1 (frame 801/6950) /Users/liru/Documents/Computer Vision/YOLO Project/house-tour.mp4: 384x640 1 person, 1 couch, 3 potted plants, 13.4ms\n",
      "video 1/1 (frame 802/6950) /Users/liru/Documents/Computer Vision/YOLO Project/house-tour.mp4: 384x640 1 person, 1 couch, 4 potted plants, 12.8ms\n",
      "video 1/1 (frame 803/6950) /Users/liru/Documents/Computer Vision/YOLO Project/house-tour.mp4: 384x640 1 person, 1 couch, 4 potted plants, 11.7ms\n",
      "video 1/1 (frame 804/6950) /Users/liru/Documents/Computer Vision/YOLO Project/house-tour.mp4: 384x640 1 person, 1 couch, 4 potted plants, 11.6ms\n",
      "video 1/1 (frame 805/6950) /Users/liru/Documents/Computer Vision/YOLO Project/house-tour.mp4: 384x640 1 person, 2 chairs, 1 couch, 4 potted plants, 12.1ms\n",
      "video 1/1 (frame 806/6950) /Users/liru/Documents/Computer Vision/YOLO Project/house-tour.mp4: 384x640 1 person, 1 chair, 1 couch, 3 potted plants, 11.2ms\n",
      "video 1/1 (frame 807/6950) /Users/liru/Documents/Computer Vision/YOLO Project/house-tour.mp4: 384x640 1 person, 1 chair, 1 couch, 3 potted plants, 11.8ms\n",
      "video 1/1 (frame 808/6950) /Users/liru/Documents/Computer Vision/YOLO Project/house-tour.mp4: 384x640 1 person, 1 chair, 1 couch, 3 potted plants, 12.3ms\n",
      "video 1/1 (frame 809/6950) /Users/liru/Documents/Computer Vision/YOLO Project/house-tour.mp4: 384x640 1 person, 1 chair, 1 couch, 3 potted plants, 10.9ms\n",
      "video 1/1 (frame 810/6950) /Users/liru/Documents/Computer Vision/YOLO Project/house-tour.mp4: 384x640 1 person, 1 chair, 1 couch, 3 potted plants, 13.4ms\n",
      "video 1/1 (frame 811/6950) /Users/liru/Documents/Computer Vision/YOLO Project/house-tour.mp4: 384x640 1 person, 1 chair, 1 couch, 3 potted plants, 12.8ms\n",
      "video 1/1 (frame 812/6950) /Users/liru/Documents/Computer Vision/YOLO Project/house-tour.mp4: 384x640 1 chair, 3 couchs, 6 potted plants, 2 dining tables, 4 books, 15.2ms\n",
      "video 1/1 (frame 813/6950) /Users/liru/Documents/Computer Vision/YOLO Project/house-tour.mp4: 384x640 1 chair, 3 couchs, 6 potted plants, 2 dining tables, 4 books, 15.9ms\n",
      "video 1/1 (frame 814/6950) /Users/liru/Documents/Computer Vision/YOLO Project/house-tour.mp4: 384x640 2 chairs, 4 couchs, 7 potted plants, 1 dining table, 4 books, 11.8ms\n",
      "video 1/1 (frame 815/6950) /Users/liru/Documents/Computer Vision/YOLO Project/house-tour.mp4: 384x640 2 chairs, 3 couchs, 6 potted plants, 1 dining table, 4 books, 12.0ms\n",
      "video 1/1 (frame 816/6950) /Users/liru/Documents/Computer Vision/YOLO Project/house-tour.mp4: 384x640 2 chairs, 3 couchs, 7 potted plants, 1 dining table, 4 books, 11.9ms\n",
      "video 1/1 (frame 817/6950) /Users/liru/Documents/Computer Vision/YOLO Project/house-tour.mp4: 384x640 2 chairs, 4 couchs, 7 potted plants, 1 dining table, 4 books, 10.9ms\n",
      "video 1/1 (frame 818/6950) /Users/liru/Documents/Computer Vision/YOLO Project/house-tour.mp4: 384x640 2 chairs, 4 couchs, 7 potted plants, 1 dining table, 4 books, 13.5ms\n",
      "video 1/1 (frame 819/6950) /Users/liru/Documents/Computer Vision/YOLO Project/house-tour.mp4: 384x640 2 chairs, 4 couchs, 6 potted plants, 1 dining table, 4 books, 13.7ms\n",
      "video 1/1 (frame 820/6950) /Users/liru/Documents/Computer Vision/YOLO Project/house-tour.mp4: 384x640 2 chairs, 4 couchs, 6 potted plants, 1 dining table, 4 books, 1 vase, 16.8ms\n",
      "video 1/1 (frame 821/6950) /Users/liru/Documents/Computer Vision/YOLO Project/house-tour.mp4: 384x640 2 chairs, 4 couchs, 6 potted plants, 1 dining table, 4 books, 1 vase, 11.6ms\n",
      "video 1/1 (frame 822/6950) /Users/liru/Documents/Computer Vision/YOLO Project/house-tour.mp4: 384x640 2 chairs, 3 couchs, 6 potted plants, 1 dining table, 4 books, 1 vase, 11.1ms\n",
      "video 1/1 (frame 823/6950) /Users/liru/Documents/Computer Vision/YOLO Project/house-tour.mp4: 384x640 2 chairs, 4 couchs, 6 potted plants, 1 dining table, 4 books, 1 vase, 10.9ms\n",
      "video 1/1 (frame 824/6950) /Users/liru/Documents/Computer Vision/YOLO Project/house-tour.mp4: 384x640 1 chair, 3 couchs, 6 potted plants, 1 dining table, 4 books, 1 vase, 14.0ms\n",
      "video 1/1 (frame 825/6950) /Users/liru/Documents/Computer Vision/YOLO Project/house-tour.mp4: 384x640 3 couchs, 6 potted plants, 1 dining table, 4 books, 1 vase, 15.1ms\n",
      "video 1/1 (frame 826/6950) /Users/liru/Documents/Computer Vision/YOLO Project/house-tour.mp4: 384x640 4 couchs, 7 potted plants, 1 dining table, 4 books, 1 vase, 11.9ms\n",
      "video 1/1 (frame 827/6950) /Users/liru/Documents/Computer Vision/YOLO Project/house-tour.mp4: 384x640 5 couchs, 6 potted plants, 1 dining table, 4 books, 1 vase, 13.1ms\n",
      "video 1/1 (frame 828/6950) /Users/liru/Documents/Computer Vision/YOLO Project/house-tour.mp4: 384x640 5 couchs, 6 potted plants, 2 dining tables, 4 books, 1 vase, 13.0ms\n",
      "video 1/1 (frame 829/6950) /Users/liru/Documents/Computer Vision/YOLO Project/house-tour.mp4: 384x640 5 couchs, 7 potted plants, 2 dining tables, 4 books, 1 vase, 13.7ms\n",
      "video 1/1 (frame 830/6950) /Users/liru/Documents/Computer Vision/YOLO Project/house-tour.mp4: 384x640 5 couchs, 7 potted plants, 2 dining tables, 4 books, 1 vase, 13.4ms\n",
      "video 1/1 (frame 831/6950) /Users/liru/Documents/Computer Vision/YOLO Project/house-tour.mp4: 384x640 5 couchs, 6 potted plants, 2 dining tables, 4 books, 1 vase, 12.0ms\n",
      "video 1/1 (frame 832/6950) /Users/liru/Documents/Computer Vision/YOLO Project/house-tour.mp4: 384x640 1 chair, 4 couchs, 6 potted plants, 2 dining tables, 4 books, 1 vase, 11.6ms\n",
      "video 1/1 (frame 833/6950) /Users/liru/Documents/Computer Vision/YOLO Project/house-tour.mp4: 384x640 1 chair, 4 couchs, 6 potted plants, 2 dining tables, 4 books, 1 vase, 11.9ms\n",
      "video 1/1 (frame 834/6950) /Users/liru/Documents/Computer Vision/YOLO Project/house-tour.mp4: 384x640 1 chair, 4 couchs, 7 potted plants, 2 dining tables, 4 books, 1 vase, 11.8ms\n",
      "video 1/1 (frame 835/6950) /Users/liru/Documents/Computer Vision/YOLO Project/house-tour.mp4: 384x640 3 couchs, 6 potted plants, 2 dining tables, 4 books, 1 vase, 15.6ms\n",
      "video 1/1 (frame 836/6950) /Users/liru/Documents/Computer Vision/YOLO Project/house-tour.mp4: 384x640 3 couchs, 5 potted plants, 2 dining tables, 4 books, 1 vase, 12.5ms\n",
      "video 1/1 (frame 837/6950) /Users/liru/Documents/Computer Vision/YOLO Project/house-tour.mp4: 384x640 3 couchs, 5 potted plants, 2 dining tables, 3 books, 1 vase, 12.4ms\n",
      "video 1/1 (frame 838/6950) /Users/liru/Documents/Computer Vision/YOLO Project/house-tour.mp4: 384x640 3 couchs, 5 potted plants, 2 dining tables, 3 books, 1 vase, 11.8ms\n",
      "video 1/1 (frame 839/6950) /Users/liru/Documents/Computer Vision/YOLO Project/house-tour.mp4: 384x640 3 couchs, 5 potted plants, 1 dining table, 3 books, 2 vases, 11.2ms\n",
      "video 1/1 (frame 840/6950) /Users/liru/Documents/Computer Vision/YOLO Project/house-tour.mp4: 384x640 4 couchs, 5 potted plants, 2 dining tables, 4 books, 2 vases, 11.8ms\n",
      "video 1/1 (frame 841/6950) /Users/liru/Documents/Computer Vision/YOLO Project/house-tour.mp4: 384x640 3 couchs, 5 potted plants, 1 dining table, 4 books, 1 vase, 16.0ms\n",
      "video 1/1 (frame 842/6950) /Users/liru/Documents/Computer Vision/YOLO Project/house-tour.mp4: 384x640 3 couchs, 5 potted plants, 2 dining tables, 4 books, 1 vase, 16.9ms\n",
      "video 1/1 (frame 843/6950) /Users/liru/Documents/Computer Vision/YOLO Project/house-tour.mp4: 384x640 1 chair, 4 couchs, 5 potted plants, 2 dining tables, 4 books, 2 vases, 12.7ms\n",
      "video 1/1 (frame 844/6950) /Users/liru/Documents/Computer Vision/YOLO Project/house-tour.mp4: 384x640 1 chair, 4 couchs, 5 potted plants, 2 dining tables, 4 books, 2 vases, 11.4ms\n",
      "video 1/1 (frame 845/6950) /Users/liru/Documents/Computer Vision/YOLO Project/house-tour.mp4: 384x640 1 chair, 4 couchs, 5 potted plants, 2 dining tables, 4 books, 2 vases, 11.9ms\n",
      "video 1/1 (frame 846/6950) /Users/liru/Documents/Computer Vision/YOLO Project/house-tour.mp4: 384x640 1 chair, 4 couchs, 5 potted plants, 2 dining tables, 3 books, 2 vases, 11.9ms\n",
      "video 1/1 (frame 847/6950) /Users/liru/Documents/Computer Vision/YOLO Project/house-tour.mp4: 384x640 1 chair, 4 couchs, 5 potted plants, 3 dining tables, 4 books, 2 vases, 10.8ms\n",
      "video 1/1 (frame 848/6950) /Users/liru/Documents/Computer Vision/YOLO Project/house-tour.mp4: 384x640 1 chair, 4 couchs, 5 potted plants, 2 dining tables, 3 books, 2 vases, 12.7ms\n",
      "video 1/1 (frame 849/6950) /Users/liru/Documents/Computer Vision/YOLO Project/house-tour.mp4: 384x640 1 chair, 4 couchs, 5 potted plants, 2 dining tables, 3 books, 2 vases, 11.6ms\n",
      "video 1/1 (frame 850/6950) /Users/liru/Documents/Computer Vision/YOLO Project/house-tour.mp4: 384x640 1 chair, 4 couchs, 5 potted plants, 3 dining tables, 3 books, 2 vases, 12.7ms\n",
      "video 1/1 (frame 851/6950) /Users/liru/Documents/Computer Vision/YOLO Project/house-tour.mp4: 384x640 3 couchs, 5 potted plants, 2 dining tables, 3 books, 2 vases, 13.9ms\n",
      "video 1/1 (frame 852/6950) /Users/liru/Documents/Computer Vision/YOLO Project/house-tour.mp4: 384x640 4 couchs, 5 potted plants, 2 dining tables, 4 books, 2 vases, 11.8ms\n",
      "video 1/1 (frame 853/6950) /Users/liru/Documents/Computer Vision/YOLO Project/house-tour.mp4: 384x640 4 couchs, 5 potted plants, 2 dining tables, 4 books, 2 vases, 15.6ms\n",
      "video 1/1 (frame 854/6950) /Users/liru/Documents/Computer Vision/YOLO Project/house-tour.mp4: 384x640 4 couchs, 5 potted plants, 2 dining tables, 4 books, 1 vase, 17.0ms\n",
      "video 1/1 (frame 855/6950) /Users/liru/Documents/Computer Vision/YOLO Project/house-tour.mp4: 384x640 5 couchs, 5 potted plants, 2 dining tables, 4 books, 1 vase, 11.2ms\n",
      "video 1/1 (frame 856/6950) /Users/liru/Documents/Computer Vision/YOLO Project/house-tour.mp4: 384x640 4 couchs, 5 potted plants, 2 dining tables, 4 books, 1 vase, 10.9ms\n",
      "video 1/1 (frame 857/6950) /Users/liru/Documents/Computer Vision/YOLO Project/house-tour.mp4: 384x640 5 couchs, 6 potted plants, 2 dining tables, 4 books, 2 vases, 12.5ms\n",
      "video 1/1 (frame 858/6950) /Users/liru/Documents/Computer Vision/YOLO Project/house-tour.mp4: 384x640 5 couchs, 6 potted plants, 2 dining tables, 4 books, 3 vases, 12.0ms\n",
      "video 1/1 (frame 859/6950) /Users/liru/Documents/Computer Vision/YOLO Project/house-tour.mp4: 384x640 3 couchs, 6 potted plants, 2 dining tables, 3 books, 2 vases, 12.7ms\n",
      "video 1/1 (frame 860/6950) /Users/liru/Documents/Computer Vision/YOLO Project/house-tour.mp4: 384x640 4 couchs, 6 potted plants, 2 dining tables, 4 books, 2 vases, 13.3ms\n",
      "video 1/1 (frame 861/6950) /Users/liru/Documents/Computer Vision/YOLO Project/house-tour.mp4: 384x640 4 couchs, 5 potted plants, 2 dining tables, 3 books, 2 vases, 11.9ms\n",
      "video 1/1 (frame 862/6950) /Users/liru/Documents/Computer Vision/YOLO Project/house-tour.mp4: 384x640 4 couchs, 5 potted plants, 2 dining tables, 3 books, 2 vases, 14.4ms\n",
      "video 1/1 (frame 863/6950) /Users/liru/Documents/Computer Vision/YOLO Project/house-tour.mp4: 384x640 4 couchs, 5 potted plants, 2 dining tables, 4 books, 2 vases, 12.5ms\n",
      "video 1/1 (frame 864/6950) /Users/liru/Documents/Computer Vision/YOLO Project/house-tour.mp4: 384x640 4 couchs, 5 potted plants, 2 dining tables, 4 books, 2 vases, 12.3ms\n",
      "video 1/1 (frame 865/6950) /Users/liru/Documents/Computer Vision/YOLO Project/house-tour.mp4: 384x640 3 couchs, 5 potted plants, 2 dining tables, 3 books, 2 vases, 11.2ms\n",
      "video 1/1 (frame 866/6950) /Users/liru/Documents/Computer Vision/YOLO Project/house-tour.mp4: 384x640 4 couchs, 5 potted plants, 2 dining tables, 4 books, 2 vases, 12.4ms\n",
      "video 1/1 (frame 867/6950) /Users/liru/Documents/Computer Vision/YOLO Project/house-tour.mp4: 384x640 3 couchs, 5 potted plants, 2 dining tables, 4 books, 2 vases, 11.2ms\n",
      "video 1/1 (frame 868/6950) /Users/liru/Documents/Computer Vision/YOLO Project/house-tour.mp4: 384x640 3 couchs, 5 potted plants, 2 dining tables, 4 books, 2 vases, 17.5ms\n",
      "video 1/1 (frame 869/6950) /Users/liru/Documents/Computer Vision/YOLO Project/house-tour.mp4: 384x640 1 chair, 4 couchs, 5 potted plants, 2 dining tables, 4 books, 1 vase, 11.6ms\n",
      "video 1/1 (frame 870/6950) /Users/liru/Documents/Computer Vision/YOLO Project/house-tour.mp4: 384x640 4 couchs, 5 potted plants, 2 dining tables, 4 books, 2 vases, 11.0ms\n",
      "video 1/1 (frame 871/6950) /Users/liru/Documents/Computer Vision/YOLO Project/house-tour.mp4: 384x640 1 chair, 4 couchs, 5 potted plants, 2 dining tables, 4 books, 2 vases, 11.1ms\n",
      "video 1/1 (frame 872/6950) /Users/liru/Documents/Computer Vision/YOLO Project/house-tour.mp4: 384x640 1 chair, 3 couchs, 5 potted plants, 2 dining tables, 4 books, 2 vases, 11.4ms\n",
      "video 1/1 (frame 873/6950) /Users/liru/Documents/Computer Vision/YOLO Project/house-tour.mp4: 384x640 1 chair, 3 couchs, 5 potted plants, 2 dining tables, 4 books, 2 vases, 12.5ms\n",
      "video 1/1 (frame 874/6950) /Users/liru/Documents/Computer Vision/YOLO Project/house-tour.mp4: 384x640 1 person, 2 chairs, 2 couchs, 4 potted plants, 1 dining table, 2 books, 1 clock, 1 vase, 11.8ms\n",
      "video 1/1 (frame 875/6950) /Users/liru/Documents/Computer Vision/YOLO Project/house-tour.mp4: 384x640 1 person, 1 chair, 3 couchs, 5 potted plants, 1 dining table, 2 books, 1 clock, 1 vase, 11.0ms\n",
      "video 1/1 (frame 876/6950) /Users/liru/Documents/Computer Vision/YOLO Project/house-tour.mp4: 384x640 1 person, 1 chair, 3 couchs, 4 potted plants, 1 dining table, 2 books, 1 vase, 10.6ms\n",
      "video 1/1 (frame 877/6950) /Users/liru/Documents/Computer Vision/YOLO Project/house-tour.mp4: 384x640 1 person, 2 chairs, 2 couchs, 4 potted plants, 1 dining table, 2 books, 1 vase, 10.2ms\n",
      "video 1/1 (frame 878/6950) /Users/liru/Documents/Computer Vision/YOLO Project/house-tour.mp4: 384x640 1 person, 2 chairs, 1 couch, 4 potted plants, 1 dining table, 3 books, 1 vase, 10.6ms\n",
      "video 1/1 (frame 879/6950) /Users/liru/Documents/Computer Vision/YOLO Project/house-tour.mp4: 384x640 1 person, 2 chairs, 1 couch, 4 potted plants, 1 dining table, 3 books, 1 vase, 12.2ms\n",
      "video 1/1 (frame 880/6950) /Users/liru/Documents/Computer Vision/YOLO Project/house-tour.mp4: 384x640 1 person, 2 chairs, 1 couch, 4 potted plants, 1 dining table, 2 books, 1 vase, 11.3ms\n",
      "video 1/1 (frame 881/6950) /Users/liru/Documents/Computer Vision/YOLO Project/house-tour.mp4: 384x640 1 person, 1 chair, 2 couchs, 4 potted plants, 1 dining table, 2 books, 14.8ms\n",
      "video 1/1 (frame 882/6950) /Users/liru/Documents/Computer Vision/YOLO Project/house-tour.mp4: 384x640 1 person, 2 couchs, 3 potted plants, 1 dining table, 2 books, 17.6ms\n",
      "video 1/1 (frame 883/6950) /Users/liru/Documents/Computer Vision/YOLO Project/house-tour.mp4: 384x640 1 person, 1 chair, 2 couchs, 3 potted plants, 1 dining table, 2 books, 1 vase, 16.7ms\n",
      "video 1/1 (frame 884/6950) /Users/liru/Documents/Computer Vision/YOLO Project/house-tour.mp4: 384x640 1 person, 1 chair, 2 couchs, 3 potted plants, 1 dining table, 2 books, 1 vase, 11.5ms\n",
      "video 1/1 (frame 885/6950) /Users/liru/Documents/Computer Vision/YOLO Project/house-tour.mp4: 384x640 1 person, 1 chair, 2 couchs, 3 potted plants, 1 dining table, 2 books, 1 vase, 10.6ms\n",
      "video 1/1 (frame 886/6950) /Users/liru/Documents/Computer Vision/YOLO Project/house-tour.mp4: 384x640 1 person, 1 chair, 2 couchs, 3 potted plants, 1 dining table, 2 books, 1 clock, 1 vase, 15.5ms\n",
      "video 1/1 (frame 887/6950) /Users/liru/Documents/Computer Vision/YOLO Project/house-tour.mp4: 384x640 1 person, 2 chairs, 2 couchs, 4 potted plants, 1 dining table, 2 books, 1 clock, 18.0ms\n",
      "video 1/1 (frame 888/6950) /Users/liru/Documents/Computer Vision/YOLO Project/house-tour.mp4: 384x640 1 person, 2 chairs, 1 couch, 3 potted plants, 1 dining table, 2 books, 1 clock, 15.1ms\n",
      "video 1/1 (frame 889/6950) /Users/liru/Documents/Computer Vision/YOLO Project/house-tour.mp4: 384x640 1 person, 3 chairs, 1 couch, 3 potted plants, 1 dining table, 3 books, 13.7ms\n",
      "video 1/1 (frame 890/6950) /Users/liru/Documents/Computer Vision/YOLO Project/house-tour.mp4: 384x640 1 person, 2 chairs, 1 couch, 3 potted plants, 1 dining table, 1 book, 13.7ms\n",
      "video 1/1 (frame 891/6950) /Users/liru/Documents/Computer Vision/YOLO Project/house-tour.mp4: 384x640 1 person, 2 chairs, 1 couch, 3 potted plants, 1 dining table, 1 book, 12.4ms\n",
      "video 1/1 (frame 892/6950) /Users/liru/Documents/Computer Vision/YOLO Project/house-tour.mp4: 384x640 1 person, 3 chairs, 1 couch, 3 potted plants, 1 dining table, 2 books, 12.1ms\n",
      "video 1/1 (frame 893/6950) /Users/liru/Documents/Computer Vision/YOLO Project/house-tour.mp4: 384x640 1 person, 2 chairs, 2 couchs, 4 potted plants, 1 dining table, 2 books, 11.1ms\n",
      "video 1/1 (frame 894/6950) /Users/liru/Documents/Computer Vision/YOLO Project/house-tour.mp4: 384x640 1 person, 2 chairs, 2 couchs, 4 potted plants, 1 dining table, 2 books, 11.5ms\n",
      "video 1/1 (frame 895/6950) /Users/liru/Documents/Computer Vision/YOLO Project/house-tour.mp4: 384x640 1 person, 1 chair, 2 couchs, 4 potted plants, 1 dining table, 2 books, 16.1ms\n",
      "video 1/1 (frame 896/6950) /Users/liru/Documents/Computer Vision/YOLO Project/house-tour.mp4: 384x640 1 person, 2 chairs, 1 couch, 4 potted plants, 1 dining table, 3 books, 1 vase, 16.4ms\n",
      "video 1/1 (frame 897/6950) /Users/liru/Documents/Computer Vision/YOLO Project/house-tour.mp4: 384x640 1 person, 2 chairs, 1 couch, 4 potted plants, 1 dining table, 3 books, 1 vase, 12.0ms\n",
      "video 1/1 (frame 898/6950) /Users/liru/Documents/Computer Vision/YOLO Project/house-tour.mp4: 384x640 1 person, 1 chair, 2 couchs, 4 potted plants, 1 dining table, 3 books, 1 vase, 11.4ms\n",
      "video 1/1 (frame 899/6950) /Users/liru/Documents/Computer Vision/YOLO Project/house-tour.mp4: 384x640 1 person, 1 chair, 2 couchs, 4 potted plants, 1 dining table, 3 books, 14.2ms\n",
      "video 1/1 (frame 900/6950) /Users/liru/Documents/Computer Vision/YOLO Project/house-tour.mp4: 384x640 1 person, 1 chair, 2 couchs, 4 potted plants, 1 dining table, 1 remote, 2 books, 1 vase, 15.3ms\n",
      "video 1/1 (frame 901/6950) /Users/liru/Documents/Computer Vision/YOLO Project/house-tour.mp4: 384x640 1 person, 1 chair, 2 couchs, 4 potted plants, 1 dining table, 1 remote, 2 books, 1 vase, 15.0ms\n",
      "video 1/1 (frame 902/6950) /Users/liru/Documents/Computer Vision/YOLO Project/house-tour.mp4: 384x640 1 person, 1 chair, 2 couchs, 3 potted plants, 1 dining table, 1 remote, 2 books, 1 vase, 14.3ms\n",
      "video 1/1 (frame 903/6950) /Users/liru/Documents/Computer Vision/YOLO Project/house-tour.mp4: 384x640 1 person, 1 chair, 2 couchs, 3 potted plants, 1 dining table, 1 remote, 2 books, 1 vase, 12.4ms\n",
      "video 1/1 (frame 904/6950) /Users/liru/Documents/Computer Vision/YOLO Project/house-tour.mp4: 384x640 1 person, 2 chairs, 2 couchs, 3 potted plants, 1 dining table, 1 book, 1 vase, 14.6ms\n",
      "video 1/1 (frame 905/6950) /Users/liru/Documents/Computer Vision/YOLO Project/house-tour.mp4: 384x640 1 person, 1 chair, 2 couchs, 3 potted plants, 1 dining table, 1 book, 1 vase, 13.7ms\n",
      "video 1/1 (frame 906/6950) /Users/liru/Documents/Computer Vision/YOLO Project/house-tour.mp4: 384x640 1 person, 1 chair, 2 couchs, 4 potted plants, 1 dining table, 1 remote, 1 book, 1 vase, 13.0ms\n",
      "video 1/1 (frame 907/6950) /Users/liru/Documents/Computer Vision/YOLO Project/house-tour.mp4: 384x640 1 person, 2 chairs, 1 couch, 4 potted plants, 1 dining table, 12.4ms\n",
      "video 1/1 (frame 908/6950) /Users/liru/Documents/Computer Vision/YOLO Project/house-tour.mp4: 384x640 1 person, 2 chairs, 1 couch, 4 potted plants, 1 dining table, 1 vase, 13.0ms\n",
      "video 1/1 (frame 909/6950) /Users/liru/Documents/Computer Vision/YOLO Project/house-tour.mp4: 384x640 1 person, 2 chairs, 1 couch, 4 potted plants, 1 dining table, 1 vase, 12.0ms\n",
      "video 1/1 (frame 910/6950) /Users/liru/Documents/Computer Vision/YOLO Project/house-tour.mp4: 384x640 1 person, 2 chairs, 1 couch, 4 potted plants, 1 dining table, 1 vase, 14.5ms\n",
      "video 1/1 (frame 911/6950) /Users/liru/Documents/Computer Vision/YOLO Project/house-tour.mp4: 384x640 1 person, 2 chairs, 1 couch, 3 potted plants, 1 dining table, 1 vase, 13.3ms\n",
      "video 1/1 (frame 912/6950) /Users/liru/Documents/Computer Vision/YOLO Project/house-tour.mp4: 384x640 1 person, 2 chairs, 1 couch, 3 potted plants, 1 dining table, 1 book, 1 vase, 14.2ms\n",
      "video 1/1 (frame 913/6950) /Users/liru/Documents/Computer Vision/YOLO Project/house-tour.mp4: 384x640 1 person, 2 chairs, 1 couch, 3 potted plants, 1 dining table, 1 book, 1 vase, 12.5ms\n",
      "video 1/1 (frame 914/6950) /Users/liru/Documents/Computer Vision/YOLO Project/house-tour.mp4: 384x640 1 person, 2 chairs, 1 couch, 3 potted plants, 1 dining table, 1 book, 1 vase, 11.8ms\n",
      "video 1/1 (frame 915/6950) /Users/liru/Documents/Computer Vision/YOLO Project/house-tour.mp4: 384x640 1 person, 2 chairs, 1 couch, 3 potted plants, 1 dining table, 1 book, 1 vase, 10.9ms\n",
      "video 1/1 (frame 916/6950) /Users/liru/Documents/Computer Vision/YOLO Project/house-tour.mp4: 384x640 1 person, 2 chairs, 1 couch, 4 potted plants, 1 book, 1 clock, 1 vase, 11.0ms\n",
      "video 1/1 (frame 917/6950) /Users/liru/Documents/Computer Vision/YOLO Project/house-tour.mp4: 384x640 1 person, 2 chairs, 1 couch, 4 potted plants, 1 dining table, 1 book, 1 vase, 12.4ms\n",
      "video 1/1 (frame 918/6950) /Users/liru/Documents/Computer Vision/YOLO Project/house-tour.mp4: 384x640 1 person, 3 chairs, 1 couch, 3 potted plants, 1 dining table, 1 book, 1 clock, 1 vase, 17.7ms\n",
      "video 1/1 (frame 919/6950) /Users/liru/Documents/Computer Vision/YOLO Project/house-tour.mp4: 384x640 1 person, 1 chair, 1 couch, 4 potted plants, 1 book, 1 clock, 1 vase, 11.9ms\n",
      "video 1/1 (frame 920/6950) /Users/liru/Documents/Computer Vision/YOLO Project/house-tour.mp4: 384x640 1 person, 3 chairs, 1 couch, 3 potted plants, 1 book, 1 clock, 1 vase, 11.7ms\n",
      "video 1/1 (frame 921/6950) /Users/liru/Documents/Computer Vision/YOLO Project/house-tour.mp4: 384x640 1 person, 3 chairs, 1 couch, 3 potted plants, 1 book, 1 clock, 1 vase, 11.2ms\n",
      "video 1/1 (frame 922/6950) /Users/liru/Documents/Computer Vision/YOLO Project/house-tour.mp4: 384x640 1 person, 3 chairs, 1 couch, 3 potted plants, 1 dining table, 1 book, 1 clock, 1 vase, 12.1ms\n",
      "video 1/1 (frame 923/6950) /Users/liru/Documents/Computer Vision/YOLO Project/house-tour.mp4: 384x640 1 person, 2 chairs, 1 couch, 3 potted plants, 1 book, 1 clock, 1 vase, 10.8ms\n",
      "video 1/1 (frame 924/6950) /Users/liru/Documents/Computer Vision/YOLO Project/house-tour.mp4: 384x640 1 person, 2 chairs, 1 couch, 3 potted plants, 1 dining table, 1 book, 1 clock, 1 vase, 12.1ms\n",
      "video 1/1 (frame 925/6950) /Users/liru/Documents/Computer Vision/YOLO Project/house-tour.mp4: 384x640 1 person, 2 chairs, 1 couch, 3 potted plants, 1 book, 1 clock, 1 vase, 12.6ms\n",
      "video 1/1 (frame 926/6950) /Users/liru/Documents/Computer Vision/YOLO Project/house-tour.mp4: 384x640 1 person, 1 chair, 1 couch, 3 potted plants, 1 book, 1 clock, 1 vase, 16.5ms\n",
      "video 1/1 (frame 927/6950) /Users/liru/Documents/Computer Vision/YOLO Project/house-tour.mp4: 384x640 1 person, 1 chair, 1 couch, 3 potted plants, 1 book, 1 clock, 1 vase, 16.7ms\n",
      "video 1/1 (frame 928/6950) /Users/liru/Documents/Computer Vision/YOLO Project/house-tour.mp4: 384x640 1 person, 2 chairs, 1 couch, 3 potted plants, 1 book, 1 clock, 1 vase, 11.8ms\n",
      "video 1/1 (frame 929/6950) /Users/liru/Documents/Computer Vision/YOLO Project/house-tour.mp4: 384x640 1 person, 2 chairs, 1 couch, 3 potted plants, 1 clock, 1 vase, 10.9ms\n",
      "video 1/1 (frame 930/6950) /Users/liru/Documents/Computer Vision/YOLO Project/house-tour.mp4: 384x640 1 person, 2 chairs, 1 couch, 3 potted plants, 1 book, 1 clock, 11.0ms\n",
      "video 1/1 (frame 931/6950) /Users/liru/Documents/Computer Vision/YOLO Project/house-tour.mp4: 384x640 1 person, 2 chairs, 1 couch, 3 potted plants, 1 book, 1 clock, 12.0ms\n",
      "video 1/1 (frame 932/6950) /Users/liru/Documents/Computer Vision/YOLO Project/house-tour.mp4: 384x640 1 person, 2 chairs, 1 couch, 2 potted plants, 1 book, 1 clock, 14.8ms\n",
      "video 1/1 (frame 933/6950) /Users/liru/Documents/Computer Vision/YOLO Project/house-tour.mp4: 384x640 1 person, 3 chairs, 1 couch, 3 potted plants, 1 book, 1 clock, 1 vase, 16.0ms\n",
      "video 1/1 (frame 934/6950) /Users/liru/Documents/Computer Vision/YOLO Project/house-tour.mp4: 384x640 1 person, 2 chairs, 1 couch, 2 potted plants, 1 book, 1 clock, 16.8ms\n",
      "video 1/1 (frame 935/6950) /Users/liru/Documents/Computer Vision/YOLO Project/house-tour.mp4: 384x640 1 person, 2 chairs, 1 couch, 3 potted plants, 1 book, 1 clock, 1 vase, 50.1ms\n",
      "video 1/1 (frame 936/6950) /Users/liru/Documents/Computer Vision/YOLO Project/house-tour.mp4: 384x640 1 person, 2 chairs, 1 couch, 3 potted plants, 1 dining table, 1 book, 1 clock, 1 vase, 12.9ms\n",
      "video 1/1 (frame 937/6950) /Users/liru/Documents/Computer Vision/YOLO Project/house-tour.mp4: 384x640 1 person, 2 chairs, 1 couch, 3 potted plants, 1 dining table, 1 book, 1 clock, 1 vase, 12.9ms\n",
      "video 1/1 (frame 938/6950) /Users/liru/Documents/Computer Vision/YOLO Project/house-tour.mp4: 384x640 1 person, 2 chairs, 1 couch, 3 potted plants, 1 dining table, 1 book, 1 clock, 1 vase, 12.1ms\n",
      "video 1/1 (frame 939/6950) /Users/liru/Documents/Computer Vision/YOLO Project/house-tour.mp4: 384x640 1 person, 2 chairs, 1 couch, 3 potted plants, 1 dining table, 1 book, 1 clock, 1 vase, 13.5ms\n",
      "video 1/1 (frame 940/6950) /Users/liru/Documents/Computer Vision/YOLO Project/house-tour.mp4: 384x640 1 person, 2 chairs, 1 couch, 3 potted plants, 1 dining table, 1 book, 1 clock, 1 vase, 15.4ms\n",
      "video 1/1 (frame 941/6950) /Users/liru/Documents/Computer Vision/YOLO Project/house-tour.mp4: 384x640 1 person, 2 chairs, 1 couch, 3 potted plants, 1 dining table, 1 book, 1 clock, 1 vase, 13.8ms\n",
      "video 1/1 (frame 942/6950) /Users/liru/Documents/Computer Vision/YOLO Project/house-tour.mp4: 384x640 1 person, 2 chairs, 1 couch, 4 potted plants, 1 dining table, 1 book, 1 clock, 1 vase, 11.6ms\n",
      "video 1/1 (frame 943/6950) /Users/liru/Documents/Computer Vision/YOLO Project/house-tour.mp4: 384x640 1 person, 1 bowl, 2 chairs, 1 couch, 3 potted plants, 1 dining table, 1 book, 1 clock, 1 vase, 10.9ms\n",
      "video 1/1 (frame 944/6950) /Users/liru/Documents/Computer Vision/YOLO Project/house-tour.mp4: 384x640 (no detections), 11.3ms\n",
      "video 1/1 (frame 945/6950) /Users/liru/Documents/Computer Vision/YOLO Project/house-tour.mp4: 384x640 (no detections), 11.2ms\n",
      "video 1/1 (frame 946/6950) /Users/liru/Documents/Computer Vision/YOLO Project/house-tour.mp4: 384x640 (no detections), 10.9ms\n",
      "video 1/1 (frame 947/6950) /Users/liru/Documents/Computer Vision/YOLO Project/house-tour.mp4: 384x640 (no detections), 10.7ms\n",
      "video 1/1 (frame 948/6950) /Users/liru/Documents/Computer Vision/YOLO Project/house-tour.mp4: 384x640 (no detections), 11.4ms\n",
      "video 1/1 (frame 949/6950) /Users/liru/Documents/Computer Vision/YOLO Project/house-tour.mp4: 384x640 (no detections), 11.2ms\n",
      "video 1/1 (frame 950/6950) /Users/liru/Documents/Computer Vision/YOLO Project/house-tour.mp4: 384x640 1 bed, 12.8ms\n",
      "video 1/1 (frame 951/6950) /Users/liru/Documents/Computer Vision/YOLO Project/house-tour.mp4: 384x640 (no detections), 11.0ms\n",
      "video 1/1 (frame 952/6950) /Users/liru/Documents/Computer Vision/YOLO Project/house-tour.mp4: 384x640 (no detections), 11.2ms\n",
      "video 1/1 (frame 953/6950) /Users/liru/Documents/Computer Vision/YOLO Project/house-tour.mp4: 384x640 1 bed, 11.2ms\n",
      "video 1/1 (frame 954/6950) /Users/liru/Documents/Computer Vision/YOLO Project/house-tour.mp4: 384x640 1 bed, 10.8ms\n",
      "video 1/1 (frame 955/6950) /Users/liru/Documents/Computer Vision/YOLO Project/house-tour.mp4: 384x640 (no detections), 10.5ms\n",
      "video 1/1 (frame 956/6950) /Users/liru/Documents/Computer Vision/YOLO Project/house-tour.mp4: 384x640 (no detections), 12.4ms\n",
      "video 1/1 (frame 957/6950) /Users/liru/Documents/Computer Vision/YOLO Project/house-tour.mp4: 384x640 (no detections), 11.7ms\n",
      "video 1/1 (frame 958/6950) /Users/liru/Documents/Computer Vision/YOLO Project/house-tour.mp4: 384x640 (no detections), 12.5ms\n",
      "video 1/1 (frame 959/6950) /Users/liru/Documents/Computer Vision/YOLO Project/house-tour.mp4: 384x640 (no detections), 12.6ms\n",
      "video 1/1 (frame 960/6950) /Users/liru/Documents/Computer Vision/YOLO Project/house-tour.mp4: 384x640 (no detections), 12.1ms\n",
      "video 1/1 (frame 961/6950) /Users/liru/Documents/Computer Vision/YOLO Project/house-tour.mp4: 384x640 1 bed, 11.2ms\n",
      "video 1/1 (frame 962/6950) /Users/liru/Documents/Computer Vision/YOLO Project/house-tour.mp4: 384x640 (no detections), 11.7ms\n",
      "video 1/1 (frame 963/6950) /Users/liru/Documents/Computer Vision/YOLO Project/house-tour.mp4: 384x640 1 bed, 12.5ms\n",
      "video 1/1 (frame 964/6950) /Users/liru/Documents/Computer Vision/YOLO Project/house-tour.mp4: 384x640 1 bed, 12.0ms\n",
      "video 1/1 (frame 965/6950) /Users/liru/Documents/Computer Vision/YOLO Project/house-tour.mp4: 384x640 1 bed, 11.3ms\n",
      "video 1/1 (frame 966/6950) /Users/liru/Documents/Computer Vision/YOLO Project/house-tour.mp4: 384x640 1 bed, 12.1ms\n",
      "video 1/1 (frame 967/6950) /Users/liru/Documents/Computer Vision/YOLO Project/house-tour.mp4: 384x640 1 bed, 10.9ms\n",
      "video 1/1 (frame 968/6950) /Users/liru/Documents/Computer Vision/YOLO Project/house-tour.mp4: 384x640 1 bed, 10.6ms\n",
      "video 1/1 (frame 969/6950) /Users/liru/Documents/Computer Vision/YOLO Project/house-tour.mp4: 384x640 1 bed, 10.6ms\n",
      "video 1/1 (frame 970/6950) /Users/liru/Documents/Computer Vision/YOLO Project/house-tour.mp4: 384x640 1 bed, 13.0ms\n",
      "video 1/1 (frame 971/6950) /Users/liru/Documents/Computer Vision/YOLO Project/house-tour.mp4: 384x640 1 bed, 14.0ms\n",
      "video 1/1 (frame 972/6950) /Users/liru/Documents/Computer Vision/YOLO Project/house-tour.mp4: 384x640 (no detections), 14.5ms\n",
      "video 1/1 (frame 973/6950) /Users/liru/Documents/Computer Vision/YOLO Project/house-tour.mp4: 384x640 (no detections), 11.4ms\n",
      "video 1/1 (frame 974/6950) /Users/liru/Documents/Computer Vision/YOLO Project/house-tour.mp4: 384x640 (no detections), 12.3ms\n",
      "video 1/1 (frame 975/6950) /Users/liru/Documents/Computer Vision/YOLO Project/house-tour.mp4: 384x640 (no detections), 10.6ms\n",
      "video 1/1 (frame 976/6950) /Users/liru/Documents/Computer Vision/YOLO Project/house-tour.mp4: 384x640 (no detections), 11.1ms\n",
      "video 1/1 (frame 977/6950) /Users/liru/Documents/Computer Vision/YOLO Project/house-tour.mp4: 384x640 (no detections), 10.3ms\n",
      "video 1/1 (frame 978/6950) /Users/liru/Documents/Computer Vision/YOLO Project/house-tour.mp4: 384x640 (no detections), 10.5ms\n",
      "video 1/1 (frame 979/6950) /Users/liru/Documents/Computer Vision/YOLO Project/house-tour.mp4: 384x640 (no detections), 10.7ms\n",
      "video 1/1 (frame 980/6950) /Users/liru/Documents/Computer Vision/YOLO Project/house-tour.mp4: 384x640 (no detections), 10.7ms\n",
      "video 1/1 (frame 981/6950) /Users/liru/Documents/Computer Vision/YOLO Project/house-tour.mp4: 384x640 (no detections), 11.1ms\n",
      "video 1/1 (frame 982/6950) /Users/liru/Documents/Computer Vision/YOLO Project/house-tour.mp4: 384x640 (no detections), 11.3ms\n",
      "video 1/1 (frame 983/6950) /Users/liru/Documents/Computer Vision/YOLO Project/house-tour.mp4: 384x640 (no detections), 11.8ms\n",
      "video 1/1 (frame 984/6950) /Users/liru/Documents/Computer Vision/YOLO Project/house-tour.mp4: 384x640 (no detections), 12.2ms\n",
      "video 1/1 (frame 985/6950) /Users/liru/Documents/Computer Vision/YOLO Project/house-tour.mp4: 384x640 (no detections), 11.4ms\n",
      "video 1/1 (frame 986/6950) /Users/liru/Documents/Computer Vision/YOLO Project/house-tour.mp4: 384x640 (no detections), 12.8ms\n",
      "video 1/1 (frame 987/6950) /Users/liru/Documents/Computer Vision/YOLO Project/house-tour.mp4: 384x640 (no detections), 12.9ms\n",
      "video 1/1 (frame 988/6950) /Users/liru/Documents/Computer Vision/YOLO Project/house-tour.mp4: 384x640 (no detections), 12.2ms\n",
      "video 1/1 (frame 989/6950) /Users/liru/Documents/Computer Vision/YOLO Project/house-tour.mp4: 384x640 (no detections), 11.1ms\n",
      "video 1/1 (frame 990/6950) /Users/liru/Documents/Computer Vision/YOLO Project/house-tour.mp4: 384x640 (no detections), 10.7ms\n",
      "video 1/1 (frame 991/6950) /Users/liru/Documents/Computer Vision/YOLO Project/house-tour.mp4: 384x640 (no detections), 10.2ms\n",
      "video 1/1 (frame 992/6950) /Users/liru/Documents/Computer Vision/YOLO Project/house-tour.mp4: 384x640 (no detections), 10.3ms\n",
      "video 1/1 (frame 993/6950) /Users/liru/Documents/Computer Vision/YOLO Project/house-tour.mp4: 384x640 (no detections), 10.6ms\n",
      "video 1/1 (frame 994/6950) /Users/liru/Documents/Computer Vision/YOLO Project/house-tour.mp4: 384x640 (no detections), 10.5ms\n",
      "video 1/1 (frame 995/6950) /Users/liru/Documents/Computer Vision/YOLO Project/house-tour.mp4: 384x640 (no detections), 11.5ms\n",
      "video 1/1 (frame 996/6950) /Users/liru/Documents/Computer Vision/YOLO Project/house-tour.mp4: 384x640 (no detections), 11.6ms\n",
      "video 1/1 (frame 997/6950) /Users/liru/Documents/Computer Vision/YOLO Project/house-tour.mp4: 384x640 (no detections), 11.9ms\n",
      "video 1/1 (frame 998/6950) /Users/liru/Documents/Computer Vision/YOLO Project/house-tour.mp4: 384x640 (no detections), 10.8ms\n",
      "video 1/1 (frame 999/6950) /Users/liru/Documents/Computer Vision/YOLO Project/house-tour.mp4: 384x640 (no detections), 11.1ms\n",
      "video 1/1 (frame 1000/6950) /Users/liru/Documents/Computer Vision/YOLO Project/house-tour.mp4: 384x640 (no detections), 12.0ms\n",
      "video 1/1 (frame 1001/6950) /Users/liru/Documents/Computer Vision/YOLO Project/house-tour.mp4: 384x640 (no detections), 11.1ms\n",
      "video 1/1 (frame 1002/6950) /Users/liru/Documents/Computer Vision/YOLO Project/house-tour.mp4: 384x640 (no detections), 12.1ms\n",
      "video 1/1 (frame 1003/6950) /Users/liru/Documents/Computer Vision/YOLO Project/house-tour.mp4: 384x640 (no detections), 11.6ms\n",
      "video 1/1 (frame 1004/6950) /Users/liru/Documents/Computer Vision/YOLO Project/house-tour.mp4: 384x640 (no detections), 13.3ms\n",
      "video 1/1 (frame 1005/6950) /Users/liru/Documents/Computer Vision/YOLO Project/house-tour.mp4: 384x640 (no detections), 12.2ms\n",
      "video 1/1 (frame 1006/6950) /Users/liru/Documents/Computer Vision/YOLO Project/house-tour.mp4: 384x640 (no detections), 10.8ms\n",
      "video 1/1 (frame 1007/6950) /Users/liru/Documents/Computer Vision/YOLO Project/house-tour.mp4: 384x640 (no detections), 10.9ms\n",
      "video 1/1 (frame 1008/6950) /Users/liru/Documents/Computer Vision/YOLO Project/house-tour.mp4: 384x640 (no detections), 10.8ms\n",
      "video 1/1 (frame 1009/6950) /Users/liru/Documents/Computer Vision/YOLO Project/house-tour.mp4: 384x640 (no detections), 11.4ms\n"
     ]
    }
   ],
   "source": [
    "from ultralytics import YOLO\n",
    "\n",
    "# Analyzing a video and detecting objects during playthrough\n",
    "model = YOLO(\"runs/detect/train14/weights/best.pt\")\n",
    "model.predict(source=\"house-tour.mp4\", show=True, device='mps')"
   ]
  },
  {
   "cell_type": "code",
   "execution_count": 1,
   "metadata": {},
   "outputs": [
    {
     "name": "stderr",
     "output_type": "stream",
     "text": [
      "/Users/liru/Library/Python/3.9/lib/python/site-packages/urllib3/__init__.py:34: NotOpenSSLWarning: urllib3 v2 only supports OpenSSL 1.1.1+, currently the 'ssl' module is compiled with 'LibreSSL 2.8.3'. See: https://github.com/urllib3/urllib3/issues/3020\n",
      "  warnings.warn(\n",
      "2024-04-06 20:57:37.333 Python[36171:2408175] WARNING: Secure coding is automatically enabled for restorable state! However, not on all supported macOS versions of this application. Opt-in to secure coding explicitly by implementing NSApplicationDelegate.applicationSupportsSecureRestorableState:.\n"
     ]
    },
    {
     "name": "stdout",
     "output_type": "stream",
     "text": [
      "\n"
     ]
    },
    {
     "name": "stderr",
     "output_type": "stream",
     "text": [
      "2024-04-06 20:57:37.752 Python[36171:2408175] WARNING: AVCaptureDeviceTypeExternal is deprecated for Continuity Cameras. Please use AVCaptureDeviceTypeContinuityCamera and add NSCameraUseContinuityCameraDeviceType to your Info.plist.\n"
     ]
    },
    {
     "name": "stdout",
     "output_type": "stream",
     "text": [
      "1/1: 0... Success ✅ (inf frames of shape 1920x1080 at 15.00 FPS)\n",
      "\n",
      "\n",
      "WARNING ⚠️ inference results will accumulate in RAM unless `stream=True` is passed, causing potential out-of-memory\n",
      "errors for large sources or long-running streams and videos. See https://docs.ultralytics.com/modes/predict/ for help.\n",
      "\n",
      "Example:\n",
      "    results = model(source=..., stream=True)  # generator of Results objects\n",
      "    for r in results:\n",
      "        boxes = r.boxes  # Boxes object for bbox outputs\n",
      "        masks = r.masks  # Masks object for segment masks outputs\n",
      "        probs = r.probs  # Class probabilities for classification outputs\n",
      "\n",
      "0: 384x640 (no detections), 101.9ms\n",
      "0: 384x640 1 person, 72.6ms\n",
      "0: 384x640 1 person, 67.0ms\n",
      "0: 384x640 1 person, 64.3ms\n",
      "0: 384x640 1 person, 62.1ms\n",
      "0: 384x640 1 person, 63.7ms\n",
      "0: 384x640 1 person, 65.4ms\n",
      "0: 384x640 1 person, 66.8ms\n",
      "0: 384x640 1 person, 64.8ms\n",
      "0: 384x640 1 person, 61.8ms\n",
      "0: 384x640 1 person, 61.0ms\n",
      "0: 384x640 1 person, 56.6ms\n",
      "0: 384x640 1 person, 54.8ms\n",
      "0: 384x640 1 person, 57.2ms\n",
      "0: 384x640 1 person, 62.1ms\n",
      "0: 384x640 1 person, 58.4ms\n",
      "0: 384x640 1 person, 57.1ms\n",
      "0: 384x640 1 person, 57.7ms\n",
      "0: 384x640 1 person, 55.8ms\n",
      "0: 384x640 1 person, 53.6ms\n",
      "0: 384x640 1 person, 54.2ms\n",
      "0: 384x640 1 person, 53.9ms\n",
      "0: 384x640 1 person, 54.8ms\n",
      "0: 384x640 1 person, 56.0ms\n",
      "0: 384x640 1 person, 59.2ms\n",
      "0: 384x640 1 person, 56.3ms\n",
      "0: 384x640 1 person, 55.3ms\n",
      "0: 384x640 1 person, 55.6ms\n",
      "0: 384x640 1 person, 55.5ms\n",
      "0: 384x640 1 person, 52.4ms\n",
      "0: 384x640 1 person, 52.4ms\n",
      "0: 384x640 2 persons, 53.5ms\n",
      "0: 384x640 1 person, 51.1ms\n",
      "0: 384x640 1 person, 53.5ms\n",
      "0: 384x640 1 person, 53.0ms\n",
      "0: 384x640 1 person, 53.6ms\n",
      "0: 384x640 1 person, 60.5ms\n",
      "0: 384x640 1 person, 58.9ms\n",
      "0: 384x640 1 person, 53.1ms\n",
      "0: 384x640 1 person, 52.0ms\n",
      "0: 384x640 1 person, 50.2ms\n",
      "0: 384x640 1 person, 50.5ms\n",
      "0: 384x640 1 person, 53.9ms\n",
      "0: 384x640 1 person, 52.5ms\n",
      "0: 384x640 2 persons, 51.2ms\n",
      "0: 384x640 2 persons, 50.5ms\n",
      "0: 384x640 1 person, 51.0ms\n",
      "0: 384x640 1 person, 50.3ms\n",
      "0: 384x640 1 person, 50.2ms\n",
      "0: 384x640 1 person, 51.0ms\n",
      "0: 384x640 1 person, 1 cell phone, 50.6ms\n",
      "0: 384x640 1 person, 50.2ms\n",
      "0: 384x640 1 person, 50.3ms\n",
      "0: 384x640 1 person, 51.1ms\n",
      "0: 384x640 1 person, 1 cup, 50.3ms\n",
      "0: 384x640 1 person, 51.6ms\n",
      "0: 384x640 1 person, 49.9ms\n",
      "0: 384x640 1 person, 49.4ms\n",
      "0: 384x640 1 person, 52.0ms\n",
      "0: 384x640 1 person, 51.3ms\n",
      "0: 384x640 1 person, 52.1ms\n",
      "0: 384x640 1 person, 49.9ms\n",
      "0: 384x640 1 person, 52.9ms\n",
      "0: 384x640 2 persons, 49.4ms\n",
      "0: 384x640 1 person, 50.9ms\n",
      "0: 384x640 1 person, 51.6ms\n",
      "0: 384x640 1 person, 51.1ms\n",
      "0: 384x640 1 person, 50.9ms\n",
      "0: 384x640 1 person, 50.6ms\n",
      "0: 384x640 1 person, 50.7ms\n",
      "0: 384x640 1 person, 73.1ms\n",
      "0: 384x640 2 persons, 50.9ms\n",
      "0: 384x640 1 person, 51.9ms\n",
      "0: 384x640 1 person, 56.3ms\n",
      "0: 384x640 1 person, 1 cup, 50.4ms\n",
      "0: 384x640 1 person, 1 cup, 52.4ms\n",
      "0: 384x640 1 person, 51.5ms\n",
      "0: 384x640 1 person, 50.9ms\n",
      "0: 384x640 2 persons, 50.3ms\n",
      "0: 384x640 1 person, 49.6ms\n",
      "0: 384x640 1 person, 50.0ms\n",
      "0: 384x640 1 person, 49.6ms\n",
      "0: 384x640 1 person, 50.9ms\n",
      "0: 384x640 1 person, 1 cup, 51.1ms\n",
      "0: 384x640 1 person, 1 cup, 52.0ms\n",
      "0: 384x640 1 person, 1 cup, 51.2ms\n",
      "0: 384x640 1 person, 2 cups, 1 tv, 51.8ms\n",
      "0: 384x640 1 person, 1 tv, 49.6ms\n",
      "0: 384x640 1 person, 49.7ms\n",
      "0: 384x640 1 person, 1 cup, 1 tv, 50.9ms\n",
      "0: 384x640 1 person, 1 cup, 50.9ms\n",
      "0: 384x640 1 person, 54.0ms\n",
      "0: 384x640 1 person, 51.4ms\n",
      "0: 384x640 1 person, 51.9ms\n",
      "0: 384x640 1 person, 50.7ms\n",
      "0: 384x640 1 person, 51.4ms\n",
      "0: 384x640 1 person, 52.1ms\n",
      "0: 384x640 1 person, 52.0ms\n",
      "0: 384x640 1 person, 50.2ms\n",
      "0: 384x640 1 person, 50.1ms\n",
      "0: 384x640 1 person, 49.2ms\n",
      "0: 384x640 1 person, 99.4ms\n",
      "0: 384x640 1 person, 49.5ms\n",
      "0: 384x640 1 person, 1 cup, 50.0ms\n",
      "0: 384x640 1 person, 1 cup, 48.6ms\n",
      "0: 384x640 1 person, 50.3ms\n",
      "0: 384x640 1 person, 49.9ms\n",
      "0: 384x640 1 person, 49.9ms\n",
      "0: 384x640 1 person, 50.0ms\n",
      "0: 384x640 1 person, 48.6ms\n",
      "0: 384x640 1 person, 50.3ms\n",
      "0: 384x640 1 person, 47.3ms\n",
      "0: 384x640 1 person, 48.9ms\n",
      "0: 384x640 1 person, 50.4ms\n",
      "0: 384x640 1 person, 49.3ms\n",
      "0: 384x640 1 person, 49.7ms\n",
      "0: 384x640 1 person, 55.5ms\n",
      "0: 384x640 1 person, 48.4ms\n",
      "0: 384x640 1 person, 50.0ms\n",
      "0: 384x640 1 person, 50.0ms\n",
      "0: 384x640 1 person, 50.0ms\n",
      "0: 384x640 1 person, 50.5ms\n",
      "0: 384x640 1 person, 49.2ms\n",
      "0: 384x640 1 person, 54.2ms\n",
      "0: 384x640 1 person, 49.2ms\n",
      "0: 384x640 1 person, 1 cup, 51.1ms\n",
      "0: 384x640 1 person, 1 cup, 50.8ms\n",
      "0: 384x640 1 person, 1 cup, 50.3ms\n",
      "0: 384x640 1 person, 1 cup, 50.1ms\n",
      "0: 384x640 1 person, 49.4ms\n",
      "0: 384x640 1 person, 48.6ms\n",
      "0: 384x640 1 person, 54.5ms\n",
      "0: 384x640 1 person, 52.4ms\n",
      "0: 384x640 1 person, 50.4ms\n",
      "0: 384x640 1 person, 50.5ms\n",
      "0: 384x640 1 person, 1 cup, 51.6ms\n",
      "0: 384x640 1 person, 1 cup, 72.6ms\n",
      "0: 384x640 1 person, 50.5ms\n",
      "0: 384x640 1 person, 51.5ms\n",
      "0: 384x640 1 person, 50.0ms\n",
      "0: 384x640 1 person, 51.7ms\n",
      "0: 384x640 1 person, 50.2ms\n",
      "0: 384x640 1 person, 50.9ms\n",
      "0: 384x640 1 person, 51.4ms\n",
      "0: 384x640 1 person, 50.6ms\n",
      "0: 384x640 1 person, 51.1ms\n",
      "0: 384x640 1 person, 50.2ms\n",
      "0: 384x640 1 person, 51.2ms\n",
      "0: 384x640 1 person, 50.7ms\n",
      "0: 384x640 1 person, 49.7ms\n",
      "0: 384x640 1 person, 50.6ms\n",
      "0: 384x640 1 person, 51.4ms\n",
      "0: 384x640 1 person, 49.5ms\n",
      "0: 384x640 1 person, 50.2ms\n",
      "0: 384x640 1 person, 50.2ms\n",
      "0: 384x640 1 person, 50.9ms\n",
      "0: 384x640 1 person, 50.6ms\n",
      "0: 384x640 1 person, 48.9ms\n",
      "0: 384x640 1 person, 51.2ms\n",
      "0: 384x640 1 person, 48.6ms\n",
      "0: 384x640 1 person, 48.2ms\n",
      "0: 384x640 1 person, 49.1ms\n",
      "0: 384x640 1 person, 48.7ms\n",
      "0: 384x640 1 person, 49.4ms\n",
      "0: 384x640 1 person, 48.6ms\n",
      "0: 384x640 1 person, 48.3ms\n",
      "0: 384x640 1 person, 48.9ms\n",
      "0: 384x640 1 person, 48.3ms\n",
      "0: 384x640 1 person, 48.8ms\n",
      "0: 384x640 1 person, 47.4ms\n",
      "0: 384x640 1 person, 49.1ms\n",
      "0: 384x640 1 person, 50.1ms\n",
      "0: 384x640 1 person, 48.7ms\n",
      "0: 384x640 1 person, 47.6ms\n",
      "0: 384x640 1 person, 49.2ms\n",
      "0: 384x640 1 person, 48.0ms\n",
      "0: 384x640 1 person, 48.4ms\n",
      "0: 384x640 1 person, 49.8ms\n",
      "0: 384x640 1 person, 47.7ms\n",
      "0: 384x640 1 person, 49.2ms\n",
      "0: 384x640 1 person, 50.1ms\n",
      "0: 384x640 1 person, 47.7ms\n",
      "0: 384x640 1 person, 47.9ms\n",
      "0: 384x640 1 person, 47.1ms\n",
      "0: 384x640 1 person, 50.0ms\n",
      "0: 384x640 1 person, 49.5ms\n",
      "0: 384x640 1 person, 48.4ms\n",
      "0: 384x640 1 person, 47.1ms\n",
      "0: 384x640 1 person, 48.9ms\n",
      "0: 384x640 1 person, 47.8ms\n",
      "0: 384x640 1 person, 48.7ms\n",
      "0: 384x640 1 person, 49.6ms\n",
      "0: 384x640 1 person, 49.7ms\n",
      "0: 384x640 1 person, 1 tv, 48.4ms\n",
      "0: 384x640 1 person, 1 tv, 47.7ms\n",
      "0: 384x640 1 person, 2 cups, 1 tv, 49.5ms\n",
      "0: 384x640 1 person, 1 cup, 49.4ms\n",
      "0: 384x640 1 person, 1 tv, 49.5ms\n",
      "0: 384x640 1 person, 2 cups, 1 tv, 50.8ms\n",
      "0: 384x640 1 person, 1 cup, 47.2ms\n",
      "0: 384x640 1 person, 2 cups, 48.0ms\n",
      "0: 384x640 1 person, 1 cup, 53.4ms\n",
      "0: 384x640 1 person, 2 cups, 48.4ms\n",
      "0: 384x640 1 person, 1 cup, 48.7ms\n",
      "0: 384x640 1 person, 1 cup, 48.1ms\n",
      "0: 384x640 1 person, 1 cup, 47.7ms\n",
      "0: 384x640 1 person, 2 cups, 70.8ms\n",
      "0: 384x640 2 persons, 47.7ms\n",
      "0: 384x640 1 person, 2 cups, 48.5ms\n",
      "0: 384x640 1 person, 1 cup, 48.7ms\n",
      "0: 384x640 1 person, 48.3ms\n",
      "0: 384x640 1 person, 2 cups, 49.1ms\n",
      "0: 384x640 1 person, 49.0ms\n",
      "0: 384x640 1 person, 48.5ms\n",
      "0: 384x640 1 person, 48.6ms\n",
      "0: 384x640 1 person, 1 cup, 1 tv, 48.1ms\n",
      "0: 384x640 1 person, 1 cup, 50.2ms\n",
      "0: 384x640 2 persons, 1 fork, 1 laptop, 48.7ms\n",
      "0: 384x640 1 person, 1 remote, 48.6ms\n",
      "0: 384x640 1 person, 1 tv, 2 cell phones, 48.8ms\n",
      "0: 384x640 1 person, 1 tv, 1 cell phone, 47.3ms\n",
      "0: 384x640 1 person, 1 cell phone, 48.0ms\n",
      "0: 384x640 1 person, 1 cell phone, 46.9ms\n",
      "0: 384x640 1 person, 1 cell phone, 48.0ms\n",
      "0: 384x640 1 person, 48.7ms\n",
      "0: 384x640 1 person, 48.6ms\n",
      "0: 384x640 1 person, 1 cup, 1 cell phone, 48.4ms\n",
      "0: 384x640 1 person, 1 cup, 2 cell phones, 48.1ms\n",
      "0: 384x640 1 person, 2 cell phones, 46.7ms\n",
      "0: 384x640 1 person, 2 cell phones, 47.8ms\n",
      "0: 384x640 1 person, 2 cell phones, 48.4ms\n",
      "0: 384x640 1 person, 1 cup, 1 cell phone, 47.4ms\n",
      "0: 384x640 1 person, 2 cups, 48.4ms\n",
      "0: 384x640 1 person, 2 cups, 1 cell phone, 48.1ms\n",
      "0: 384x640 1 person, 2 cups, 1 cell phone, 48.0ms\n",
      "0: 384x640 1 person, 1 cup, 1 cell phone, 48.6ms\n",
      "0: 384x640 1 person, 1 cell phone, 47.7ms\n",
      "0: 384x640 1 person, 2 cups, 1 cell phone, 48.1ms\n",
      "0: 384x640 2 persons, 2 cups, 1 remote, 49.1ms\n",
      "0: 384x640 1 person, 1 cup, 1 cell phone, 49.8ms\n",
      "0: 384x640 2 persons, 1 cup, 47.4ms\n",
      "0: 384x640 1 person, 1 cup, 49.2ms\n",
      "0: 384x640 1 person, 49.1ms\n",
      "0: 384x640 2 persons, 2 cups, 49.8ms\n",
      "0: 384x640 1 person, 1 cup, 50.3ms\n",
      "0: 384x640 1 person, 1 cup, 1 remote, 50.0ms\n",
      "0: 384x640 1 person, 1 cup, 49.8ms\n",
      "0: 384x640 1 person, 1 cup, 1 laptop, 48.4ms\n",
      "0: 384x640 1 person, 1 laptop, 49.1ms\n",
      "0: 384x640 2 persons, 2 cups, 49.7ms\n",
      "0: 384x640 2 persons, 1 cup, 1 remote, 47.9ms\n",
      "0: 384x640 1 person, 1 remote, 49.5ms\n",
      "0: 384x640 1 person, 1 cup, 48.6ms\n",
      "0: 384x640 1 person, 1 remote, 49.5ms\n",
      "0: 384x640 1 person, 49.0ms\n",
      "0: 384x640 2 persons, 1 cup, 48.8ms\n",
      "0: 384x640 1 person, 49.4ms\n",
      "0: 384x640 1 person, 1 cup, 50.2ms\n",
      "0: 384x640 1 person, 49.4ms\n",
      "0: 384x640 1 person, 49.6ms\n",
      "0: 384x640 1 person, 49.2ms\n",
      "0: 384x640 2 persons, 49.0ms\n",
      "0: 384x640 2 persons, 1 cup, 1 remote, 50.5ms\n",
      "0: 384x640 1 person, 1 remote, 49.8ms\n",
      "0: 384x640 1 person, 1 remote, 47.4ms\n",
      "0: 384x640 1 person, 1 remote, 48.0ms\n",
      "0: 384x640 1 person, 1 remote, 49.6ms\n",
      "0: 384x640 1 person, 1 cup, 1 remote, 49.6ms\n",
      "0: 384x640 1 person, 1 cup, 1 remote, 48.9ms\n",
      "0: 384x640 1 person, 1 tv, 1 remote, 49.2ms\n",
      "0: 384x640 1 person, 1 remote, 47.8ms\n",
      "0: 384x640 1 person, 1 remote, 49.0ms\n",
      "0: 384x640 1 person, 1 remote, 48.2ms\n",
      "0: 384x640 1 person, 1 cup, 1 remote, 73.9ms\n",
      "0: 384x640 1 person, 1 cup, 1 remote, 49.2ms\n",
      "0: 384x640 1 person, 1 cup, 1 remote, 1 cell phone, 49.8ms\n",
      "0: 384x640 1 person, 1 cup, 1 tv, 1 remote, 50.7ms\n",
      "0: 384x640 2 persons, 1 cup, 1 tv, 1 remote, 53.3ms\n",
      "0: 384x640 1 person, 1 cup, 1 tv, 1 remote, 48.1ms\n",
      "0: 384x640 1 person, 1 remote, 48.4ms\n",
      "0: 384x640 1 person, 1 remote, 48.7ms\n",
      "0: 384x640 1 person, 1 remote, 49.7ms\n",
      "0: 384x640 1 person, 1 remote, 1 cell phone, 48.2ms\n",
      "0: 384x640 1 person, 1 cell phone, 49.6ms\n",
      "0: 384x640 1 person, 1 cell phone, 48.4ms\n",
      "0: 384x640 1 person, 1 cell phone, 52.0ms\n",
      "0: 384x640 1 person, 1 remote, 1 cell phone, 48.0ms\n",
      "0: 384x640 1 person, 1 tv, 1 cell phone, 49.6ms\n",
      "0: 384x640 1 person, 1 remote, 1 cell phone, 48.4ms\n",
      "0: 384x640 1 person, 1 cell phone, 50.2ms\n",
      "0: 384x640 1 person, 1 cell phone, 48.4ms\n",
      "0: 384x640 1 person, 1 cell phone, 48.8ms\n",
      "0: 384x640 1 person, 1 cell phone, 49.9ms\n",
      "0: 384x640 1 person, 1 cell phone, 48.8ms\n",
      "0: 384x640 1 person, 1 remote, 1 cell phone, 49.2ms\n",
      "0: 384x640 1 person, 1 cell phone, 55.1ms\n",
      "0: 384x640 1 person, 1 cell phone, 54.2ms\n",
      "0: 384x640 1 person, 1 cell phone, 47.4ms\n",
      "0: 384x640 1 person, 1 cell phone, 48.7ms\n",
      "0: 384x640 1 person, 1 cell phone, 49.7ms\n",
      "0: 384x640 1 person, 1 cup, 1 cell phone, 48.4ms\n",
      "0: 384x640 1 person, 2 cell phones, 48.5ms\n",
      "0: 384x640 1 person, 1 cell phone, 48.5ms\n",
      "0: 384x640 1 person, 1 cup, 1 cell phone, 48.6ms\n",
      "0: 384x640 1 person, 1 cup, 1 cell phone, 50.1ms\n",
      "0: 384x640 1 person, 1 cell phone, 49.4ms\n",
      "0: 384x640 1 person, 1 cell phone, 50.3ms\n",
      "0: 384x640 1 person, 3 cups, 1 cell phone, 49.5ms\n",
      "0: 384x640 1 person, 1 cell phone, 49.8ms\n",
      "0: 384x640 1 person, 1 cup, 1 cell phone, 49.9ms\n",
      "0: 384x640 1 person, 1 cup, 1 cell phone, 49.1ms\n",
      "0: 384x640 1 person, 1 cup, 1 cell phone, 48.6ms\n",
      "0: 384x640 1 person, 1 cell phone, 48.1ms\n",
      "0: 384x640 1 person, 1 cell phone, 48.4ms\n",
      "0: 384x640 1 person, 1 cell phone, 49.7ms\n",
      "0: 384x640 1 person, 1 tv, 1 cell phone, 48.6ms\n",
      "0: 384x640 1 person, 1 cell phone, 49.6ms\n",
      "0: 384x640 1 person, 1 cup, 1 tv, 1 cell phone, 49.8ms\n",
      "0: 384x640 1 person, 1 remote, 1 cell phone, 48.9ms\n",
      "0: 384x640 1 person, 1 cell phone, 49.2ms\n",
      "0: 384x640 1 person, 1 cell phone, 48.3ms\n",
      "0: 384x640 1 person, 1 remote, 1 cell phone, 49.5ms\n",
      "0: 384x640 1 person, 1 cell phone, 50.6ms\n",
      "0: 384x640 1 person, 1 cell phone, 49.6ms\n",
      "0: 384x640 1 person, 1 cup, 2 cell phones, 49.4ms\n",
      "0: 384x640 1 person, 1 cup, 2 cell phones, 50.5ms\n",
      "0: 384x640 1 person, 1 cup, 1 tv, 2 cell phones, 49.1ms\n",
      "0: 384x640 1 person, 2 cups, 1 cell phone, 48.9ms\n",
      "0: 384x640 1 person, 1 cup, 1 cell phone, 49.6ms\n",
      "0: 384x640 1 person, 1 cell phone, 49.0ms\n",
      "0: 384x640 1 person, 2 cell phones, 48.3ms\n",
      "0: 384x640 1 person, 1 cell phone, 49.4ms\n",
      "0: 384x640 1 person, 2 cell phones, 47.7ms\n",
      "0: 384x640 1 person, 2 cups, 1 cell phone, 48.5ms\n",
      "0: 384x640 1 person, 1 cell phone, 47.1ms\n",
      "0: 384x640 1 person, 1 cup, 1 cell phone, 47.8ms\n",
      "0: 384x640 1 person, 1 cup, 1 cell phone, 66.7ms\n",
      "0: 384x640 1 person, 2 cups, 1 cell phone, 49.9ms\n",
      "0: 384x640 1 person, 1 cup, 1 cell phone, 48.8ms\n",
      "0: 384x640 1 person, 1 cup, 1 cell phone, 50.2ms\n",
      "0: 384x640 1 person, 1 cup, 1 cell phone, 48.0ms\n",
      "0: 384x640 1 person, 1 cup, 1 cell phone, 47.8ms\n",
      "0: 384x640 1 person, 1 cup, 1 cell phone, 49.0ms\n",
      "0: 384x640 1 person, 1 cup, 1 cell phone, 49.6ms\n",
      "0: 384x640 1 person, 1 cup, 1 cell phone, 49.1ms\n",
      "0: 384x640 1 person, 1 cup, 1 cell phone, 49.0ms\n",
      "0: 384x640 1 person, 1 cup, 1 cell phone, 48.2ms\n",
      "0: 384x640 1 person, 1 cup, 1 cell phone, 48.4ms\n",
      "0: 384x640 1 person, 1 cell phone, 49.3ms\n",
      "0: 384x640 1 person, 1 cup, 1 tv, 1 cell phone, 47.7ms\n",
      "0: 384x640 1 person, 1 cell phone, 48.0ms\n",
      "0: 384x640 1 person, 1 cup, 1 cell phone, 49.3ms\n",
      "0: 384x640 1 person, 1 cup, 1 cell phone, 47.4ms\n",
      "0: 384x640 1 person, 2 cups, 1 cell phone, 49.0ms\n",
      "0: 384x640 1 person, 1 cup, 1 cell phone, 49.4ms\n",
      "0: 384x640 1 person, 2 cups, 1 cell phone, 49.1ms\n",
      "0: 384x640 1 person, 1 cup, 1 cell phone, 48.9ms\n",
      "0: 384x640 1 person, 2 cups, 1 cell phone, 48.8ms\n",
      "0: 384x640 1 person, 1 cup, 1 cell phone, 47.6ms\n",
      "0: 384x640 1 person, 1 cup, 1 cell phone, 47.9ms\n",
      "0: 384x640 1 person, 1 cup, 1 cell phone, 47.7ms\n",
      "0: 384x640 1 person, 1 cup, 1 cell phone, 47.9ms\n",
      "0: 384x640 1 person, 1 cup, 1 cell phone, 47.8ms\n",
      "0: 384x640 1 person, 1 cup, 1 cell phone, 47.9ms\n",
      "0: 384x640 1 person, 1 cup, 1 cell phone, 49.3ms\n",
      "0: 384x640 1 person, 3 cups, 1 cell phone, 49.5ms\n",
      "0: 384x640 1 person, 1 cup, 1 cell phone, 48.5ms\n",
      "0: 384x640 1 person, 1 cup, 1 cell phone, 50.9ms\n",
      "0: 384x640 1 person, 2 cups, 1 cell phone, 49.0ms\n",
      "0: 384x640 1 person, 1 cup, 2 cell phones, 49.3ms\n",
      "0: 384x640 1 person, 1 cup, 1 cell phone, 49.8ms\n",
      "0: 384x640 1 person, 1 cup, 1 cell phone, 48.3ms\n",
      "0: 384x640 1 person, 1 cup, 1 cell phone, 48.9ms\n",
      "0: 384x640 1 person, 1 cup, 1 cell phone, 47.9ms\n",
      "0: 384x640 1 person, 1 cup, 1 cell phone, 49.3ms\n",
      "0: 384x640 1 person, 3 cups, 1 cell phone, 48.5ms\n",
      "0: 384x640 1 person, 2 cups, 1 cell phone, 47.9ms\n",
      "0: 384x640 1 person, 3 cups, 1 cell phone, 48.9ms\n",
      "0: 384x640 1 person, 2 cups, 1 cell phone, 48.9ms\n",
      "0: 384x640 1 person, 1 cup, 1 cell phone, 48.5ms\n",
      "0: 384x640 1 person, 2 cups, 1 cell phone, 48.2ms\n",
      "0: 384x640 1 person, 1 cup, 1 cell phone, 48.6ms\n",
      "0: 384x640 1 person, 2 cups, 1 cell phone, 49.2ms\n",
      "0: 384x640 1 person, 1 cup, 1 cell phone, 50.2ms\n",
      "0: 384x640 1 person, 1 cup, 1 cell phone, 49.9ms\n",
      "0: 384x640 1 person, 1 cell phone, 48.9ms\n",
      "0: 384x640 1 person, 2 cups, 1 cell phone, 50.0ms\n",
      "0: 384x640 1 person, 2 cups, 1 cell phone, 49.4ms\n",
      "0: 384x640 1 person, 1 cell phone, 49.5ms\n",
      "0: 384x640 1 person, 1 cell phone, 51.8ms\n",
      "0: 384x640 1 person, 1 cell phone, 48.2ms\n",
      "0: 384x640 1 person, 1 cell phone, 48.6ms\n",
      "0: 384x640 1 person, 1 cell phone, 49.0ms\n",
      "0: 384x640 1 person, 1 cell phone, 48.2ms\n",
      "0: 384x640 1 person, 1 cell phone, 47.9ms\n",
      "0: 384x640 1 person, 1 cell phone, 47.8ms\n",
      "0: 384x640 1 person, 1 cell phone, 48.0ms\n",
      "0: 384x640 1 person, 1 cell phone, 48.0ms\n",
      "0: 384x640 1 person, 1 cell phone, 72.8ms\n",
      "0: 384x640 1 person, 1 cell phone, 49.0ms\n",
      "0: 384x640 1 person, 1 cup, 1 cell phone, 47.3ms\n",
      "0: 384x640 1 person, 1 cup, 1 cell phone, 49.0ms\n",
      "0: 384x640 1 person, 1 cell phone, 48.6ms\n",
      "0: 384x640 1 person, 1 cell phone, 47.9ms\n",
      "0: 384x640 1 person, 1 cell phone, 48.1ms\n",
      "0: 384x640 1 person, 1 cell phone, 48.2ms\n",
      "0: 384x640 1 person, 1 cell phone, 48.1ms\n",
      "0: 384x640 1 person, 1 cup, 1 cell phone, 49.7ms\n",
      "0: 384x640 1 person, 1 cup, 1 cell phone, 52.5ms\n",
      "0: 384x640 1 person, 1 cup, 1 cell phone, 53.6ms\n",
      "0: 384x640 1 person, 1 cup, 1 cell phone, 52.6ms\n",
      "0: 384x640 1 person, 1 cup, 1 cell phone, 48.5ms\n",
      "0: 384x640 1 person, 1 cup, 1 cell phone, 48.5ms\n",
      "0: 384x640 1 person, 2 cups, 1 cell phone, 49.7ms\n",
      "0: 384x640 1 person, 1 cup, 1 cell phone, 47.4ms\n",
      "0: 384x640 1 person, 1 cell phone, 47.2ms\n",
      "0: 384x640 1 person, 1 cell phone, 48.7ms\n",
      "0: 384x640 1 person, 1 cup, 1 cell phone, 50.4ms\n",
      "0: 384x640 1 person, 1 cup, 1 cell phone, 48.1ms\n",
      "0: 384x640 1 person, 2 cups, 1 cell phone, 49.7ms\n",
      "0: 384x640 1 person, 1 cup, 1 cell phone, 49.5ms\n",
      "0: 384x640 1 person, 2 cups, 1 cell phone, 49.3ms\n",
      "0: 384x640 1 person, 1 cup, 1 cell phone, 48.8ms\n",
      "0: 384x640 1 person, 2 cups, 1 cell phone, 49.3ms\n",
      "0: 384x640 1 person, 1 cell phone, 47.4ms\n",
      "0: 384x640 1 person, 1 cell phone, 56.0ms\n",
      "0: 384x640 1 person, 1 cell phone, 55.5ms\n",
      "0: 384x640 1 person, 1 cell phone, 50.2ms\n",
      "0: 384x640 1 person, 1 cell phone, 48.2ms\n",
      "0: 384x640 1 person, 1 cell phone, 47.5ms\n",
      "0: 384x640 1 person, 1 cell phone, 48.8ms\n",
      "0: 384x640 1 person, 1 cell phone, 50.4ms\n",
      "0: 384x640 1 person, 1 cell phone, 48.2ms\n",
      "0: 384x640 1 person, 2 cups, 1 cell phone, 49.2ms\n",
      "0: 384x640 1 person, 1 cell phone, 47.3ms\n",
      "0: 384x640 1 person, 1 cell phone, 49.2ms\n",
      "0: 384x640 1 person, 1 cell phone, 48.3ms\n",
      "0: 384x640 1 person, 1 cell phone, 48.4ms\n",
      "0: 384x640 1 person, 1 cell phone, 48.4ms\n",
      "0: 384x640 1 person, 1 remote, 48.3ms\n",
      "0: 384x640 1 person, 1 toothbrush, 48.0ms\n",
      "0: 384x640 1 person, 1 toothbrush, 49.0ms\n",
      "0: 384x640 1 person, 1 tv, 1 remote, 48.8ms\n",
      "0: 384x640 1 person, 49.1ms\n",
      "0: 384x640 1 person, 1 tv, 48.8ms\n",
      "0: 384x640 1 person, 48.8ms\n",
      "0: 384x640 2 persons, 1 tv, 47.2ms\n",
      "0: 384x640 1 person, 1 tv, 48.8ms\n",
      "0: 384x640 2 persons, 48.3ms\n",
      "0: 384x640 1 person, 47.5ms\n",
      "0: 384x640 1 person, 48.2ms\n",
      "0: 384x640 1 person, 1 cup, 50.1ms\n",
      "0: 384x640 1 person, 47.9ms\n",
      "0: 384x640 1 person, 48.4ms\n",
      "0: 384x640 1 person, 1 cup, 47.8ms\n",
      "0: 384x640 1 person, 1 cup, 47.4ms\n",
      "0: 384x640 1 person, 1 cup, 47.7ms\n",
      "0: 384x640 1 person, 2 cups, 48.4ms\n",
      "0: 384x640 1 person, 1 cup, 49.1ms\n",
      "0: 384x640 1 person, 68.3ms\n",
      "0: 384x640 1 person, 49.1ms\n",
      "0: 384x640 1 person, 48.7ms\n",
      "0: 384x640 1 person, 1 cup, 49.0ms\n",
      "0: 384x640 1 person, 50.2ms\n",
      "0: 384x640 1 person, 48.8ms\n",
      "0: 384x640 1 person, 48.2ms\n",
      "0: 384x640 1 person, 49.5ms\n",
      "0: 384x640 1 person, 48.4ms\n",
      "0: 384x640 1 person, 48.5ms\n",
      "0: 384x640 1 person, 1 tv, 49.6ms\n",
      "0: 384x640 1 person, 1 tv, 49.4ms\n",
      "0: 384x640 1 person, 1 tv, 53.2ms\n",
      "0: 384x640 1 person, 1 tv, 49.7ms\n",
      "0: 384x640 1 person, 1 tv, 50.3ms\n",
      "0: 384x640 1 person, 48.8ms\n",
      "0: 384x640 1 person, 48.8ms\n",
      "0: 384x640 1 person, 48.1ms\n",
      "0: 384x640 1 person, 48.3ms\n",
      "0: 384x640 1 person, 49.7ms\n",
      "0: 384x640 1 person, 49.9ms\n",
      "0: 384x640 1 person, 47.4ms\n",
      "0: 384x640 1 person, 49.0ms\n",
      "0: 384x640 1 person, 50.5ms\n",
      "0: 384x640 1 person, 47.9ms\n",
      "0: 384x640 1 person, 49.3ms\n",
      "0: 384x640 1 person, 48.6ms\n",
      "0: 384x640 1 person, 49.8ms\n",
      "0: 384x640 1 person, 49.4ms\n",
      "0: 384x640 1 person, 47.6ms\n",
      "0: 384x640 1 person, 49.3ms\n",
      "0: 384x640 1 person, 49.9ms\n",
      "0: 384x640 1 person, 47.0ms\n",
      "0: 384x640 1 person, 49.2ms\n",
      "0: 384x640 1 person, 48.6ms\n",
      "0: 384x640 1 person, 48.2ms\n",
      "0: 384x640 1 person, 49.1ms\n",
      "0: 384x640 1 person, 47.2ms\n",
      "0: 384x640 1 person, 48.4ms\n",
      "0: 384x640 1 person, 49.6ms\n",
      "0: 384x640 1 person, 47.7ms\n",
      "0: 384x640 1 person, 1 tv, 47.8ms\n",
      "0: 384x640 1 person, 1 tv, 49.5ms\n",
      "0: 384x640 1 person, 47.8ms\n",
      "0: 384x640 1 person, 47.4ms\n",
      "0: 384x640 1 person, 47.8ms\n",
      "0: 384x640 1 person, 49.4ms\n",
      "0: 384x640 1 person, 48.5ms\n",
      "0: 384x640 1 person, 47.6ms\n",
      "0: 384x640 1 person, 1 tv, 46.8ms\n",
      "0: 384x640 1 person, 1 tv, 47.9ms\n",
      "0: 384x640 1 person, 1 tv, 47.8ms\n",
      "0: 384x640 1 person, 1 tv, 49.6ms\n",
      "0: 384x640 1 person, 1 tv, 54.8ms\n",
      "0: 384x640 1 person, 51.8ms\n",
      "0: 384x640 1 person, 48.3ms\n",
      "0: 384x640 1 person, 47.9ms\n",
      "0: 384x640 1 person, 47.3ms\n",
      "0: 384x640 1 person, 47.3ms\n",
      "0: 384x640 1 person, 48.3ms\n",
      "0: 384x640 1 person, 72.9ms\n",
      "0: 384x640 1 person, 49.0ms\n",
      "0: 384x640 1 person, 49.2ms\n",
      "0: 384x640 1 person, 48.4ms\n",
      "0: 384x640 1 person, 48.3ms\n",
      "0: 384x640 1 person, 49.2ms\n",
      "0: 384x640 1 person, 1 backpack, 53.1ms\n",
      "0: 384x640 1 person, 47.6ms\n",
      "0: 384x640 1 person, 48.7ms\n",
      "0: 384x640 1 person, 48.2ms\n",
      "0: 384x640 1 person, 50.3ms\n",
      "0: 384x640 1 person, 53.4ms\n",
      "0: 384x640 1 person, 48.3ms\n",
      "0: 384x640 1 person, 47.0ms\n",
      "0: 384x640 1 person, 49.0ms\n",
      "0: 384x640 1 person, 49.9ms\n",
      "0: 384x640 1 person, 48.7ms\n",
      "0: 384x640 1 person, 48.9ms\n",
      "0: 384x640 1 person, 49.2ms\n",
      "0: 384x640 1 person, 48.1ms\n",
      "0: 384x640 1 person, 49.9ms\n",
      "0: 384x640 1 person, 48.9ms\n",
      "0: 384x640 1 person, 48.8ms\n",
      "0: 384x640 2 persons, 48.1ms\n",
      "0: 384x640 1 person, 1 laptop, 49.4ms\n",
      "0: 384x640 1 person, 1 tv, 1 laptop, 48.0ms\n",
      "0: 384x640 1 person, 49.1ms\n",
      "0: 384x640 (no detections), 49.0ms\n",
      "0: 384x640 1 tv, 49.8ms\n",
      "0: 384x640 (no detections), 52.8ms\n",
      "0: 384x640 1 tv, 49.3ms\n",
      "0: 384x640 1 tv, 48.2ms\n",
      "0: 384x640 1 tv, 48.1ms\n",
      "0: 384x640 1 tv, 1 laptop, 49.2ms\n",
      "0: 384x640 1 couch, 1 tv, 1 laptop, 48.8ms\n",
      "0: 384x640 1 tv, 49.4ms\n",
      "0: 384x640 1 tv, 48.9ms\n",
      "0: 384x640 1 tv, 50.1ms\n",
      "0: 384x640 1 tv, 49.2ms\n",
      "0: 384x640 1 tv, 50.8ms\n",
      "0: 384x640 1 tv, 49.9ms\n",
      "0: 384x640 1 tv, 49.2ms\n",
      "0: 384x640 1 tv, 49.7ms\n",
      "0: 384x640 (no detections), 49.7ms\n",
      "0: 384x640 1 tv, 47.8ms\n",
      "0: 384x640 1 tv, 49.2ms\n",
      "0: 384x640 1 tv, 49.5ms\n",
      "0: 384x640 (no detections), 48.3ms\n",
      "0: 384x640 1 tv, 49.0ms\n",
      "0: 384x640 (no detections), 48.4ms\n",
      "0: 384x640 1 laptop, 48.7ms\n",
      "0: 384x640 1 tv, 48.6ms\n",
      "0: 384x640 1 tv, 48.9ms\n",
      "0: 384x640 1 tv, 49.7ms\n",
      "0: 384x640 1 tv, 49.5ms\n",
      "0: 384x640 1 tv, 1 laptop, 47.7ms\n",
      "0: 384x640 (no detections), 49.0ms\n",
      "0: 384x640 1 laptop, 2 cell phones, 48.1ms\n",
      "0: 384x640 1 cell phone, 49.6ms\n",
      "0: 384x640 1 bed, 1 remote, 1 cell phone, 71.8ms\n",
      "0: 384x640 1 bed, 2 laptops, 1 refrigerator, 49.5ms\n",
      "0: 384x640 1 bed, 1 remote, 1 cell phone, 48.8ms\n",
      "0: 384x640 1 person, 1 bed, 1 laptop, 1 remote, 48.2ms\n",
      "0: 384x640 1 person, 1 bed, 1 remote, 48.5ms\n",
      "0: 384x640 1 person, 1 remote, 1 cell phone, 48.6ms\n",
      "0: 384x640 1 person, 1 remote, 48.9ms\n",
      "0: 384x640 1 person, 1 remote, 48.4ms\n",
      "0: 384x640 1 person, 1 remote, 48.9ms\n",
      "0: 384x640 1 person, 1 remote, 49.4ms\n",
      "0: 384x640 1 person, 1 remote, 49.3ms\n",
      "0: 384x640 2 persons, 1 remote, 48.2ms\n",
      "0: 384x640 2 persons, 1 remote, 1 cell phone, 48.8ms\n",
      "0: 384x640 2 persons, 1 remote, 1 cell phone, 49.6ms\n",
      "0: 384x640 2 persons, 1 laptop, 1 remote, 53.0ms\n",
      "0: 384x640 2 persons, 1 remote, 1 cell phone, 50.0ms\n",
      "0: 384x640 2 persons, 1 remote, 1 cell phone, 48.8ms\n",
      "0: 384x640 3 persons, 1 laptop, 1 remote, 48.9ms\n",
      "0: 384x640 2 persons, 1 laptop, 1 remote, 1 cell phone, 47.9ms\n",
      "0: 384x640 1 person, 1 couch, 1 remote, 1 cell phone, 49.8ms\n",
      "0: 384x640 1 person, 1 remote, 50.5ms\n",
      "0: 384x640 1 person, 1 remote, 48.9ms\n",
      "0: 384x640 1 person, 1 tv, 1 remote, 48.5ms\n",
      "0: 384x640 1 person, 1 remote, 49.9ms\n",
      "0: 384x640 1 person, 1 remote, 49.3ms\n",
      "0: 384x640 1 person, 1 remote, 48.3ms\n",
      "0: 384x640 1 person, 1 tv, 1 remote, 49.1ms\n",
      "0: 384x640 1 person, 1 tv, 1 remote, 49.8ms\n",
      "0: 384x640 1 person, 1 remote, 48.3ms\n",
      "0: 384x640 1 person, 1 couch, 1 remote, 1 book, 48.2ms\n",
      "0: 384x640 2 persons, 1 remote, 48.8ms\n",
      "0: 384x640 2 persons, 1 tv, 1 remote, 50.1ms\n",
      "0: 384x640 2 persons, 1 tv, 1 remote, 47.9ms\n",
      "0: 384x640 2 persons, 1 tv, 1 remote, 49.3ms\n",
      "0: 384x640 2 persons, 1 tv, 1 remote, 49.4ms\n",
      "0: 384x640 1 person, 1 tv, 1 remote, 48.5ms\n",
      "0: 384x640 1 person, 1 tv, 1 remote, 49.3ms\n",
      "0: 384x640 1 person, 1 remote, 49.7ms\n",
      "0: 384x640 1 person, 1 remote, 48.8ms\n",
      "0: 384x640 1 person, 1 remote, 49.8ms\n",
      "0: 384x640 2 persons, 1 remote, 57.4ms\n",
      "0: 384x640 2 persons, 1 remote, 47.8ms\n",
      "0: 384x640 1 person, 1 remote, 47.3ms\n",
      "0: 384x640 1 person, 1 tv, 1 remote, 48.1ms\n",
      "0: 384x640 1 person, 1 tv, 1 remote, 48.5ms\n",
      "0: 384x640 1 person, 1 remote, 48.1ms\n",
      "0: 384x640 1 person, 1 remote, 49.4ms\n",
      "0: 384x640 1 person, 1 remote, 48.6ms\n",
      "0: 384x640 1 person, 1 remote, 48.3ms\n",
      "0: 384x640 1 person, 1 tv, 1 remote, 51.2ms\n",
      "0: 384x640 1 person, 1 tv, 1 remote, 52.7ms\n",
      "0: 384x640 1 person, 1 remote, 1 book, 48.0ms\n",
      "0: 384x640 1 person, 1 remote, 1 cell phone, 49.0ms\n",
      "0: 384x640 1 person, 1 tv, 1 cell phone, 47.8ms\n",
      "0: 384x640 1 person, 1 tv, 1 remote, 48.8ms\n",
      "0: 384x640 1 person, 1 remote, 48.2ms\n",
      "0: 384x640 1 person, 1 tv, 1 cell phone, 49.6ms\n",
      "0: 384x640 1 person, 1 tv, 1 cell phone, 72.1ms\n",
      "0: 384x640 1 surfboard, 48.9ms\n",
      "0: 384x640 1 bed, 1 remote, 50.1ms\n",
      "0: 384x640 1 couch, 1 tv, 1 remote, 48.7ms\n",
      "0: 384x640 1 remote, 46.7ms\n",
      "0: 384x640 1 couch, 1 remote, 48.5ms\n",
      "0: 384x640 1 tv, 1 cell phone, 48.5ms\n",
      "0: 384x640 1 tv, 49.5ms\n",
      "0: 384x640 1 person, 1 skateboard, 1 tv, 49.3ms\n",
      "0: 384x640 1 person, 1 tv, 1 cell phone, 48.3ms\n",
      "0: 384x640 1 person, 1 tv, 1 remote, 1 cell phone, 48.0ms\n",
      "0: 384x640 1 person, 1 remote, 1 cell phone, 54.2ms\n",
      "0: 384x640 1 tv, 1 remote, 1 cell phone, 50.5ms\n",
      "0: 384x640 1 remote, 1 cell phone, 48.0ms\n",
      "0: 384x640 1 remote, 1 cell phone, 50.6ms\n",
      "0: 384x640 1 tv, 1 cell phone, 49.7ms\n",
      "0: 384x640 1 tv, 1 remote, 1 cell phone, 49.9ms\n",
      "0: 384x640 1 tv, 1 remote, 1 cell phone, 58.8ms\n",
      "0: 384x640 1 tv, 1 remote, 1 cell phone, 49.1ms\n",
      "0: 384x640 1 tv, 1 remote, 1 cell phone, 48.6ms\n",
      "0: 384x640 1 remote, 1 cell phone, 51.6ms\n",
      "0: 384x640 1 remote, 1 cell phone, 49.6ms\n",
      "0: 384x640 1 remote, 49.1ms\n",
      "0: 384x640 1 cell phone, 49.3ms\n",
      "0: 384x640 1 cell phone, 49.7ms\n",
      "0: 384x640 1 cell phone, 50.3ms\n",
      "0: 384x640 1 tv, 1 cell phone, 49.4ms\n",
      "0: 384x640 1 remote, 1 cell phone, 48.6ms\n",
      "0: 384x640 1 person, 1 remote, 1 cell phone, 48.5ms\n",
      "0: 384x640 1 person, 1 remote, 1 cell phone, 49.0ms\n",
      "0: 384x640 1 cell phone, 48.9ms\n",
      "0: 384x640 1 remote, 1 cell phone, 47.9ms\n",
      "0: 384x640 1 remote, 1 cell phone, 48.9ms\n",
      "0: 384x640 1 remote, 1 cell phone, 49.0ms\n",
      "0: 384x640 1 remote, 1 cell phone, 48.2ms\n",
      "0: 384x640 1 remote, 1 cell phone, 51.5ms\n",
      "0: 384x640 1 remote, 1 cell phone, 48.4ms\n",
      "0: 384x640 1 remote, 1 cell phone, 49.5ms\n",
      "0: 384x640 1 remote, 1 cell phone, 48.2ms\n",
      "0: 384x640 1 remote, 1 cell phone, 47.4ms\n",
      "0: 384x640 1 remote, 1 cell phone, 48.3ms\n",
      "0: 384x640 1 tv, 1 remote, 1 cell phone, 48.7ms\n",
      "0: 384x640 1 remote, 1 cell phone, 49.2ms\n",
      "0: 384x640 1 tv, 1 remote, 1 cell phone, 48.2ms\n",
      "0: 384x640 1 remote, 1 cell phone, 49.0ms\n",
      "0: 384x640 1 remote, 1 cell phone, 47.1ms\n",
      "0: 384x640 1 cell phone, 48.6ms\n",
      "0: 384x640 1 remote, 1 cell phone, 48.5ms\n",
      "0: 384x640 1 person, 1 remote, 1 cell phone, 46.9ms\n",
      "0: 384x640 1 person, 1 remote, 1 cell phone, 48.4ms\n",
      "0: 384x640 1 remote, 1 cell phone, 48.1ms\n",
      "0: 384x640 1 tv, 1 remote, 1 cell phone, 48.2ms\n",
      "0: 384x640 1 remote, 1 cell phone, 47.8ms\n",
      "0: 384x640 1 person, 1 remote, 1 cell phone, 48.1ms\n",
      "0: 384x640 1 remote, 1 cell phone, 49.6ms\n",
      "0: 384x640 1 person, 1 remote, 1 cell phone, 48.2ms\n",
      "0: 384x640 1 cell phone, 49.5ms\n",
      "0: 384x640 1 cell phone, 65.6ms\n",
      "0: 384x640 1 person, 1 cell phone, 49.7ms\n",
      "0: 384x640 1 remote, 1 cell phone, 48.5ms\n",
      "0: 384x640 1 remote, 1 cell phone, 47.6ms\n",
      "0: 384x640 1 person, 1 tv, 1 remote, 1 cell phone, 48.2ms\n",
      "0: 384x640 1 person, 1 remote, 1 cell phone, 48.2ms\n",
      "0: 384x640 1 remote, 49.6ms\n",
      "0: 384x640 1 remote, 1 cell phone, 47.7ms\n",
      "0: 384x640 1 tv, 1 remote, 1 cell phone, 49.3ms\n",
      "0: 384x640 1 cell phone, 50.1ms\n",
      "0: 384x640 1 remote, 1 cell phone, 48.8ms\n",
      "0: 384x640 1 person, 1 remote, 49.3ms\n",
      "0: 384x640 1 person, 1 tv, 1 remote, 1 cell phone, 48.5ms\n",
      "0: 384x640 1 person, 1 handbag, 1 tv, 1 cell phone, 49.0ms\n",
      "0: 384x640 1 tv, 1 remote, 55.5ms\n",
      "0: 384x640 1 person, 1 remote, 1 cell phone, 48.9ms\n",
      "0: 384x640 1 person, 1 remote, 49.8ms\n",
      "0: 384x640 1 person, 1 remote, 1 cell phone, 47.9ms\n",
      "0: 384x640 1 laptop, 1 cell phone, 48.3ms\n",
      "0: 384x640 1 person, 2 tvs, 2 cell phones, 48.8ms\n",
      "0: 384x640 1 person, 2 tvs, 1 remote, 2 cell phones, 48.2ms\n",
      "0: 384x640 1 person, 2 tvs, 2 cell phones, 49.1ms\n",
      "0: 384x640 1 person, 1 tv, 2 cell phones, 47.9ms\n",
      "0: 384x640 1 person, 1 tv, 1 remote, 47.8ms\n",
      "0: 384x640 1 person, 1 cup, 1 tv, 1 cell phone, 48.3ms\n",
      "0: 384x640 1 cup, 1 tv, 47.2ms\n",
      "0: 384x640 1 person, 1 couch, 48.9ms\n",
      "0: 384x640 1 tv, 1 remote, 48.9ms\n",
      "0: 384x640 1 remote, 48.4ms\n",
      "0: 384x640 1 couch, 1 laptop, 1 remote, 1 book, 47.9ms\n",
      "0: 384x640 1 person, 1 remote, 48.2ms\n",
      "0: 384x640 1 person, 1 laptop, 1 remote, 49.6ms\n",
      "0: 384x640 2 persons, 1 remote, 47.5ms\n",
      "0: 384x640 2 persons, 1 remote, 48.6ms\n",
      "0: 384x640 1 person, 1 laptop, 1 remote, 48.6ms\n",
      "0: 384x640 1 person, 1 laptop, 1 remote, 49.6ms\n",
      "0: 384x640 1 person, 1 laptop, 1 remote, 1 cell phone, 55.3ms\n",
      "0: 384x640 1 person, 1 cup, 1 remote, 49.3ms\n",
      "0: 384x640 1 person, 1 remote, 48.0ms\n",
      "0: 384x640 1 person, 1 bed, 1 laptop, 1 remote, 49.2ms\n",
      "0: 384x640 2 persons, 1 bed, 1 remote, 1 cell phone, 49.8ms\n",
      "0: 384x640 2 persons, 1 bed, 1 remote, 1 cell phone, 48.3ms\n",
      "0: 384x640 2 persons, 1 cell phone, 48.4ms\n",
      "0: 384x640 1 person, 1 bed, 1 cell phone, 48.8ms\n",
      "0: 384x640 2 persons, 1 bed, 1 cell phone, 48.5ms\n",
      "0: 384x640 2 persons, 1 bed, 1 cell phone, 48.8ms\n",
      "0: 384x640 2 persons, 1 bed, 1 cell phone, 48.6ms\n",
      "0: 384x640 2 persons, 1 cell phone, 47.6ms\n",
      "0: 384x640 2 persons, 1 cell phone, 48.9ms\n",
      "0: 384x640 2 persons, 1 cell phone, 48.4ms\n",
      "0: 384x640 2 persons, 1 remote, 1 cell phone, 49.0ms\n",
      "0: 384x640 2 persons, 1 cell phone, 47.9ms\n",
      "0: 384x640 2 persons, 1 cell phone, 49.4ms\n",
      "0: 384x640 2 persons, 1 cell phone, 48.2ms\n",
      "0: 384x640 2 persons, 1 remote, 1 cell phone, 48.5ms\n",
      "0: 384x640 2 persons, 1 remote, 1 cell phone, 49.9ms\n",
      "0: 384x640 1 person, 1 remote, 1 cell phone, 48.4ms\n",
      "0: 384x640 1 person, 1 cell phone, 48.0ms\n",
      "0: 384x640 1 person, 1 remote, 1 cell phone, 49.3ms\n",
      "0: 384x640 1 person, 1 remote, 1 cell phone, 67.7ms\n",
      "0: 384x640 1 person, 1 remote, 1 cell phone, 48.0ms\n",
      "0: 384x640 1 person, 1 remote, 1 cell phone, 51.5ms\n",
      "0: 384x640 1 person, 1 remote, 1 cell phone, 48.6ms\n",
      "0: 384x640 1 person, 1 remote, 1 cell phone, 48.1ms\n",
      "0: 384x640 1 person, 1 remote, 1 cell phone, 48.9ms\n",
      "0: 384x640 1 person, 1 remote, 1 cell phone, 59.3ms\n",
      "0: 384x640 1 person, 1 remote, 1 cell phone, 49.2ms\n",
      "0: 384x640 1 person, 1 remote, 1 cell phone, 52.1ms\n",
      "0: 384x640 2 persons, 1 cell phone, 47.4ms\n",
      "0: 384x640 2 persons, 1 bed, 1 cell phone, 48.2ms\n",
      "0: 384x640 2 persons, 1 bed, 1 remote, 1 cell phone, 52.7ms\n",
      "0: 384x640 1 person, 1 remote, 48.3ms\n",
      "0: 384x640 1 person, 1 remote, 48.8ms\n",
      "0: 384x640 1 person, 1 remote, 47.7ms\n",
      "0: 384x640 1 person, 1 remote, 49.0ms\n",
      "0: 384x640 1 person, 1 tv, 1 remote, 1 cell phone, 48.9ms\n",
      "0: 384x640 3 persons, 1 tv, 1 remote, 54.1ms\n",
      "0: 384x640 2 persons, 1 tv, 1 remote, 49.5ms\n",
      "0: 384x640 2 persons, 1 tv, 1 remote, 49.0ms\n",
      "0: 384x640 3 persons, 1 tv, 1 remote, 49.6ms\n",
      "0: 384x640 2 persons, 1 remote, 48.7ms\n",
      "0: 384x640 2 persons, 1 tv, 1 remote, 48.6ms\n",
      "0: 384x640 2 persons, 1 tv, 1 remote, 1 cell phone, 48.1ms\n",
      "0: 384x640 1 person, 1 tv, 1 cell phone, 48.0ms\n",
      "0: 384x640 1 person, 1 tv, 1 cell phone, 49.3ms\n",
      "0: 384x640 1 person, 1 tv, 1 remote, 1 cell phone, 47.7ms\n",
      "0: 384x640 1 person, 1 tv, 1 remote, 1 cell phone, 49.0ms\n",
      "0: 384x640 1 person, 1 tv, 1 remote, 1 cell phone, 49.4ms\n",
      "0: 384x640 1 person, 1 tv, 1 remote, 1 cell phone, 49.6ms\n",
      "0: 384x640 2 persons, 1 tv, 1 remote, 1 cell phone, 49.2ms\n",
      "0: 384x640 2 persons, 1 tv, 1 cell phone, 48.5ms\n",
      "0: 384x640 2 persons, 1 tv, 1 remote, 1 cell phone, 49.4ms\n",
      "0: 384x640 2 persons, 1 tv, 1 remote, 48.0ms\n",
      "0: 384x640 2 persons, 1 tv, 1 remote, 49.3ms\n",
      "0: 384x640 2 persons, 1 tv, 1 cell phone, 48.0ms\n",
      "0: 384x640 2 persons, 1 tv, 1 remote, 1 cell phone, 48.0ms\n",
      "0: 384x640 1 person, 1 remote, 49.6ms\n",
      "0: 384x640 1 person, 1 remote, 1 cell phone, 47.9ms\n",
      "0: 384x640 1 person, 1 remote, 1 cell phone, 49.1ms\n",
      "0: 384x640 1 person, 1 cell phone, 48.7ms\n",
      "0: 384x640 2 persons, 1 tv, 1 cell phone, 48.5ms\n",
      "0: 384x640 2 persons, 1 cell phone, 47.4ms\n",
      "0: 384x640 1 person, 1 remote, 1 cell phone, 49.0ms\n",
      "0: 384x640 1 person, 1 remote, 1 cell phone, 50.3ms\n",
      "0: 384x640 1 person, 1 cell phone, 48.9ms\n",
      "0: 384x640 1 person, 1 cell phone, 47.7ms\n",
      "0: 384x640 1 person, 1 cell phone, 49.3ms\n",
      "0: 384x640 1 person, 1 cell phone, 47.8ms\n",
      "0: 384x640 2 persons, 1 cell phone, 47.6ms\n",
      "0: 384x640 2 persons, 1 remote, 1 cell phone, 48.5ms\n",
      "0: 384x640 1 person, 1 remote, 48.7ms\n",
      "0: 384x640 1 person, 1 remote, 56.9ms\n",
      "0: 384x640 1 person, 1 remote, 48.5ms\n",
      "0: 384x640 2 persons, 1 remote, 49.4ms\n",
      "0: 384x640 1 person, 1 remote, 49.3ms\n",
      "0: 384x640 1 person, 1 remote, 66.5ms\n",
      "0: 384x640 1 person, 1 tv, 1 remote, 49.1ms\n",
      "0: 384x640 1 person, 1 remote, 47.3ms\n",
      "0: 384x640 1 person, 1 bed, 1 remote, 47.5ms\n",
      "0: 384x640 1 person, 1 remote, 59.7ms\n",
      "0: 384x640 1 person, 1 remote, 48.6ms\n",
      "0: 384x640 1 person, 1 remote, 48.4ms\n",
      "0: 384x640 1 person, 1 remote, 49.3ms\n",
      "0: 384x640 1 person, 1 tv, 1 remote, 49.2ms\n",
      "0: 384x640 1 person, 1 tv, 1 remote, 51.6ms\n",
      "0: 384x640 1 person, 1 tv, 1 remote, 48.2ms\n",
      "0: 384x640 1 person, 1 tv, 1 remote, 48.0ms\n",
      "0: 384x640 1 person, 1 tv, 1 remote, 49.3ms\n",
      "0: 384x640 1 person, 1 remote, 49.2ms\n",
      "0: 384x640 1 person, 1 tv, 1 remote, 50.2ms\n",
      "0: 384x640 1 person, 1 tv, 1 remote, 48.8ms\n",
      "0: 384x640 1 person, 1 tv, 1 remote, 49.5ms\n",
      "0: 384x640 1 person, 1 tv, 1 remote, 49.6ms\n",
      "0: 384x640 1 person, 1 tv, 1 remote, 49.4ms\n",
      "0: 384x640 1 person, 1 tv, 1 remote, 49.4ms\n",
      "0: 384x640 1 person, 1 remote, 49.5ms\n",
      "0: 384x640 1 person, 1 remote, 49.4ms\n",
      "0: 384x640 1 person, 1 remote, 49.0ms\n",
      "0: 384x640 1 person, 1 remote, 49.2ms\n",
      "0: 384x640 1 person, 1 tv, 1 remote, 48.8ms\n",
      "0: 384x640 1 person, 1 tv, 1 remote, 48.4ms\n",
      "0: 384x640 1 person, 1 tv, 1 remote, 47.7ms\n",
      "0: 384x640 1 person, 1 tv, 1 remote, 1 cell phone, 48.2ms\n",
      "0: 384x640 1 person, 1 tv, 1 remote, 48.7ms\n",
      "0: 384x640 1 person, 1 tv, 1 remote, 47.9ms\n",
      "0: 384x640 1 person, 1 tv, 1 remote, 47.3ms\n",
      "0: 384x640 1 person, 1 remote, 49.8ms\n",
      "0: 384x640 1 person, 1 tv, 1 remote, 49.7ms\n",
      "0: 384x640 1 person, 1 tv, 1 remote, 48.5ms\n",
      "0: 384x640 1 person, 1 tv, 1 remote, 48.4ms\n",
      "0: 384x640 1 person, 1 tv, 1 remote, 49.9ms\n",
      "0: 384x640 1 person, 1 remote, 47.9ms\n",
      "0: 384x640 2 persons, 1 remote, 48.6ms\n",
      "0: 384x640 2 persons, 1 tv, 1 remote, 48.3ms\n",
      "0: 384x640 1 person, 1 remote, 49.2ms\n",
      "0: 384x640 2 persons, 1 tv, 1 remote, 53.2ms\n",
      "0: 384x640 1 person, 1 tv, 1 remote, 48.9ms\n",
      "0: 384x640 2 persons, 1 tv, 1 remote, 49.5ms\n",
      "0: 384x640 1 person, 1 tv, 1 remote, 75.8ms\n",
      "0: 384x640 2 persons, 1 tv, 1 remote, 50.5ms\n",
      "0: 384x640 2 persons, 1 tv, 1 remote, 48.7ms\n",
      "0: 384x640 1 person, 1 tv, 1 remote, 49.3ms\n",
      "0: 384x640 2 persons, 1 tv, 1 remote, 49.4ms\n",
      "0: 384x640 1 person, 1 tv, 1 remote, 48.8ms\n",
      "0: 384x640 1 person, 1 tv, 1 remote, 49.8ms\n",
      "0: 384x640 1 person, 1 tv, 1 remote, 49.1ms\n",
      "0: 384x640 1 person, 1 tv, 1 remote, 48.6ms\n",
      "0: 384x640 1 person, 1 tv, 1 remote, 50.0ms\n",
      "0: 384x640 1 person, 1 tv, 1 remote, 48.9ms\n",
      "0: 384x640 1 person, 1 tv, 1 remote, 49.2ms\n",
      "0: 384x640 1 person, 1 tv, 1 remote, 61.3ms\n",
      "0: 384x640 1 person, 1 remote, 48.9ms\n",
      "0: 384x640 1 person, 1 tv, 1 remote, 72.5ms\n",
      "0: 384x640 2 persons, 1 tv, 1 remote, 59.7ms\n",
      "0: 384x640 1 person, 1 tv, 1 remote, 52.1ms\n",
      "0: 384x640 1 person, 1 tv, 1 remote, 49.3ms\n",
      "0: 384x640 1 person, 1 tv, 1 remote, 48.8ms\n",
      "0: 384x640 1 person, 1 tv, 1 remote, 49.0ms\n",
      "0: 384x640 2 persons, 1 tv, 1 remote, 48.4ms\n",
      "0: 384x640 1 person, 1 tv, 1 remote, 49.0ms\n",
      "0: 384x640 2 persons, 1 bed, 1 remote, 50.0ms\n",
      "0: 384x640 1 person, 1 bed, 1 remote, 48.1ms\n",
      "0: 384x640 1 person, 1 remote, 49.6ms\n",
      "0: 384x640 1 person, 1 remote, 57.9ms\n",
      "0: 384x640 1 person, 1 remote, 50.6ms\n",
      "0: 384x640 1 person, 1 remote, 49.3ms\n",
      "0: 384x640 1 person, 1 tv, 1 remote, 50.9ms\n",
      "0: 384x640 1 person, 1 tv, 1 remote, 48.8ms\n",
      "0: 384x640 1 person, 1 tv, 1 remote, 48.0ms\n",
      "0: 384x640 1 person, 1 remote, 66.6ms\n",
      "0: 384x640 1 person, 1 remote, 49.3ms\n",
      "0: 384x640 1 person, 1 remote, 50.0ms\n",
      "0: 384x640 1 person, 1 remote, 50.4ms\n",
      "0: 384x640 1 person, 1 tv, 1 remote, 49.4ms\n",
      "0: 384x640 1 person, 1 tv, 1 remote, 49.6ms\n",
      "0: 384x640 1 person, 1 tv, 1 remote, 49.9ms\n",
      "0: 384x640 1 person, 1 tv, 1 remote, 67.8ms\n",
      "0: 384x640 1 person, 1 tv, 1 remote, 58.0ms\n",
      "0: 384x640 1 person, 1 tv, 1 remote, 49.4ms\n",
      "0: 384x640 1 person, 1 tv, 1 remote, 48.1ms\n",
      "0: 384x640 1 person, 1 tv, 1 remote, 49.2ms\n",
      "0: 384x640 1 person, 1 tv, 1 remote, 49.4ms\n",
      "0: 384x640 1 person, 1 remote, 49.4ms\n",
      "0: 384x640 1 person, 1 tv, 1 remote, 49.5ms\n",
      "0: 384x640 1 person, 1 tv, 1 remote, 55.4ms\n",
      "0: 384x640 1 person, 1 remote, 52.6ms\n",
      "0: 384x640 1 person, 1 tv, 1 remote, 49.6ms\n",
      "0: 384x640 1 person, 1 tv, 1 remote, 49.1ms\n",
      "0: 384x640 1 person, 1 remote, 52.1ms\n",
      "0: 384x640 2 persons, 1 tv, 1 remote, 51.2ms\n",
      "0: 384x640 1 person, 1 tv, 1 remote, 55.6ms\n",
      "0: 384x640 1 person, 1 remote, 48.9ms\n",
      "0: 384x640 1 person, 1 remote, 48.5ms\n",
      "0: 384x640 1 person, 1 tv, 1 remote, 48.3ms\n",
      "0: 384x640 1 person, 1 tv, 1 remote, 47.8ms\n",
      "0: 384x640 1 person, 1 tv, 1 remote, 48.8ms\n",
      "0: 384x640 1 person, 1 tv, 1 remote, 48.6ms\n",
      "0: 384x640 1 person, 1 tv, 1 remote, 47.5ms\n",
      "0: 384x640 1 person, 1 tv, 1 remote, 47.7ms\n",
      "0: 384x640 1 person, 1 tv, 1 remote, 48.5ms\n",
      "0: 384x640 1 person, 1 tv, 1 remote, 49.0ms\n",
      "0: 384x640 1 person, 1 tv, 1 remote, 47.7ms\n",
      "0: 384x640 1 person, 1 tv, 1 remote, 48.7ms\n",
      "0: 384x640 1 person, 1 tv, 1 remote, 51.4ms\n",
      "0: 384x640 1 person, 1 tv, 1 remote, 49.8ms\n",
      "0: 384x640 1 person, 1 tv, 1 remote, 49.4ms\n",
      "0: 384x640 1 person, 1 tv, 1 remote, 66.1ms\n",
      "0: 384x640 1 person, 1 tv, 1 remote, 50.0ms\n",
      "0: 384x640 1 person, 1 tv, 1 remote, 47.8ms\n",
      "0: 384x640 1 person, 1 tv, 1 remote, 47.9ms\n",
      "0: 384x640 1 person, 1 tv, 1 remote, 47.4ms\n",
      "0: 384x640 1 person, 1 tv, 1 remote, 47.9ms\n",
      "0: 384x640 1 person, 1 tv, 1 remote, 49.4ms\n",
      "0: 384x640 1 person, 1 remote, 48.3ms\n",
      "0: 384x640 1 person, 1 tv, 1 remote, 47.5ms\n",
      "0: 384x640 1 person, 1 tv, 1 remote, 48.4ms\n",
      "0: 384x640 1 person, 1 tv, 1 remote, 53.0ms\n",
      "0: 384x640 1 person, 1 tv, 1 remote, 49.6ms\n",
      "0: 384x640 1 person, 1 tv, 1 remote, 49.9ms\n",
      "0: 384x640 1 person, 1 tv, 1 remote, 53.9ms\n",
      "0: 384x640 1 person, 1 tv, 1 remote, 48.2ms\n",
      "0: 384x640 1 person, 1 tv, 1 remote, 49.0ms\n",
      "0: 384x640 1 person, 1 tv, 1 remote, 48.9ms\n",
      "0: 384x640 1 person, 1 tv, 1 remote, 49.1ms\n",
      "0: 384x640 1 person, 1 tv, 1 remote, 49.0ms\n",
      "0: 384x640 1 person, 1 tv, 1 remote, 48.2ms\n",
      "0: 384x640 1 person, 1 tv, 1 remote, 51.1ms\n",
      "0: 384x640 1 person, 1 tv, 1 remote, 50.0ms\n",
      "0: 384x640 1 person, 1 tv, 1 remote, 48.6ms\n",
      "0: 384x640 1 person, 1 tv, 1 remote, 48.8ms\n",
      "0: 384x640 1 person, 1 tv, 1 remote, 49.8ms\n",
      "0: 384x640 1 person, 1 tv, 1 remote, 48.7ms\n",
      "0: 384x640 1 person, 1 remote, 48.2ms\n",
      "0: 384x640 1 person, 1 tv, 1 remote, 49.5ms\n",
      "0: 384x640 1 person, 1 tv, 1 remote, 48.6ms\n",
      "0: 384x640 1 person, 1 tv, 1 remote, 49.4ms\n",
      "0: 384x640 1 person, 1 tv, 1 remote, 47.1ms\n",
      "0: 384x640 1 person, 1 tv, 1 remote, 47.5ms\n",
      "0: 384x640 1 person, 1 tv, 1 remote, 48.5ms\n",
      "0: 384x640 1 person, 1 tv, 1 remote, 50.1ms\n",
      "0: 384x640 1 person, 1 tv, 1 remote, 49.5ms\n",
      "0: 384x640 1 person, 1 tv, 1 remote, 47.8ms\n",
      "0: 384x640 1 person, 1 tv, 1 remote, 48.2ms\n",
      "0: 384x640 1 person, 1 tv, 1 remote, 49.2ms\n",
      "0: 384x640 1 person, 1 tv, 1 remote, 55.4ms\n",
      "0: 384x640 1 person, 1 tv, 1 remote, 48.7ms\n",
      "0: 384x640 1 person, 1 remote, 48.5ms\n",
      "0: 384x640 1 person, 1 tv, 1 remote, 49.8ms\n",
      "0: 384x640 1 person, 1 remote, 49.7ms\n",
      "0: 384x640 1 person, 1 tv, 1 remote, 49.2ms\n",
      "0: 384x640 1 person, 1 tv, 1 remote, 50.8ms\n",
      "0: 384x640 1 person, 1 tv, 1 remote, 49.4ms\n",
      "0: 384x640 1 person, 1 tv, 1 remote, 50.2ms\n",
      "0: 384x640 2 persons, 1 remote, 48.5ms\n",
      "0: 384x640 1 person, 1 tv, 1 remote, 53.1ms\n",
      "0: 384x640 1 person, 1 bed, 1 remote, 47.9ms\n",
      "0: 384x640 1 person, 1 bed, 1 tv, 1 remote, 49.7ms\n",
      "0: 384x640 1 person, 1 tv, 1 remote, 49.3ms\n",
      "0: 384x640 1 person, 1 tv, 1 remote, 48.9ms\n",
      "0: 384x640 1 person, 1 remote, 62.3ms\n",
      "0: 384x640 1 person, 1 tv, 1 remote, 49.1ms\n",
      "0: 384x640 1 person, 1 tv, 1 remote, 49.0ms\n",
      "0: 384x640 1 person, 1 tv, 1 remote, 49.9ms\n",
      "0: 384x640 1 person, 1 tv, 1 remote, 50.8ms\n",
      "0: 384x640 2 persons, 1 tv, 1 remote, 54.7ms\n",
      "0: 384x640 1 person, 1 tv, 1 remote, 47.8ms\n",
      "0: 384x640 1 person, 1 tv, 1 remote, 48.2ms\n",
      "0: 384x640 1 person, 1 tv, 1 remote, 49.6ms\n",
      "0: 384x640 1 person, 1 tv, 1 remote, 52.9ms\n",
      "0: 384x640 1 person, 1 tv, 1 remote, 46.5ms\n",
      "0: 384x640 1 person, 1 tv, 1 remote, 47.7ms\n",
      "0: 384x640 2 persons, 1 remote, 47.7ms\n",
      "0: 384x640 2 persons, 1 remote, 47.2ms\n",
      "0: 384x640 2 persons, 1 remote, 49.5ms\n",
      "0: 384x640 2 persons, 1 remote, 47.6ms\n",
      "0: 384x640 2 persons, 1 bed, 1 tv, 1 remote, 48.1ms\n",
      "0: 384x640 1 person, 1 tv, 1 remote, 48.7ms\n",
      "0: 384x640 3 persons, 1 tv, 1 remote, 49.1ms\n",
      "0: 384x640 2 persons, 1 tv, 1 remote, 49.3ms\n",
      "0: 384x640 2 persons, 1 tv, 1 remote, 49.0ms\n",
      "0: 384x640 2 persons, 1 tv, 1 remote, 1 cell phone, 50.6ms\n",
      "0: 384x640 2 persons, 1 tv, 1 remote, 1 cell phone, 49.2ms\n",
      "0: 384x640 2 persons, 1 tv, 1 cell phone, 49.0ms\n",
      "0: 384x640 2 persons, 1 tv, 1 cell phone, 50.3ms\n",
      "0: 384x640 2 persons, 1 tv, 1 cell phone, 50.2ms\n",
      "0: 384x640 2 persons, 1 tv, 1 cell phone, 52.5ms\n",
      "0: 384x640 2 persons, 1 tv, 1 cell phone, 49.5ms\n",
      "0: 384x640 1 person, 1 tv, 1 remote, 50.8ms\n",
      "0: 384x640 2 persons, 1 tv, 1 remote, 2 cell phones, 50.0ms\n",
      "0: 384x640 2 persons, 1 tv, 1 remote, 48.7ms\n",
      "0: 384x640 2 persons, 1 tv, 1 remote, 53.1ms\n",
      "0: 384x640 3 persons, 1 tv, 1 remote, 49.0ms\n",
      "0: 384x640 3 persons, 1 tv, 1 remote, 47.8ms\n",
      "0: 384x640 3 persons, 1 tv, 1 remote, 48.7ms\n",
      "0: 384x640 3 persons, 1 tv, 1 remote, 49.0ms\n",
      "0: 384x640 1 person, 1 backpack, 1 tv, 1 remote, 48.8ms\n",
      "0: 384x640 2 persons, 1 tv, 1 remote, 48.3ms\n",
      "0: 384x640 2 persons, 1 remote, 50.3ms\n",
      "0: 384x640 2 persons, 1 tv, 1 remote, 48.5ms\n",
      "0: 384x640 2 persons, 1 tv, 1 remote, 48.7ms\n",
      "0: 384x640 1 person, 1 tv, 1 remote, 1 cell phone, 49.5ms\n",
      "0: 384x640 2 persons, 1 tv, 1 remote, 1 cell phone, 48.1ms\n",
      "0: 384x640 2 persons, 1 tv, 1 remote, 47.8ms\n",
      "0: 384x640 2 persons, 1 tv, 1 remote, 48.7ms\n",
      "0: 384x640 2 persons, 1 tv, 1 remote, 1 cell phone, 49.1ms\n",
      "0: 384x640 3 persons, 1 remote, 48.6ms\n",
      "0: 384x640 1 person, 1 tv, 1 remote, 49.1ms\n",
      "0: 384x640 2 persons, 1 tv, 1 remote, 48.6ms\n",
      "0: 384x640 1 person, 1 tv, 1 remote, 50.9ms\n",
      "0: 384x640 2 persons, 1 tv, 1 remote, 48.8ms\n",
      "0: 384x640 2 persons, 1 tv, 1 remote, 2 cell phones, 49.0ms\n",
      "0: 384x640 2 persons, 1 tv, 1 remote, 2 cell phones, 48.9ms\n",
      "0: 384x640 2 persons, 1 tv, 1 cell phone, 63.3ms\n",
      "0: 384x640 2 persons, 1 tv, 1 remote, 48.8ms\n",
      "0: 384x640 1 person, 1 tv, 2 cell phones, 48.8ms\n",
      "0: 384x640 3 persons, 1 tv, 1 remote, 1 cell phone, 50.7ms\n",
      "0: 384x640 2 persons, 1 tv, 2 cell phones, 51.3ms\n",
      "0: 384x640 2 persons, 1 tv, 1 remote, 1 cell phone, 48.4ms\n",
      "0: 384x640 1 person, 1 remote, 2 cell phones, 49.7ms\n",
      "0: 384x640 2 persons, 1 remote, 2 cell phones, 47.5ms\n",
      "0: 384x640 2 persons, 1 remote, 2 cell phones, 48.2ms\n",
      "0: 384x640 1 person, 1 remote, 1 cell phone, 48.3ms\n",
      "0: 384x640 1 person, 1 remote, 2 cell phones, 49.0ms\n",
      "0: 384x640 2 persons, 1 tv, 1 remote, 2 cell phones, 49.1ms\n",
      "0: 384x640 3 persons, 1 tv, 1 remote, 1 cell phone, 49.1ms\n",
      "0: 384x640 1 person, 1 tv, 1 remote, 1 cell phone, 48.2ms\n",
      "0: 384x640 1 person, 1 backpack, 1 tv, 1 remote, 1 cell phone, 51.0ms\n",
      "0: 384x640 2 persons, 1 tv, 1 remote, 48.0ms\n",
      "0: 384x640 2 persons, 1 tv, 1 remote, 49.0ms\n",
      "0: 384x640 1 person, 1 tv, 1 remote, 48.7ms\n",
      "0: 384x640 1 person, 1 tv, 1 remote, 47.8ms\n",
      "0: 384x640 1 person, 1 tv, 1 remote, 48.9ms\n",
      "0: 384x640 1 person, 1 backpack, 1 tv, 1 remote, 48.1ms\n",
      "0: 384x640 1 person, 1 tv, 1 remote, 47.8ms\n",
      "0: 384x640 1 person, 1 tv, 1 remote, 51.0ms\n",
      "0: 384x640 2 persons, 1 tv, 1 remote, 51.0ms\n",
      "0: 384x640 2 persons, 1 backpack, 1 remote, 2 cell phones, 49.2ms\n",
      "0: 384x640 3 persons, 1 backpack, 1 remote, 1 cell phone, 50.0ms\n",
      "0: 384x640 2 persons, 2 cell phones, 48.2ms\n",
      "0: 384x640 2 persons, 1 remote, 1 cell phone, 49.4ms\n",
      "0: 384x640 2 persons, 1 remote, 48.6ms\n",
      "0: 384x640 2 persons, 1 remote, 49.9ms\n",
      "0: 384x640 2 persons, 1 remote, 48.7ms\n",
      "0: 384x640 2 persons, 1 remote, 49.7ms\n",
      "0: 384x640 2 persons, 1 remote, 49.4ms\n",
      "0: 384x640 2 persons, 1 remote, 49.3ms\n",
      "0: 384x640 2 persons, 1 tv, 1 remote, 50.1ms\n",
      "0: 384x640 2 persons, 1 tv, 1 remote, 49.3ms\n",
      "0: 384x640 2 persons, 1 tv, 1 remote, 48.7ms\n",
      "0: 384x640 2 persons, 1 tv, 1 remote, 51.1ms\n",
      "0: 384x640 2 persons, 1 tv, 1 remote, 49.3ms\n",
      "0: 384x640 2 persons, 1 tv, 1 remote, 49.3ms\n",
      "0: 384x640 2 persons, 1 tv, 1 remote, 1 cell phone, 48.6ms\n",
      "0: 384x640 2 persons, 1 tv, 1 remote, 51.6ms\n",
      "0: 384x640 2 persons, 1 tv, 1 remote, 1 cell phone, 51.4ms\n",
      "0: 384x640 2 persons, 1 tv, 1 remote, 1 cell phone, 48.9ms\n",
      "0: 384x640 2 persons, 1 tv, 1 remote, 1 cell phone, 53.0ms\n",
      "0: 384x640 1 person, 1 tv, 1 remote, 1 cell phone, 55.4ms\n",
      "0: 384x640 1 person, 1 tv, 1 remote, 1 cell phone, 49.7ms\n",
      "0: 384x640 1 person, 1 tv, 1 remote, 53.4ms\n",
      "0: 384x640 2 persons, 1 tv, 1 remote, 48.6ms\n",
      "0: 384x640 1 person, 1 tv, 1 remote, 50.1ms\n",
      "0: 384x640 2 persons, 1 remote, 1 cell phone, 49.0ms\n",
      "0: 384x640 2 persons, 1 remote, 1 cell phone, 48.0ms\n",
      "0: 384x640 2 persons, 1 tv, 1 remote, 1 cell phone, 49.9ms\n",
      "0: 384x640 2 persons, 1 tv, 1 remote, 49.0ms\n",
      "0: 384x640 2 persons, 1 tv, 1 remote, 1 cell phone, 60.3ms\n",
      "0: 384x640 2 persons, 1 tv, 1 remote, 50.8ms\n",
      "0: 384x640 1 person, 1 tv, 1 remote, 48.9ms\n",
      "0: 384x640 1 person, 1 tv, 1 remote, 1 cell phone, 49.0ms\n",
      "0: 384x640 1 person, 1 tv, 1 remote, 49.3ms\n",
      "0: 384x640 2 persons, 1 tv, 1 remote, 49.0ms\n",
      "0: 384x640 1 person, 1 tv, 1 remote, 1 cell phone, 47.5ms\n",
      "0: 384x640 1 person, 1 tv, 1 remote, 48.3ms\n",
      "0: 384x640 2 persons, 1 tv, 1 remote, 48.9ms\n",
      "0: 384x640 1 person, 1 tv, 1 remote, 1 cell phone, 48.0ms\n",
      "0: 384x640 1 person, 1 tv, 1 remote, 50.4ms\n",
      "0: 384x640 1 person, 1 tv, 1 remote, 49.4ms\n",
      "0: 384x640 2 persons, 1 tv, 1 remote, 49.5ms\n",
      "0: 384x640 2 persons, 1 tv, 1 remote, 48.5ms\n",
      "0: 384x640 1 person, 1 tv, 1 remote, 48.0ms\n",
      "0: 384x640 2 persons, 1 tv, 1 remote, 51.2ms\n",
      "0: 384x640 1 person, 1 tv, 1 remote, 1 cell phone, 48.1ms\n",
      "0: 384x640 1 person, 1 tv, 1 remote, 1 cell phone, 50.0ms\n",
      "0: 384x640 1 person, 1 tv, 1 remote, 48.5ms\n",
      "0: 384x640 1 person, 1 tv, 1 remote, 50.8ms\n",
      "0: 384x640 2 persons, 1 tv, 1 cell phone, 49.4ms\n",
      "0: 384x640 1 person, 1 tv, 1 cell phone, 48.4ms\n",
      "0: 384x640 2 persons, 1 tv, 1 cell phone, 49.2ms\n",
      "0: 384x640 2 persons, 1 tv, 1 remote, 50.3ms\n",
      "0: 384x640 3 persons, 1 tv, 1 remote, 1 cell phone, 49.9ms\n",
      "0: 384x640 2 persons, 1 tv, 1 cell phone, 49.6ms\n",
      "0: 384x640 2 persons, 1 tv, 1 cell phone, 53.3ms\n",
      "0: 384x640 3 persons, 1 tv, 1 cell phone, 49.8ms\n",
      "0: 384x640 2 persons, 1 tv, 1 cell phone, 50.1ms\n",
      "0: 384x640 2 persons, 1 tv, 1 cell phone, 49.9ms\n",
      "0: 384x640 2 persons, 1 tv, 1 cell phone, 49.1ms\n",
      "0: 384x640 2 persons, 1 tv, 1 remote, 1 cell phone, 49.3ms\n",
      "0: 384x640 2 persons, 1 tv, 1 remote, 1 cell phone, 48.0ms\n",
      "0: 384x640 1 person, 1 tv, 1 cell phone, 49.5ms\n",
      "0: 384x640 3 persons, 1 tv, 1 cell phone, 49.0ms\n",
      "0: 384x640 3 persons, 1 tv, 1 remote, 1 cell phone, 47.4ms\n",
      "0: 384x640 2 persons, 1 tv, 1 remote, 1 cell phone, 49.1ms\n",
      "0: 384x640 3 persons, 1 tv, 1 remote, 1 cell phone, 48.3ms\n",
      "0: 384x640 2 persons, 1 tv, 1 remote, 1 cell phone, 48.2ms\n",
      "0: 384x640 2 persons, 1 tv, 1 remote, 1 cell phone, 49.0ms\n",
      "0: 384x640 3 persons, 1 tv, 1 remote, 1 cell phone, 48.5ms\n",
      "0: 384x640 3 persons, 1 tv, 1 remote, 1 cell phone, 47.5ms\n",
      "0: 384x640 2 persons, 1 tv, 1 remote, 1 cell phone, 51.0ms\n",
      "0: 384x640 2 persons, 1 tv, 1 remote, 1 cell phone, 47.7ms\n",
      "0: 384x640 2 persons, 1 tv, 1 remote, 1 cell phone, 47.7ms\n",
      "0: 384x640 2 persons, 1 tv, 1 remote, 49.1ms\n",
      "0: 384x640 2 persons, 1 tv, 1 remote, 48.2ms\n",
      "0: 384x640 2 persons, 1 tv, 1 remote, 1 cell phone, 50.0ms\n",
      "0: 384x640 2 persons, 1 tv, 1 remote, 1 cell phone, 49.7ms\n",
      "0: 384x640 3 persons, 1 tv, 1 remote, 49.5ms\n",
      "0: 384x640 2 persons, 1 tv, 1 remote, 1 cell phone, 57.8ms\n",
      "0: 384x640 2 persons, 1 tv, 1 remote, 1 cell phone, 56.7ms\n",
      "0: 384x640 2 persons, 1 tv, 1 remote, 1 cell phone, 48.8ms\n",
      "0: 384x640 3 persons, 1 tv, 1 remote, 1 cell phone, 51.0ms\n",
      "0: 384x640 2 persons, 1 tv, 1 remote, 49.2ms\n",
      "0: 384x640 2 persons, 1 tv, 1 remote, 48.4ms\n",
      "0: 384x640 2 persons, 1 tv, 1 remote, 1 cell phone, 48.0ms\n",
      "0: 384x640 2 persons, 1 backpack, 1 tv, 1 remote, 1 cell phone, 58.6ms\n",
      "0: 384x640 1 person, 1 tv, 1 remote, 1 cell phone, 52.5ms\n",
      "0: 384x640 2 persons, 1 tv, 1 remote, 1 cell phone, 49.1ms\n",
      "0: 384x640 1 person, 1 backpack, 1 tv, 1 remote, 1 cell phone, 49.1ms\n",
      "0: 384x640 1 person, 1 tv, 1 remote, 1 cell phone, 47.7ms\n",
      "0: 384x640 1 person, 1 tv, 1 remote, 1 cell phone, 48.6ms\n",
      "0: 384x640 2 persons, 1 tv, 1 remote, 1 cell phone, 48.1ms\n",
      "0: 384x640 2 persons, 1 tv, 1 remote, 1 cell phone, 48.4ms\n",
      "0: 384x640 2 persons, 1 tv, 1 remote, 1 cell phone, 48.3ms\n",
      "0: 384x640 2 persons, 1 tv, 1 remote, 1 cell phone, 57.8ms\n",
      "0: 384x640 2 persons, 1 tv, 1 remote, 50.4ms\n",
      "0: 384x640 2 persons, 1 tv, 1 cell phone, 49.0ms\n",
      "0: 384x640 2 persons, 1 tv, 1 cell phone, 50.1ms\n",
      "0: 384x640 2 persons, 1 tv, 1 cell phone, 47.2ms\n",
      "0: 384x640 2 persons, 1 tv, 1 cell phone, 48.3ms\n",
      "0: 384x640 2 persons, 1 tv, 1 cell phone, 49.9ms\n",
      "0: 384x640 2 persons, 1 tv, 1 cell phone, 49.8ms\n",
      "0: 384x640 2 persons, 1 tv, 1 cell phone, 50.0ms\n",
      "0: 384x640 2 persons, 1 tv, 1 cell phone, 49.0ms\n",
      "0: 384x640 2 persons, 1 tv, 1 cell phone, 57.4ms\n",
      "0: 384x640 2 persons, 1 tv, 1 cell phone, 49.8ms\n",
      "0: 384x640 2 persons, 1 tv, 1 cell phone, 48.9ms\n",
      "0: 384x640 2 persons, 1 tv, 1 cell phone, 48.6ms\n",
      "0: 384x640 2 persons, 1 tv, 1 cell phone, 53.4ms\n",
      "0: 384x640 1 person, 1 tv, 1 cell phone, 48.4ms\n",
      "0: 384x640 2 persons, 1 tv, 1 cell phone, 49.3ms\n",
      "0: 384x640 2 persons, 1 tv, 1 cell phone, 48.8ms\n",
      "0: 384x640 2 persons, 1 tv, 1 cell phone, 48.9ms\n",
      "0: 384x640 2 persons, 1 tv, 1 cell phone, 49.7ms\n",
      "0: 384x640 2 persons, 1 tv, 1 cell phone, 48.4ms\n",
      "0: 384x640 2 persons, 1 tv, 1 cell phone, 49.0ms\n",
      "0: 384x640 2 persons, 1 tv, 1 cell phone, 55.6ms\n",
      "0: 384x640 2 persons, 1 tv, 1 cell phone, 48.4ms\n",
      "0: 384x640 2 persons, 1 tv, 1 cell phone, 48.3ms\n",
      "0: 384x640 2 persons, 1 tv, 1 cell phone, 50.6ms\n",
      "0: 384x640 2 persons, 1 tv, 1 cell phone, 50.1ms\n",
      "0: 384x640 2 persons, 1 tv, 1 remote, 1 cell phone, 49.3ms\n",
      "0: 384x640 2 persons, 1 tv, 1 cell phone, 51.1ms\n",
      "0: 384x640 2 persons, 1 tv, 1 cell phone, 48.4ms\n",
      "0: 384x640 2 persons, 1 tv, 1 remote, 1 cell phone, 48.7ms\n",
      "0: 384x640 2 persons, 1 tv, 1 cell phone, 49.4ms\n",
      "0: 384x640 2 persons, 1 tv, 1 cell phone, 48.8ms\n",
      "0: 384x640 2 persons, 1 tv, 1 remote, 1 cell phone, 48.6ms\n",
      "0: 384x640 1 person, 1 tv, 1 remote, 1 cell phone, 48.3ms\n",
      "0: 384x640 2 persons, 1 tv, 1 cell phone, 60.1ms\n",
      "0: 384x640 2 persons, 1 tv, 1 remote, 1 cell phone, 49.4ms\n",
      "0: 384x640 1 person, 1 tv, 1 remote, 1 cell phone, 49.1ms\n",
      "0: 384x640 1 person, 1 tv, 1 cell phone, 49.6ms\n",
      "0: 384x640 1 person, 1 tv, 1 cell phone, 49.0ms\n",
      "0: 384x640 2 persons, 1 tv, 1 remote, 1 cell phone, 48.9ms\n",
      "0: 384x640 2 persons, 1 tv, 1 remote, 1 cell phone, 49.1ms\n",
      "0: 384x640 1 person, 1 tv, 1 remote, 1 cell phone, 49.1ms\n",
      "0: 384x640 1 person, 1 tv, 1 cell phone, 49.5ms\n",
      "0: 384x640 2 persons, 1 tv, 1 remote, 1 cell phone, 48.5ms\n",
      "0: 384x640 2 persons, 1 tv, 1 remote, 1 cell phone, 50.0ms\n",
      "0: 384x640 2 persons, 1 tv, 1 cell phone, 47.9ms\n",
      "0: 384x640 2 persons, 1 tv, 1 cell phone, 47.8ms\n",
      "0: 384x640 1 person, 1 tv, 1 remote, 1 cell phone, 48.0ms\n",
      "0: 384x640 1 person, 1 tv, 1 remote, 1 cell phone, 47.9ms\n",
      "0: 384x640 1 person, 1 tv, 1 remote, 1 cell phone, 47.5ms\n",
      "0: 384x640 2 persons, 1 tv, 1 remote, 1 cell phone, 53.3ms\n",
      "0: 384x640 1 person, 1 tv, 1 remote, 1 cell phone, 48.9ms\n",
      "0: 384x640 1 person, 1 tv, 1 remote, 1 cell phone, 49.1ms\n",
      "0: 384x640 1 person, 1 tv, 1 remote, 1 cell phone, 49.5ms\n",
      "0: 384x640 1 person, 1 tv, 1 remote, 1 cell phone, 47.6ms\n",
      "0: 384x640 1 person, 1 tv, 1 remote, 1 cell phone, 49.5ms\n",
      "0: 384x640 1 person, 1 tv, 1 remote, 1 cell phone, 49.7ms\n",
      "0: 384x640 2 persons, 1 tv, 1 remote, 1 cell phone, 49.8ms\n",
      "0: 384x640 2 persons, 1 tv, 1 remote, 50.1ms\n",
      "0: 384x640 1 person, 1 tv, 1 remote, 48.4ms\n",
      "0: 384x640 2 persons, 1 tv, 1 remote, 1 cell phone, 48.2ms\n",
      "0: 384x640 2 persons, 1 tv, 1 remote, 1 cell phone, 49.2ms\n",
      "0: 384x640 2 persons, 1 tv, 1 remote, 1 cell phone, 48.2ms\n",
      "0: 384x640 2 persons, 1 tv, 1 remote, 1 cell phone, 48.6ms\n",
      "0: 384x640 2 persons, 1 tv, 1 remote, 48.2ms\n",
      "0: 384x640 2 persons, 1 tv, 1 remote, 48.8ms\n",
      "0: 384x640 1 person, 1 tv, 1 remote, 48.7ms\n",
      "0: 384x640 2 persons, 1 tv, 1 remote, 1 cell phone, 49.7ms\n",
      "0: 384x640 2 persons, 1 tv, 1 remote, 1 cell phone, 50.1ms\n",
      "0: 384x640 2 persons, 1 tv, 1 remote, 48.6ms\n",
      "0: 384x640 2 persons, 1 tv, 1 remote, 51.6ms\n",
      "0: 384x640 2 persons, 1 tv, 1 remote, 1 cell phone, 50.1ms\n",
      "0: 384x640 2 persons, 1 tv, 1 remote, 1 cell phone, 48.8ms\n",
      "0: 384x640 2 persons, 1 tv, 1 remote, 1 cell phone, 48.4ms\n",
      "0: 384x640 2 persons, 1 tv, 1 remote, 1 cell phone, 48.7ms\n",
      "0: 384x640 2 persons, 1 tv, 1 remote, 1 cell phone, 48.7ms\n",
      "0: 384x640 2 persons, 1 tv, 1 remote, 1 cell phone, 53.7ms\n",
      "0: 384x640 1 person, 1 tv, 1 remote, 1 cell phone, 50.1ms\n",
      "0: 384x640 1 person, 1 tv, 1 remote, 1 cell phone, 56.0ms\n",
      "0: 384x640 1 person, 1 tv, 1 remote, 1 cell phone, 48.3ms\n",
      "0: 384x640 1 person, 1 tv, 1 remote, 1 cell phone, 49.5ms\n",
      "0: 384x640 1 person, 1 tv, 1 remote, 1 cell phone, 61.7ms\n",
      "0: 384x640 2 persons, 1 tv, 1 remote, 1 cell phone, 48.7ms\n",
      "0: 384x640 1 person, 1 tv, 1 remote, 1 cell phone, 50.1ms\n",
      "0: 384x640 1 person, 1 tv, 1 remote, 1 cell phone, 69.3ms\n",
      "0: 384x640 2 persons, 1 tv, 1 remote, 1 cell phone, 52.3ms\n",
      "0: 384x640 1 person, 1 tv, 1 remote, 1 cell phone, 47.7ms\n",
      "0: 384x640 2 persons, 1 tv, 1 remote, 1 cell phone, 47.8ms\n",
      "0: 384x640 2 persons, 1 tv, 1 remote, 1 cell phone, 49.3ms\n",
      "0: 384x640 2 persons, 1 tv, 1 remote, 1 cell phone, 48.6ms\n",
      "0: 384x640 2 persons, 1 tv, 1 remote, 1 cell phone, 64.6ms\n",
      "0: 384x640 1 person, 1 tv, 1 remote, 1 cell phone, 60.8ms\n",
      "0: 384x640 2 persons, 1 tv, 1 remote, 1 cell phone, 50.6ms\n",
      "0: 384x640 2 persons, 1 tv, 1 remote, 1 cell phone, 51.1ms\n",
      "0: 384x640 1 person, 1 tv, 1 remote, 49.5ms\n",
      "0: 384x640 1 person, 1 tv, 1 remote, 59.7ms\n",
      "0: 384x640 2 persons, 1 tv, 1 remote, 54.5ms\n",
      "0: 384x640 2 persons, 1 tv, 1 remote, 1 cell phone, 47.8ms\n",
      "0: 384x640 2 persons, 1 tv, 55.8ms\n",
      "0: 384x640 1 person, 1 tv, 1 laptop, 50.1ms\n",
      "0: 384x640 1 person, 1 tv, 1 laptop, 51.0ms\n",
      "0: 384x640 1 person, 1 tv, 1 laptop, 48.8ms\n",
      "0: 384x640 1 person, 2 tvs, 50.3ms\n",
      "0: 384x640 1 person, 1 cell phone, 50.9ms\n",
      "0: 384x640 1 person, 48.8ms\n",
      "0: 384x640 1 person, 54.5ms\n",
      "0: 384x640 2 persons, 53.4ms\n",
      "0: 384x640 2 persons, 48.8ms\n",
      "0: 384x640 2 persons, 48.9ms\n",
      "0: 384x640 2 persons, 49.3ms\n",
      "0: 384x640 2 persons, 49.2ms\n",
      "0: 384x640 2 persons, 47.3ms\n",
      "0: 384x640 1 person, 48.1ms\n",
      "0: 384x640 2 persons, 49.1ms\n",
      "0: 384x640 1 person, 52.7ms\n",
      "0: 384x640 1 person, 48.9ms\n",
      "0: 384x640 1 person, 47.4ms\n",
      "0: 384x640 1 person, 48.6ms\n",
      "0: 384x640 1 person, 53.8ms\n",
      "0: 384x640 1 person, 48.7ms\n",
      "0: 384x640 1 person, 47.2ms\n",
      "0: 384x640 1 person, 52.6ms\n",
      "0: 384x640 1 person, 49.1ms\n",
      "0: 384x640 1 person, 48.4ms\n",
      "0: 384x640 1 person, 50.3ms\n",
      "0: 384x640 1 person, 50.8ms\n",
      "0: 384x640 1 person, 49.2ms\n",
      "0: 384x640 1 person, 48.0ms\n",
      "0: 384x640 1 person, 49.4ms\n",
      "0: 384x640 1 person, 48.5ms\n",
      "0: 384x640 1 person, 49.4ms\n",
      "0: 384x640 1 person, 50.2ms\n",
      "0: 384x640 1 person, 52.5ms\n",
      "0: 384x640 2 persons, 54.1ms\n",
      "0: 384x640 1 person, 72.1ms\n",
      "0: 384x640 2 persons, 49.1ms\n",
      "0: 384x640 1 person, 49.2ms\n",
      "0: 384x640 1 person, 49.2ms\n",
      "0: 384x640 1 person, 49.3ms\n",
      "0: 384x640 1 person, 50.2ms\n",
      "0: 384x640 1 person, 51.3ms\n",
      "0: 384x640 1 person, 53.4ms\n",
      "0: 384x640 1 person, 48.8ms\n",
      "0: 384x640 2 persons, 48.7ms\n",
      "0: 384x640 1 person, 47.8ms\n",
      "0: 384x640 2 persons, 49.2ms\n",
      "0: 384x640 2 persons, 51.7ms\n",
      "0: 384x640 2 persons, 54.2ms\n",
      "0: 384x640 1 person, 51.9ms\n",
      "0: 384x640 2 persons, 49.0ms\n",
      "0: 384x640 2 persons, 52.0ms\n",
      "0: 384x640 1 person, 49.6ms\n",
      "0: 384x640 2 persons, 52.7ms\n",
      "0: 384x640 2 persons, 49.2ms\n",
      "0: 384x640 2 persons, 49.2ms\n",
      "0: 384x640 2 persons, 49.6ms\n",
      "0: 384x640 1 person, 48.6ms\n",
      "0: 384x640 1 person, 49.9ms\n",
      "0: 384x640 1 person, 48.6ms\n",
      "0: 384x640 1 person, 48.5ms\n",
      "0: 384x640 1 person, 59.6ms\n",
      "0: 384x640 1 person, 52.0ms\n",
      "0: 384x640 1 person, 53.2ms\n",
      "0: 384x640 1 person, 49.6ms\n",
      "0: 384x640 1 person, 54.5ms\n",
      "0: 384x640 1 person, 56.0ms\n",
      "0: 384x640 1 person, 49.0ms\n",
      "0: 384x640 1 person, 49.0ms\n",
      "0: 384x640 1 person, 49.8ms\n",
      "0: 384x640 1 person, 1 cell phone, 50.2ms\n",
      "0: 384x640 1 person, 50.3ms\n",
      "0: 384x640 1 person, 1 bottle, 50.5ms\n",
      "0: 384x640 1 person, 48.4ms\n",
      "0: 384x640 2 persons, 1 cell phone, 47.7ms\n",
      "0: 384x640 1 person, 48.2ms\n",
      "0: 384x640 (no detections), 49.4ms\n",
      "0: 384x640 1 laptop, 49.0ms\n",
      "0: 384x640 1 tv, 49.4ms\n",
      "0: 384x640 1 tv, 1 laptop, 50.9ms\n",
      "0: 384x640 1 tv, 50.0ms\n",
      "0: 384x640 1 tv, 57.8ms\n",
      "0: 384x640 1 tv, 1 laptop, 52.4ms\n",
      "0: 384x640 1 tv, 1 laptop, 49.5ms\n",
      "0: 384x640 1 tv, 47.8ms\n",
      "0: 384x640 1 tv, 72.7ms\n",
      "0: 384x640 1 cat, 1 tv, 1 refrigerator, 52.8ms\n",
      "0: 384x640 1 person, 1 tv, 1 cell phone, 54.1ms\n",
      "0: 384x640 1 person, 1 tv, 1 remote, 1 cell phone, 49.5ms\n",
      "0: 384x640 2 persons, 1 tv, 1 remote, 1 cell phone, 49.4ms\n",
      "0: 384x640 1 person, 1 cat, 1 tv, 1 remote, 1 cell phone, 49.9ms\n",
      "0: 384x640 1 person, 1 tv, 1 remote, 48.6ms\n",
      "0: 384x640 1 person, 1 tv, 1 remote, 48.4ms\n",
      "0: 384x640 1 person, 1 tv, 1 remote, 1 cell phone, 54.4ms\n",
      "0: 384x640 1 person, 1 tv, 1 cell phone, 49.3ms\n",
      "0: 384x640 1 person, 1 tv, 1 laptop, 1 cell phone, 49.9ms\n",
      "0: 384x640 2 persons, 1 tv, 1 remote, 1 cell phone, 50.1ms\n",
      "0: 384x640 1 person, 1 tv, 1 laptop, 1 remote, 1 cell phone, 48.5ms\n",
      "0: 384x640 2 persons, 1 tv, 1 laptop, 1 remote, 48.8ms\n",
      "0: 384x640 2 persons, 1 tv, 1 laptop, 1 remote, 1 cell phone, 48.1ms\n",
      "0: 384x640 2 persons, 1 tv, 1 laptop, 1 remote, 1 cell phone, 48.4ms\n",
      "0: 384x640 2 persons, 1 tv, 1 laptop, 1 remote, 1 cell phone, 49.1ms\n",
      "0: 384x640 2 persons, 1 tv, 1 laptop, 1 cell phone, 48.4ms\n",
      "0: 384x640 1 person, 1 tv, 1 laptop, 1 remote, 1 cell phone, 49.2ms\n",
      "0: 384x640 1 person, 1 tv, 1 laptop, 1 remote, 1 cell phone, 53.7ms\n",
      "0: 384x640 1 person, 1 tv, 1 laptop, 1 cell phone, 48.0ms\n",
      "0: 384x640 1 person, 1 tv, 1 cell phone, 49.4ms\n",
      "0: 384x640 1 person, 1 tv, 1 laptop, 1 cell phone, 49.3ms\n",
      "0: 384x640 1 person, 1 tv, 1 laptop, 1 cell phone, 48.8ms\n",
      "0: 384x640 1 person, 1 tv, 1 laptop, 1 cell phone, 49.6ms\n",
      "0: 384x640 1 person, 1 tv, 1 laptop, 1 cell phone, 49.6ms\n",
      "0: 384x640 1 person, 1 tv, 1 remote, 1 cell phone, 49.7ms\n",
      "0: 384x640 1 person, 1 tv, 1 laptop, 1 remote, 1 cell phone, 52.5ms\n",
      "0: 384x640 1 person, 1 tv, 1 laptop, 1 remote, 1 cell phone, 50.2ms\n",
      "0: 384x640 1 person, 1 tv, 1 laptop, 1 remote, 1 cell phone, 53.2ms\n",
      "0: 384x640 1 person, 1 tv, 1 laptop, 1 remote, 1 cell phone, 49.1ms\n",
      "0: 384x640 1 person, 1 tv, 1 laptop, 1 remote, 1 cell phone, 50.1ms\n",
      "0: 384x640 2 persons, 1 tv, 1 laptop, 1 remote, 1 cell phone, 47.8ms\n",
      "0: 384x640 2 persons, 1 tv, 1 laptop, 1 remote, 1 cell phone, 50.0ms\n",
      "0: 384x640 2 persons, 1 tv, 1 laptop, 1 remote, 1 cell phone, 48.3ms\n",
      "0: 384x640 2 persons, 1 tv, 1 laptop, 1 remote, 1 cell phone, 47.6ms\n",
      "0: 384x640 2 persons, 1 tv, 1 laptop, 1 remote, 1 cell phone, 53.2ms\n",
      "0: 384x640 2 persons, 1 tv, 1 laptop, 1 remote, 1 cell phone, 54.0ms\n",
      "0: 384x640 2 persons, 1 tv, 1 laptop, 1 remote, 1 cell phone, 52.6ms\n",
      "0: 384x640 2 persons, 1 tv, 1 laptop, 1 remote, 1 cell phone, 48.2ms\n",
      "0: 384x640 2 persons, 1 tv, 1 laptop, 1 remote, 1 cell phone, 50.1ms\n",
      "0: 384x640 2 persons, 1 tv, 1 laptop, 1 remote, 1 cell phone, 48.4ms\n",
      "0: 384x640 3 persons, 1 tv, 1 laptop, 1 remote, 1 cell phone, 47.9ms\n",
      "0: 384x640 2 persons, 1 tv, 1 laptop, 1 remote, 1 cell phone, 50.2ms\n",
      "0: 384x640 2 persons, 1 tv, 1 laptop, 1 remote, 1 cell phone, 49.3ms\n",
      "0: 384x640 1 person, 1 tv, 1 laptop, 1 cell phone, 51.5ms\n",
      "0: 384x640 1 person, 1 tv, 1 laptop, 1 cell phone, 52.5ms\n",
      "0: 384x640 2 persons, 1 tv, 1 laptop, 1 cell phone, 54.1ms\n",
      "0: 384x640 1 person, 1 tv, 1 cell phone, 49.6ms\n",
      "0: 384x640 2 persons, 1 cell phone, 48.6ms\n",
      "0: 384x640 2 persons, 1 cell phone, 70.7ms\n",
      "0: 384x640 2 persons, 1 cell phone, 48.6ms\n",
      "0: 384x640 1 person, 1 cell phone, 55.5ms\n",
      "0: 384x640 1 person, 1 cell phone, 56.4ms\n",
      "0: 384x640 1 person, 1 cell phone, 49.2ms\n",
      "0: 384x640 1 person, 1 cell phone, 50.4ms\n",
      "0: 384x640 1 person, 1 cell phone, 49.1ms\n",
      "0: 384x640 1 person, 1 cell phone, 49.9ms\n",
      "0: 384x640 1 person, 1 cell phone, 49.7ms\n",
      "0: 384x640 1 person, 1 cell phone, 48.6ms\n",
      "0: 384x640 1 person, 1 cell phone, 49.5ms\n",
      "0: 384x640 1 person, 1 remote, 1 cell phone, 65.6ms\n",
      "0: 384x640 1 person, 1 remote, 1 cell phone, 50.2ms\n",
      "0: 384x640 1 person, 1 cell phone, 49.0ms\n",
      "0: 384x640 1 person, 1 cell phone, 49.1ms\n",
      "0: 384x640 1 person, 1 cell phone, 48.6ms\n",
      "0: 384x640 2 persons, 1 cell phone, 48.8ms\n",
      "0: 384x640 2 persons, 1 cell phone, 49.4ms\n",
      "0: 384x640 1 person, 1 cell phone, 48.7ms\n",
      "0: 384x640 1 person, 1 cell phone, 49.7ms\n",
      "0: 384x640 1 person, 1 remote, 1 cell phone, 48.4ms\n",
      "0: 384x640 1 person, 1 cell phone, 48.9ms\n",
      "0: 384x640 1 person, 1 cell phone, 58.2ms\n",
      "0: 384x640 1 person, 1 cell phone, 63.5ms\n",
      "0: 384x640 1 person, 1 cell phone, 50.1ms\n",
      "0: 384x640 2 persons, 1 cell phone, 53.0ms\n",
      "0: 384x640 1 person, 1 cell phone, 58.8ms\n",
      "0: 384x640 2 persons, 1 cell phone, 59.7ms\n",
      "0: 384x640 1 person, 1 remote, 1 cell phone, 58.0ms\n",
      "0: 384x640 1 person, 1 cell phone, 51.1ms\n",
      "0: 384x640 1 person, 1 cell phone, 50.1ms\n",
      "0: 384x640 1 person, 1 remote, 1 cell phone, 49.7ms\n",
      "0: 384x640 1 person, 1 cell phone, 49.4ms\n",
      "0: 384x640 2 persons, 1 cell phone, 48.7ms\n",
      "0: 384x640 3 persons, 1 cell phone, 51.0ms\n",
      "0: 384x640 2 persons, 1 remote, 1 cell phone, 50.8ms\n",
      "0: 384x640 1 person, 1 remote, 1 cell phone, 49.6ms\n",
      "0: 384x640 1 person, 1 remote, 1 cell phone, 51.1ms\n",
      "0: 384x640 1 person, 1 remote, 1 cell phone, 57.6ms\n",
      "0: 384x640 1 person, 1 remote, 1 cell phone, 54.6ms\n",
      "0: 384x640 1 person, 1 remote, 1 cell phone, 49.4ms\n",
      "0: 384x640 1 person, 1 remote, 1 cell phone, 49.3ms\n",
      "0: 384x640 1 person, 1 remote, 1 cell phone, 48.6ms\n",
      "0: 384x640 1 person, 1 remote, 1 cell phone, 48.6ms\n",
      "0: 384x640 1 person, 1 remote, 1 cell phone, 49.8ms\n",
      "0: 384x640 1 person, 1 remote, 1 cell phone, 46.7ms\n",
      "0: 384x640 1 person, 1 remote, 1 cell phone, 48.0ms\n",
      "0: 384x640 1 person, 1 remote, 1 cell phone, 49.4ms\n",
      "0: 384x640 1 person, 1 remote, 1 cell phone, 48.5ms\n",
      "0: 384x640 1 person, 1 remote, 1 cell phone, 52.0ms\n",
      "0: 384x640 1 person, 1 remote, 1 cell phone, 49.7ms\n",
      "0: 384x640 1 person, 1 remote, 1 cell phone, 77.7ms\n",
      "0: 384x640 1 person, 1 remote, 1 cell phone, 54.4ms\n",
      "0: 384x640 1 person, 1 remote, 1 cell phone, 49.3ms\n",
      "0: 384x640 1 person, 1 remote, 1 cell phone, 48.7ms\n",
      "0: 384x640 1 person, 1 remote, 1 cell phone, 49.6ms\n",
      "0: 384x640 1 person, 1 remote, 1 cell phone, 48.1ms\n",
      "0: 384x640 1 person, 1 remote, 1 cell phone, 48.5ms\n",
      "0: 384x640 1 person, 1 remote, 1 cell phone, 49.7ms\n",
      "0: 384x640 1 person, 1 remote, 1 cell phone, 50.3ms\n",
      "0: 384x640 1 person, 1 remote, 1 cell phone, 49.9ms\n",
      "0: 384x640 1 person, 1 remote, 1 cell phone, 49.7ms\n",
      "0: 384x640 1 person, 1 remote, 1 cell phone, 50.7ms\n",
      "0: 384x640 1 person, 1 remote, 1 cell phone, 48.3ms\n",
      "0: 384x640 1 person, 1 remote, 1 cell phone, 48.1ms\n",
      "0: 384x640 1 person, 1 remote, 1 cell phone, 49.3ms\n",
      "0: 384x640 1 person, 1 remote, 1 cell phone, 50.0ms\n",
      "0: 384x640 1 person, 1 remote, 1 cell phone, 58.3ms\n",
      "0: 384x640 1 person, 1 remote, 1 cell phone, 60.0ms\n",
      "0: 384x640 1 person, 1 remote, 1 cell phone, 54.8ms\n",
      "0: 384x640 1 person, 1 remote, 1 cell phone, 56.4ms\n",
      "0: 384x640 1 person, 1 remote, 1 cell phone, 61.2ms\n",
      "0: 384x640 1 person, 1 remote, 1 cell phone, 61.6ms\n",
      "0: 384x640 1 person, 1 remote, 1 cell phone, 62.5ms\n",
      "0: 384x640 1 person, 1 remote, 1 cell phone, 56.7ms\n",
      "0: 384x640 1 person, 1 remote, 1 cell phone, 52.8ms\n",
      "0: 384x640 1 person, 1 remote, 1 cell phone, 52.5ms\n",
      "0: 384x640 1 person, 1 remote, 1 cell phone, 53.4ms\n",
      "0: 384x640 1 person, 1 remote, 1 cell phone, 53.2ms\n",
      "0: 384x640 1 person, 1 remote, 1 cell phone, 49.2ms\n",
      "0: 384x640 1 person, 1 remote, 1 cell phone, 52.7ms\n",
      "0: 384x640 1 person, 1 remote, 1 cell phone, 48.7ms\n",
      "0: 384x640 1 person, 1 remote, 1 cell phone, 48.6ms\n",
      "0: 384x640 1 person, 1 remote, 1 cell phone, 49.5ms\n",
      "0: 384x640 1 person, 1 remote, 1 cell phone, 49.4ms\n",
      "0: 384x640 1 person, 1 remote, 1 cell phone, 50.2ms\n",
      "0: 384x640 1 person, 1 remote, 1 cell phone, 47.6ms\n",
      "0: 384x640 1 person, 1 remote, 1 cell phone, 49.2ms\n",
      "0: 384x640 1 person, 1 remote, 1 cell phone, 49.2ms\n",
      "0: 384x640 1 person, 1 remote, 1 cell phone, 47.4ms\n",
      "0: 384x640 1 person, 1 cell phone, 48.1ms\n",
      "0: 384x640 1 person, 1 remote, 1 cell phone, 53.5ms\n",
      "0: 384x640 1 person, 1 remote, 1 cell phone, 48.6ms\n",
      "0: 384x640 1 person, 1 cell phone, 48.8ms\n",
      "0: 384x640 1 person, 1 remote, 1 cell phone, 50.0ms\n",
      "0: 384x640 1 person, 1 remote, 1 cell phone, 48.7ms\n",
      "0: 384x640 1 person, 1 cell phone, 49.4ms\n",
      "0: 384x640 1 person, 1 cell phone, 66.9ms\n",
      "0: 384x640 1 person, 1 remote, 1 cell phone, 47.7ms\n",
      "0: 384x640 1 person, 1 remote, 1 cell phone, 53.1ms\n",
      "0: 384x640 1 person, 1 remote, 1 cell phone, 48.4ms\n",
      "0: 384x640 1 person, 1 remote, 1 cell phone, 49.6ms\n",
      "0: 384x640 1 person, 1 cell phone, 48.1ms\n",
      "0: 384x640 1 person, 1 cell phone, 47.8ms\n",
      "0: 384x640 1 person, 1 cell phone, 47.7ms\n",
      "0: 384x640 1 person, 1 cell phone, 47.5ms\n",
      "0: 384x640 1 person, 1 remote, 1 cell phone, 49.5ms\n",
      "0: 384x640 1 person, 1 cell phone, 53.5ms\n",
      "0: 384x640 1 person, 1 remote, 1 cell phone, 48.8ms\n",
      "0: 384x640 1 person, 1 remote, 1 cell phone, 48.3ms\n",
      "0: 384x640 1 person, 1 cell phone, 48.1ms\n",
      "0: 384x640 1 person, 1 cell phone, 49.8ms\n",
      "0: 384x640 1 person, 1 cell phone, 51.6ms\n",
      "0: 384x640 1 person, 1 remote, 1 cell phone, 55.4ms\n",
      "0: 384x640 1 person, 1 remote, 1 cell phone, 51.9ms\n",
      "0: 384x640 1 person, 1 remote, 1 cell phone, 49.4ms\n",
      "0: 384x640 1 person, 1 remote, 1 cell phone, 49.1ms\n",
      "0: 384x640 1 person, 1 cell phone, 48.5ms\n",
      "0: 384x640 1 person, 1 cell phone, 51.6ms\n",
      "0: 384x640 1 person, 1 remote, 1 cell phone, 52.8ms\n",
      "0: 384x640 1 person, 1 remote, 1 cell phone, 52.3ms\n",
      "0: 384x640 1 person, 1 cell phone, 48.6ms\n",
      "0: 384x640 1 person, 1 cell phone, 52.9ms\n",
      "0: 384x640 1 person, 1 cell phone, 48.0ms\n",
      "0: 384x640 1 person, 1 cell phone, 49.6ms\n",
      "0: 384x640 1 person, 1 cell phone, 49.3ms\n",
      "0: 384x640 1 person, 1 cell phone, 49.9ms\n",
      "0: 384x640 1 person, 1 cell phone, 50.6ms\n",
      "0: 384x640 1 person, 1 remote, 1 cell phone, 47.7ms\n",
      "0: 384x640 1 person, 1 remote, 1 cell phone, 50.4ms\n",
      "0: 384x640 1 person, 1 cell phone, 51.0ms\n",
      "0: 384x640 1 person, 1 remote, 1 cell phone, 48.6ms\n",
      "0: 384x640 1 person, 1 remote, 1 cell phone, 47.0ms\n",
      "0: 384x640 1 person, 1 remote, 1 cell phone, 48.6ms\n",
      "0: 384x640 1 person, 1 remote, 1 cell phone, 48.5ms\n",
      "0: 384x640 1 person, 1 remote, 1 cell phone, 48.2ms\n",
      "0: 384x640 1 person, 1 cell phone, 48.2ms\n",
      "0: 384x640 1 person, 1 remote, 1 cell phone, 47.8ms\n",
      "0: 384x640 1 person, 1 remote, 1 cell phone, 48.4ms\n",
      "0: 384x640 1 person, 1 cell phone, 48.2ms\n",
      "0: 384x640 1 person, 1 cell phone, 47.8ms\n",
      "0: 384x640 1 person, 1 remote, 1 cell phone, 48.0ms\n",
      "0: 384x640 1 person, 1 cell phone, 48.0ms\n",
      "0: 384x640 1 person, 1 cell phone, 46.9ms\n",
      "0: 384x640 1 person, 1 remote, 1 cell phone, 70.6ms\n",
      "0: 384x640 1 person, 1 remote, 1 cell phone, 54.7ms\n",
      "0: 384x640 1 person, 1 cell phone, 62.9ms\n",
      "0: 384x640 1 person, 1 remote, 1 cell phone, 66.0ms\n",
      "0: 384x640 1 person, 1 remote, 1 cell phone, 57.5ms\n",
      "0: 384x640 1 person, 1 remote, 1 cell phone, 59.2ms\n",
      "0: 384x640 1 person, 1 remote, 1 cell phone, 60.3ms\n",
      "0: 384x640 1 person, 1 remote, 1 cell phone, 60.3ms\n",
      "0: 384x640 1 person, 1 cell phone, 57.6ms\n",
      "0: 384x640 1 person, 1 cell phone, 59.5ms\n",
      "0: 384x640 1 person, 1 cell phone, 58.2ms\n",
      "0: 384x640 1 person, 1 remote, 1 cell phone, 56.6ms\n",
      "0: 384x640 1 person, 1 remote, 1 cell phone, 58.2ms\n",
      "0: 384x640 1 person, 1 cell phone, 52.9ms\n",
      "0: 384x640 1 person, 1 cell phone, 47.8ms\n",
      "0: 384x640 1 person, 1 cell phone, 48.4ms\n",
      "0: 384x640 1 person, 1 cell phone, 52.6ms\n",
      "0: 384x640 2 persons, 1 remote, 1 cell phone, 48.3ms\n",
      "0: 384x640 1 person, 1 cell phone, 48.8ms\n",
      "0: 384x640 1 person, 1 remote, 1 cell phone, 49.6ms\n",
      "0: 384x640 1 person, 1 cell phone, 50.5ms\n",
      "0: 384x640 1 person, 1 cell phone, 47.1ms\n",
      "0: 384x640 1 person, 1 cell phone, 52.4ms\n",
      "0: 384x640 1 person, 1 cell phone, 47.5ms\n",
      "0: 384x640 1 person, 1 cell phone, 49.3ms\n",
      "0: 384x640 1 person, 1 backpack, 1 suitcase, 49.4ms\n",
      "0: 384x640 1 person, 1 remote, 49.0ms\n",
      "0: 384x640 1 person, 48.5ms\n",
      "0: 384x640 1 person, 49.9ms\n",
      "0: 384x640 2 persons, 49.9ms\n",
      "0: 384x640 2 persons, 51.4ms\n",
      "0: 384x640 2 persons, 48.8ms\n",
      "0: 384x640 2 persons, 48.3ms\n",
      "0: 384x640 2 persons, 47.7ms\n",
      "0: 384x640 2 persons, 49.5ms\n",
      "0: 384x640 1 person, 48.7ms\n",
      "0: 384x640 1 person, 49.2ms\n",
      "0: 384x640 1 person, 49.5ms\n",
      "0: 384x640 1 person, 49.1ms\n",
      "0: 384x640 1 person, 48.1ms\n",
      "0: 384x640 1 person, 48.5ms\n",
      "0: 384x640 1 person, 49.0ms\n",
      "0: 384x640 1 person, 49.0ms\n",
      "0: 384x640 1 person, 1 tv, 1 laptop, 48.6ms\n",
      "0: 384x640 1 person, 1 tv, 1 laptop, 54.8ms\n",
      "0: 384x640 1 person, 1 tv, 49.7ms\n",
      "0: 384x640 1 person, 1 tv, 50.2ms\n",
      "0: 384x640 1 person, 1 tv, 48.7ms\n",
      "0: 384x640 1 person, 1 tv, 50.7ms\n",
      "0: 384x640 1 person, 1 tv, 1 laptop, 71.9ms\n",
      "0: 384x640 1 person, 1 tv, 51.3ms\n",
      "0: 384x640 1 person, 1 laptop, 50.8ms\n",
      "0: 384x640 1 person, 1 tv, 1 laptop, 63.0ms\n",
      "0: 384x640 1 person, 59.5ms\n",
      "0: 384x640 1 person, 1 tv, 1 laptop, 55.6ms\n",
      "0: 384x640 1 person, 1 tv, 1 laptop, 55.4ms\n",
      "0: 384x640 1 person, 1 tv, 59.7ms\n",
      "0: 384x640 1 person, 1 tv, 58.0ms\n",
      "0: 384x640 1 person, 1 tv, 58.8ms\n",
      "0: 384x640 1 person, 1 tv, 49.5ms\n",
      "0: 384x640 1 person, 1 tv, 55.2ms\n",
      "0: 384x640 1 person, 1 tv, 58.4ms\n",
      "0: 384x640 1 person, 1 cup, 1 tv, 53.8ms\n",
      "0: 384x640 1 person, 1 cup, 1 tv, 58.4ms\n",
      "0: 384x640 2 persons, 1 tv, 54.9ms\n",
      "0: 384x640 1 person, 2 cups, 1 tv, 54.6ms\n",
      "0: 384x640 1 person, 1 tv, 58.9ms\n",
      "0: 384x640 1 person, 1 tv, 52.1ms\n",
      "0: 384x640 1 person, 1 tv, 49.5ms\n",
      "0: 384x640 1 person, 1 tv, 52.4ms\n",
      "0: 384x640 1 person, 1 tv, 56.4ms\n",
      "0: 384x640 1 person, 1 tv, 57.5ms\n",
      "0: 384x640 1 person, 1 tv, 59.0ms\n",
      "0: 384x640 1 person, 1 tv, 58.0ms\n",
      "0: 384x640 1 person, 1 tv, 56.3ms\n",
      "0: 384x640 1 person, 1 tv, 68.3ms\n",
      "0: 384x640 1 person, 1 tv, 66.0ms\n",
      "0: 384x640 1 person, 1 tv, 58.9ms\n",
      "0: 384x640 1 person, 1 tv, 62.5ms\n",
      "0: 384x640 1 person, 1 tv, 61.2ms\n",
      "0: 384x640 1 person, 1 tv, 57.0ms\n",
      "0: 384x640 1 person, 1 tv, 67.9ms\n",
      "0: 384x640 1 person, 1 tv, 59.0ms\n",
      "0: 384x640 1 person, 1 tv, 58.4ms\n",
      "0: 384x640 2 persons, 1 tv, 53.2ms\n",
      "0: 384x640 1 person, 1 tv, 54.5ms\n",
      "0: 384x640 1 person, 1 tv, 53.9ms\n",
      "0: 384x640 1 person, 1 tv, 1 cell phone, 62.9ms\n",
      "0: 384x640 3 persons, 1 tv, 56.8ms\n",
      "0: 384x640 1 person, 1 tv, 57.5ms\n",
      "0: 384x640 1 person, 1 tv, 59.7ms\n",
      "0: 384x640 1 person, 1 tv, 65.8ms\n",
      "0: 384x640 1 person, 1 tv, 1 cell phone, 61.3ms\n",
      "0: 384x640 1 person, 1 tv, 54.6ms\n",
      "0: 384x640 1 person, 1 tv, 1 cell phone, 55.4ms\n",
      "0: 384x640 1 person, 1 tv, 51.8ms\n",
      "0: 384x640 1 person, 76.3ms\n",
      "0: 384x640 1 person, 1 tv, 58.9ms\n",
      "0: 384x640 1 person, 1 tv, 62.8ms\n",
      "0: 384x640 1 person, 1 tv, 65.1ms\n",
      "0: 384x640 1 person, 53.8ms\n",
      "0: 384x640 1 person, 50.1ms\n",
      "0: 384x640 1 person, 54.6ms\n",
      "0: 384x640 1 person, 56.2ms\n",
      "0: 384x640 1 person, 1 tv, 52.9ms\n",
      "0: 384x640 1 person, 1 tv, 48.7ms\n",
      "0: 384x640 1 person, 51.4ms\n",
      "0: 384x640 1 person, 55.5ms\n",
      "0: 384x640 1 person, 1 tv, 54.5ms\n",
      "0: 384x640 1 person, 1 tv, 59.5ms\n",
      "0: 384x640 1 person, 53.8ms\n",
      "0: 384x640 1 person, 1 cup, 59.0ms\n",
      "0: 384x640 1 person, 58.1ms\n",
      "0: 384x640 1 person, 52.3ms\n",
      "0: 384x640 1 person, 53.5ms\n",
      "0: 384x640 1 person, 52.6ms\n",
      "0: 384x640 1 person, 50.9ms\n",
      "0: 384x640 1 person, 50.6ms\n",
      "0: 384x640 1 person, 1 cup, 1 tv, 49.0ms\n",
      "0: 384x640 1 person, 1 tv, 49.3ms\n",
      "0: 384x640 1 person, 1 cup, 49.2ms\n",
      "0: 384x640 1 person, 1 cup, 49.2ms\n",
      "0: 384x640 1 person, 1 cup, 47.5ms\n",
      "0: 384x640 1 person, 1 tv, 48.6ms\n",
      "0: 384x640 1 person, 50.2ms\n",
      "0: 384x640 1 person, 49.6ms\n",
      "0: 384x640 1 person, 1 tv, 63.1ms\n",
      "0: 384x640 1 person, 1 tv, 53.4ms\n",
      "0: 384x640 1 person, 1 cup, 1 tv, 53.8ms\n"
     ]
    }
   ],
   "source": [
    "from ultralytics import YOLO\n",
    "\n",
    "# Analyzing a live webcam feed and detecting objects in real-time\n",
    "model = YOLO(\"runs/detect/train14/weights/best.pt\")\n",
    "results = model.predict(source=\"0\", show=True)"
   ]
  },
  {
   "cell_type": "code",
   "execution_count": null,
   "metadata": {},
   "outputs": [],
   "source": []
  }
 ],
 "metadata": {
  "kernelspec": {
   "display_name": "Python 3",
   "language": "python",
   "name": "python3"
  },
  "language_info": {
   "codemirror_mode": {
    "name": "ipython",
    "version": 3
   },
   "file_extension": ".py",
   "mimetype": "text/x-python",
   "name": "python",
   "nbconvert_exporter": "python",
   "pygments_lexer": "ipython3",
   "version": "3.9.6"
  }
 },
 "nbformat": 4,
 "nbformat_minor": 2
}
